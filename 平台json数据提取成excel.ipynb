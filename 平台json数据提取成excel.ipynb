{
 "cells": [
  {
   "cell_type": "code",
   "execution_count": 1,
   "metadata": {
    "ExecuteTime": {
     "end_time": "2018-04-02T09:43:10.238899Z",
     "start_time": "2018-04-02T09:43:09.730247Z"
    }
   },
   "outputs": [],
   "source": [
    "# _*_ coding: utf-8 _*_\n",
    "import requests\n",
    "from bs4 import BeautifulSoup\n",
    "\n",
    "def get_links(companyid,token,filename): \n",
    "    url = f'http://222.73.69.171:*****/static/Uploads/jd/{companyid}/{token}/'\n",
    "    wb_data = requests.get(url)\n",
    "    soup = BeautifulSoup(wb_data.text,'lxml')\n",
    "    links = soup.select(\"pre > a\")\n",
    "    with open(filename,'a+') as f:\n",
    "        for link in links:\n",
    "            target = url+link.get('href')\n",
    "            f.write(target + '\\n')\n",
    "\n",
    "get_links('2586824491','a5b386b2-b182-4653-abfd-8d629d1f139b',r'D:/京东数据报告/orig_data/mushen_path.txt')"
   ]
  },
  {
   "cell_type": "code",
   "execution_count": 2,
   "metadata": {
    "ExecuteTime": {
     "end_time": "2018-04-02T09:50:15.229556Z",
     "start_time": "2018-04-02T09:50:13.674169Z"
    }
   },
   "outputs": [],
   "source": [
    "import pandas as pd\n",
    "import json\n",
    "import itertools"
   ]
  },
  {
   "cell_type": "markdown",
   "metadata": {},
   "source": [
    "# 更换路径"
   ]
  },
  {
   "cell_type": "code",
   "execution_count": 3,
   "metadata": {
    "ExecuteTime": {
     "end_time": "2018-04-02T09:50:16.563696Z",
     "start_time": "2018-04-02T09:50:16.553671Z"
    }
   },
   "outputs": [
    {
     "name": "stdout",
     "output_type": "stream",
     "text": [
      "D:\\京东数据报告\\orig_data\n"
     ]
    }
   ],
   "source": [
    "cd D:\\京东数据报告\\orig_data"
   ]
  },
  {
   "cell_type": "markdown",
   "metadata": {},
   "source": [
    "# sentence_sample"
   ]
  },
  {
   "cell_type": "code",
   "execution_count": 4,
   "metadata": {
    "ExecuteTime": {
     "end_time": "2018-04-02T09:50:25.641204Z",
     "start_time": "2018-04-02T09:50:25.321165Z"
    }
   },
   "outputs": [],
   "source": [
    "with open(r'sentence_sample.json','r') as f:\n",
    "    f = f.read()\n",
    "    file = json.loads(f)\n",
    "data = pd.DataFrame.from_dict(file,orient='index')\n",
    "data.to_excel(\"sentence_sample.xlsx\",encoding='gbk')"
   ]
  },
  {
   "cell_type": "markdown",
   "metadata": {},
   "source": [
    "# keyword_sample_sentence"
   ]
  },
  {
   "cell_type": "code",
   "execution_count": 5,
   "metadata": {
    "ExecuteTime": {
     "end_time": "2018-04-02T09:50:53.955716Z",
     "start_time": "2018-04-02T09:50:53.865476Z"
    }
   },
   "outputs": [],
   "source": [
    "with open(r'keyword_sample_sentence.json','r') as f:\n",
    "    f = f.read()\n",
    "    file = json.loads(f)\n",
    "data = pd.DataFrame.from_dict(file,orient='index')\n",
    "data = data.T\n",
    "data.to_excel(\"keyword_sample_sentence.xlsx\",encoding='gbk')"
   ]
  },
  {
   "cell_type": "markdown",
   "metadata": {},
   "source": [
    "# angry_res"
   ]
  },
  {
   "cell_type": "code",
   "execution_count": null,
   "metadata": {
    "collapsed": true
   },
   "outputs": [],
   "source": [
    "with open(r\"surprise_res.json\",\"r\") as f:\n",
    "    f = f.read()\n",
    "    file = json.loads(f)\n",
    "data = pd.DataFrame(file)\n",
    "data.to_excel(\"surprise_res.xlsx\",encoding='gbk',index=False)"
   ]
  },
  {
   "cell_type": "markdown",
   "metadata": {},
   "source": [
    "# keyword_analyze"
   ]
  },
  {
   "cell_type": "code",
   "execution_count": 6,
   "metadata": {
    "ExecuteTime": {
     "end_time": "2018-04-02T09:50:58.687073Z",
     "start_time": "2018-04-02T09:50:58.578018Z"
    }
   },
   "outputs": [],
   "source": [
    "with open(r\"keyword_analyze.json\",\"r\") as f:\n",
    "    f = f.read()\n",
    "    file = json.loads(f)\n",
    "data = pd.DataFrame(file)\n",
    "data = data.T\n",
    "data.columns=['value','词频']\n",
    "data['threshold'] = data['value']/data['词频']\n",
    "data[['词频','threshold']].to_excel(\"keyword_analyze.xlsx\",encoding='gbk',float_format='%.3f')"
   ]
  },
  {
   "cell_type": "markdown",
   "metadata": {},
   "source": [
    "# keyword_mentioned_number"
   ]
  },
  {
   "cell_type": "code",
   "execution_count": 7,
   "metadata": {
    "ExecuteTime": {
     "end_time": "2018-04-02T09:51:00.791780Z",
     "start_time": "2018-04-02T09:51:00.737611Z"
    }
   },
   "outputs": [],
   "source": [
    "with open(r\"keyword_mentioned_number.json\",\"r\") as f:\n",
    "    f = f.read()\n",
    "    file = json.loads(f)\n",
    "data = pd.DataFrame(file)\n",
    "data = data.T\n",
    "data.columns = ['总提及人数','不满意提及人数']\n",
    "data['满意提及人数'] = data['总提及人数'] - data['不满意提及人数']\n",
    "data.to_excel(\"keyword_mentioned_number.xlsx\",encoding='gbk')"
   ]
  },
  {
   "cell_type": "markdown",
   "metadata": {},
   "source": [
    "# keyword_relations"
   ]
  },
  {
   "cell_type": "code",
   "execution_count": 8,
   "metadata": {
    "ExecuteTime": {
     "end_time": "2018-04-02T09:51:04.742036Z",
     "start_time": "2018-04-02T09:51:04.288831Z"
    }
   },
   "outputs": [],
   "source": [
    "with open(r\"keyword_relations.json\") as f:\n",
    "    f = f.read()\n",
    "    file = json.loads(f)\n",
    "data = pd.DataFrame(file)\n",
    "data = data.stack().reset_index()\n",
    "data.columns = ['level_0','level_1','point']\n",
    "data['频次'] = data.point.str[0]\n",
    "data['threshold'] = data.point.str[1]/data['频次']\n",
    "data.to_excel(\"keyword_relations.xlsx\",encoding='gbk',index=False)"
   ]
  },
  {
   "cell_type": "markdown",
   "metadata": {},
   "source": [
    "# keywords_output"
   ]
  },
  {
   "cell_type": "code",
   "execution_count": 9,
   "metadata": {
    "ExecuteTime": {
     "end_time": "2018-04-02T09:51:11.025122Z",
     "start_time": "2018-04-02T09:51:10.313363Z"
    }
   },
   "outputs": [],
   "source": [
    "with open(r\"keywords_output.json\") as f:\n",
    "    f = f.read()\n",
    "    file = json.loads(f)\n",
    "data = pd.DataFrame.from_dict(file['keys'],orient='index')\n",
    "df = pd.DataFrame(file['sorted'])\n",
    "writer = pd.ExcelWriter('keywords_output.xlsx',engine='openpyxl')\n",
    "data.to_excel(writer,'keys')\n",
    "df.to_excel(writer,'sorted',index=False)\n",
    "writer.save()"
   ]
  },
  {
   "cell_type": "markdown",
   "metadata": {},
   "source": [
    "# slope_data_result"
   ]
  },
  {
   "cell_type": "code",
   "execution_count": 10,
   "metadata": {
    "ExecuteTime": {
     "end_time": "2018-04-02T09:51:18.275659Z",
     "start_time": "2018-04-02T09:51:18.202363Z"
    }
   },
   "outputs": [],
   "source": [
    "with open(r\"slope_data_result.json\") as f:\n",
    "    f = f.read()\n",
    "    file = json.loads(f)\n",
    "data = pd.DataFrame(file)\n",
    "data = data.stack().reset_index()\n",
    "data.columns = ['level_0','level_1','point']\n",
    "\n",
    "df = pd.DataFrame(list(data.point))\n",
    "c = pd.concat([data,df],axis=1)\n",
    "c = c[['level_0','level_1','x','y']]\n",
    "x_flat = pd.DataFrame([[i, x] for i, y in c['x'].apply(list).iteritems() for x in y], columns=list('IX'))\n",
    "x_flat = x_flat.set_index('I')\n",
    "xtemp=c[['level_0','level_1']].merge(x_flat, left_index=True, right_index=True)\n",
    "y_flat = pd.DataFrame([[i, x] for i, y in c['y'].apply(list).iteritems() for x in y], columns=list('IY'))\n",
    "y_flat = y_flat.set_index('I')\n",
    "ytemp = c[['level_0','level_1']].merge(y_flat, left_index=True, right_index=True)\n",
    "doc = xtemp.merge(ytemp,on=['level_0','level_1'],how='inner')\n",
    "data.to_excel(\"slope_data_result.xlsx\",encoding='gbk',index=False)"
   ]
  },
  {
   "cell_type": "markdown",
   "metadata": {},
   "source": [
    "# slope_emsemble/brand_analysis"
   ]
  },
  {
   "cell_type": "code",
   "execution_count": 27,
   "metadata": {
    "ExecuteTime": {
     "end_time": "2018-04-02T09:58:56.241869Z",
     "start_time": "2018-04-02T09:58:56.201723Z"
    }
   },
   "outputs": [],
   "source": [
    "with open(r\"brand_analysis.json\") as f:\n",
    "    f = f.read()\n",
    "    file = json.loads(f)\n",
    "data = pd.DataFrame(file)\n",
    "data = data.T\n",
    "data.to_excel(\"brand_analysis.xlsx\",encoding='gbk')"
   ]
  },
  {
   "cell_type": "markdown",
   "metadata": {},
   "source": [
    "# slope_result"
   ]
  },
  {
   "cell_type": "code",
   "execution_count": 12,
   "metadata": {
    "ExecuteTime": {
     "end_time": "2018-04-02T09:51:21.972151Z",
     "start_time": "2018-04-02T09:51:21.929552Z"
    }
   },
   "outputs": [],
   "source": [
    "with open(r\"slope_result.json\") as f:\n",
    "    f = f.read()\n",
    "    file = json.loads(f)\n",
    "data = pd.DataFrame(file)\n",
    "data = data.stack().reset_index()\n",
    "data.columns = ['level_0','level_1','value']\n",
    "df = pd.DataFrame(list(data.value))\n",
    "df = pd.concat([data,df],axis=1)\n",
    "df = df[['level_0','level_1','intercept','slope','username']]\n",
    "df.to_excel(\"slope_result.xlsx\",encoding='gbk',index=False)"
   ]
  },
  {
   "cell_type": "markdown",
   "metadata": {},
   "source": [
    "# 负面情绪分布/平均应答时长分布/情绪浓度分布"
   ]
  },
  {
   "cell_type": "code",
   "execution_count": 15,
   "metadata": {
    "ExecuteTime": {
     "end_time": "2018-04-02T09:52:12.765228Z",
     "start_time": "2018-04-02T09:52:12.729312Z"
    }
   },
   "outputs": [],
   "source": [
    "with open(r\"情绪浓度分布.json\") as f:\n",
    "    f = f.read()\n",
    "    file = json.loads(f)\n",
    "d = pd.DataFrame.from_dict(file,orient='index')\n",
    "d.to_excel(\"情绪浓度分布.xlsx\",encoding='gbk')"
   ]
  },
  {
   "cell_type": "markdown",
   "metadata": {},
   "source": [
    "# 负面情绪排行/客服个人状态/平均应答时长排行/情绪浓度排行"
   ]
  },
  {
   "cell_type": "code",
   "execution_count": 26,
   "metadata": {
    "ExecuteTime": {
     "end_time": "2018-04-02T09:57:18.449909Z",
     "start_time": "2018-04-02T09:57:18.408769Z"
    }
   },
   "outputs": [],
   "source": [
    "with open(r\"brand_analysis.json\") as f:\n",
    "    f = f.read()\n",
    "    file = json.loads(f)\n",
    "data = pd.DataFrame(file)\n",
    "data.to_excel(\"brand_analysis.xlsx\",encoding='gbk',index=False)"
   ]
  },
  {
   "cell_type": "markdown",
   "metadata": {},
   "source": [
    "# 日会话量变化趋势"
   ]
  },
  {
   "cell_type": "code",
   "execution_count": 20,
   "metadata": {
    "ExecuteTime": {
     "end_time": "2018-04-02T09:52:49.397252Z",
     "start_time": "2018-04-02T09:52:49.362060Z"
    }
   },
   "outputs": [],
   "source": [
    "with open(r\"日会话量变化趋势.json\") as f:\n",
    "    f = f.read()\n",
    "    file = json.loads(f)\n",
    "data = pd.DataFrame.from_dict(file,orient='index')\n",
    "data.to_excel(\"日会话量变化趋势.xlsx\",encoding='gbk')"
   ]
  },
  {
   "cell_type": "markdown",
   "metadata": {},
   "source": [
    "# negative_cause"
   ]
  },
  {
   "cell_type": "code",
   "execution_count": 21,
   "metadata": {
    "ExecuteTime": {
     "end_time": "2018-04-02T09:53:16.465809Z",
     "start_time": "2018-04-02T09:53:16.393712Z"
    }
   },
   "outputs": [],
   "source": [
    "with open(r\"negative_cause.json\",\"r\",encoding='utf-8') as f:\n",
    "    f = f.read()\n",
    "    file = json.loads(f)   \n",
    "data = pd.DataFrame(file)\n",
    "data = data.stack().reset_index()\n",
    "data.columns=['level_0','level_1','value']\n",
    "data['词频'] = data.value.str[1]\n",
    "data['threshold'] = data.value.str[0]/data['词频']\n",
    "data = data[['level_0','level_1','词频','threshold']]\n",
    "data.to_excel(\"negative_cause.xlsx\",encoding='gbk',index=False)"
   ]
  },
  {
   "cell_type": "markdown",
   "metadata": {},
   "source": [
    "# kwfile"
   ]
  },
  {
   "cell_type": "code",
   "execution_count": 22,
   "metadata": {
    "ExecuteTime": {
     "end_time": "2018-04-02T09:53:33.974782Z",
     "start_time": "2018-04-02T09:53:33.938622Z"
    }
   },
   "outputs": [],
   "source": [
    "with open(r\"kwfile.txt\",\"r\",encoding='utf-8') as f:\n",
    "    f = f.read()\n",
    "    file = json.loads(f)\n",
    "data = pd.DataFrame(file)\n",
    "data.to_excel(\"kwfile.xlsx\",encoding='gbk',index = False)"
   ]
  },
  {
   "cell_type": "markdown",
   "metadata": {},
   "source": [
    "# slope"
   ]
  },
  {
   "cell_type": "code",
   "execution_count": 23,
   "metadata": {
    "ExecuteTime": {
     "end_time": "2018-04-02T09:53:48.552581Z",
     "start_time": "2018-04-02T09:53:46.498081Z"
    }
   },
   "outputs": [],
   "source": [
    "data = pd.read_table(\"slope.txt\")\n",
    "data.to_excel(\"slope.xlsx\",encoding='gbk',index = False)"
   ]
  },
  {
   "cell_type": "markdown",
   "metadata": {},
   "source": [
    "# cs_search_graph/sub_hot_keys"
   ]
  },
  {
   "cell_type": "code",
   "execution_count": 40,
   "metadata": {
    "ExecuteTime": {
     "end_time": "2018-04-02T10:11:04.383626Z",
     "start_time": "2018-04-02T10:11:04.346546Z"
    }
   },
   "outputs": [],
   "source": [
    "with open(r\"sub_hot_keys.json\",\"r\",encoding='utf-8') as f:\n",
    "    f = f.read()\n",
    "    file = json.loads(f)\n",
    "data = pd.DataFrame.from_dict(file,orient='index')\n",
    "data = data.T\n",
    "data.to_excel('sub_hot_keys.xlsx',encoding='gbk')"
   ]
  },
  {
   "cell_type": "markdown",
   "metadata": {},
   "source": [
    "# id_threshold/search_graph"
   ]
  },
  {
   "cell_type": "code",
   "execution_count": 38,
   "metadata": {
    "ExecuteTime": {
     "end_time": "2018-04-02T10:10:12.351299Z",
     "start_time": "2018-04-02T10:10:12.308121Z"
    }
   },
   "outputs": [],
   "source": [
    "with open(r\"sub_hot_keys.json\",\"r\",encoding='utf-8') as f:\n",
    "    f = f.read()\n",
    "    file = json.loads(f)\n",
    "data = pd.DataFrame.from_dict(file,orient='index')\n",
    "data.to_excel('sub_hot_keys.xlsx',encoding='gbk')"
   ]
  }
 ],
 "metadata": {
  "kernelspec": {
   "display_name": "Python 3",
   "language": "python",
   "name": "python3"
  },
  "language_info": {
   "codemirror_mode": {
    "name": "ipython",
    "version": 3
   },
   "file_extension": ".py",
   "mimetype": "text/x-python",
   "name": "python",
   "nbconvert_exporter": "python",
   "pygments_lexer": "ipython3",
   "version": "3.6.4"
  },
  "latex_envs": {
   "LaTeX_envs_menu_present": true,
   "autocomplete": true,
   "bibliofile": "biblio.bib",
   "cite_by": "apalike",
   "current_citInitial": 1,
   "eqLabelWithNumbers": true,
   "eqNumInitial": 1,
   "hotkeys": {
    "equation": "Ctrl-E",
    "itemize": "Ctrl-I"
   },
   "labels_anchors": false,
   "latex_user_defs": false,
   "report_style_numbering": false,
   "user_envs_cfg": false
  },
  "toc": {
   "nav_menu": {
    "height": "12px",
    "width": "252px"
   },
   "number_sections": true,
   "sideBar": true,
   "skip_h1_title": false,
   "title_cell": "Table of Contents",
   "title_sidebar": "Contents",
   "toc_cell": false,
   "toc_position": {},
   "toc_section_display": "block",
   "toc_window_display": true
  }
 },
 "nbformat": 4,
 "nbformat_minor": 2
}
