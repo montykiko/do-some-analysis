{
 "cells": [
  {
   "cell_type": "code",
   "execution_count": 49,
   "metadata": {
    "collapsed": true
   },
   "outputs": [],
   "source": [
    "import pandas as pd\n",
    "import numpy as np\n",
    "import re\n",
    "from pandas import DataFrame,Series\n",
    "from datetime import datetime"
   ]
  },
  {
   "cell_type": "markdown",
   "metadata": {},
   "source": [
    "# 数据读入"
   ]
  },
  {
   "cell_type": "code",
   "execution_count": 50,
   "metadata": {},
   "outputs": [
    {
     "data": {
      "text/plain": [
       "(84890, 10)"
      ]
     },
     "execution_count": 50,
     "metadata": {},
     "output_type": "execute_result"
    }
   ],
   "source": [
    "data = pd.read_table(\"xiecheng_hotel.txt\",error_bad_lines=False)\n",
    "data.shape"
   ]
  },
  {
   "cell_type": "code",
   "execution_count": 51,
   "metadata": {},
   "outputs": [
    {
     "name": "stdout",
     "output_type": "stream",
     "text": [
      "<class 'pandas.core.frame.DataFrame'>\n",
      "RangeIndex: 84890 entries, 0 to 84889\n",
      "Data columns (total 10 columns):\n",
      "No      84890 non-null object\n",
      "数据源     84890 non-null object\n",
      "酒店      84890 non-null object\n",
      "地段      84890 non-null object\n",
      "用户ID    84890 non-null object\n",
      "评分      55499 non-null float64\n",
      "住宿类型    55555 non-null object\n",
      "入住时间    55484 non-null object\n",
      "入住房型    55497 non-null object\n",
      "评论内容    83838 non-null object\n",
      "dtypes: float64(1), object(9)\n",
      "memory usage: 6.5+ MB\n"
     ]
    }
   ],
   "source": [
    "data.info()"
   ]
  },
  {
   "cell_type": "code",
   "execution_count": 52,
   "metadata": {},
   "outputs": [
    {
     "data": {
      "text/html": [
       "<div>\n",
       "<style>\n",
       "    .dataframe thead tr:only-child th {\n",
       "        text-align: right;\n",
       "    }\n",
       "\n",
       "    .dataframe thead th {\n",
       "        text-align: left;\n",
       "    }\n",
       "\n",
       "    .dataframe tbody tr th {\n",
       "        vertical-align: top;\n",
       "    }\n",
       "</style>\n",
       "<table border=\"1\" class=\"dataframe\">\n",
       "  <thead>\n",
       "    <tr style=\"text-align: right;\">\n",
       "      <th></th>\n",
       "      <th>No</th>\n",
       "      <th>数据源</th>\n",
       "      <th>酒店</th>\n",
       "      <th>地段</th>\n",
       "      <th>用户ID</th>\n",
       "      <th>评分</th>\n",
       "      <th>住宿类型</th>\n",
       "      <th>入住时间</th>\n",
       "      <th>入住房型</th>\n",
       "      <th>评论内容</th>\n",
       "    </tr>\n",
       "  </thead>\n",
       "  <tbody>\n",
       "    <tr>\n",
       "      <th>0</th>\n",
       "      <td>C000001</td>\n",
       "      <td>携程</td>\n",
       "      <td>7天</td>\n",
       "      <td>步行街</td>\n",
       "      <td>_CFT0229991****</td>\n",
       "      <td>4.0</td>\n",
       "      <td>朋友出游</td>\n",
       "      <td>2017年08月入住</td>\n",
       "      <td>自主大床房</td>\n",
       "      <td>位置可以，距离地铁站近，离步行街也挺近的，房间很小，没有窗户，不太通风，价格贵，可以免费寄存...</td>\n",
       "    </tr>\n",
       "    <tr>\n",
       "      <th>1</th>\n",
       "      <td>C000002</td>\n",
       "      <td>携程</td>\n",
       "      <td>7天</td>\n",
       "      <td>步行街</td>\n",
       "      <td>110153****</td>\n",
       "      <td>3.5</td>\n",
       "      <td>家庭亲子</td>\n",
       "      <td>2017年07月入住</td>\n",
       "      <td>自主双床房</td>\n",
       "      <td>酒店位置不错，就在步行街，出门吃饭，搭地铁很方便。只是房间太小，设施简陋了些，不过为了方便和...</td>\n",
       "    </tr>\n",
       "    <tr>\n",
       "      <th>2</th>\n",
       "      <td>C000003</td>\n",
       "      <td>携程</td>\n",
       "      <td>7天</td>\n",
       "      <td>步行街</td>\n",
       "      <td>M28432****</td>\n",
       "      <td>1.0</td>\n",
       "      <td>朋友出游</td>\n",
       "      <td>2017年08月入住</td>\n",
       "      <td>自主大床房</td>\n",
       "      <td>太太太垃圾了，7天酒店的形象在我心中彻底破坏，从没见过如此差劲的酒店，洗水间头上漏水，边洗澡...</td>\n",
       "    </tr>\n",
       "    <tr>\n",
       "      <th>3</th>\n",
       "      <td>C000004</td>\n",
       "      <td>携程</td>\n",
       "      <td>7天</td>\n",
       "      <td>步行街</td>\n",
       "      <td>M10416****</td>\n",
       "      <td>4.8</td>\n",
       "      <td>家庭亲子</td>\n",
       "      <td>2017年08月入住</td>\n",
       "      <td>自主双床房</td>\n",
       "      <td>周围环境一般的，主要是在步行街上，去南京路方便了，地铁二号线乘坐也方便，贵州路上有1个安徽帅...</td>\n",
       "    </tr>\n",
       "    <tr>\n",
       "      <th>4</th>\n",
       "      <td>C000005</td>\n",
       "      <td>携程</td>\n",
       "      <td>7天</td>\n",
       "      <td>步行街</td>\n",
       "      <td>M222136****</td>\n",
       "      <td>3.5</td>\n",
       "      <td>情侣出游</td>\n",
       "      <td>2017年06月入住</td>\n",
       "      <td>自主大床房</td>\n",
       "      <td>NaN</td>\n",
       "    </tr>\n",
       "  </tbody>\n",
       "</table>\n",
       "</div>"
      ],
      "text/plain": [
       "        No 数据源  酒店   地段             用户ID   评分  住宿类型        入住时间   入住房型  \\\n",
       "0  C000001  携程  7天  步行街  _CFT0229991****  4.0  朋友出游  2017年08月入住  自主大床房   \n",
       "1  C000002  携程  7天  步行街       110153****  3.5  家庭亲子  2017年07月入住  自主双床房   \n",
       "2  C000003  携程  7天  步行街       M28432****  1.0  朋友出游  2017年08月入住  自主大床房   \n",
       "3  C000004  携程  7天  步行街       M10416****  4.8  家庭亲子  2017年08月入住  自主双床房   \n",
       "4  C000005  携程  7天  步行街      M222136****  3.5  情侣出游  2017年06月入住  自主大床房   \n",
       "\n",
       "                                                评论内容  \n",
       "0  位置可以，距离地铁站近，离步行街也挺近的，房间很小，没有窗户，不太通风，价格贵，可以免费寄存...  \n",
       "1  酒店位置不错，就在步行街，出门吃饭，搭地铁很方便。只是房间太小，设施简陋了些，不过为了方便和...  \n",
       "2  太太太垃圾了，7天酒店的形象在我心中彻底破坏，从没见过如此差劲的酒店，洗水间头上漏水，边洗澡...  \n",
       "3  周围环境一般的，主要是在步行街上，去南京路方便了，地铁二号线乘坐也方便，贵州路上有1个安徽帅...  \n",
       "4                                                NaN  "
      ]
     },
     "execution_count": 52,
     "metadata": {},
     "output_type": "execute_result"
    }
   ],
   "source": [
    "data.head()"
   ]
  },
  {
   "cell_type": "code",
   "execution_count": 53,
   "metadata": {},
   "outputs": [
    {
     "data": {
      "text/plain": [
       "Index(['No', '数据源', '酒店', '地段', '用户ID', '评分', '住宿类型', '入住时间', '入住房型', '评论内容'], dtype='object')"
      ]
     },
     "execution_count": 53,
     "metadata": {},
     "output_type": "execute_result"
    }
   ],
   "source": [
    "data.columns"
   ]
  },
  {
   "cell_type": "markdown",
   "metadata": {},
   "source": [
    "# 去掉无用字段"
   ]
  },
  {
   "cell_type": "code",
   "execution_count": 54,
   "metadata": {
    "collapsed": true
   },
   "outputs": [],
   "source": [
    "data.drop(['No','数据源'],axis = 1,inplace = True)"
   ]
  },
  {
   "cell_type": "markdown",
   "metadata": {},
   "source": [
    "# 去掉同人重复评论"
   ]
  },
  {
   "cell_type": "code",
   "execution_count": 55,
   "metadata": {
    "collapsed": true
   },
   "outputs": [],
   "source": [
    "data.drop_duplicates(subset = ['用户ID','评论内容'],keep = 'first',inplace = True)"
   ]
  },
  {
   "cell_type": "code",
   "execution_count": 56,
   "metadata": {},
   "outputs": [
    {
     "data": {
      "text/plain": [
       "(83125, 8)"
      ]
     },
     "execution_count": 56,
     "metadata": {},
     "output_type": "execute_result"
    }
   ],
   "source": [
    "data.shape"
   ]
  },
  {
   "cell_type": "markdown",
   "metadata": {},
   "source": [
    "# 缺失值、异常值观察"
   ]
  },
  {
   "cell_type": "code",
   "execution_count": 57,
   "metadata": {},
   "outputs": [
    {
     "data": {
      "text/plain": [
       "{'住宿类型': 29066,\n",
       " '入住房型': 29124,\n",
       " '入住时间': 29137,\n",
       " '地段': 0,\n",
       " '用户ID': 0,\n",
       " '评分': 29122,\n",
       " '评论内容': 960,\n",
       " '酒店': 0}"
      ]
     },
     "execution_count": 57,
     "metadata": {},
     "output_type": "execute_result"
    }
   ],
   "source": [
    "cols = list(data.columns)\n",
    "missing = list(map(lambda x:data[x].isnull().sum(),cols))\n",
    "missing_dict = dict(zip(cols,missing))\n",
    "missing_dict"
   ]
  },
  {
   "cell_type": "markdown",
   "metadata": {},
   "source": [
    "## 评论内容"
   ]
  },
  {
   "cell_type": "code",
   "execution_count": 58,
   "metadata": {},
   "outputs": [
    {
     "data": {
      "text/plain": [
       "(82165, 8)"
      ]
     },
     "execution_count": 58,
     "metadata": {},
     "output_type": "execute_result"
    }
   ],
   "source": [
    "cond = data['评论内容'].isnull()\n",
    "data = data[~cond]\n",
    "data.shape"
   ]
  },
  {
   "cell_type": "markdown",
   "metadata": {},
   "source": [
    "### 筛掉网页标识符"
   ]
  },
  {
   "cell_type": "code",
   "execution_count": 59,
   "metadata": {},
   "outputs": [
    {
     "data": {
      "text/html": [
       "<div>\n",
       "<style>\n",
       "    .dataframe thead tr:only-child th {\n",
       "        text-align: right;\n",
       "    }\n",
       "\n",
       "    .dataframe thead th {\n",
       "        text-align: left;\n",
       "    }\n",
       "\n",
       "    .dataframe tbody tr th {\n",
       "        vertical-align: top;\n",
       "    }\n",
       "</style>\n",
       "<table border=\"1\" class=\"dataframe\">\n",
       "  <thead>\n",
       "    <tr style=\"text-align: right;\">\n",
       "      <th></th>\n",
       "      <th>酒店</th>\n",
       "      <th>地段</th>\n",
       "      <th>用户ID</th>\n",
       "      <th>评分</th>\n",
       "      <th>住宿类型</th>\n",
       "      <th>入住时间</th>\n",
       "      <th>入住房型</th>\n",
       "      <th>评论内容</th>\n",
       "    </tr>\n",
       "  </thead>\n",
       "  <tbody>\n",
       "  </tbody>\n",
       "</table>\n",
       "</div>"
      ],
      "text/plain": [
       "Empty DataFrame\n",
       "Columns: [酒店, 地段, 用户ID, 评分, 住宿类型, 入住时间, 入住房型, 评论内容]\n",
       "Index: []"
      ]
     },
     "execution_count": 59,
     "metadata": {},
     "output_type": "execute_result"
    }
   ],
   "source": [
    "cond = data['评论内容'].str.contains(r'<b></b>')\n",
    "data.loc[cond]"
   ]
  },
  {
   "cell_type": "markdown",
   "metadata": {},
   "source": [
    "### 筛掉非中文字符串"
   ]
  },
  {
   "cell_type": "code",
   "execution_count": 60,
   "metadata": {},
   "outputs": [
    {
     "data": {
      "text/html": [
       "<div>\n",
       "<style>\n",
       "    .dataframe thead tr:only-child th {\n",
       "        text-align: right;\n",
       "    }\n",
       "\n",
       "    .dataframe thead th {\n",
       "        text-align: left;\n",
       "    }\n",
       "\n",
       "    .dataframe tbody tr th {\n",
       "        vertical-align: top;\n",
       "    }\n",
       "</style>\n",
       "<table border=\"1\" class=\"dataframe\">\n",
       "  <thead>\n",
       "    <tr style=\"text-align: right;\">\n",
       "      <th></th>\n",
       "      <th>酒店</th>\n",
       "      <th>地段</th>\n",
       "      <th>用户ID</th>\n",
       "      <th>评分</th>\n",
       "      <th>住宿类型</th>\n",
       "      <th>入住时间</th>\n",
       "      <th>入住房型</th>\n",
       "      <th>评论内容</th>\n",
       "    </tr>\n",
       "  </thead>\n",
       "  <tbody>\n",
       "    <tr>\n",
       "      <th>277</th>\n",
       "      <td>7天</td>\n",
       "      <td>步行街</td>\n",
       "      <td>E37661****</td>\n",
       "      <td>3.3</td>\n",
       "      <td>代人预订</td>\n",
       "      <td>2017年05月入住</td>\n",
       "      <td>自主大床房</td>\n",
       "      <td>Almost on Nanjing Road Pedestrian Street, that...</td>\n",
       "    </tr>\n",
       "    <tr>\n",
       "      <th>463</th>\n",
       "      <td>7天</td>\n",
       "      <td>步行街</td>\n",
       "      <td>_FB50891****</td>\n",
       "      <td>3.3</td>\n",
       "      <td>家庭亲子</td>\n",
       "      <td>2017年01月入住</td>\n",
       "      <td>自主大床房</td>\n",
       "      <td>하루밤 그냥 묵기는 괜찮아요!!!!!!!!!!!!!</td>\n",
       "    </tr>\n",
       "    <tr>\n",
       "      <th>601</th>\n",
       "      <td>7天</td>\n",
       "      <td>步行街</td>\n",
       "      <td>E17455****</td>\n",
       "      <td>3.0</td>\n",
       "      <td>商务出差</td>\n",
       "      <td>2017年02月入住</td>\n",
       "      <td>自主双床房</td>\n",
       "      <td>Hotel bien ubicado, muy económico, buena habit...</td>\n",
       "    </tr>\n",
       "    <tr>\n",
       "      <th>631</th>\n",
       "      <td>7天</td>\n",
       "      <td>步行街</td>\n",
       "      <td>D35324****</td>\n",
       "      <td>3.8</td>\n",
       "      <td>商务出差</td>\n",
       "      <td>2016年04月入住</td>\n",
       "      <td>自主双床房</td>\n",
       "      <td>It is located in the central area of shopping ...</td>\n",
       "    </tr>\n",
       "    <tr>\n",
       "      <th>845</th>\n",
       "      <td>7天</td>\n",
       "      <td>步行街</td>\n",
       "      <td>E28377****</td>\n",
       "      <td>4.3</td>\n",
       "      <td>独自旅行</td>\n",
       "      <td>2016年06月入住</td>\n",
       "      <td>自主大床房</td>\n",
       "      <td>위치는 정말 좋습니다. 위치는 정말좋습니다. \\n위치는 정말 좋습니다. 위치는 정말...</td>\n",
       "    </tr>\n",
       "    <tr>\n",
       "      <th>1238</th>\n",
       "      <td>7天</td>\n",
       "      <td>步行街</td>\n",
       "      <td>D30608****</td>\n",
       "      <td>3.0</td>\n",
       "      <td>独自旅行</td>\n",
       "      <td>2016年02月入住</td>\n",
       "      <td>经济房</td>\n",
       "      <td>You get what you pay for, or so they say.</td>\n",
       "    </tr>\n",
       "    <tr>\n",
       "      <th>1920</th>\n",
       "      <td>7天</td>\n",
       "      <td>步行街</td>\n",
       "      <td>_WeChat56261****</td>\n",
       "      <td>5.0</td>\n",
       "      <td>朋友出游</td>\n",
       "      <td>2017年04月入住</td>\n",
       "      <td>自主大床房</td>\n",
       "      <td>good</td>\n",
       "    </tr>\n",
       "    <tr>\n",
       "      <th>1972</th>\n",
       "      <td>7天</td>\n",
       "      <td>步行街</td>\n",
       "      <td>santoshsoni****</td>\n",
       "      <td>1.8</td>\n",
       "      <td>家庭亲子</td>\n",
       "      <td>2016年12月入住</td>\n",
       "      <td>商务双床房</td>\n",
       "      <td>Only for enjoyment coming this hotel other mat...</td>\n",
       "    </tr>\n",
       "    <tr>\n",
       "      <th>2025</th>\n",
       "      <td>7天</td>\n",
       "      <td>步行街</td>\n",
       "      <td>M39862****</td>\n",
       "      <td>5.0</td>\n",
       "      <td>朋友出游</td>\n",
       "      <td>2016年07月入住</td>\n",
       "      <td>自主双床房</td>\n",
       "      <td>ok</td>\n",
       "    </tr>\n",
       "    <tr>\n",
       "      <th>2035</th>\n",
       "      <td>7天</td>\n",
       "      <td>步行街</td>\n",
       "      <td>E1118****</td>\n",
       "      <td>1.5</td>\n",
       "      <td>朋友出游</td>\n",
       "      <td>2016年06月入住</td>\n",
       "      <td>自主大床房</td>\n",
       "      <td>not so coo, it was so so and for emmergency pe...</td>\n",
       "    </tr>\n",
       "    <tr>\n",
       "      <th>2053</th>\n",
       "      <td>7天</td>\n",
       "      <td>步行街</td>\n",
       "      <td>santoshsoni****</td>\n",
       "      <td>2.3</td>\n",
       "      <td>独自旅行</td>\n",
       "      <td>2017年03月入住</td>\n",
       "      <td>自主大床房</td>\n",
       "      <td>Only for time pass night sleeping</td>\n",
       "    </tr>\n",
       "    <tr>\n",
       "      <th>2069</th>\n",
       "      <td>7天</td>\n",
       "      <td>步行街</td>\n",
       "      <td>王朝</td>\n",
       "      <td>1.3</td>\n",
       "      <td>商务出差</td>\n",
       "      <td>2015年11月入住</td>\n",
       "      <td>经济房</td>\n",
       "      <td>Dirty hugger</td>\n",
       "    </tr>\n",
       "    <tr>\n",
       "      <th>2080</th>\n",
       "      <td>7天</td>\n",
       "      <td>步行街</td>\n",
       "      <td>110254****</td>\n",
       "      <td>5.0</td>\n",
       "      <td>商务出差</td>\n",
       "      <td>2015年05月入住</td>\n",
       "      <td>经济房</td>\n",
       "      <td>das</td>\n",
       "    </tr>\n",
       "    <tr>\n",
       "      <th>2086</th>\n",
       "      <td>7天</td>\n",
       "      <td>步行街</td>\n",
       "      <td>Yuliang Cao</td>\n",
       "      <td>5.0</td>\n",
       "      <td>家庭亲子</td>\n",
       "      <td>2014年10月入住</td>\n",
       "      <td>经济房</td>\n",
       "      <td>ok</td>\n",
       "    </tr>\n",
       "    <tr>\n",
       "      <th>2087</th>\n",
       "      <td>7天</td>\n",
       "      <td>步行街</td>\n",
       "      <td>我爱你就像你妈打你不讲道理</td>\n",
       "      <td>5.0</td>\n",
       "      <td>商务出差</td>\n",
       "      <td>2015年07月入住</td>\n",
       "      <td>自主大床房</td>\n",
       "      <td>bucuo</td>\n",
       "    </tr>\n",
       "    <tr>\n",
       "      <th>3459</th>\n",
       "      <td>7天</td>\n",
       "      <td>漕溪路</td>\n",
       "      <td>320487****</td>\n",
       "      <td>4.8</td>\n",
       "      <td>商务出差</td>\n",
       "      <td>2016年05月入住</td>\n",
       "      <td>自主双床房</td>\n",
       "      <td>ok</td>\n",
       "    </tr>\n",
       "    <tr>\n",
       "      <th>3564</th>\n",
       "      <td>7天</td>\n",
       "      <td>漕溪路</td>\n",
       "      <td>AnnaV587</td>\n",
       "      <td>5.0</td>\n",
       "      <td>商务出差</td>\n",
       "      <td>2017年07月入住</td>\n",
       "      <td>自主大床房</td>\n",
       "      <td>ok</td>\n",
       "    </tr>\n",
       "    <tr>\n",
       "      <th>4133</th>\n",
       "      <td>7天</td>\n",
       "      <td>漕溪路</td>\n",
       "      <td>300071****</td>\n",
       "      <td>4.0</td>\n",
       "      <td>商务出差</td>\n",
       "      <td>2014年09月入住</td>\n",
       "      <td>经济房</td>\n",
       "      <td>okoookooookokokokk</td>\n",
       "    </tr>\n",
       "    <tr>\n",
       "      <th>4361</th>\n",
       "      <td>7天</td>\n",
       "      <td>漕溪路</td>\n",
       "      <td>300071****</td>\n",
       "      <td>4.0</td>\n",
       "      <td>商务出差</td>\n",
       "      <td>2014年09月入住</td>\n",
       "      <td>自主双床房</td>\n",
       "      <td>okkokokokokokokokokk</td>\n",
       "    </tr>\n",
       "    <tr>\n",
       "      <th>5265</th>\n",
       "      <td>7天</td>\n",
       "      <td>漕溪路</td>\n",
       "      <td>艺龙网用户</td>\n",
       "      <td>NaN</td>\n",
       "      <td>NaN</td>\n",
       "      <td>NaN</td>\n",
       "      <td>NaN</td>\n",
       "      <td>GOODGOODGOODGOODGOODGOODGOODGOODGOODGOODGOODGO...</td>\n",
       "    </tr>\n",
       "    <tr>\n",
       "      <th>5677</th>\n",
       "      <td>7天</td>\n",
       "      <td>漕溪路</td>\n",
       "      <td>艺龙网用户</td>\n",
       "      <td>NaN</td>\n",
       "      <td>NaN</td>\n",
       "      <td>NaN</td>\n",
       "      <td>NaN</td>\n",
       "      <td>#NAME?</td>\n",
       "    </tr>\n",
       "    <tr>\n",
       "      <th>5681</th>\n",
       "      <td>7天</td>\n",
       "      <td>漕溪路</td>\n",
       "      <td>艺龙网用户</td>\n",
       "      <td>NaN</td>\n",
       "      <td>NaN</td>\n",
       "      <td>NaN</td>\n",
       "      <td>NaN</td>\n",
       "      <td>the hotel is very good</td>\n",
       "    </tr>\n",
       "    <tr>\n",
       "      <th>6138</th>\n",
       "      <td>7天</td>\n",
       "      <td>火车站</td>\n",
       "      <td>1383570****</td>\n",
       "      <td>5.0</td>\n",
       "      <td>家庭亲子</td>\n",
       "      <td>2017年02月入住</td>\n",
       "      <td>商务双床房</td>\n",
       "      <td>dgjlpitf$kkhggyioitredfgjkoottrffvnnxcfhkkhddd...</td>\n",
       "    </tr>\n",
       "    <tr>\n",
       "      <th>6348</th>\n",
       "      <td>7天</td>\n",
       "      <td>火车站</td>\n",
       "      <td>Ronal****</td>\n",
       "      <td>5.0</td>\n",
       "      <td>朋友出游</td>\n",
       "      <td>2016年08月入住</td>\n",
       "      <td>自主大床房</td>\n",
       "      <td>#ud83d#udc4f#ud83d#udc4f#ud83d#udc4f#ud83d#udc...</td>\n",
       "    </tr>\n",
       "    <tr>\n",
       "      <th>6764</th>\n",
       "      <td>7天</td>\n",
       "      <td>火车站</td>\n",
       "      <td>_M1598668****</td>\n",
       "      <td>4.0</td>\n",
       "      <td>商务出差</td>\n",
       "      <td>2015年04月入住</td>\n",
       "      <td>经济房</td>\n",
       "      <td>Gybh\\nSscj</td>\n",
       "    </tr>\n",
       "    <tr>\n",
       "      <th>7240</th>\n",
       "      <td>7天</td>\n",
       "      <td>火车站</td>\n",
       "      <td>mafiy</td>\n",
       "      <td>5.0</td>\n",
       "      <td>商务出差</td>\n",
       "      <td>2015年01月入住</td>\n",
       "      <td>自主大床房</td>\n",
       "      <td>gooooooooid</td>\n",
       "    </tr>\n",
       "    <tr>\n",
       "      <th>7260</th>\n",
       "      <td>7天</td>\n",
       "      <td>火车站</td>\n",
       "      <td>1347003****</td>\n",
       "      <td>5.0</td>\n",
       "      <td>独自旅行</td>\n",
       "      <td>2015年01月入住</td>\n",
       "      <td>经济房</td>\n",
       "      <td>ig</td>\n",
       "    </tr>\n",
       "    <tr>\n",
       "      <th>8083</th>\n",
       "      <td>7天</td>\n",
       "      <td>火车站</td>\n",
       "      <td>去哪儿网用户</td>\n",
       "      <td>NaN</td>\n",
       "      <td>NaN</td>\n",
       "      <td>NaN</td>\n",
       "      <td>NaN</td>\n",
       "      <td>xfghfghhhgvggfggffhgfghfghffgfdgfdfgxuvccvvhhh...</td>\n",
       "    </tr>\n",
       "    <tr>\n",
       "      <th>9490</th>\n",
       "      <td>汉庭</td>\n",
       "      <td>人名广场</td>\n",
       "      <td>_U42437****</td>\n",
       "      <td>5.0</td>\n",
       "      <td>情侣出游</td>\n",
       "      <td>2017年06月入住</td>\n",
       "      <td>零压-高级大床房</td>\n",
       "      <td>fdfhjiufdyhhjuhggfdffg</td>\n",
       "    </tr>\n",
       "    <tr>\n",
       "      <th>10669</th>\n",
       "      <td>汉庭</td>\n",
       "      <td>人名广场</td>\n",
       "      <td>300286****</td>\n",
       "      <td>4.0</td>\n",
       "      <td>代人预订</td>\n",
       "      <td>2015年08月入住</td>\n",
       "      <td>双床房</td>\n",
       "      <td>good,hengood</td>\n",
       "    </tr>\n",
       "    <tr>\n",
       "      <th>...</th>\n",
       "      <td>...</td>\n",
       "      <td>...</td>\n",
       "      <td>...</td>\n",
       "      <td>...</td>\n",
       "      <td>...</td>\n",
       "      <td>...</td>\n",
       "      <td>...</td>\n",
       "      <td>...</td>\n",
       "    </tr>\n",
       "    <tr>\n",
       "      <th>78684</th>\n",
       "      <td>如家</td>\n",
       "      <td>会展中心</td>\n",
       "      <td>320457****</td>\n",
       "      <td>5.0</td>\n",
       "      <td>家庭亲子</td>\n",
       "      <td>2014年08月入住</td>\n",
       "      <td>促销商务房</td>\n",
       "      <td>Bengal</td>\n",
       "    </tr>\n",
       "    <tr>\n",
       "      <th>78704</th>\n",
       "      <td>如家</td>\n",
       "      <td>会展中心</td>\n",
       "      <td>xchn</td>\n",
       "      <td>5.0</td>\n",
       "      <td>商务出差</td>\n",
       "      <td>2016年05月入住</td>\n",
       "      <td>商务大床房</td>\n",
       "      <td>Haohaohao  4</td>\n",
       "    </tr>\n",
       "    <tr>\n",
       "      <th>78763</th>\n",
       "      <td>如家</td>\n",
       "      <td>会展中心</td>\n",
       "      <td>E58489****</td>\n",
       "      <td>3.0</td>\n",
       "      <td>商务出差</td>\n",
       "      <td>2017年03月入住</td>\n",
       "      <td>特惠大床房</td>\n",
       "      <td>Its was good cuz I had flight from hongqiao ai...</td>\n",
       "    </tr>\n",
       "    <tr>\n",
       "      <th>78794</th>\n",
       "      <td>如家</td>\n",
       "      <td>会展中心</td>\n",
       "      <td>1592194****</td>\n",
       "      <td>3.0</td>\n",
       "      <td>商务出差</td>\n",
       "      <td>2016年05月入住</td>\n",
       "      <td>特惠大床房</td>\n",
       "      <td>the home inn is  very simple clean and  functi...</td>\n",
       "    </tr>\n",
       "    <tr>\n",
       "      <th>78810</th>\n",
       "      <td>如家</td>\n",
       "      <td>会展中心</td>\n",
       "      <td>wangli_shanghai</td>\n",
       "      <td>5.0</td>\n",
       "      <td>商务出差</td>\n",
       "      <td>2015年03月入住</td>\n",
       "      <td>特惠大床房</td>\n",
       "      <td>ok</td>\n",
       "    </tr>\n",
       "    <tr>\n",
       "      <th>78824</th>\n",
       "      <td>如家</td>\n",
       "      <td>会展中心</td>\n",
       "      <td>D40001****</td>\n",
       "      <td>3.0</td>\n",
       "      <td>商务出差</td>\n",
       "      <td>2016年12月入住</td>\n",
       "      <td>特惠双人房</td>\n",
       "      <td>Have reviewed already. See previous, identical...</td>\n",
       "    </tr>\n",
       "    <tr>\n",
       "      <th>78883</th>\n",
       "      <td>如家</td>\n",
       "      <td>会展中心</td>\n",
       "      <td>_Ebraygraemegmai****</td>\n",
       "      <td>3.3</td>\n",
       "      <td>独自旅行</td>\n",
       "      <td>2016年08月入住</td>\n",
       "      <td>特惠大床房</td>\n",
       "      <td>This location is a joint facility with overlap...</td>\n",
       "    </tr>\n",
       "    <tr>\n",
       "      <th>78885</th>\n",
       "      <td>如家</td>\n",
       "      <td>会展中心</td>\n",
       "      <td>_Emrx21hotmai****</td>\n",
       "      <td>2.5</td>\n",
       "      <td>独自旅行</td>\n",
       "      <td>2016年08月入住</td>\n",
       "      <td>特惠大床房</td>\n",
       "      <td>Just worthwhile for an overnight stay; shuttle...</td>\n",
       "    </tr>\n",
       "    <tr>\n",
       "      <th>78890</th>\n",
       "      <td>如家</td>\n",
       "      <td>会展中心</td>\n",
       "      <td>E2449****</td>\n",
       "      <td>2.8</td>\n",
       "      <td>商务出差</td>\n",
       "      <td>2016年08月入住</td>\n",
       "      <td>特惠大床房</td>\n",
       "      <td>Home Inn and Motel now is same group.  They us...</td>\n",
       "    </tr>\n",
       "    <tr>\n",
       "      <th>78896</th>\n",
       "      <td>如家</td>\n",
       "      <td>会展中心</td>\n",
       "      <td>so****</td>\n",
       "      <td>2.0</td>\n",
       "      <td>商务出差</td>\n",
       "      <td>2016年07月入住</td>\n",
       "      <td>特惠大床房</td>\n",
       "      <td>so........................so.................</td>\n",
       "    </tr>\n",
       "    <tr>\n",
       "      <th>78898</th>\n",
       "      <td>如家</td>\n",
       "      <td>会展中心</td>\n",
       "      <td>118949****</td>\n",
       "      <td>3.5</td>\n",
       "      <td>商务出差</td>\n",
       "      <td>2016年06月入住</td>\n",
       "      <td>商务大床房</td>\n",
       "      <td>yiban</td>\n",
       "    </tr>\n",
       "    <tr>\n",
       "      <th>78909</th>\n",
       "      <td>如家</td>\n",
       "      <td>会展中心</td>\n",
       "      <td>meow****</td>\n",
       "      <td>2.0</td>\n",
       "      <td>情侣出游</td>\n",
       "      <td>2016年03月入住</td>\n",
       "      <td>特惠大床房</td>\n",
       "      <td>Only convenient if someone have an early fligh...</td>\n",
       "    </tr>\n",
       "    <tr>\n",
       "      <th>78919</th>\n",
       "      <td>如家</td>\n",
       "      <td>会展中心</td>\n",
       "      <td>E11737****</td>\n",
       "      <td>3.0</td>\n",
       "      <td>独自旅行</td>\n",
       "      <td>2015年12月入住</td>\n",
       "      <td>商务大床房</td>\n",
       "      <td>가격대비 깔끔합니다\\n단 수압이 낮아 씰을때 쫌..</td>\n",
       "    </tr>\n",
       "    <tr>\n",
       "      <th>78920</th>\n",
       "      <td>如家</td>\n",
       "      <td>会展中心</td>\n",
       "      <td>D1271****</td>\n",
       "      <td>2.3</td>\n",
       "      <td>商务出差</td>\n",
       "      <td>2015年12月入住</td>\n",
       "      <td>特惠大床房</td>\n",
       "      <td>Location very close to Hongxiao airport, but d...</td>\n",
       "    </tr>\n",
       "    <tr>\n",
       "      <th>78923</th>\n",
       "      <td>如家</td>\n",
       "      <td>会展中心</td>\n",
       "      <td>KAO_J****</td>\n",
       "      <td>3.0</td>\n",
       "      <td>独自旅行</td>\n",
       "      <td>2015年09月入住</td>\n",
       "      <td>特惠大床房</td>\n",
       "      <td>TRIP TRIP TRIP TRIP TRIP TRIP TRIP TRIP TRIP T...</td>\n",
       "    </tr>\n",
       "    <tr>\n",
       "      <th>80510</th>\n",
       "      <td>如家</td>\n",
       "      <td>会展中心</td>\n",
       "      <td>去哪儿网用户</td>\n",
       "      <td>NaN</td>\n",
       "      <td>NaN</td>\n",
       "      <td>NaN</td>\n",
       "      <td>NaN</td>\n",
       "      <td>good\\n\\n10,,,,,,,,,,,,,,,,,,</td>\n",
       "    </tr>\n",
       "    <tr>\n",
       "      <th>81972</th>\n",
       "      <td>如家</td>\n",
       "      <td>会展中心</td>\n",
       "      <td>去哪儿网用户</td>\n",
       "      <td>NaN</td>\n",
       "      <td>NaN</td>\n",
       "      <td>NaN</td>\n",
       "      <td>NaN</td>\n",
       "      <td>..............</td>\n",
       "    </tr>\n",
       "    <tr>\n",
       "      <th>82121</th>\n",
       "      <td>如家</td>\n",
       "      <td>会展中心</td>\n",
       "      <td>去哪儿网用户</td>\n",
       "      <td>NaN</td>\n",
       "      <td>NaN</td>\n",
       "      <td>NaN</td>\n",
       "      <td>NaN</td>\n",
       "      <td>henhao                                        ...</td>\n",
       "    </tr>\n",
       "    <tr>\n",
       "      <th>82357</th>\n",
       "      <td>如家</td>\n",
       "      <td>会展中心</td>\n",
       "      <td>艺龙网用户</td>\n",
       "      <td>NaN</td>\n",
       "      <td>NaN</td>\n",
       "      <td>NaN</td>\n",
       "      <td>NaN</td>\n",
       "      <td>goooooooood!!!!!</td>\n",
       "    </tr>\n",
       "    <tr>\n",
       "      <th>82741</th>\n",
       "      <td>如家</td>\n",
       "      <td>会展中心</td>\n",
       "      <td>艺龙网用户</td>\n",
       "      <td>NaN</td>\n",
       "      <td>NaN</td>\n",
       "      <td>NaN</td>\n",
       "      <td>NaN</td>\n",
       "      <td>goodgoodgood</td>\n",
       "    </tr>\n",
       "    <tr>\n",
       "      <th>83170</th>\n",
       "      <td>如家</td>\n",
       "      <td>会展中心</td>\n",
       "      <td>艺龙网用户</td>\n",
       "      <td>NaN</td>\n",
       "      <td>NaN</td>\n",
       "      <td>NaN</td>\n",
       "      <td>NaN</td>\n",
       "      <td>#ud83d#udc4c。jahh，jha，t</td>\n",
       "    </tr>\n",
       "    <tr>\n",
       "      <th>83500</th>\n",
       "      <td>如家</td>\n",
       "      <td>会展中心</td>\n",
       "      <td>艺龙网用户</td>\n",
       "      <td>NaN</td>\n",
       "      <td>NaN</td>\n",
       "      <td>NaN</td>\n",
       "      <td>NaN</td>\n",
       "      <td>üvvvvvvvvvbbbbbbbb</td>\n",
       "    </tr>\n",
       "    <tr>\n",
       "      <th>84025</th>\n",
       "      <td>如家</td>\n",
       "      <td>会展中心</td>\n",
       "      <td>D47685****</td>\n",
       "      <td>3.8</td>\n",
       "      <td>独自旅行</td>\n",
       "      <td>2016年11月入住</td>\n",
       "      <td>特惠大床房</td>\n",
       "      <td>Good position, cheap and clean. Just the wifi ...</td>\n",
       "    </tr>\n",
       "    <tr>\n",
       "      <th>84502</th>\n",
       "      <td>如家</td>\n",
       "      <td>会展中心</td>\n",
       "      <td>D40001****</td>\n",
       "      <td>3.0</td>\n",
       "      <td>商务出差</td>\n",
       "      <td>2017年01月入住</td>\n",
       "      <td>特惠双人房</td>\n",
       "      <td>Good location (convenient for the Hongqiao tra...</td>\n",
       "    </tr>\n",
       "    <tr>\n",
       "      <th>84544</th>\n",
       "      <td>如家</td>\n",
       "      <td>会展中心</td>\n",
       "      <td>1590311****</td>\n",
       "      <td>5.0</td>\n",
       "      <td>商务出差</td>\n",
       "      <td>2015年08月入住</td>\n",
       "      <td>特惠大床房</td>\n",
       "      <td>\\(^o^)/~</td>\n",
       "    </tr>\n",
       "    <tr>\n",
       "      <th>84606</th>\n",
       "      <td>如家</td>\n",
       "      <td>会展中心</td>\n",
       "      <td>1592194****</td>\n",
       "      <td>4.0</td>\n",
       "      <td>商务出差</td>\n",
       "      <td>2016年06月入住</td>\n",
       "      <td>特惠大床房</td>\n",
       "      <td>It is a pretty good budget hotel, clean and si...</td>\n",
       "    </tr>\n",
       "    <tr>\n",
       "      <th>84628</th>\n",
       "      <td>如家</td>\n",
       "      <td>会展中心</td>\n",
       "      <td>E25552****</td>\n",
       "      <td>3.0</td>\n",
       "      <td>其它</td>\n",
       "      <td>2016年01月入住</td>\n",
       "      <td>特惠双人房</td>\n",
       "      <td>This hotel is about 15-20 minutes from Hongqia...</td>\n",
       "    </tr>\n",
       "    <tr>\n",
       "      <th>84682</th>\n",
       "      <td>如家</td>\n",
       "      <td>会展中心</td>\n",
       "      <td>D34757****</td>\n",
       "      <td>1.5</td>\n",
       "      <td>商务出差</td>\n",
       "      <td>2016年03月入住</td>\n",
       "      <td>特惠大床房</td>\n",
       "      <td>Dirty, not that good of a value, and prostitut...</td>\n",
       "    </tr>\n",
       "    <tr>\n",
       "      <th>84816</th>\n",
       "      <td>如家</td>\n",
       "      <td>会展中心</td>\n",
       "      <td>1368334****</td>\n",
       "      <td>5.0</td>\n",
       "      <td>情侣出游</td>\n",
       "      <td>2014年08月入住</td>\n",
       "      <td>特惠大床房</td>\n",
       "      <td>ssssssssssssssssssssssssssssssssssssssssssssss...</td>\n",
       "    </tr>\n",
       "    <tr>\n",
       "      <th>84887</th>\n",
       "      <td>如家</td>\n",
       "      <td>会展中心</td>\n",
       "      <td>E3186****</td>\n",
       "      <td>3.0</td>\n",
       "      <td>商务出差</td>\n",
       "      <td>2015年08月入住</td>\n",
       "      <td>大床房</td>\n",
       "      <td>Home Inn chain hotels are convenient as usual....</td>\n",
       "    </tr>\n",
       "  </tbody>\n",
       "</table>\n",
       "<p>669 rows × 8 columns</p>\n",
       "</div>"
      ],
      "text/plain": [
       "       酒店    地段                  用户ID   评分  住宿类型        入住时间      入住房型  \\\n",
       "277    7天   步行街            E37661****  3.3  代人预订  2017年05月入住     自主大床房   \n",
       "463    7天   步行街          _FB50891****  3.3  家庭亲子  2017年01月入住     自主大床房   \n",
       "601    7天   步行街            E17455****  3.0  商务出差  2017年02月入住     自主双床房   \n",
       "631    7天   步行街            D35324****  3.8  商务出差  2016年04月入住     自主双床房   \n",
       "845    7天   步行街            E28377****  4.3  独自旅行  2016年06月入住     自主大床房   \n",
       "1238   7天   步行街            D30608****  3.0  独自旅行  2016年02月入住       经济房   \n",
       "1920   7天   步行街      _WeChat56261****  5.0  朋友出游  2017年04月入住     自主大床房   \n",
       "1972   7天   步行街       santoshsoni****  1.8  家庭亲子  2016年12月入住     商务双床房   \n",
       "2025   7天   步行街            M39862****  5.0  朋友出游  2016年07月入住     自主双床房   \n",
       "2035   7天   步行街             E1118****  1.5  朋友出游  2016年06月入住     自主大床房   \n",
       "2053   7天   步行街       santoshsoni****  2.3  独自旅行  2017年03月入住     自主大床房   \n",
       "2069   7天   步行街                    王朝  1.3  商务出差  2015年11月入住       经济房   \n",
       "2080   7天   步行街            110254****  5.0  商务出差  2015年05月入住       经济房   \n",
       "2086   7天   步行街           Yuliang Cao  5.0  家庭亲子  2014年10月入住       经济房   \n",
       "2087   7天   步行街         我爱你就像你妈打你不讲道理  5.0  商务出差  2015年07月入住     自主大床房   \n",
       "3459   7天   漕溪路            320487****  4.8  商务出差  2016年05月入住     自主双床房   \n",
       "3564   7天   漕溪路              AnnaV587  5.0  商务出差  2017年07月入住     自主大床房   \n",
       "4133   7天   漕溪路            300071****  4.0  商务出差  2014年09月入住       经济房   \n",
       "4361   7天   漕溪路            300071****  4.0  商务出差  2014年09月入住     自主双床房   \n",
       "5265   7天   漕溪路                 艺龙网用户  NaN   NaN         NaN       NaN   \n",
       "5677   7天   漕溪路                 艺龙网用户  NaN   NaN         NaN       NaN   \n",
       "5681   7天   漕溪路                 艺龙网用户  NaN   NaN         NaN       NaN   \n",
       "6138   7天   火车站           1383570****  5.0  家庭亲子  2017年02月入住     商务双床房   \n",
       "6348   7天   火车站             Ronal****  5.0  朋友出游  2016年08月入住     自主大床房   \n",
       "6764   7天   火车站         _M1598668****  4.0  商务出差  2015年04月入住       经济房   \n",
       "7240   7天   火车站                 mafiy  5.0  商务出差  2015年01月入住     自主大床房   \n",
       "7260   7天   火车站           1347003****  5.0  独自旅行  2015年01月入住       经济房   \n",
       "8083   7天   火车站                去哪儿网用户  NaN   NaN         NaN       NaN   \n",
       "9490   汉庭  人名广场           _U42437****  5.0  情侣出游  2017年06月入住  零压-高级大床房   \n",
       "10669  汉庭  人名广场            300286****  4.0  代人预订  2015年08月入住       双床房   \n",
       "...    ..   ...                   ...  ...   ...         ...       ...   \n",
       "78684  如家  会展中心            320457****  5.0  家庭亲子  2014年08月入住     促销商务房   \n",
       "78704  如家  会展中心                  xchn  5.0  商务出差  2016年05月入住     商务大床房   \n",
       "78763  如家  会展中心            E58489****  3.0  商务出差  2017年03月入住     特惠大床房   \n",
       "78794  如家  会展中心           1592194****  3.0  商务出差  2016年05月入住     特惠大床房   \n",
       "78810  如家  会展中心       wangli_shanghai  5.0  商务出差  2015年03月入住     特惠大床房   \n",
       "78824  如家  会展中心            D40001****  3.0  商务出差  2016年12月入住     特惠双人房   \n",
       "78883  如家  会展中心  _Ebraygraemegmai****  3.3  独自旅行  2016年08月入住     特惠大床房   \n",
       "78885  如家  会展中心     _Emrx21hotmai****  2.5  独自旅行  2016年08月入住     特惠大床房   \n",
       "78890  如家  会展中心             E2449****  2.8  商务出差  2016年08月入住     特惠大床房   \n",
       "78896  如家  会展中心                so****  2.0  商务出差  2016年07月入住     特惠大床房   \n",
       "78898  如家  会展中心            118949****  3.5  商务出差  2016年06月入住     商务大床房   \n",
       "78909  如家  会展中心              meow****  2.0  情侣出游  2016年03月入住     特惠大床房   \n",
       "78919  如家  会展中心            E11737****  3.0  独自旅行  2015年12月入住     商务大床房   \n",
       "78920  如家  会展中心             D1271****  2.3  商务出差  2015年12月入住     特惠大床房   \n",
       "78923  如家  会展中心             KAO_J****  3.0  独自旅行  2015年09月入住     特惠大床房   \n",
       "80510  如家  会展中心                去哪儿网用户  NaN   NaN         NaN       NaN   \n",
       "81972  如家  会展中心                去哪儿网用户  NaN   NaN         NaN       NaN   \n",
       "82121  如家  会展中心                去哪儿网用户  NaN   NaN         NaN       NaN   \n",
       "82357  如家  会展中心                 艺龙网用户  NaN   NaN         NaN       NaN   \n",
       "82741  如家  会展中心                 艺龙网用户  NaN   NaN         NaN       NaN   \n",
       "83170  如家  会展中心                 艺龙网用户  NaN   NaN         NaN       NaN   \n",
       "83500  如家  会展中心                 艺龙网用户  NaN   NaN         NaN       NaN   \n",
       "84025  如家  会展中心            D47685****  3.8  独自旅行  2016年11月入住     特惠大床房   \n",
       "84502  如家  会展中心            D40001****  3.0  商务出差  2017年01月入住     特惠双人房   \n",
       "84544  如家  会展中心           1590311****  5.0  商务出差  2015年08月入住     特惠大床房   \n",
       "84606  如家  会展中心           1592194****  4.0  商务出差  2016年06月入住     特惠大床房   \n",
       "84628  如家  会展中心            E25552****  3.0    其它  2016年01月入住     特惠双人房   \n",
       "84682  如家  会展中心            D34757****  1.5  商务出差  2016年03月入住     特惠大床房   \n",
       "84816  如家  会展中心           1368334****  5.0  情侣出游  2014年08月入住     特惠大床房   \n",
       "84887  如家  会展中心             E3186****  3.0  商务出差  2015年08月入住       大床房   \n",
       "\n",
       "                                                    评论内容  \n",
       "277    Almost on Nanjing Road Pedestrian Street, that...  \n",
       "463                         하루밤 그냥 묵기는 괜찮아요!!!!!!!!!!!!!  \n",
       "601    Hotel bien ubicado, muy económico, buena habit...  \n",
       "631    It is located in the central area of shopping ...  \n",
       "845    위치는 정말 좋습니다. 위치는 정말좋습니다. \\n위치는 정말 좋습니다. 위치는 정말...  \n",
       "1238           You get what you pay for, or so they say.  \n",
       "1920                                                good  \n",
       "1972   Only for enjoyment coming this hotel other mat...  \n",
       "2025                                                  ok  \n",
       "2035   not so coo, it was so so and for emmergency pe...  \n",
       "2053                   Only for time pass night sleeping  \n",
       "2069                                        Dirty hugger  \n",
       "2080                                                 das  \n",
       "2086                                                  ok  \n",
       "2087                                               bucuo  \n",
       "3459                                                  ok  \n",
       "3564                                                  ok  \n",
       "4133                                  okoookooookokokokk  \n",
       "4361                                okkokokokokokokokokk  \n",
       "5265   GOODGOODGOODGOODGOODGOODGOODGOODGOODGOODGOODGO...  \n",
       "5677                                              #NAME?  \n",
       "5681                              the hotel is very good  \n",
       "6138   dgjlpitf$kkhggyioitredfgjkoottrffvnnxcfhkkhddd...  \n",
       "6348   #ud83d#udc4f#ud83d#udc4f#ud83d#udc4f#ud83d#udc...  \n",
       "6764                                          Gybh\\nSscj  \n",
       "7240                                         gooooooooid  \n",
       "7260                                                  ig  \n",
       "8083   xfghfghhhgvggfggffhgfghfghffgfdgfdfgxuvccvvhhh...  \n",
       "9490                              fdfhjiufdyhhjuhggfdffg  \n",
       "10669                                       good,hengood  \n",
       "...                                                  ...  \n",
       "78684                                             Bengal  \n",
       "78704                                       Haohaohao  4  \n",
       "78763  Its was good cuz I had flight from hongqiao ai...  \n",
       "78794  the home inn is  very simple clean and  functi...  \n",
       "78810                                                 ok  \n",
       "78824  Have reviewed already. See previous, identical...  \n",
       "78883  This location is a joint facility with overlap...  \n",
       "78885  Just worthwhile for an overnight stay; shuttle...  \n",
       "78890  Home Inn and Motel now is same group.  They us...  \n",
       "78896      so........................so.................  \n",
       "78898                                              yiban  \n",
       "78909  Only convenient if someone have an early fligh...  \n",
       "78919                       가격대비 깔끔합니다\\n단 수압이 낮아 씰을때 쫌..  \n",
       "78920  Location very close to Hongxiao airport, but d...  \n",
       "78923  TRIP TRIP TRIP TRIP TRIP TRIP TRIP TRIP TRIP T...  \n",
       "80510                       good\\n\\n10,,,,,,,,,,,,,,,,,,  \n",
       "81972                                     ..............  \n",
       "82121  henhao                                        ...  \n",
       "82357                                   goooooooood!!!!!  \n",
       "82741                                       goodgoodgood  \n",
       "83170                            #ud83d#udc4c。jahh，jha，t  \n",
       "83500                                 üvvvvvvvvvbbbbbbbb  \n",
       "84025  Good position, cheap and clean. Just the wifi ...  \n",
       "84502  Good location (convenient for the Hongqiao tra...  \n",
       "84544                                           \\(^o^)/~  \n",
       "84606  It is a pretty good budget hotel, clean and si...  \n",
       "84628  This hotel is about 15-20 minutes from Hongqia...  \n",
       "84682  Dirty, not that good of a value, and prostitut...  \n",
       "84816  ssssssssssssssssssssssssssssssssssssssssssssss...  \n",
       "84887  Home Inn chain hotels are convenient as usual....  \n",
       "\n",
       "[669 rows x 8 columns]"
      ]
     },
     "execution_count": 60,
     "metadata": {},
     "output_type": "execute_result"
    }
   ],
   "source": [
    "cond = data['评论内容'].str.contains(r'[一-龥]')\n",
    "data.loc[~cond]"
   ]
  },
  {
   "cell_type": "code",
   "execution_count": 61,
   "metadata": {},
   "outputs": [
    {
     "data": {
      "text/plain": [
       "(81496, 8)"
      ]
     },
     "execution_count": 61,
     "metadata": {},
     "output_type": "execute_result"
    }
   ],
   "source": [
    "data = data.loc[cond]\n",
    "data.shape"
   ]
  },
  {
   "cell_type": "markdown",
   "metadata": {},
   "source": [
    "### 筛掉刷评论数据"
   ]
  },
  {
   "cell_type": "code",
   "execution_count": 62,
   "metadata": {},
   "outputs": [
    {
     "data": {
      "text/html": [
       "<div>\n",
       "<style>\n",
       "    .dataframe thead tr:only-child th {\n",
       "        text-align: right;\n",
       "    }\n",
       "\n",
       "    .dataframe thead th {\n",
       "        text-align: left;\n",
       "    }\n",
       "\n",
       "    .dataframe tbody tr th {\n",
       "        vertical-align: top;\n",
       "    }\n",
       "</style>\n",
       "<table border=\"1\" class=\"dataframe\">\n",
       "  <thead>\n",
       "    <tr style=\"text-align: right;\">\n",
       "      <th></th>\n",
       "      <th>酒店</th>\n",
       "      <th>地段</th>\n",
       "      <th>用户ID</th>\n",
       "      <th>评分</th>\n",
       "      <th>住宿类型</th>\n",
       "      <th>入住时间</th>\n",
       "      <th>入住房型</th>\n",
       "      <th>评论内容</th>\n",
       "    </tr>\n",
       "  </thead>\n",
       "  <tbody>\n",
       "    <tr>\n",
       "      <th>9680</th>\n",
       "      <td>汉庭</td>\n",
       "      <td>人名广场</td>\n",
       "      <td>_CFT010000000117****</td>\n",
       "      <td>5.0</td>\n",
       "      <td>商务出差</td>\n",
       "      <td>2015年07月入住</td>\n",
       "      <td>高级大床房</td>\n",
       "      <td>酒店位置好找，交通方便。房间宽敞明亮，干净整洁，住着安心。性价比超高，酒店很好，前台服务也很...</td>\n",
       "    </tr>\n",
       "    <tr>\n",
       "      <th>11405</th>\n",
       "      <td>汉庭</td>\n",
       "      <td>人名广场</td>\n",
       "      <td>1352481****</td>\n",
       "      <td>5.0</td>\n",
       "      <td>商务出差</td>\n",
       "      <td>2014年11月入住</td>\n",
       "      <td>高级大床房</td>\n",
       "      <td>酒店位置好找，交通方便。房间宽敞明亮，干净整洁，住着安心。性价比超高，酒店很好，前台服务也很...</td>\n",
       "    </tr>\n",
       "    <tr>\n",
       "      <th>11420</th>\n",
       "      <td>汉庭</td>\n",
       "      <td>人名广场</td>\n",
       "      <td>210529****</td>\n",
       "      <td>5.0</td>\n",
       "      <td>商务出差</td>\n",
       "      <td>2014年11月入住</td>\n",
       "      <td>高级大床房</td>\n",
       "      <td>酒店位置好找，交通方便。房间宽敞明亮，干净整洁，住着安心。性价比超高，酒店很好，前台服务也很...</td>\n",
       "    </tr>\n",
       "    <tr>\n",
       "      <th>12385</th>\n",
       "      <td>汉庭</td>\n",
       "      <td>人名广场</td>\n",
       "      <td>艺龙网用户</td>\n",
       "      <td>NaN</td>\n",
       "      <td>NaN</td>\n",
       "      <td>NaN</td>\n",
       "      <td>NaN</td>\n",
       "      <td>酒店位置好找，交通方便，性价比超高，酒店很好，前台服务也很好，客房阿姨热情，整个酒店都有免费...</td>\n",
       "    </tr>\n",
       "  </tbody>\n",
       "</table>\n",
       "</div>"
      ],
      "text/plain": [
       "       酒店    地段                  用户ID   评分  住宿类型        入住时间   入住房型  \\\n",
       "9680   汉庭  人名广场  _CFT010000000117****  5.0  商务出差  2015年07月入住  高级大床房   \n",
       "11405  汉庭  人名广场           1352481****  5.0  商务出差  2014年11月入住  高级大床房   \n",
       "11420  汉庭  人名广场            210529****  5.0  商务出差  2014年11月入住  高级大床房   \n",
       "12385  汉庭  人名广场                 艺龙网用户  NaN   NaN         NaN    NaN   \n",
       "\n",
       "                                                    评论内容  \n",
       "9680   酒店位置好找，交通方便。房间宽敞明亮，干净整洁，住着安心。性价比超高，酒店很好，前台服务也很...  \n",
       "11405  酒店位置好找，交通方便。房间宽敞明亮，干净整洁，住着安心。性价比超高，酒店很好，前台服务也很...  \n",
       "11420  酒店位置好找，交通方便。房间宽敞明亮，干净整洁，住着安心。性价比超高，酒店很好，前台服务也很...  \n",
       "12385  酒店位置好找，交通方便，性价比超高，酒店很好，前台服务也很好，客房阿姨热情，整个酒店都有免费...  "
      ]
     },
     "execution_count": 62,
     "metadata": {},
     "output_type": "execute_result"
    }
   ],
   "source": [
    "cond = data['评论内容'].str.contains(r'酒店位置好找，交通方便')\n",
    "data.loc[cond]"
   ]
  },
  {
   "cell_type": "code",
   "execution_count": 63,
   "metadata": {
    "collapsed": true
   },
   "outputs": [],
   "source": [
    "data = data.loc[~cond]"
   ]
  },
  {
   "cell_type": "code",
   "execution_count": 64,
   "metadata": {},
   "outputs": [
    {
     "data": {
      "text/plain": [
       "(81492, 8)"
      ]
     },
     "execution_count": 64,
     "metadata": {},
     "output_type": "execute_result"
    }
   ],
   "source": [
    "data.shape"
   ]
  },
  {
   "cell_type": "code",
   "execution_count": 65,
   "metadata": {
    "collapsed": true
   },
   "outputs": [],
   "source": [
    "data['评论内容'] = data['评论内容'].str.strip(\"\\n\")"
   ]
  },
  {
   "cell_type": "code",
   "execution_count": 66,
   "metadata": {
    "collapsed": true
   },
   "outputs": [],
   "source": [
    "data['评论内容'] = data['评论内容'].str.strip(\"\\r\")"
   ]
  },
  {
   "cell_type": "code",
   "execution_count": 67,
   "metadata": {
    "collapsed": true
   },
   "outputs": [],
   "source": [
    "data['评论内容'] = data['评论内容'].str.replace(\"\\n\",\"\")"
   ]
  },
  {
   "cell_type": "markdown",
   "metadata": {},
   "source": [
    "## 酒店"
   ]
  },
  {
   "cell_type": "code",
   "execution_count": 68,
   "metadata": {},
   "outputs": [
    {
     "data": {
      "text/plain": [
       "全季       20567\n",
       "如家       16516\n",
       "莫泰168    13942\n",
       "锦江之星     12095\n",
       "汉庭        9486\n",
       "7天        8886\n",
       "Name: 酒店, dtype: int64"
      ]
     },
     "execution_count": 68,
     "metadata": {},
     "output_type": "execute_result"
    }
   ],
   "source": [
    "data['酒店'].value_counts()"
   ]
  },
  {
   "cell_type": "markdown",
   "metadata": {},
   "source": [
    "## 地段"
   ]
  },
  {
   "cell_type": "code",
   "execution_count": 69,
   "metadata": {},
   "outputs": [
    {
     "data": {
      "text/plain": [
       "步行街     17084\n",
       "虹桥      11782\n",
       "会展中心     9346\n",
       "延安路      7137\n",
       "徐家汇      5007\n",
       "城隍庙      3933\n",
       "武宁路      3805\n",
       "火车站      3381\n",
       "川沙       3269\n",
       "福州路      3237\n",
       "外白渡桥     3218\n",
       "人名广场     3206\n",
       "外滩       3062\n",
       "漕溪路      2548\n",
       "羽山路      1477\n",
       "Name: 地段, dtype: int64"
      ]
     },
     "execution_count": 69,
     "metadata": {},
     "output_type": "execute_result"
    }
   ],
   "source": [
    "data['地段'].value_counts()"
   ]
  },
  {
   "cell_type": "code",
   "execution_count": 70,
   "metadata": {
    "collapsed": true
   },
   "outputs": [],
   "source": [
    "data['地段'].replace('人名广场','人民广场',inplace = True)"
   ]
  },
  {
   "cell_type": "markdown",
   "metadata": {},
   "source": [
    "## 评分"
   ]
  },
  {
   "cell_type": "code",
   "execution_count": 71,
   "metadata": {},
   "outputs": [
    {
     "data": {
      "text/plain": [
       "dtype('float64')"
      ]
     },
     "execution_count": 71,
     "metadata": {},
     "output_type": "execute_result"
    }
   ],
   "source": [
    "data['评分'].dtypes"
   ]
  },
  {
   "cell_type": "code",
   "execution_count": 72,
   "metadata": {},
   "outputs": [
    {
     "data": {
      "text/plain": [
       "酒店\n",
       "7天       4.047010\n",
       "全季       4.602427\n",
       "如家       4.385482\n",
       "汉庭       4.341235\n",
       "莫泰168    4.568979\n",
       "锦江之星     4.543984\n",
       "Name: 评分, dtype: float64"
      ]
     },
     "execution_count": 72,
     "metadata": {},
     "output_type": "execute_result"
    }
   ],
   "source": [
    "data.groupby('酒店')['评分'].agg(np.mean)"
   ]
  },
  {
   "cell_type": "markdown",
   "metadata": {},
   "source": [
    "## 住宿类型"
   ]
  },
  {
   "cell_type": "code",
   "execution_count": 73,
   "metadata": {},
   "outputs": [
    {
     "data": {
      "text/plain": [
       "商务出差    19862\n",
       "家庭亲子     9852\n",
       "朋友出游     8806\n",
       "情侣出游     6266\n",
       "独自旅行     3734\n",
       "其它       2252\n",
       "代人预订     1695\n",
       "Name: 住宿类型, dtype: int64"
      ]
     },
     "execution_count": 73,
     "metadata": {},
     "output_type": "execute_result"
    }
   ],
   "source": [
    "data['住宿类型'].value_counts()"
   ]
  },
  {
   "cell_type": "code",
   "execution_count": 74,
   "metadata": {
    "collapsed": true
   },
   "outputs": [],
   "source": [
    "data['住宿类型'].fillna(\"其它\",inplace = True)"
   ]
  },
  {
   "cell_type": "code",
   "execution_count": 75,
   "metadata": {},
   "outputs": [
    {
     "data": {
      "text/plain": [
       "其它      31277\n",
       "商务出差    19862\n",
       "家庭亲子     9852\n",
       "朋友出游     8806\n",
       "情侣出游     6266\n",
       "独自旅行     3734\n",
       "代人预订     1695\n",
       "Name: 住宿类型, dtype: int64"
      ]
     },
     "execution_count": 75,
     "metadata": {},
     "output_type": "execute_result"
    }
   ],
   "source": [
    "data['住宿类型'].value_counts()"
   ]
  },
  {
   "cell_type": "markdown",
   "metadata": {},
   "source": [
    "## 入住时间"
   ]
  },
  {
   "cell_type": "code",
   "execution_count": 76,
   "metadata": {},
   "outputs": [
    {
     "data": {
      "text/plain": [
       "2017年04月    2404\n",
       "2017年06月    2355\n",
       "2017年05月    2245\n",
       "2017年07月    2084\n",
       "2017年03月    2015\n",
       "2015年10月    1867\n",
       "2016年08月    1865\n",
       "2016年10月    1783\n",
       "2017年08月    1694\n",
       "2016年07月    1601\n",
       "2016年09月    1592\n",
       "2017年02月    1549\n",
       "2015年04月    1547\n",
       "2016年06月    1448\n",
       "2016年11月    1447\n",
       "2015年11月    1446\n",
       "2015年07月    1414\n",
       "2017年01月    1397\n",
       "2016年12月    1394\n",
       "2015年08月    1378\n",
       "2015年06月    1356\n",
       "2015年03月    1342\n",
       "2016年05月    1338\n",
       "2015年09月    1331\n",
       "2015年05月    1256\n",
       "2016年04月    1228\n",
       "2015年01月    1186\n",
       "2015年12月    1150\n",
       "2015年02月    1128\n",
       "2016年01月    1013\n",
       "2016年02月     997\n",
       "2016年03月     991\n",
       "2014年12月     896\n",
       "2014年10月     768\n",
       "2014年11月     719\n",
       "2014年09月     690\n",
       "2014年08月     346\n",
       "2014年07月      99\n",
       "2014年06月      34\n",
       "2014年05月       2\n",
       "2014年04月       1\n",
       "Name: 入住时间, dtype: int64"
      ]
     },
     "execution_count": 76,
     "metadata": {},
     "output_type": "execute_result"
    }
   ],
   "source": [
    "data['入住时间'] = data['入住时间'].str.replace(\"入住\",\"\")\n",
    "data['入住时间'].value_counts()"
   ]
  },
  {
   "cell_type": "markdown",
   "metadata": {},
   "source": [
    "## 入住房型"
   ]
  },
  {
   "cell_type": "code",
   "execution_count": 77,
   "metadata": {},
   "outputs": [
    {
     "data": {
      "text/plain": [
       "高级大床房        7589\n",
       "豪华大床房        3924\n",
       "大床房          3646\n",
       "商务大床房        3566\n",
       "双床房          3098\n",
       "特惠大床房        2721\n",
       "自主大床房        2387\n",
       "标准双人房        2211\n",
       "商务房A         2104\n",
       "特惠双人房        2084\n",
       "豪华双床房        1824\n",
       "标准房A         1813\n",
       "套房           1124\n",
       "零压-高级大床房      992\n",
       "经济房           926\n",
       "自主双床房         904\n",
       "精选商务房B        865\n",
       "家庭房           828\n",
       "景观大床房         786\n",
       "商务房B          749\n",
       "高级大床房A        726\n",
       "大床房(无窗)       565\n",
       "特价房           489\n",
       "精选标准房A        480\n",
       "任意房型          470\n",
       "特惠标准房(无窗)     425\n",
       "特惠商务房(无窗)     403\n",
       "标准双床房         376\n",
       "特惠大床房(无窗)     365\n",
       "零压-双床房        329\n",
       "             ... \n",
       "商务房C           22\n",
       "特惠房            20\n",
       "标准房B(无窗)       18\n",
       "精选单人房C         18\n",
       "促销双床房          15\n",
       "时尚双人房          13\n",
       "标准房C           12\n",
       "精选双床间          12\n",
       "标准套房A          11\n",
       "商务套房A          11\n",
       "单人房B           10\n",
       "特惠豪华大床房         8\n",
       "时租房4小时          8\n",
       "精选单人房           5\n",
       "特惠商务房           3\n",
       "特惠双床房           2\n",
       "双床间             2\n",
       "豪华双人间           2\n",
       "豪华套房            2\n",
       "高级大床房/双床房       2\n",
       "特惠豪华双床房         2\n",
       "豪华特大号床间         2\n",
       "单人房B（无窗）        1\n",
       "商务房C（无窗）        1\n",
       "日式大号床间          1\n",
       "特惠单人房           1\n",
       "商务双人间B          1\n",
       "复式套房            1\n",
       "商务套房            1\n",
       "高级双人间           1\n",
       "Name: 入住房型, Length: 90, dtype: int64"
      ]
     },
     "execution_count": 77,
     "metadata": {},
     "output_type": "execute_result"
    }
   ],
   "source": [
    "data['入住房型'].value_counts()"
   ]
  },
  {
   "cell_type": "code",
   "execution_count": 78,
   "metadata": {},
   "outputs": [
    {
     "data": {
      "text/plain": [
       "{'住宿类型': 0,\n",
       " '入住房型': 29081,\n",
       " '入住时间': 29096,\n",
       " '地段': 0,\n",
       " '用户ID': 0,\n",
       " '评分': 29081,\n",
       " '评论内容': 0,\n",
       " '酒店': 0}"
      ]
     },
     "execution_count": 78,
     "metadata": {},
     "output_type": "execute_result"
    }
   ],
   "source": [
    "cols = list(data.columns)\n",
    "missing = list(map(lambda x:data[x].isnull().sum(),cols))\n",
    "missing_dict = dict(zip(cols,missing))\n",
    "missing_dict"
   ]
  },
  {
   "cell_type": "code",
   "execution_count": 79,
   "metadata": {},
   "outputs": [
    {
     "data": {
      "text/html": [
       "<div>\n",
       "<style>\n",
       "    .dataframe thead tr:only-child th {\n",
       "        text-align: right;\n",
       "    }\n",
       "\n",
       "    .dataframe thead th {\n",
       "        text-align: left;\n",
       "    }\n",
       "\n",
       "    .dataframe tbody tr th {\n",
       "        vertical-align: top;\n",
       "    }\n",
       "</style>\n",
       "<table border=\"1\" class=\"dataframe\">\n",
       "  <thead>\n",
       "    <tr style=\"text-align: right;\">\n",
       "      <th></th>\n",
       "      <th>酒店</th>\n",
       "      <th>地段</th>\n",
       "      <th>用户ID</th>\n",
       "      <th>评分</th>\n",
       "      <th>住宿类型</th>\n",
       "      <th>入住时间</th>\n",
       "      <th>入住房型</th>\n",
       "      <th>评论内容</th>\n",
       "    </tr>\n",
       "  </thead>\n",
       "  <tbody>\n",
       "    <tr>\n",
       "      <th>0</th>\n",
       "      <td>7天</td>\n",
       "      <td>步行街</td>\n",
       "      <td>_CFT0229991****</td>\n",
       "      <td>4.0</td>\n",
       "      <td>朋友出游</td>\n",
       "      <td>2017年08月</td>\n",
       "      <td>自主大床房</td>\n",
       "      <td>位置可以，距离地铁站近，离步行街也挺近的，房间很小，没有窗户，不太通风，价格贵，可以免费寄存...</td>\n",
       "    </tr>\n",
       "    <tr>\n",
       "      <th>1</th>\n",
       "      <td>7天</td>\n",
       "      <td>步行街</td>\n",
       "      <td>110153****</td>\n",
       "      <td>3.5</td>\n",
       "      <td>家庭亲子</td>\n",
       "      <td>2017年07月</td>\n",
       "      <td>自主双床房</td>\n",
       "      <td>酒店位置不错，就在步行街，出门吃饭，搭地铁很方便。只是房间太小，设施简陋了些，不过为了方便和...</td>\n",
       "    </tr>\n",
       "    <tr>\n",
       "      <th>2</th>\n",
       "      <td>7天</td>\n",
       "      <td>步行街</td>\n",
       "      <td>M28432****</td>\n",
       "      <td>1.0</td>\n",
       "      <td>朋友出游</td>\n",
       "      <td>2017年08月</td>\n",
       "      <td>自主大床房</td>\n",
       "      <td>太太太垃圾了，7天酒店的形象在我心中彻底破坏，从没见过如此差劲的酒店，洗水间头上漏水，边洗澡...</td>\n",
       "    </tr>\n",
       "    <tr>\n",
       "      <th>3</th>\n",
       "      <td>7天</td>\n",
       "      <td>步行街</td>\n",
       "      <td>M10416****</td>\n",
       "      <td>4.8</td>\n",
       "      <td>家庭亲子</td>\n",
       "      <td>2017年08月</td>\n",
       "      <td>自主双床房</td>\n",
       "      <td>周围环境一般的，主要是在步行街上，去南京路方便了，地铁二号线乘坐也方便，贵州路上有1个安徽帅...</td>\n",
       "    </tr>\n",
       "    <tr>\n",
       "      <th>5</th>\n",
       "      <td>7天</td>\n",
       "      <td>步行街</td>\n",
       "      <td>1500108****</td>\n",
       "      <td>3.3</td>\n",
       "      <td>朋友出游</td>\n",
       "      <td>2017年07月</td>\n",
       "      <td>自主大床房</td>\n",
       "      <td>位置可以，就是酒店服务太垃圾，前台告知只有电卡没有房卡，开房门得服务员跟着，还让交200押金...</td>\n",
       "    </tr>\n",
       "  </tbody>\n",
       "</table>\n",
       "</div>"
      ],
      "text/plain": [
       "   酒店   地段             用户ID   评分  住宿类型      入住时间   入住房型  \\\n",
       "0  7天  步行街  _CFT0229991****  4.0  朋友出游  2017年08月  自主大床房   \n",
       "1  7天  步行街       110153****  3.5  家庭亲子  2017年07月  自主双床房   \n",
       "2  7天  步行街       M28432****  1.0  朋友出游  2017年08月  自主大床房   \n",
       "3  7天  步行街       M10416****  4.8  家庭亲子  2017年08月  自主双床房   \n",
       "5  7天  步行街      1500108****  3.3  朋友出游  2017年07月  自主大床房   \n",
       "\n",
       "                                                评论内容  \n",
       "0  位置可以，距离地铁站近，离步行街也挺近的，房间很小，没有窗户，不太通风，价格贵，可以免费寄存...  \n",
       "1  酒店位置不错，就在步行街，出门吃饭，搭地铁很方便。只是房间太小，设施简陋了些，不过为了方便和...  \n",
       "2  太太太垃圾了，7天酒店的形象在我心中彻底破坏，从没见过如此差劲的酒店，洗水间头上漏水，边洗澡...  \n",
       "3  周围环境一般的，主要是在步行街上，去南京路方便了，地铁二号线乘坐也方便，贵州路上有1个安徽帅...  \n",
       "5  位置可以，就是酒店服务太垃圾，前台告知只有电卡没有房卡，开房门得服务员跟着，还让交200押金...  "
      ]
     },
     "execution_count": 79,
     "metadata": {},
     "output_type": "execute_result"
    }
   ],
   "source": [
    "data.head()"
   ]
  },
  {
   "cell_type": "code",
   "execution_count": 80,
   "metadata": {},
   "outputs": [
    {
     "data": {
      "text/plain": [
       "(81492, 8)"
      ]
     },
     "execution_count": 80,
     "metadata": {},
     "output_type": "execute_result"
    }
   ],
   "source": [
    "data.shape"
   ]
  },
  {
   "cell_type": "code",
   "execution_count": 81,
   "metadata": {
    "collapsed": true
   },
   "outputs": [],
   "source": [
    "data.index = range(0,len(data))"
   ]
  },
  {
   "cell_type": "code",
   "execution_count": 82,
   "metadata": {
    "collapsed": true
   },
   "outputs": [],
   "source": [
    "data.to_csv(\"clean_xiecheng_0918.txt\",sep = \"\\t\",encoding = \"utf-8\",index = False)"
   ]
  },
  {
   "cell_type": "markdown",
   "metadata": {},
   "source": [
    "# 关键词筛选"
   ]
  },
  {
   "cell_type": "code",
   "execution_count": 83,
   "metadata": {
    "collapsed": true
   },
   "outputs": [],
   "source": [
    "words = []\n",
    "with open(\"keywords.txt\",\"r\",encoding='utf-8') as f:\n",
    "    for word in f.readlines():\n",
    "        words.append(word.strip().strip(\"\\ufeff\"))"
   ]
  },
  {
   "cell_type": "code",
   "execution_count": 84,
   "metadata": {},
   "outputs": [
    {
     "data": {
      "text/plain": [
       "['全季',\n",
       " '如家',\n",
       " '莫泰168',\n",
       " '锦江之星',\n",
       " '汉庭',\n",
       " '7天',\n",
       " '快捷酒店',\n",
       " '房间',\n",
       " '设施',\n",
       " '齐全',\n",
       " '空调',\n",
       " '电话',\n",
       " '大床',\n",
       " '窗户',\n",
       " '环境',\n",
       " '装修',\n",
       " '隔音',\n",
       " '吵',\n",
       " '声音',\n",
       " '前台',\n",
       " '卫生间',\n",
       " '方便',\n",
       " '交通',\n",
       " '步行',\n",
       " '走路',\n",
       " '位置',\n",
       " '好找',\n",
       " '停车',\n",
       " '外滩',\n",
       " '步行街',\n",
       " '城隍庙',\n",
       " '南京路',\n",
       " '机场',\n",
       " '火车站',\n",
       " '地铁站',\n",
       " '高架',\n",
       " '服务',\n",
       " '服务员',\n",
       " '人员',\n",
       " '态度',\n",
       " '预定',\n",
       " '入住',\n",
       " '退房',\n",
       " '吃饭',\n",
       " '早餐',\n",
       " '干净',\n",
       " '舒服',\n",
       " '舒适',\n",
       " '安静',\n",
       " '温馨',\n",
       " '整洁',\n",
       " '价格',\n",
       " '价位',\n",
       " '实惠',\n",
       " '性价比',\n",
       " '免费',\n",
       " '早上',\n",
       " '晚上',\n",
       " '出差',\n",
       " '商务',\n",
       " '度假',\n",
       " '朋友']"
      ]
     },
     "execution_count": 84,
     "metadata": {},
     "output_type": "execute_result"
    }
   ],
   "source": [
    "words"
   ]
  },
  {
   "cell_type": "code",
   "execution_count": 85,
   "metadata": {
    "collapsed": true
   },
   "outputs": [],
   "source": [
    "data['关键词'] = data['评论内容'].copy().str.findall('|'.join(words))"
   ]
  },
  {
   "cell_type": "code",
   "execution_count": 86,
   "metadata": {
    "collapsed": true
   },
   "outputs": [],
   "source": [
    "data['关键词'] = data['关键词'].map(set).map(list)"
   ]
  },
  {
   "cell_type": "code",
   "execution_count": 87,
   "metadata": {},
   "outputs": [
    {
     "data": {
      "text/html": [
       "<div>\n",
       "<style>\n",
       "    .dataframe thead tr:only-child th {\n",
       "        text-align: right;\n",
       "    }\n",
       "\n",
       "    .dataframe thead th {\n",
       "        text-align: left;\n",
       "    }\n",
       "\n",
       "    .dataframe tbody tr th {\n",
       "        vertical-align: top;\n",
       "    }\n",
       "</style>\n",
       "<table border=\"1\" class=\"dataframe\">\n",
       "  <thead>\n",
       "    <tr style=\"text-align: right;\">\n",
       "      <th></th>\n",
       "      <th>酒店</th>\n",
       "      <th>地段</th>\n",
       "      <th>用户ID</th>\n",
       "      <th>评分</th>\n",
       "      <th>住宿类型</th>\n",
       "      <th>入住时间</th>\n",
       "      <th>入住房型</th>\n",
       "      <th>评论内容</th>\n",
       "      <th>关键词</th>\n",
       "    </tr>\n",
       "  </thead>\n",
       "  <tbody>\n",
       "    <tr>\n",
       "      <th>81487</th>\n",
       "      <td>如家</td>\n",
       "      <td>会展中心</td>\n",
       "      <td>jer****</td>\n",
       "      <td>3.0</td>\n",
       "      <td>商务出差</td>\n",
       "      <td>2015年03月</td>\n",
       "      <td>特惠大床房</td>\n",
       "      <td>还可以</td>\n",
       "      <td>[]</td>\n",
       "    </tr>\n",
       "    <tr>\n",
       "      <th>81488</th>\n",
       "      <td>如家</td>\n",
       "      <td>会展中心</td>\n",
       "      <td>M51856****</td>\n",
       "      <td>5.0</td>\n",
       "      <td>商务出差</td>\n",
       "      <td>2017年05月</td>\n",
       "      <td>特惠大床房</td>\n",
       "      <td>位置挺好的</td>\n",
       "      <td>[位置]</td>\n",
       "    </tr>\n",
       "    <tr>\n",
       "      <th>81489</th>\n",
       "      <td>如家</td>\n",
       "      <td>会展中心</td>\n",
       "      <td>E4993****</td>\n",
       "      <td>4.3</td>\n",
       "      <td>商务出差</td>\n",
       "      <td>2017年05月</td>\n",
       "      <td>特惠双人房</td>\n",
       "      <td>交通便利、</td>\n",
       "      <td>[交通]</td>\n",
       "    </tr>\n",
       "    <tr>\n",
       "      <th>81490</th>\n",
       "      <td>如家</td>\n",
       "      <td>会展中心</td>\n",
       "      <td>童-Alina</td>\n",
       "      <td>5.0</td>\n",
       "      <td>其它</td>\n",
       "      <td>2017年06月</td>\n",
       "      <td>特惠双人房</td>\n",
       "      <td>真的超级好，特别满意，很干净，客服态度也很好，收拾房间的阿姨也很贴心，交通还算便利，而且没有...</td>\n",
       "      <td>[交通, 干净, 态度, 房间, 舒服]</td>\n",
       "    </tr>\n",
       "    <tr>\n",
       "      <th>81491</th>\n",
       "      <td>如家</td>\n",
       "      <td>会展中心</td>\n",
       "      <td>中国潇洒的男人</td>\n",
       "      <td>3.3</td>\n",
       "      <td>家庭亲子</td>\n",
       "      <td>2014年09月</td>\n",
       "      <td>标准双人房</td>\n",
       "      <td>一般</td>\n",
       "      <td>[]</td>\n",
       "    </tr>\n",
       "  </tbody>\n",
       "</table>\n",
       "</div>"
      ],
      "text/plain": [
       "       酒店    地段        用户ID   评分  住宿类型      入住时间   入住房型  \\\n",
       "81487  如家  会展中心     jer****  3.0  商务出差  2015年03月  特惠大床房   \n",
       "81488  如家  会展中心  M51856****  5.0  商务出差  2017年05月  特惠大床房   \n",
       "81489  如家  会展中心   E4993****  4.3  商务出差  2017年05月  特惠双人房   \n",
       "81490  如家  会展中心     童-Alina  5.0    其它  2017年06月  特惠双人房   \n",
       "81491  如家  会展中心     中国潇洒的男人  3.3  家庭亲子  2014年09月  标准双人房   \n",
       "\n",
       "                                                    评论内容                   关键词  \n",
       "81487                                                还可以                    []  \n",
       "81488                                              位置挺好的                  [位置]  \n",
       "81489                                              交通便利、                  [交通]  \n",
       "81490  真的超级好，特别满意，很干净，客服态度也很好，收拾房间的阿姨也很贴心，交通还算便利，而且没有...  [交通, 干净, 态度, 房间, 舒服]  \n",
       "81491                                                 一般                    []  "
      ]
     },
     "execution_count": 87,
     "metadata": {},
     "output_type": "execute_result"
    }
   ],
   "source": [
    "data.tail()"
   ]
  },
  {
   "cell_type": "code",
   "execution_count": 88,
   "metadata": {},
   "outputs": [
    {
     "data": {
      "text/plain": [
       "(81492, 9)"
      ]
     },
     "execution_count": 88,
     "metadata": {},
     "output_type": "execute_result"
    }
   ],
   "source": [
    "data.shape"
   ]
  },
  {
   "cell_type": "code",
   "execution_count": 89,
   "metadata": {},
   "outputs": [
    {
     "data": {
      "text/plain": [
       "(62873, 9)"
      ]
     },
     "execution_count": 89,
     "metadata": {},
     "output_type": "execute_result"
    }
   ],
   "source": [
    "cond = data['关键词'].map(len) > 0\n",
    "data = data.loc[cond]\n",
    "data.shape"
   ]
  },
  {
   "cell_type": "code",
   "execution_count": 90,
   "metadata": {},
   "outputs": [
    {
     "data": {
      "text/html": [
       "<div>\n",
       "<style>\n",
       "    .dataframe thead tr:only-child th {\n",
       "        text-align: right;\n",
       "    }\n",
       "\n",
       "    .dataframe thead th {\n",
       "        text-align: left;\n",
       "    }\n",
       "\n",
       "    .dataframe tbody tr th {\n",
       "        vertical-align: top;\n",
       "    }\n",
       "</style>\n",
       "<table border=\"1\" class=\"dataframe\">\n",
       "  <thead>\n",
       "    <tr style=\"text-align: right;\">\n",
       "      <th></th>\n",
       "      <th>酒店</th>\n",
       "      <th>地段</th>\n",
       "      <th>用户ID</th>\n",
       "      <th>评分</th>\n",
       "      <th>住宿类型</th>\n",
       "      <th>入住时间</th>\n",
       "      <th>入住房型</th>\n",
       "      <th>评论内容</th>\n",
       "      <th>关键词</th>\n",
       "    </tr>\n",
       "  </thead>\n",
       "  <tbody>\n",
       "    <tr>\n",
       "      <th>0</th>\n",
       "      <td>7天</td>\n",
       "      <td>步行街</td>\n",
       "      <td>_CFT0229991****</td>\n",
       "      <td>4.0</td>\n",
       "      <td>朋友出游</td>\n",
       "      <td>2017年08月</td>\n",
       "      <td>自主大床房</td>\n",
       "      <td>位置可以，距离地铁站近，离步行街也挺近的，房间很小，没有窗户，不太通风，价格贵，可以免费寄存...</td>\n",
       "      <td>[位置, 价格, 地铁站, 免费, 窗户, 步行, 房间]</td>\n",
       "    </tr>\n",
       "    <tr>\n",
       "      <th>1</th>\n",
       "      <td>7天</td>\n",
       "      <td>步行街</td>\n",
       "      <td>110153****</td>\n",
       "      <td>3.5</td>\n",
       "      <td>家庭亲子</td>\n",
       "      <td>2017年07月</td>\n",
       "      <td>自主双床房</td>\n",
       "      <td>酒店位置不错，就在步行街，出门吃饭，搭地铁很方便。只是房间太小，设施简陋了些，不过为了方便和...</td>\n",
       "      <td>[方便, 位置, 设施, 吃饭, 步行, 房间]</td>\n",
       "    </tr>\n",
       "    <tr>\n",
       "      <th>2</th>\n",
       "      <td>7天</td>\n",
       "      <td>步行街</td>\n",
       "      <td>M28432****</td>\n",
       "      <td>1.0</td>\n",
       "      <td>朋友出游</td>\n",
       "      <td>2017年08月</td>\n",
       "      <td>自主大床房</td>\n",
       "      <td>太太太垃圾了，7天酒店的形象在我心中彻底破坏，从没见过如此差劲的酒店，洗水间头上漏水，边洗澡...</td>\n",
       "      <td>[7天, 空调, 免费, 如家, 房间]</td>\n",
       "    </tr>\n",
       "    <tr>\n",
       "      <th>3</th>\n",
       "      <td>7天</td>\n",
       "      <td>步行街</td>\n",
       "      <td>M10416****</td>\n",
       "      <td>4.8</td>\n",
       "      <td>家庭亲子</td>\n",
       "      <td>2017年08月</td>\n",
       "      <td>自主双床房</td>\n",
       "      <td>周围环境一般的，主要是在步行街上，去南京路方便了，地铁二号线乘坐也方便，贵州路上有1个安徽帅...</td>\n",
       "      <td>[方便, 南京路, 卫生间, 环境, 步行, 房间]</td>\n",
       "    </tr>\n",
       "    <tr>\n",
       "      <th>4</th>\n",
       "      <td>7天</td>\n",
       "      <td>步行街</td>\n",
       "      <td>1500108****</td>\n",
       "      <td>3.3</td>\n",
       "      <td>朋友出游</td>\n",
       "      <td>2017年07月</td>\n",
       "      <td>自主大床房</td>\n",
       "      <td>位置可以，就是酒店服务太垃圾，前台告知只有电卡没有房卡，开房门得服务员跟着，还让交200押金...</td>\n",
       "      <td>[服务, 房间, 位置, 前台]</td>\n",
       "    </tr>\n",
       "    <tr>\n",
       "      <th>5</th>\n",
       "      <td>7天</td>\n",
       "      <td>步行街</td>\n",
       "      <td>浅蓝色40</td>\n",
       "      <td>3.8</td>\n",
       "      <td>情侣出游</td>\n",
       "      <td>2017年06月</td>\n",
       "      <td>自主大床房</td>\n",
       "      <td>酒店还可以，感觉挺破了，卫生也是一般，如果特别爱干净的朋友就选择其他家吧，比如边上的汉庭酒店...</td>\n",
       "      <td>[干净, 汉庭, 朋友]</td>\n",
       "    </tr>\n",
       "    <tr>\n",
       "      <th>6</th>\n",
       "      <td>7天</td>\n",
       "      <td>步行街</td>\n",
       "      <td>差一点点04</td>\n",
       "      <td>4.5</td>\n",
       "      <td>家庭亲子</td>\n",
       "      <td>2017年05月</td>\n",
       "      <td>商务大床房</td>\n",
       "      <td>大上海真是寸土寸金啊，尤其是紧邻南京东路步行街 。酒店位置很好，在步行街第一商店旁边，对过就...</td>\n",
       "      <td>[交通, 步行, 位置, 方便]</td>\n",
       "    </tr>\n",
       "    <tr>\n",
       "      <th>7</th>\n",
       "      <td>7天</td>\n",
       "      <td>步行街</td>\n",
       "      <td>1395103****</td>\n",
       "      <td>3.5</td>\n",
       "      <td>家庭亲子</td>\n",
       "      <td>2017年07月</td>\n",
       "      <td>自主双床房</td>\n",
       "      <td>地理位置没话说，去哪都方便，房间设施确实太陈旧，电话、电视全是坏的，电吹风要去楼道电梯口才能...</td>\n",
       "      <td>[方便, 隔音, 电话, 位置, 设施, 房间]</td>\n",
       "    </tr>\n",
       "    <tr>\n",
       "      <th>8</th>\n",
       "      <td>7天</td>\n",
       "      <td>步行街</td>\n",
       "      <td>E0582****</td>\n",
       "      <td>3.0</td>\n",
       "      <td>家庭亲子</td>\n",
       "      <td>2017年08月</td>\n",
       "      <td>自主双床房</td>\n",
       "      <td>酒店位置相当好，在步行街，第一食品店侧面，晚上步行去外滩，距离正好。房间状况太差，迄今为止最...</td>\n",
       "      <td>[南京路, 位置, 晚上, 外滩, 步行, 房间]</td>\n",
       "    </tr>\n",
       "    <tr>\n",
       "      <th>9</th>\n",
       "      <td>7天</td>\n",
       "      <td>步行街</td>\n",
       "      <td>e04450687</td>\n",
       "      <td>1.0</td>\n",
       "      <td>代人预订</td>\n",
       "      <td>2017年06月</td>\n",
       "      <td>自主大床房</td>\n",
       "      <td>酒店在一条小街上，唯一好处，离步行街进，但凡有点别的要求的请不要订这个酒店。一进门屋里一股味...</td>\n",
       "      <td>[朋友, 空调, 电话, 前台, 入住, 晚上, 步行, 房间]</td>\n",
       "    </tr>\n",
       "  </tbody>\n",
       "</table>\n",
       "</div>"
      ],
      "text/plain": [
       "   酒店   地段             用户ID   评分  住宿类型      入住时间   入住房型  \\\n",
       "0  7天  步行街  _CFT0229991****  4.0  朋友出游  2017年08月  自主大床房   \n",
       "1  7天  步行街       110153****  3.5  家庭亲子  2017年07月  自主双床房   \n",
       "2  7天  步行街       M28432****  1.0  朋友出游  2017年08月  自主大床房   \n",
       "3  7天  步行街       M10416****  4.8  家庭亲子  2017年08月  自主双床房   \n",
       "4  7天  步行街      1500108****  3.3  朋友出游  2017年07月  自主大床房   \n",
       "5  7天  步行街            浅蓝色40  3.8  情侣出游  2017年06月  自主大床房   \n",
       "6  7天  步行街           差一点点04  4.5  家庭亲子  2017年05月  商务大床房   \n",
       "7  7天  步行街      1395103****  3.5  家庭亲子  2017年07月  自主双床房   \n",
       "8  7天  步行街        E0582****  3.0  家庭亲子  2017年08月  自主双床房   \n",
       "9  7天  步行街        e04450687  1.0  代人预订  2017年06月  自主大床房   \n",
       "\n",
       "                                                评论内容  \\\n",
       "0  位置可以，距离地铁站近，离步行街也挺近的，房间很小，没有窗户，不太通风，价格贵，可以免费寄存...   \n",
       "1  酒店位置不错，就在步行街，出门吃饭，搭地铁很方便。只是房间太小，设施简陋了些，不过为了方便和...   \n",
       "2  太太太垃圾了，7天酒店的形象在我心中彻底破坏，从没见过如此差劲的酒店，洗水间头上漏水，边洗澡...   \n",
       "3  周围环境一般的，主要是在步行街上，去南京路方便了，地铁二号线乘坐也方便，贵州路上有1个安徽帅...   \n",
       "4  位置可以，就是酒店服务太垃圾，前台告知只有电卡没有房卡，开房门得服务员跟着，还让交200押金...   \n",
       "5  酒店还可以，感觉挺破了，卫生也是一般，如果特别爱干净的朋友就选择其他家吧，比如边上的汉庭酒店...   \n",
       "6  大上海真是寸土寸金啊，尤其是紧邻南京东路步行街 。酒店位置很好，在步行街第一商店旁边，对过就...   \n",
       "7  地理位置没话说，去哪都方便，房间设施确实太陈旧，电话、电视全是坏的，电吹风要去楼道电梯口才能...   \n",
       "8  酒店位置相当好，在步行街，第一食品店侧面，晚上步行去外滩，距离正好。房间状况太差，迄今为止最...   \n",
       "9  酒店在一条小街上，唯一好处，离步行街进，但凡有点别的要求的请不要订这个酒店。一进门屋里一股味...   \n",
       "\n",
       "                                关键词  \n",
       "0     [位置, 价格, 地铁站, 免费, 窗户, 步行, 房间]  \n",
       "1          [方便, 位置, 设施, 吃饭, 步行, 房间]  \n",
       "2              [7天, 空调, 免费, 如家, 房间]  \n",
       "3        [方便, 南京路, 卫生间, 环境, 步行, 房间]  \n",
       "4                  [服务, 房间, 位置, 前台]  \n",
       "5                      [干净, 汉庭, 朋友]  \n",
       "6                  [交通, 步行, 位置, 方便]  \n",
       "7          [方便, 隔音, 电话, 位置, 设施, 房间]  \n",
       "8         [南京路, 位置, 晚上, 外滩, 步行, 房间]  \n",
       "9  [朋友, 空调, 电话, 前台, 入住, 晚上, 步行, 房间]  "
      ]
     },
     "execution_count": 90,
     "metadata": {},
     "output_type": "execute_result"
    }
   ],
   "source": [
    "data.index = range(len(data))\n",
    "data.head(10)"
   ]
  },
  {
   "cell_type": "code",
   "execution_count": 91,
   "metadata": {
    "collapsed": true
   },
   "outputs": [],
   "source": [
    "data.to_csv(\"clean_xiecheng_keywords_0920.txt\",sep = \"\\t\",encoding = \"utf-8\",index = False)"
   ]
  },
  {
   "cell_type": "markdown",
   "metadata": {},
   "source": [
    "# Construct pandas DataFrame from items in nested dictionary"
   ]
  },
  {
   "cell_type": "code",
   "execution_count": 92,
   "metadata": {
    "collapsed": true
   },
   "outputs": [],
   "source": [
    "user_dict = {12: {'Category 1': {'att_1': 1, 'att_2': 'whatever'},\n",
    "                  'Category 2': {'att_1': 23, 'att_2': 'another'}},\n",
    "             15: {'Category 1': {'att_1': 10, 'att_2': 'foo'},\n",
    "                  'Category 2': {'att_1': 30, 'att_2': 'bar'}}}"
   ]
  },
  {
   "cell_type": "code",
   "execution_count": 93,
   "metadata": {},
   "outputs": [
    {
     "data": {
      "text/html": [
       "<div>\n",
       "<style>\n",
       "    .dataframe thead tr:only-child th {\n",
       "        text-align: right;\n",
       "    }\n",
       "\n",
       "    .dataframe thead th {\n",
       "        text-align: left;\n",
       "    }\n",
       "\n",
       "    .dataframe tbody tr th {\n",
       "        vertical-align: top;\n",
       "    }\n",
       "</style>\n",
       "<table border=\"1\" class=\"dataframe\">\n",
       "  <thead>\n",
       "    <tr style=\"text-align: right;\">\n",
       "      <th></th>\n",
       "      <th></th>\n",
       "      <th>att_1</th>\n",
       "      <th>att_2</th>\n",
       "    </tr>\n",
       "  </thead>\n",
       "  <tbody>\n",
       "    <tr>\n",
       "      <th rowspan=\"2\" valign=\"top\">12</th>\n",
       "      <th>Category 1</th>\n",
       "      <td>1</td>\n",
       "      <td>whatever</td>\n",
       "    </tr>\n",
       "    <tr>\n",
       "      <th>Category 2</th>\n",
       "      <td>23</td>\n",
       "      <td>another</td>\n",
       "    </tr>\n",
       "    <tr>\n",
       "      <th rowspan=\"2\" valign=\"top\">15</th>\n",
       "      <th>Category 1</th>\n",
       "      <td>10</td>\n",
       "      <td>foo</td>\n",
       "    </tr>\n",
       "    <tr>\n",
       "      <th>Category 2</th>\n",
       "      <td>30</td>\n",
       "      <td>bar</td>\n",
       "    </tr>\n",
       "  </tbody>\n",
       "</table>\n",
       "</div>"
      ],
      "text/plain": [
       "               att_1     att_2\n",
       "12 Category 1      1  whatever\n",
       "   Category 2     23   another\n",
       "15 Category 1     10       foo\n",
       "   Category 2     30       bar"
      ]
     },
     "execution_count": 93,
     "metadata": {},
     "output_type": "execute_result"
    }
   ],
   "source": [
    "pd.DataFrame.from_dict({(i,j): user_dict[i][j] \n",
    "                           for i in user_dict.keys() \n",
    "                           for j in user_dict[i].keys()},\n",
    "                       orient='index')"
   ]
  },
  {
   "cell_type": "code",
   "execution_count": 94,
   "metadata": {
    "collapsed": true
   },
   "outputs": [],
   "source": [
    "from pandas.io.json import json_normalize"
   ]
  },
  {
   "cell_type": "code",
   "execution_count": 96,
   "metadata": {},
   "outputs": [
    {
     "data": {
      "text/plain": [
       "[{'followers': 1, 'user': {'full_name': 'Alice', 'uid': 123}},\n",
       " {'followers': 2, 'user': {'full_name': 'Bob', 'uid': 456}}]"
      ]
     },
     "execution_count": 96,
     "metadata": {},
     "output_type": "execute_result"
    }
   ],
   "source": [
    "data=[dict(user=dict(uid=123,full_name='Alice'),followers=1),dict(user=dict(uid=456,full_name='Bob'),followers=2)]\n",
    "data"
   ]
  },
  {
   "cell_type": "code",
   "execution_count": 97,
   "metadata": {},
   "outputs": [
    {
     "data": {
      "text/html": [
       "<div>\n",
       "<style>\n",
       "    .dataframe thead tr:only-child th {\n",
       "        text-align: right;\n",
       "    }\n",
       "\n",
       "    .dataframe thead th {\n",
       "        text-align: left;\n",
       "    }\n",
       "\n",
       "    .dataframe tbody tr th {\n",
       "        vertical-align: top;\n",
       "    }\n",
       "</style>\n",
       "<table border=\"1\" class=\"dataframe\">\n",
       "  <thead>\n",
       "    <tr style=\"text-align: right;\">\n",
       "      <th></th>\n",
       "      <th>followers</th>\n",
       "      <th>user.full_name</th>\n",
       "      <th>user.uid</th>\n",
       "    </tr>\n",
       "  </thead>\n",
       "  <tbody>\n",
       "    <tr>\n",
       "      <th>0</th>\n",
       "      <td>1</td>\n",
       "      <td>Alice</td>\n",
       "      <td>123</td>\n",
       "    </tr>\n",
       "    <tr>\n",
       "      <th>1</th>\n",
       "      <td>2</td>\n",
       "      <td>Bob</td>\n",
       "      <td>456</td>\n",
       "    </tr>\n",
       "  </tbody>\n",
       "</table>\n",
       "</div>"
      ],
      "text/plain": [
       "   followers user.full_name  user.uid\n",
       "0          1          Alice       123\n",
       "1          2            Bob       456"
      ]
     },
     "execution_count": 97,
     "metadata": {},
     "output_type": "execute_result"
    }
   ],
   "source": [
    "json_normalize(data)"
   ]
  }
 ],
 "metadata": {
  "kernelspec": {
   "display_name": "Python 3",
   "language": "python",
   "name": "python3"
  },
  "language_info": {
   "codemirror_mode": {
    "name": "ipython",
    "version": 3
   },
   "file_extension": ".py",
   "mimetype": "text/x-python",
   "name": "python",
   "nbconvert_exporter": "python",
   "pygments_lexer": "ipython3",
   "version": "3.6.4"
  },
  "latex_envs": {
   "LaTeX_envs_menu_present": true,
   "autocomplete": true,
   "bibliofile": "biblio.bib",
   "cite_by": "apalike",
   "current_citInitial": 1,
   "eqLabelWithNumbers": true,
   "eqNumInitial": 1,
   "hotkeys": {
    "equation": "Ctrl-E",
    "itemize": "Ctrl-I"
   },
   "labels_anchors": false,
   "latex_user_defs": false,
   "report_style_numbering": false,
   "user_envs_cfg": false
  },
  "toc": {
   "nav_menu": {
    "height": "264px",
    "width": "252px"
   },
   "number_sections": true,
   "sideBar": true,
   "skip_h1_title": false,
   "title_cell": "Table of Contents",
   "title_sidebar": "Contents",
   "toc_cell": false,
   "toc_position": {
    "height": "calc(100% - 180px)",
    "left": "10px",
    "top": "150px",
    "width": "349px"
   },
   "toc_section_display": "block",
   "toc_window_display": true
  }
 },
 "nbformat": 4,
 "nbformat_minor": 2
}
