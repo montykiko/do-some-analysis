{
 "cells": [
  {
   "cell_type": "markdown",
   "metadata": {},
   "source": [
    "# datetime模块"
   ]
  },
  {
   "cell_type": "code",
   "execution_count": 115,
   "metadata": {
    "ExecuteTime": {
     "end_time": "2018-05-30T08:59:36.536010Z",
     "start_time": "2018-05-30T08:59:36.532021Z"
    }
   },
   "outputs": [],
   "source": [
    "import pandas as pd\n",
    "import numpy as np\n",
    "from pandas import Series,DataFrame\n",
    "from datetime import datetime\n",
    "from datetime import timedelta\n",
    "from dateutil.parser import parse"
   ]
  },
  {
   "cell_type": "code",
   "execution_count": 101,
   "metadata": {
    "ExecuteTime": {
     "end_time": "2018-05-30T08:51:57.186236Z",
     "start_time": "2018-05-30T08:51:57.182245Z"
    }
   },
   "outputs": [
    {
     "data": {
      "text/plain": [
       "datetime.datetime(2018, 5, 30, 16, 51, 57, 182245)"
      ]
     },
     "execution_count": 101,
     "metadata": {},
     "output_type": "execute_result"
    }
   ],
   "source": [
    "now = datetime.now()\n",
    "now"
   ]
  },
  {
   "cell_type": "code",
   "execution_count": 102,
   "metadata": {
    "ExecuteTime": {
     "end_time": "2018-05-30T08:52:00.881265Z",
     "start_time": "2018-05-30T08:52:00.877277Z"
    }
   },
   "outputs": [
    {
     "data": {
      "text/plain": [
       "(2018, 5, 30)"
      ]
     },
     "execution_count": 102,
     "metadata": {},
     "output_type": "execute_result"
    }
   ],
   "source": [
    "now.year,now.month,now.day"
   ]
  },
  {
   "cell_type": "markdown",
   "metadata": {},
   "source": [
    "# delta"
   ]
  },
  {
   "cell_type": "code",
   "execution_count": 103,
   "metadata": {
    "ExecuteTime": {
     "end_time": "2018-05-30T08:56:04.010045Z",
     "start_time": "2018-05-30T08:56:04.005058Z"
    }
   },
   "outputs": [
    {
     "data": {
      "text/plain": [
       "datetime.timedelta(926, 56700)"
      ]
     },
     "execution_count": 103,
     "metadata": {},
     "output_type": "execute_result"
    }
   ],
   "source": [
    "delta = datetime(2011,1,7)-datetime(2008,6,24,8,15)\n",
    "\n",
    "delta     #926 days, 15:45:00"
   ]
  },
  {
   "cell_type": "code",
   "execution_count": 104,
   "metadata": {
    "ExecuteTime": {
     "end_time": "2018-05-30T08:56:17.185163Z",
     "start_time": "2018-05-30T08:56:17.181175Z"
    }
   },
   "outputs": [
    {
     "data": {
      "text/plain": [
       "926"
      ]
     },
     "execution_count": 104,
     "metadata": {},
     "output_type": "execute_result"
    }
   ],
   "source": [
    "delta.days"
   ]
  },
  {
   "cell_type": "code",
   "execution_count": 105,
   "metadata": {
    "ExecuteTime": {
     "end_time": "2018-05-30T08:56:18.928078Z",
     "start_time": "2018-05-30T08:56:18.925058Z"
    }
   },
   "outputs": [
    {
     "data": {
      "text/plain": [
       "56700"
      ]
     },
     "execution_count": 105,
     "metadata": {},
     "output_type": "execute_result"
    }
   ],
   "source": [
    "delta.seconds"
   ]
  },
  {
   "cell_type": "code",
   "execution_count": 107,
   "metadata": {
    "ExecuteTime": {
     "end_time": "2018-05-30T08:56:43.209058Z",
     "start_time": "2018-05-30T08:56:43.205068Z"
    }
   },
   "outputs": [
    {
     "data": {
      "text/plain": [
       "datetime.datetime(2011, 1, 19, 0, 0)"
      ]
     },
     "execution_count": 107,
     "metadata": {},
     "output_type": "execute_result"
    }
   ],
   "source": [
    "start = datetime(2011,1,7)\n",
    "start + timedelta(12)  #12 days"
   ]
  },
  {
   "cell_type": "code",
   "execution_count": 108,
   "metadata": {
    "ExecuteTime": {
     "end_time": "2018-05-30T08:56:48.352304Z",
     "start_time": "2018-05-30T08:56:48.348312Z"
    }
   },
   "outputs": [
    {
     "data": {
      "text/plain": [
       "datetime.datetime(2010, 12, 14, 0, 0)"
      ]
     },
     "execution_count": 108,
     "metadata": {},
     "output_type": "execute_result"
    }
   ],
   "source": [
    "start - 2 * timedelta(12)"
   ]
  },
  {
   "cell_type": "markdown",
   "metadata": {},
   "source": [
    "# 字符串和datetime的相互转换"
   ]
  },
  {
   "cell_type": "code",
   "execution_count": 110,
   "metadata": {
    "ExecuteTime": {
     "end_time": "2018-05-30T08:57:03.663310Z",
     "start_time": "2018-05-30T08:57:03.659321Z"
    }
   },
   "outputs": [
    {
     "data": {
      "text/plain": [
       "datetime.datetime(2011, 1, 3, 0, 0)"
      ]
     },
     "execution_count": 110,
     "metadata": {},
     "output_type": "execute_result"
    }
   ],
   "source": [
    "stamp = datetime(2011,1,3)\n",
    "stamp"
   ]
  },
  {
   "cell_type": "code",
   "execution_count": 111,
   "metadata": {
    "ExecuteTime": {
     "end_time": "2018-05-30T08:57:04.657109Z",
     "start_time": "2018-05-30T08:57:04.652116Z"
    }
   },
   "outputs": [
    {
     "data": {
      "text/plain": [
       "'2011-01-03 00:00:00'"
      ]
     },
     "execution_count": 111,
     "metadata": {},
     "output_type": "execute_result"
    }
   ],
   "source": [
    "str(stamp)"
   ]
  },
  {
   "cell_type": "markdown",
   "metadata": {},
   "source": [
    "## strftime格式化"
   ]
  },
  {
   "cell_type": "code",
   "execution_count": 112,
   "metadata": {
    "ExecuteTime": {
     "end_time": "2018-05-30T08:57:53.016981Z",
     "start_time": "2018-05-30T08:57:53.011994Z"
    }
   },
   "outputs": [
    {
     "data": {
      "text/plain": [
       "'2011-01-03'"
      ]
     },
     "execution_count": 112,
     "metadata": {},
     "output_type": "execute_result"
    }
   ],
   "source": [
    "stamp.strftime('%Y-%m-%d')    #相当于datetime通过strftime格式化"
   ]
  },
  {
   "cell_type": "markdown",
   "metadata": {},
   "source": [
    "## strptime已知格式日期解析"
   ]
  },
  {
   "cell_type": "code",
   "execution_count": 113,
   "metadata": {
    "ExecuteTime": {
     "end_time": "2018-05-30T08:59:01.687390Z",
     "start_time": "2018-05-30T08:59:01.682404Z"
    }
   },
   "outputs": [
    {
     "data": {
      "text/plain": [
       "datetime.datetime(2011, 1, 3, 0, 0)"
      ]
     },
     "execution_count": 113,
     "metadata": {},
     "output_type": "execute_result"
    }
   ],
   "source": [
    "value = '2011-01-03'\n",
    "datetime.strptime(value,'%Y-%m-%d')    #相当于通过strptime将格式化的转位datetime"
   ]
  },
  {
   "cell_type": "code",
   "execution_count": 114,
   "metadata": {
    "ExecuteTime": {
     "end_time": "2018-05-30T08:59:25.498697Z",
     "start_time": "2018-05-30T08:59:25.492714Z"
    }
   },
   "outputs": [
    {
     "data": {
      "text/plain": [
       "[datetime.datetime(2011, 7, 6, 0, 0), datetime.datetime(2011, 8, 6, 0, 0)]"
      ]
     },
     "execution_count": 114,
     "metadata": {},
     "output_type": "execute_result"
    }
   ],
   "source": [
    "datestrs = ['7/6/2011','8/6/2011']\n",
    "[datetime.strptime(x,'%m/%d/%Y') for x in datestrs]"
   ]
  },
  {
   "cell_type": "markdown",
   "metadata": {},
   "source": [
    "## dateutil中的parser.parse"
   ]
  },
  {
   "cell_type": "code",
   "execution_count": 116,
   "metadata": {
    "ExecuteTime": {
     "end_time": "2018-05-30T08:59:44.319623Z",
     "start_time": "2018-05-30T08:59:44.316631Z"
    }
   },
   "outputs": [
    {
     "data": {
      "text/plain": [
       "datetime.datetime(2011, 1, 3, 0, 0)"
      ]
     },
     "execution_count": 116,
     "metadata": {},
     "output_type": "execute_result"
    }
   ],
   "source": [
    "parse('2011-01-03')"
   ]
  },
  {
   "cell_type": "code",
   "execution_count": 117,
   "metadata": {
    "ExecuteTime": {
     "end_time": "2018-05-30T08:59:47.518415Z",
     "start_time": "2018-05-30T08:59:47.515415Z"
    }
   },
   "outputs": [
    {
     "data": {
      "text/plain": [
       "datetime.datetime(1997, 1, 31, 22, 45)"
      ]
     },
     "execution_count": 117,
     "metadata": {},
     "output_type": "execute_result"
    }
   ],
   "source": [
    "parse('Jan 31, 1997 10:45 PM')"
   ]
  },
  {
   "cell_type": "markdown",
   "metadata": {},
   "source": [
    "### dayfirst = True"
   ]
  },
  {
   "cell_type": "code",
   "execution_count": 122,
   "metadata": {
    "ExecuteTime": {
     "end_time": "2018-05-30T09:00:48.343651Z",
     "start_time": "2018-05-30T09:00:48.339662Z"
    }
   },
   "outputs": [
    {
     "data": {
      "text/plain": [
       "datetime.datetime(2011, 12, 6, 0, 0)"
      ]
     },
     "execution_count": 122,
     "metadata": {},
     "output_type": "execute_result"
    }
   ],
   "source": [
    "parse('6/12/2011',dayfirst = True)"
   ]
  },
  {
   "cell_type": "markdown",
   "metadata": {},
   "source": [
    "### to_datetime"
   ]
  },
  {
   "cell_type": "code",
   "execution_count": 119,
   "metadata": {
    "ExecuteTime": {
     "end_time": "2018-05-30T09:00:07.815271Z",
     "start_time": "2018-05-30T09:00:07.812256Z"
    }
   },
   "outputs": [
    {
     "data": {
      "text/plain": [
       "['7/6/2011', '8/6/2011']"
      ]
     },
     "execution_count": 119,
     "metadata": {},
     "output_type": "execute_result"
    }
   ],
   "source": [
    "datestrs"
   ]
  },
  {
   "cell_type": "code",
   "execution_count": 120,
   "metadata": {
    "ExecuteTime": {
     "end_time": "2018-05-30T09:00:08.529288Z",
     "start_time": "2018-05-30T09:00:08.524301Z"
    }
   },
   "outputs": [
    {
     "data": {
      "text/plain": [
       "DatetimeIndex(['2011-07-06', '2011-08-06'], dtype='datetime64[ns]', freq=None)"
      ]
     },
     "execution_count": 120,
     "metadata": {},
     "output_type": "execute_result"
    }
   ],
   "source": [
    "pd.to_datetime(datestrs)"
   ]
  },
  {
   "cell_type": "markdown",
   "metadata": {},
   "source": [
    "### 处理缺失值"
   ]
  },
  {
   "cell_type": "code",
   "execution_count": 123,
   "metadata": {
    "ExecuteTime": {
     "end_time": "2018-05-30T09:01:01.624085Z",
     "start_time": "2018-05-30T09:01:01.619098Z"
    }
   },
   "outputs": [
    {
     "data": {
      "text/plain": [
       "DatetimeIndex(['2011-07-06', '2011-08-06', 'NaT'], dtype='datetime64[ns]', freq=None)"
      ]
     },
     "execution_count": 123,
     "metadata": {},
     "output_type": "execute_result"
    }
   ],
   "source": [
    "idx = pd.to_datetime(datestrs + [None])\n",
    "idx"
   ]
  },
  {
   "cell_type": "code",
   "execution_count": 124,
   "metadata": {
    "ExecuteTime": {
     "end_time": "2018-05-30T09:01:09.255573Z",
     "start_time": "2018-05-30T09:01:09.251586Z"
    }
   },
   "outputs": [
    {
     "data": {
      "text/plain": [
       "NaT"
      ]
     },
     "execution_count": 124,
     "metadata": {},
     "output_type": "execute_result"
    }
   ],
   "source": [
    "idx[2] #NaT(not a time)是pandas中时间戳数据的NA值"
   ]
  },
  {
   "cell_type": "code",
   "execution_count": 125,
   "metadata": {
    "ExecuteTime": {
     "end_time": "2018-05-30T09:01:09.647733Z",
     "start_time": "2018-05-30T09:01:09.643743Z"
    }
   },
   "outputs": [
    {
     "data": {
      "text/plain": [
       "array([False, False,  True], dtype=bool)"
      ]
     },
     "execution_count": 125,
     "metadata": {},
     "output_type": "execute_result"
    }
   ],
   "source": [
    "pd.isnull(idx)"
   ]
  },
  {
   "cell_type": "markdown",
   "metadata": {},
   "source": [
    "# 时间序列基础"
   ]
  },
  {
   "cell_type": "code",
   "execution_count": 126,
   "metadata": {
    "ExecuteTime": {
     "end_time": "2018-05-30T09:01:20.498343Z",
     "start_time": "2018-05-30T09:01:20.493357Z"
    }
   },
   "outputs": [
    {
     "data": {
      "text/plain": [
       "[datetime.datetime(2011, 1, 2, 0, 0),\n",
       " datetime.datetime(2011, 1, 5, 0, 0),\n",
       " datetime.datetime(2011, 1, 7, 0, 0),\n",
       " datetime.datetime(2011, 1, 8, 0, 0),\n",
       " datetime.datetime(2011, 1, 10, 0, 0),\n",
       " datetime.datetime(2011, 1, 12, 0, 0)]"
      ]
     },
     "execution_count": 126,
     "metadata": {},
     "output_type": "execute_result"
    }
   ],
   "source": [
    "dates = [datetime(2011,1,2),datetime(2011,1,5),datetime(2011,1,7),\n",
    "        datetime(2011,1,8),datetime(2011,1,10),datetime(2011,1,12)]\n",
    "dates"
   ]
  },
  {
   "cell_type": "code",
   "execution_count": 127,
   "metadata": {
    "ExecuteTime": {
     "end_time": "2018-05-30T09:01:33.953474Z",
     "start_time": "2018-05-30T09:01:33.938507Z"
    }
   },
   "outputs": [
    {
     "data": {
      "text/plain": [
       "2011-01-02    1.010280\n",
       "2011-01-05   -1.346911\n",
       "2011-01-07    0.897244\n",
       "2011-01-08   -1.101381\n",
       "2011-01-10   -1.088600\n",
       "2011-01-12   -0.772412\n",
       "dtype: float64"
      ]
     },
     "execution_count": 127,
     "metadata": {},
     "output_type": "execute_result"
    }
   ],
   "source": [
    "ts = Series(np.random.randn(6),index = dates)\n",
    "ts   #ts就变成了一个TimeSeries了"
   ]
  },
  {
   "cell_type": "code",
   "execution_count": 129,
   "metadata": {
    "ExecuteTime": {
     "end_time": "2018-05-30T09:02:37.401637Z",
     "start_time": "2018-05-30T09:02:37.387645Z"
    }
   },
   "outputs": [
    {
     "data": {
      "text/plain": [
       "2011-01-02    2.020561\n",
       "2011-01-05         NaN\n",
       "2011-01-07    1.794489\n",
       "2011-01-08         NaN\n",
       "2011-01-10   -2.177200\n",
       "2011-01-12         NaN\n",
       "dtype: float64"
      ]
     },
     "execution_count": 129,
     "metadata": {},
     "output_type": "execute_result"
    }
   ],
   "source": [
    "ts + ts[::2]"
   ]
  },
  {
   "cell_type": "code",
   "execution_count": null,
   "metadata": {},
   "outputs": [],
   "source": [
    "#pandas用Numpy的datetime64数据类型以纳秒形式存储时间戳"
   ]
  },
  {
   "cell_type": "code",
   "execution_count": 130,
   "metadata": {
    "ExecuteTime": {
     "end_time": "2018-05-30T09:02:46.184966Z",
     "start_time": "2018-05-30T09:02:46.180977Z"
    }
   },
   "outputs": [
    {
     "data": {
      "text/plain": [
       "dtype('<M8[ns]')"
      ]
     },
     "execution_count": 130,
     "metadata": {},
     "output_type": "execute_result"
    }
   ],
   "source": [
    "ts.index.dtype"
   ]
  },
  {
   "cell_type": "code",
   "execution_count": 133,
   "metadata": {
    "ExecuteTime": {
     "end_time": "2018-05-30T09:02:58.075116Z",
     "start_time": "2018-05-30T09:02:58.070162Z"
    }
   },
   "outputs": [
    {
     "data": {
      "text/plain": [
       "Timestamp('2011-01-02 00:00:00')"
      ]
     },
     "execution_count": 133,
     "metadata": {},
     "output_type": "execute_result"
    }
   ],
   "source": [
    "stamp = ts.index[0]\n",
    "stamp"
   ]
  },
  {
   "cell_type": "markdown",
   "metadata": {},
   "source": [
    "# 索引、选取、子集构造"
   ]
  },
  {
   "cell_type": "code",
   "execution_count": 134,
   "metadata": {
    "ExecuteTime": {
     "end_time": "2018-05-30T09:03:12.559798Z",
     "start_time": "2018-05-30T09:03:12.546836Z"
    }
   },
   "outputs": [
    {
     "data": {
      "text/plain": [
       "2011-01-02    1.010280\n",
       "2011-01-05   -1.346911\n",
       "2011-01-07    0.897244\n",
       "2011-01-08   -1.101381\n",
       "2011-01-10   -1.088600\n",
       "2011-01-12   -0.772412\n",
       "dtype: float64"
      ]
     },
     "execution_count": 134,
     "metadata": {},
     "output_type": "execute_result"
    }
   ],
   "source": [
    "ts"
   ]
  },
  {
   "cell_type": "markdown",
   "metadata": {},
   "source": [
    "## 数据索引"
   ]
  },
  {
   "cell_type": "code",
   "execution_count": 135,
   "metadata": {
    "ExecuteTime": {
     "end_time": "2018-05-30T09:03:22.759783Z",
     "start_time": "2018-05-30T09:03:22.755794Z"
    }
   },
   "outputs": [
    {
     "data": {
      "text/plain": [
       "0.89724445392747554"
      ]
     },
     "execution_count": 135,
     "metadata": {},
     "output_type": "execute_result"
    }
   ],
   "source": [
    "stamp = ts.index[2]\n",
    "ts[stamp]"
   ]
  },
  {
   "cell_type": "code",
   "execution_count": 136,
   "metadata": {
    "ExecuteTime": {
     "end_time": "2018-05-30T09:03:23.158924Z",
     "start_time": "2018-05-30T09:03:23.154909Z"
    }
   },
   "outputs": [
    {
     "data": {
      "text/plain": [
       "-1.088599889389624"
      ]
     },
     "execution_count": 136,
     "metadata": {},
     "output_type": "execute_result"
    }
   ],
   "source": [
    "ts['1/10/2011']"
   ]
  },
  {
   "cell_type": "code",
   "execution_count": 137,
   "metadata": {
    "ExecuteTime": {
     "end_time": "2018-05-30T09:03:23.593811Z",
     "start_time": "2018-05-30T09:03:23.588825Z"
    }
   },
   "outputs": [
    {
     "data": {
      "text/plain": [
       "-1.088599889389624"
      ]
     },
     "execution_count": 137,
     "metadata": {},
     "output_type": "execute_result"
    }
   ],
   "source": [
    "ts['20110110']"
   ]
  },
  {
   "cell_type": "markdown",
   "metadata": {},
   "source": [
    "## 数据切片"
   ]
  },
  {
   "cell_type": "code",
   "execution_count": 138,
   "metadata": {
    "ExecuteTime": {
     "end_time": "2018-05-30T09:03:31.778691Z",
     "start_time": "2018-05-30T09:03:31.762707Z"
    }
   },
   "outputs": [
    {
     "data": {
      "text/plain": [
       "2000-01-01    0.794262\n",
       "2000-01-02   -0.604685\n",
       "2000-01-03    0.215134\n",
       "2000-01-04    0.737016\n",
       "2000-01-05   -2.328088\n",
       "2000-01-06    1.385121\n",
       "2000-01-07    2.253525\n",
       "2000-01-08    0.629555\n",
       "2000-01-09   -1.066542\n",
       "2000-01-10   -0.182923\n",
       "2000-01-11    0.847798\n",
       "2000-01-12   -0.564487\n",
       "2000-01-13   -0.293050\n",
       "2000-01-14    0.465107\n",
       "2000-01-15    0.364380\n",
       "2000-01-16    0.532751\n",
       "2000-01-17    1.029708\n",
       "2000-01-18   -0.536929\n",
       "2000-01-19   -0.031914\n",
       "2000-01-20    0.621849\n",
       "2000-01-21   -0.802742\n",
       "2000-01-22    0.098112\n",
       "2000-01-23    0.334317\n",
       "2000-01-24    0.231633\n",
       "2000-01-25   -1.509906\n",
       "2000-01-26    0.164808\n",
       "2000-01-27   -1.090271\n",
       "2000-01-28   -0.544581\n",
       "2000-01-29    0.821682\n",
       "2000-01-30   -0.834326\n",
       "                ...   \n",
       "2002-08-28    0.915462\n",
       "2002-08-29   -0.469665\n",
       "2002-08-30    0.971101\n",
       "2002-08-31   -0.123663\n",
       "2002-09-01    1.054634\n",
       "2002-09-02    1.567873\n",
       "2002-09-03   -1.256964\n",
       "2002-09-04   -0.227342\n",
       "2002-09-05    1.715745\n",
       "2002-09-06   -0.316304\n",
       "2002-09-07    0.973518\n",
       "2002-09-08    0.013857\n",
       "2002-09-09   -0.123380\n",
       "2002-09-10    0.777351\n",
       "2002-09-11    0.770262\n",
       "2002-09-12   -0.230078\n",
       "2002-09-13    0.155277\n",
       "2002-09-14   -0.448565\n",
       "2002-09-15    2.055634\n",
       "2002-09-16   -1.633734\n",
       "2002-09-17   -0.792524\n",
       "2002-09-18   -1.010474\n",
       "2002-09-19   -1.350456\n",
       "2002-09-20   -0.994025\n",
       "2002-09-21    1.347293\n",
       "2002-09-22   -0.732804\n",
       "2002-09-23   -0.258987\n",
       "2002-09-24    1.588813\n",
       "2002-09-25    0.865631\n",
       "2002-09-26    0.625625\n",
       "Freq: D, Length: 1000, dtype: float64"
      ]
     },
     "execution_count": 138,
     "metadata": {},
     "output_type": "execute_result"
    }
   ],
   "source": [
    "longer_ts = Series(np.random.randn(1000),index = pd.date_range('1/1/2000',periods = 1000))  #1000days\n",
    "longer_ts"
   ]
  },
  {
   "cell_type": "code",
   "execution_count": 139,
   "metadata": {
    "ExecuteTime": {
     "end_time": "2018-05-30T09:03:37.074313Z",
     "start_time": "2018-05-30T09:03:37.059353Z"
    }
   },
   "outputs": [
    {
     "data": {
      "text/plain": [
       "2001-01-01   -0.936508\n",
       "2001-01-02   -1.212426\n",
       "2001-01-03    0.407243\n",
       "2001-01-04    0.222173\n",
       "2001-01-05    0.705255\n",
       "2001-01-06    0.533705\n",
       "2001-01-07   -0.271035\n",
       "2001-01-08    1.010877\n",
       "2001-01-09   -1.007625\n",
       "2001-01-10   -0.059173\n",
       "2001-01-11   -1.643034\n",
       "2001-01-12    0.546990\n",
       "2001-01-13    0.413876\n",
       "2001-01-14   -0.561846\n",
       "2001-01-15    0.131112\n",
       "2001-01-16   -0.113195\n",
       "2001-01-17   -2.152430\n",
       "2001-01-18   -0.825520\n",
       "2001-01-19    0.617260\n",
       "2001-01-20   -1.251264\n",
       "2001-01-21   -1.211746\n",
       "2001-01-22   -0.485480\n",
       "2001-01-23    0.174256\n",
       "2001-01-24    0.007197\n",
       "2001-01-25   -1.792217\n",
       "2001-01-26    2.066472\n",
       "2001-01-27    0.116981\n",
       "2001-01-28    1.441366\n",
       "2001-01-29   -0.316217\n",
       "2001-01-30   -0.254210\n",
       "                ...   \n",
       "2001-12-02   -0.312558\n",
       "2001-12-03   -0.773886\n",
       "2001-12-04   -0.862418\n",
       "2001-12-05   -0.387320\n",
       "2001-12-06   -0.658100\n",
       "2001-12-07    1.498470\n",
       "2001-12-08   -0.058024\n",
       "2001-12-09    0.269673\n",
       "2001-12-10    0.040084\n",
       "2001-12-11   -0.694445\n",
       "2001-12-12    1.477408\n",
       "2001-12-13   -1.980331\n",
       "2001-12-14   -0.960041\n",
       "2001-12-15   -0.552732\n",
       "2001-12-16   -0.052552\n",
       "2001-12-17   -0.278589\n",
       "2001-12-18    0.259154\n",
       "2001-12-19   -1.271107\n",
       "2001-12-20   -0.213895\n",
       "2001-12-21    0.104586\n",
       "2001-12-22    1.038613\n",
       "2001-12-23    0.206103\n",
       "2001-12-24   -1.930712\n",
       "2001-12-25    0.573305\n",
       "2001-12-26   -4.314636\n",
       "2001-12-27   -0.661559\n",
       "2001-12-28    0.069150\n",
       "2001-12-29   -0.207827\n",
       "2001-12-30   -0.758889\n",
       "2001-12-31    1.348875\n",
       "Freq: D, Length: 365, dtype: float64"
      ]
     },
     "execution_count": 139,
     "metadata": {},
     "output_type": "execute_result"
    }
   ],
   "source": [
    "longer_ts['2001']"
   ]
  },
  {
   "cell_type": "code",
   "execution_count": 140,
   "metadata": {
    "ExecuteTime": {
     "end_time": "2018-05-30T09:03:46.649428Z",
     "start_time": "2018-05-30T09:03:46.635495Z"
    }
   },
   "outputs": [
    {
     "data": {
      "text/plain": [
       "2011-01-07    0.897244\n",
       "2011-01-08   -1.101381\n",
       "2011-01-10   -1.088600\n",
       "2011-01-12   -0.772412\n",
       "dtype: float64"
      ]
     },
     "execution_count": 140,
     "metadata": {},
     "output_type": "execute_result"
    }
   ],
   "source": [
    "ts[datetime(2011,1,7):]"
   ]
  },
  {
   "cell_type": "code",
   "execution_count": 141,
   "metadata": {
    "ExecuteTime": {
     "end_time": "2018-05-30T09:03:53.130226Z",
     "start_time": "2018-05-30T09:03:53.115267Z"
    }
   },
   "outputs": [
    {
     "data": {
      "text/plain": [
       "2011-01-07    0.897244\n",
       "2011-01-08   -1.101381\n",
       "2011-01-10   -1.088600\n",
       "dtype: float64"
      ]
     },
     "execution_count": 141,
     "metadata": {},
     "output_type": "execute_result"
    }
   ],
   "source": [
    "ts['1/6/2011':'1/11/2011']"
   ]
  },
  {
   "cell_type": "markdown",
   "metadata": {},
   "source": [
    "## truncate"
   ]
  },
  {
   "cell_type": "code",
   "execution_count": 142,
   "metadata": {
    "ExecuteTime": {
     "end_time": "2018-05-30T09:04:06.816991Z",
     "start_time": "2018-05-30T09:04:06.803000Z"
    }
   },
   "outputs": [
    {
     "data": {
      "text/plain": [
       "2011-01-02    1.010280\n",
       "2011-01-05   -1.346911\n",
       "2011-01-07    0.897244\n",
       "2011-01-08   -1.101381\n",
       "dtype: float64"
      ]
     },
     "execution_count": 142,
     "metadata": {},
     "output_type": "execute_result"
    }
   ],
   "source": [
    "ts.truncate(after = '1/9/2011')"
   ]
  },
  {
   "cell_type": "markdown",
   "metadata": {},
   "source": [
    "## 对dataframe有效"
   ]
  },
  {
   "cell_type": "code",
   "execution_count": 143,
   "metadata": {
    "ExecuteTime": {
     "end_time": "2018-05-30T09:06:07.198773Z",
     "start_time": "2018-05-30T09:06:07.188798Z"
    }
   },
   "outputs": [
    {
     "data": {
      "text/plain": [
       "DatetimeIndex(['2000-01-05', '2000-01-12', '2000-01-19', '2000-01-26',\n",
       "               '2000-02-02', '2000-02-09', '2000-02-16', '2000-02-23',\n",
       "               '2000-03-01', '2000-03-08', '2000-03-15', '2000-03-22',\n",
       "               '2000-03-29', '2000-04-05', '2000-04-12', '2000-04-19',\n",
       "               '2000-04-26', '2000-05-03', '2000-05-10', '2000-05-17',\n",
       "               '2000-05-24', '2000-05-31', '2000-06-07', '2000-06-14',\n",
       "               '2000-06-21', '2000-06-28', '2000-07-05', '2000-07-12',\n",
       "               '2000-07-19', '2000-07-26', '2000-08-02', '2000-08-09',\n",
       "               '2000-08-16', '2000-08-23', '2000-08-30', '2000-09-06',\n",
       "               '2000-09-13', '2000-09-20', '2000-09-27', '2000-10-04',\n",
       "               '2000-10-11', '2000-10-18', '2000-10-25', '2000-11-01',\n",
       "               '2000-11-08', '2000-11-15', '2000-11-22', '2000-11-29',\n",
       "               '2000-12-06', '2000-12-13', '2000-12-20', '2000-12-27',\n",
       "               '2001-01-03', '2001-01-10', '2001-01-17', '2001-01-24',\n",
       "               '2001-01-31', '2001-02-07', '2001-02-14', '2001-02-21',\n",
       "               '2001-02-28', '2001-03-07', '2001-03-14', '2001-03-21',\n",
       "               '2001-03-28', '2001-04-04', '2001-04-11', '2001-04-18',\n",
       "               '2001-04-25', '2001-05-02', '2001-05-09', '2001-05-16',\n",
       "               '2001-05-23', '2001-05-30', '2001-06-06', '2001-06-13',\n",
       "               '2001-06-20', '2001-06-27', '2001-07-04', '2001-07-11',\n",
       "               '2001-07-18', '2001-07-25', '2001-08-01', '2001-08-08',\n",
       "               '2001-08-15', '2001-08-22', '2001-08-29', '2001-09-05',\n",
       "               '2001-09-12', '2001-09-19', '2001-09-26', '2001-10-03',\n",
       "               '2001-10-10', '2001-10-17', '2001-10-24', '2001-10-31',\n",
       "               '2001-11-07', '2001-11-14', '2001-11-21', '2001-11-28'],\n",
       "              dtype='datetime64[ns]', freq='W-WED')"
      ]
     },
     "execution_count": 143,
     "metadata": {},
     "output_type": "execute_result"
    }
   ],
   "source": [
    "dates = pd.date_range('1/1/2000',periods = 100, freq = 'W-WED')\n",
    "dates"
   ]
  },
  {
   "cell_type": "code",
   "execution_count": 144,
   "metadata": {
    "ExecuteTime": {
     "end_time": "2018-05-30T09:06:21.844061Z",
     "start_time": "2018-05-30T09:06:21.827100Z"
    }
   },
   "outputs": [
    {
     "data": {
      "text/html": [
       "<div>\n",
       "<style scoped>\n",
       "    .dataframe tbody tr th:only-of-type {\n",
       "        vertical-align: middle;\n",
       "    }\n",
       "\n",
       "    .dataframe tbody tr th {\n",
       "        vertical-align: top;\n",
       "    }\n",
       "\n",
       "    .dataframe thead th {\n",
       "        text-align: right;\n",
       "    }\n",
       "</style>\n",
       "<table border=\"1\" class=\"dataframe\">\n",
       "  <thead>\n",
       "    <tr style=\"text-align: right;\">\n",
       "      <th></th>\n",
       "      <th>Colorado</th>\n",
       "      <th>Texas</th>\n",
       "      <th>New York</th>\n",
       "      <th>Ohio</th>\n",
       "    </tr>\n",
       "  </thead>\n",
       "  <tbody>\n",
       "    <tr>\n",
       "      <th>2000-01-05</th>\n",
       "      <td>0.869380</td>\n",
       "      <td>1.776743</td>\n",
       "      <td>0.897022</td>\n",
       "      <td>0.217430</td>\n",
       "    </tr>\n",
       "    <tr>\n",
       "      <th>2000-01-12</th>\n",
       "      <td>0.424569</td>\n",
       "      <td>0.969125</td>\n",
       "      <td>-0.545287</td>\n",
       "      <td>0.672040</td>\n",
       "    </tr>\n",
       "    <tr>\n",
       "      <th>2000-01-19</th>\n",
       "      <td>-0.820177</td>\n",
       "      <td>2.787700</td>\n",
       "      <td>-1.246517</td>\n",
       "      <td>0.239366</td>\n",
       "    </tr>\n",
       "    <tr>\n",
       "      <th>2000-01-26</th>\n",
       "      <td>0.573652</td>\n",
       "      <td>0.206010</td>\n",
       "      <td>1.909127</td>\n",
       "      <td>0.161647</td>\n",
       "    </tr>\n",
       "    <tr>\n",
       "      <th>2000-02-02</th>\n",
       "      <td>-1.512479</td>\n",
       "      <td>-1.252114</td>\n",
       "      <td>-0.975916</td>\n",
       "      <td>1.184940</td>\n",
       "    </tr>\n",
       "    <tr>\n",
       "      <th>2000-02-09</th>\n",
       "      <td>-0.826200</td>\n",
       "      <td>0.606439</td>\n",
       "      <td>-0.351658</td>\n",
       "      <td>-0.405876</td>\n",
       "    </tr>\n",
       "    <tr>\n",
       "      <th>2000-02-16</th>\n",
       "      <td>-0.073725</td>\n",
       "      <td>0.378664</td>\n",
       "      <td>0.823275</td>\n",
       "      <td>-0.589091</td>\n",
       "    </tr>\n",
       "    <tr>\n",
       "      <th>2000-02-23</th>\n",
       "      <td>-0.006472</td>\n",
       "      <td>0.627340</td>\n",
       "      <td>-2.113636</td>\n",
       "      <td>-0.772990</td>\n",
       "    </tr>\n",
       "    <tr>\n",
       "      <th>2000-03-01</th>\n",
       "      <td>-0.659447</td>\n",
       "      <td>-0.208751</td>\n",
       "      <td>0.972212</td>\n",
       "      <td>1.183451</td>\n",
       "    </tr>\n",
       "    <tr>\n",
       "      <th>2000-03-08</th>\n",
       "      <td>-1.231874</td>\n",
       "      <td>0.599023</td>\n",
       "      <td>-1.399217</td>\n",
       "      <td>0.080979</td>\n",
       "    </tr>\n",
       "    <tr>\n",
       "      <th>2000-03-15</th>\n",
       "      <td>-0.304310</td>\n",
       "      <td>-0.239473</td>\n",
       "      <td>0.591308</td>\n",
       "      <td>-0.014017</td>\n",
       "    </tr>\n",
       "    <tr>\n",
       "      <th>2000-03-22</th>\n",
       "      <td>2.235992</td>\n",
       "      <td>0.242541</td>\n",
       "      <td>-1.041180</td>\n",
       "      <td>0.538229</td>\n",
       "    </tr>\n",
       "    <tr>\n",
       "      <th>2000-03-29</th>\n",
       "      <td>-1.496927</td>\n",
       "      <td>-0.197588</td>\n",
       "      <td>-1.768863</td>\n",
       "      <td>-0.841929</td>\n",
       "    </tr>\n",
       "    <tr>\n",
       "      <th>2000-04-05</th>\n",
       "      <td>-0.911803</td>\n",
       "      <td>1.171638</td>\n",
       "      <td>-0.753168</td>\n",
       "      <td>0.187095</td>\n",
       "    </tr>\n",
       "    <tr>\n",
       "      <th>2000-04-12</th>\n",
       "      <td>0.033120</td>\n",
       "      <td>-0.563600</td>\n",
       "      <td>-0.276421</td>\n",
       "      <td>1.635490</td>\n",
       "    </tr>\n",
       "    <tr>\n",
       "      <th>2000-04-19</th>\n",
       "      <td>0.253067</td>\n",
       "      <td>-0.845030</td>\n",
       "      <td>0.970487</td>\n",
       "      <td>-1.939668</td>\n",
       "    </tr>\n",
       "    <tr>\n",
       "      <th>2000-04-26</th>\n",
       "      <td>-0.822006</td>\n",
       "      <td>0.536323</td>\n",
       "      <td>0.375326</td>\n",
       "      <td>0.448225</td>\n",
       "    </tr>\n",
       "    <tr>\n",
       "      <th>2000-05-03</th>\n",
       "      <td>-0.420386</td>\n",
       "      <td>0.594610</td>\n",
       "      <td>0.965241</td>\n",
       "      <td>-0.287269</td>\n",
       "    </tr>\n",
       "    <tr>\n",
       "      <th>2000-05-10</th>\n",
       "      <td>1.332682</td>\n",
       "      <td>-1.071094</td>\n",
       "      <td>0.075970</td>\n",
       "      <td>-1.777591</td>\n",
       "    </tr>\n",
       "    <tr>\n",
       "      <th>2000-05-17</th>\n",
       "      <td>0.470481</td>\n",
       "      <td>-0.668618</td>\n",
       "      <td>-1.165606</td>\n",
       "      <td>-1.662534</td>\n",
       "    </tr>\n",
       "    <tr>\n",
       "      <th>2000-05-24</th>\n",
       "      <td>1.273783</td>\n",
       "      <td>-1.008453</td>\n",
       "      <td>-1.625782</td>\n",
       "      <td>-1.789667</td>\n",
       "    </tr>\n",
       "    <tr>\n",
       "      <th>2000-05-31</th>\n",
       "      <td>-0.386990</td>\n",
       "      <td>0.074552</td>\n",
       "      <td>1.547084</td>\n",
       "      <td>-1.449276</td>\n",
       "    </tr>\n",
       "    <tr>\n",
       "      <th>2000-06-07</th>\n",
       "      <td>-0.449133</td>\n",
       "      <td>-0.293092</td>\n",
       "      <td>0.882539</td>\n",
       "      <td>-0.445260</td>\n",
       "    </tr>\n",
       "    <tr>\n",
       "      <th>2000-06-14</th>\n",
       "      <td>-0.912434</td>\n",
       "      <td>0.377965</td>\n",
       "      <td>-1.068561</td>\n",
       "      <td>-1.754019</td>\n",
       "    </tr>\n",
       "    <tr>\n",
       "      <th>2000-06-21</th>\n",
       "      <td>0.049914</td>\n",
       "      <td>0.059000</td>\n",
       "      <td>-0.964297</td>\n",
       "      <td>0.420883</td>\n",
       "    </tr>\n",
       "    <tr>\n",
       "      <th>2000-06-28</th>\n",
       "      <td>0.516076</td>\n",
       "      <td>-0.354456</td>\n",
       "      <td>1.451875</td>\n",
       "      <td>-1.138082</td>\n",
       "    </tr>\n",
       "    <tr>\n",
       "      <th>2000-07-05</th>\n",
       "      <td>1.408907</td>\n",
       "      <td>-0.214990</td>\n",
       "      <td>0.602272</td>\n",
       "      <td>-1.002592</td>\n",
       "    </tr>\n",
       "    <tr>\n",
       "      <th>2000-07-12</th>\n",
       "      <td>-1.499002</td>\n",
       "      <td>0.460974</td>\n",
       "      <td>0.519318</td>\n",
       "      <td>-0.662825</td>\n",
       "    </tr>\n",
       "    <tr>\n",
       "      <th>2000-07-19</th>\n",
       "      <td>0.678427</td>\n",
       "      <td>-0.014618</td>\n",
       "      <td>-1.095714</td>\n",
       "      <td>3.260539</td>\n",
       "    </tr>\n",
       "    <tr>\n",
       "      <th>2000-07-26</th>\n",
       "      <td>0.082556</td>\n",
       "      <td>3.190305</td>\n",
       "      <td>-1.378838</td>\n",
       "      <td>-0.183131</td>\n",
       "    </tr>\n",
       "    <tr>\n",
       "      <th>...</th>\n",
       "      <td>...</td>\n",
       "      <td>...</td>\n",
       "      <td>...</td>\n",
       "      <td>...</td>\n",
       "    </tr>\n",
       "    <tr>\n",
       "      <th>2001-05-09</th>\n",
       "      <td>-1.687342</td>\n",
       "      <td>-0.663028</td>\n",
       "      <td>0.736701</td>\n",
       "      <td>0.062205</td>\n",
       "    </tr>\n",
       "    <tr>\n",
       "      <th>2001-05-16</th>\n",
       "      <td>1.749811</td>\n",
       "      <td>0.551170</td>\n",
       "      <td>-2.037761</td>\n",
       "      <td>-1.306223</td>\n",
       "    </tr>\n",
       "    <tr>\n",
       "      <th>2001-05-23</th>\n",
       "      <td>0.931114</td>\n",
       "      <td>0.372787</td>\n",
       "      <td>-0.131295</td>\n",
       "      <td>-0.376007</td>\n",
       "    </tr>\n",
       "    <tr>\n",
       "      <th>2001-05-30</th>\n",
       "      <td>0.428240</td>\n",
       "      <td>0.244450</td>\n",
       "      <td>0.331762</td>\n",
       "      <td>-0.895130</td>\n",
       "    </tr>\n",
       "    <tr>\n",
       "      <th>2001-06-06</th>\n",
       "      <td>0.065259</td>\n",
       "      <td>0.087481</td>\n",
       "      <td>-1.084939</td>\n",
       "      <td>-0.795764</td>\n",
       "    </tr>\n",
       "    <tr>\n",
       "      <th>2001-06-13</th>\n",
       "      <td>0.471920</td>\n",
       "      <td>1.136075</td>\n",
       "      <td>0.991470</td>\n",
       "      <td>0.288679</td>\n",
       "    </tr>\n",
       "    <tr>\n",
       "      <th>2001-06-20</th>\n",
       "      <td>0.085487</td>\n",
       "      <td>-0.813153</td>\n",
       "      <td>0.099141</td>\n",
       "      <td>0.323776</td>\n",
       "    </tr>\n",
       "    <tr>\n",
       "      <th>2001-06-27</th>\n",
       "      <td>-1.134508</td>\n",
       "      <td>-0.833017</td>\n",
       "      <td>1.052082</td>\n",
       "      <td>0.931750</td>\n",
       "    </tr>\n",
       "    <tr>\n",
       "      <th>2001-07-04</th>\n",
       "      <td>1.065170</td>\n",
       "      <td>-1.446595</td>\n",
       "      <td>-0.885742</td>\n",
       "      <td>-0.238155</td>\n",
       "    </tr>\n",
       "    <tr>\n",
       "      <th>2001-07-11</th>\n",
       "      <td>-0.263265</td>\n",
       "      <td>-0.580365</td>\n",
       "      <td>0.773733</td>\n",
       "      <td>-0.794439</td>\n",
       "    </tr>\n",
       "    <tr>\n",
       "      <th>2001-07-18</th>\n",
       "      <td>-1.037319</td>\n",
       "      <td>-1.436719</td>\n",
       "      <td>0.081401</td>\n",
       "      <td>1.166852</td>\n",
       "    </tr>\n",
       "    <tr>\n",
       "      <th>2001-07-25</th>\n",
       "      <td>-0.602385</td>\n",
       "      <td>2.357613</td>\n",
       "      <td>0.167090</td>\n",
       "      <td>1.067138</td>\n",
       "    </tr>\n",
       "    <tr>\n",
       "      <th>2001-08-01</th>\n",
       "      <td>-0.241572</td>\n",
       "      <td>0.013023</td>\n",
       "      <td>-1.008549</td>\n",
       "      <td>-1.739917</td>\n",
       "    </tr>\n",
       "    <tr>\n",
       "      <th>2001-08-08</th>\n",
       "      <td>1.416844</td>\n",
       "      <td>-0.976812</td>\n",
       "      <td>-2.498353</td>\n",
       "      <td>-0.007930</td>\n",
       "    </tr>\n",
       "    <tr>\n",
       "      <th>2001-08-15</th>\n",
       "      <td>-2.815639</td>\n",
       "      <td>-0.133541</td>\n",
       "      <td>-0.796100</td>\n",
       "      <td>-0.005601</td>\n",
       "    </tr>\n",
       "    <tr>\n",
       "      <th>2001-08-22</th>\n",
       "      <td>0.532231</td>\n",
       "      <td>-1.911610</td>\n",
       "      <td>-0.020213</td>\n",
       "      <td>-1.000856</td>\n",
       "    </tr>\n",
       "    <tr>\n",
       "      <th>2001-08-29</th>\n",
       "      <td>1.244654</td>\n",
       "      <td>-0.628546</td>\n",
       "      <td>0.333952</td>\n",
       "      <td>0.692221</td>\n",
       "    </tr>\n",
       "    <tr>\n",
       "      <th>2001-09-05</th>\n",
       "      <td>1.200321</td>\n",
       "      <td>-0.341337</td>\n",
       "      <td>0.386751</td>\n",
       "      <td>-1.835964</td>\n",
       "    </tr>\n",
       "    <tr>\n",
       "      <th>2001-09-12</th>\n",
       "      <td>-0.523837</td>\n",
       "      <td>-0.559470</td>\n",
       "      <td>-0.492440</td>\n",
       "      <td>-0.710386</td>\n",
       "    </tr>\n",
       "    <tr>\n",
       "      <th>2001-09-19</th>\n",
       "      <td>-1.151005</td>\n",
       "      <td>0.792255</td>\n",
       "      <td>0.553397</td>\n",
       "      <td>-0.954216</td>\n",
       "    </tr>\n",
       "    <tr>\n",
       "      <th>2001-09-26</th>\n",
       "      <td>-1.289766</td>\n",
       "      <td>-0.831388</td>\n",
       "      <td>0.673609</td>\n",
       "      <td>-0.241281</td>\n",
       "    </tr>\n",
       "    <tr>\n",
       "      <th>2001-10-03</th>\n",
       "      <td>1.146504</td>\n",
       "      <td>-1.841369</td>\n",
       "      <td>0.357524</td>\n",
       "      <td>1.212642</td>\n",
       "    </tr>\n",
       "    <tr>\n",
       "      <th>2001-10-10</th>\n",
       "      <td>-0.898400</td>\n",
       "      <td>-0.444725</td>\n",
       "      <td>2.248737</td>\n",
       "      <td>0.374662</td>\n",
       "    </tr>\n",
       "    <tr>\n",
       "      <th>2001-10-17</th>\n",
       "      <td>-1.053573</td>\n",
       "      <td>-0.077415</td>\n",
       "      <td>-0.459476</td>\n",
       "      <td>1.944137</td>\n",
       "    </tr>\n",
       "    <tr>\n",
       "      <th>2001-10-24</th>\n",
       "      <td>-1.007925</td>\n",
       "      <td>0.207917</td>\n",
       "      <td>0.450350</td>\n",
       "      <td>-1.103651</td>\n",
       "    </tr>\n",
       "    <tr>\n",
       "      <th>2001-10-31</th>\n",
       "      <td>-0.843844</td>\n",
       "      <td>-0.907964</td>\n",
       "      <td>0.325636</td>\n",
       "      <td>-0.262343</td>\n",
       "    </tr>\n",
       "    <tr>\n",
       "      <th>2001-11-07</th>\n",
       "      <td>1.028535</td>\n",
       "      <td>-0.934539</td>\n",
       "      <td>-1.914434</td>\n",
       "      <td>0.386256</td>\n",
       "    </tr>\n",
       "    <tr>\n",
       "      <th>2001-11-14</th>\n",
       "      <td>0.471133</td>\n",
       "      <td>0.035790</td>\n",
       "      <td>-0.908517</td>\n",
       "      <td>-0.227282</td>\n",
       "    </tr>\n",
       "    <tr>\n",
       "      <th>2001-11-21</th>\n",
       "      <td>-0.678334</td>\n",
       "      <td>-0.095453</td>\n",
       "      <td>0.189978</td>\n",
       "      <td>0.904986</td>\n",
       "    </tr>\n",
       "    <tr>\n",
       "      <th>2001-11-28</th>\n",
       "      <td>-0.976889</td>\n",
       "      <td>-1.088937</td>\n",
       "      <td>0.783154</td>\n",
       "      <td>-0.648320</td>\n",
       "    </tr>\n",
       "  </tbody>\n",
       "</table>\n",
       "<p>100 rows × 4 columns</p>\n",
       "</div>"
      ],
      "text/plain": [
       "            Colorado     Texas  New York      Ohio\n",
       "2000-01-05  0.869380  1.776743  0.897022  0.217430\n",
       "2000-01-12  0.424569  0.969125 -0.545287  0.672040\n",
       "2000-01-19 -0.820177  2.787700 -1.246517  0.239366\n",
       "2000-01-26  0.573652  0.206010  1.909127  0.161647\n",
       "2000-02-02 -1.512479 -1.252114 -0.975916  1.184940\n",
       "2000-02-09 -0.826200  0.606439 -0.351658 -0.405876\n",
       "2000-02-16 -0.073725  0.378664  0.823275 -0.589091\n",
       "2000-02-23 -0.006472  0.627340 -2.113636 -0.772990\n",
       "2000-03-01 -0.659447 -0.208751  0.972212  1.183451\n",
       "2000-03-08 -1.231874  0.599023 -1.399217  0.080979\n",
       "2000-03-15 -0.304310 -0.239473  0.591308 -0.014017\n",
       "2000-03-22  2.235992  0.242541 -1.041180  0.538229\n",
       "2000-03-29 -1.496927 -0.197588 -1.768863 -0.841929\n",
       "2000-04-05 -0.911803  1.171638 -0.753168  0.187095\n",
       "2000-04-12  0.033120 -0.563600 -0.276421  1.635490\n",
       "2000-04-19  0.253067 -0.845030  0.970487 -1.939668\n",
       "2000-04-26 -0.822006  0.536323  0.375326  0.448225\n",
       "2000-05-03 -0.420386  0.594610  0.965241 -0.287269\n",
       "2000-05-10  1.332682 -1.071094  0.075970 -1.777591\n",
       "2000-05-17  0.470481 -0.668618 -1.165606 -1.662534\n",
       "2000-05-24  1.273783 -1.008453 -1.625782 -1.789667\n",
       "2000-05-31 -0.386990  0.074552  1.547084 -1.449276\n",
       "2000-06-07 -0.449133 -0.293092  0.882539 -0.445260\n",
       "2000-06-14 -0.912434  0.377965 -1.068561 -1.754019\n",
       "2000-06-21  0.049914  0.059000 -0.964297  0.420883\n",
       "2000-06-28  0.516076 -0.354456  1.451875 -1.138082\n",
       "2000-07-05  1.408907 -0.214990  0.602272 -1.002592\n",
       "2000-07-12 -1.499002  0.460974  0.519318 -0.662825\n",
       "2000-07-19  0.678427 -0.014618 -1.095714  3.260539\n",
       "2000-07-26  0.082556  3.190305 -1.378838 -0.183131\n",
       "...              ...       ...       ...       ...\n",
       "2001-05-09 -1.687342 -0.663028  0.736701  0.062205\n",
       "2001-05-16  1.749811  0.551170 -2.037761 -1.306223\n",
       "2001-05-23  0.931114  0.372787 -0.131295 -0.376007\n",
       "2001-05-30  0.428240  0.244450  0.331762 -0.895130\n",
       "2001-06-06  0.065259  0.087481 -1.084939 -0.795764\n",
       "2001-06-13  0.471920  1.136075  0.991470  0.288679\n",
       "2001-06-20  0.085487 -0.813153  0.099141  0.323776\n",
       "2001-06-27 -1.134508 -0.833017  1.052082  0.931750\n",
       "2001-07-04  1.065170 -1.446595 -0.885742 -0.238155\n",
       "2001-07-11 -0.263265 -0.580365  0.773733 -0.794439\n",
       "2001-07-18 -1.037319 -1.436719  0.081401  1.166852\n",
       "2001-07-25 -0.602385  2.357613  0.167090  1.067138\n",
       "2001-08-01 -0.241572  0.013023 -1.008549 -1.739917\n",
       "2001-08-08  1.416844 -0.976812 -2.498353 -0.007930\n",
       "2001-08-15 -2.815639 -0.133541 -0.796100 -0.005601\n",
       "2001-08-22  0.532231 -1.911610 -0.020213 -1.000856\n",
       "2001-08-29  1.244654 -0.628546  0.333952  0.692221\n",
       "2001-09-05  1.200321 -0.341337  0.386751 -1.835964\n",
       "2001-09-12 -0.523837 -0.559470 -0.492440 -0.710386\n",
       "2001-09-19 -1.151005  0.792255  0.553397 -0.954216\n",
       "2001-09-26 -1.289766 -0.831388  0.673609 -0.241281\n",
       "2001-10-03  1.146504 -1.841369  0.357524  1.212642\n",
       "2001-10-10 -0.898400 -0.444725  2.248737  0.374662\n",
       "2001-10-17 -1.053573 -0.077415 -0.459476  1.944137\n",
       "2001-10-24 -1.007925  0.207917  0.450350 -1.103651\n",
       "2001-10-31 -0.843844 -0.907964  0.325636 -0.262343\n",
       "2001-11-07  1.028535 -0.934539 -1.914434  0.386256\n",
       "2001-11-14  0.471133  0.035790 -0.908517 -0.227282\n",
       "2001-11-21 -0.678334 -0.095453  0.189978  0.904986\n",
       "2001-11-28 -0.976889 -1.088937  0.783154 -0.648320\n",
       "\n",
       "[100 rows x 4 columns]"
      ]
     },
     "execution_count": 144,
     "metadata": {},
     "output_type": "execute_result"
    }
   ],
   "source": [
    "long_df = DataFrame(np.random.randn(100,4),index = dates,columns=['Colorado','Texas','New York','Ohio'])\n",
    "long_df"
   ]
  },
  {
   "cell_type": "markdown",
   "metadata": {},
   "source": [
    "# 带有重复索引的时间序列"
   ]
  },
  {
   "cell_type": "code",
   "execution_count": 145,
   "metadata": {
    "ExecuteTime": {
     "end_time": "2018-05-30T09:06:36.712006Z",
     "start_time": "2018-05-30T09:06:36.707018Z"
    }
   },
   "outputs": [
    {
     "data": {
      "text/plain": [
       "DatetimeIndex(['2000-01-01', '2000-01-02', '2000-01-02', '2000-01-02',\n",
       "               '2000-01-03'],\n",
       "              dtype='datetime64[ns]', freq=None)"
      ]
     },
     "execution_count": 145,
     "metadata": {},
     "output_type": "execute_result"
    }
   ],
   "source": [
    "dates = pd.DatetimeIndex(['1/1/2000','1/2/2000','1/2/2000','1/2/2000',\n",
    "                         '1/3/2000'])\n",
    "dates"
   ]
  },
  {
   "cell_type": "code",
   "execution_count": 146,
   "metadata": {
    "ExecuteTime": {
     "end_time": "2018-05-30T09:06:47.880699Z",
     "start_time": "2018-05-30T09:06:47.866737Z"
    }
   },
   "outputs": [
    {
     "data": {
      "text/plain": [
       "2000-01-01    0\n",
       "2000-01-02    1\n",
       "2000-01-02    2\n",
       "2000-01-02    3\n",
       "2000-01-03    4\n",
       "dtype: int32"
      ]
     },
     "execution_count": 146,
     "metadata": {},
     "output_type": "execute_result"
    }
   ],
   "source": [
    "dup_ts = Series(np.arange(5),index = dates)\n",
    "dup_ts"
   ]
  },
  {
   "cell_type": "code",
   "execution_count": 147,
   "metadata": {
    "ExecuteTime": {
     "end_time": "2018-05-30T09:06:53.670022Z",
     "start_time": "2018-05-30T09:06:53.667060Z"
    }
   },
   "outputs": [
    {
     "data": {
      "text/plain": [
       "False"
      ]
     },
     "execution_count": 147,
     "metadata": {},
     "output_type": "execute_result"
    }
   ],
   "source": [
    "dup_ts.index.is_unique"
   ]
  },
  {
   "cell_type": "code",
   "execution_count": 148,
   "metadata": {
    "ExecuteTime": {
     "end_time": "2018-05-30T09:06:54.983766Z",
     "start_time": "2018-05-30T09:06:54.978783Z"
    }
   },
   "outputs": [
    {
     "data": {
      "text/plain": [
       "4"
      ]
     },
     "execution_count": 148,
     "metadata": {},
     "output_type": "execute_result"
    }
   ],
   "source": [
    "dup_ts['1/3/2000']"
   ]
  },
  {
   "cell_type": "code",
   "execution_count": 149,
   "metadata": {
    "ExecuteTime": {
     "end_time": "2018-05-30T09:06:55.818424Z",
     "start_time": "2018-05-30T09:06:55.803436Z"
    }
   },
   "outputs": [
    {
     "data": {
      "text/plain": [
       "2000-01-02    1\n",
       "2000-01-02    2\n",
       "2000-01-02    3\n",
       "dtype: int32"
      ]
     },
     "execution_count": 149,
     "metadata": {},
     "output_type": "execute_result"
    }
   ],
   "source": [
    "dup_ts['1/2/2000']"
   ]
  },
  {
   "cell_type": "code",
   "execution_count": 150,
   "metadata": {
    "ExecuteTime": {
     "end_time": "2018-05-30T09:07:00.262661Z",
     "start_time": "2018-05-30T09:07:00.259693Z"
    }
   },
   "outputs": [],
   "source": [
    "grouped = dup_ts.groupby(level=0)"
   ]
  },
  {
   "cell_type": "code",
   "execution_count": 151,
   "metadata": {
    "ExecuteTime": {
     "end_time": "2018-05-30T09:07:02.657047Z",
     "start_time": "2018-05-30T09:07:02.643057Z"
    }
   },
   "outputs": [
    {
     "data": {
      "text/plain": [
       "2000-01-01    0\n",
       "2000-01-02    2\n",
       "2000-01-03    4\n",
       "dtype: int32"
      ]
     },
     "execution_count": 151,
     "metadata": {},
     "output_type": "execute_result"
    }
   ],
   "source": [
    "grouped.mean()"
   ]
  },
  {
   "cell_type": "code",
   "execution_count": 152,
   "metadata": {
    "ExecuteTime": {
     "end_time": "2018-05-30T09:07:03.721315Z",
     "start_time": "2018-05-30T09:07:03.707352Z"
    }
   },
   "outputs": [
    {
     "data": {
      "text/plain": [
       "2000-01-01    1\n",
       "2000-01-02    3\n",
       "2000-01-03    1\n",
       "dtype: int64"
      ]
     },
     "execution_count": 152,
     "metadata": {},
     "output_type": "execute_result"
    }
   ],
   "source": [
    "grouped.count()"
   ]
  },
  {
   "cell_type": "markdown",
   "metadata": {},
   "source": [
    "# 日期的范围、频率及移动"
   ]
  },
  {
   "cell_type": "code",
   "execution_count": 153,
   "metadata": {
    "ExecuteTime": {
     "end_time": "2018-05-30T09:07:14.513826Z",
     "start_time": "2018-05-30T09:07:14.498838Z"
    }
   },
   "outputs": [
    {
     "data": {
      "text/plain": [
       "2011-01-02    1.010280\n",
       "2011-01-03         NaN\n",
       "2011-01-04         NaN\n",
       "2011-01-05   -1.346911\n",
       "2011-01-06         NaN\n",
       "2011-01-07    0.897244\n",
       "2011-01-08   -1.101381\n",
       "2011-01-09         NaN\n",
       "2011-01-10   -1.088600\n",
       "2011-01-11         NaN\n",
       "2011-01-12   -0.772412\n",
       "Freq: D, dtype: float64"
      ]
     },
     "execution_count": 153,
     "metadata": {},
     "output_type": "execute_result"
    }
   ],
   "source": [
    "ts.resample('D').mean()"
   ]
  },
  {
   "cell_type": "markdown",
   "metadata": {},
   "source": [
    "# 生成日期范围"
   ]
  },
  {
   "cell_type": "code",
   "execution_count": 154,
   "metadata": {
    "ExecuteTime": {
     "end_time": "2018-05-30T09:07:23.326394Z",
     "start_time": "2018-05-30T09:07:23.322405Z"
    }
   },
   "outputs": [],
   "source": [
    "index = pd.date_range('4/1/2012','6/1/2012')"
   ]
  },
  {
   "cell_type": "code",
   "execution_count": 155,
   "metadata": {
    "ExecuteTime": {
     "end_time": "2018-05-30T09:07:23.990863Z",
     "start_time": "2018-05-30T09:07:23.987842Z"
    }
   },
   "outputs": [
    {
     "data": {
      "text/plain": [
       "DatetimeIndex(['2012-04-01', '2012-04-02', '2012-04-03', '2012-04-04',\n",
       "               '2012-04-05', '2012-04-06', '2012-04-07', '2012-04-08',\n",
       "               '2012-04-09', '2012-04-10', '2012-04-11', '2012-04-12',\n",
       "               '2012-04-13', '2012-04-14', '2012-04-15', '2012-04-16',\n",
       "               '2012-04-17', '2012-04-18', '2012-04-19', '2012-04-20'],\n",
       "              dtype='datetime64[ns]', freq='D')"
      ]
     },
     "execution_count": 155,
     "metadata": {},
     "output_type": "execute_result"
    }
   ],
   "source": [
    "pd.date_range(start='4/1/2012',periods=20)"
   ]
  },
  {
   "cell_type": "code",
   "execution_count": 156,
   "metadata": {
    "ExecuteTime": {
     "end_time": "2018-05-30T09:07:24.759850Z",
     "start_time": "2018-05-30T09:07:24.754893Z"
    }
   },
   "outputs": [
    {
     "data": {
      "text/plain": [
       "DatetimeIndex(['2012-05-13', '2012-05-14', '2012-05-15', '2012-05-16',\n",
       "               '2012-05-17', '2012-05-18', '2012-05-19', '2012-05-20',\n",
       "               '2012-05-21', '2012-05-22', '2012-05-23', '2012-05-24',\n",
       "               '2012-05-25', '2012-05-26', '2012-05-27', '2012-05-28',\n",
       "               '2012-05-29', '2012-05-30', '2012-05-31', '2012-06-01'],\n",
       "              dtype='datetime64[ns]', freq='D')"
      ]
     },
     "execution_count": 156,
     "metadata": {},
     "output_type": "execute_result"
    }
   ],
   "source": [
    "pd.date_range(end='6/1/2012',periods=20)"
   ]
  },
  {
   "cell_type": "markdown",
   "metadata": {},
   "source": [
    "# BM（business end of month）"
   ]
  },
  {
   "cell_type": "code",
   "execution_count": 157,
   "metadata": {
    "ExecuteTime": {
     "end_time": "2018-05-30T09:07:55.016522Z",
     "start_time": "2018-05-30T09:07:55.010527Z"
    }
   },
   "outputs": [
    {
     "data": {
      "text/plain": [
       "DatetimeIndex(['2000-01-31', '2000-02-29', '2000-03-31', '2000-04-28',\n",
       "               '2000-05-31', '2000-06-30', '2000-07-31', '2000-08-31',\n",
       "               '2000-09-29', '2000-10-31', '2000-11-30'],\n",
       "              dtype='datetime64[ns]', freq='BM')"
      ]
     },
     "execution_count": 157,
     "metadata": {},
     "output_type": "execute_result"
    }
   ],
   "source": [
    "pd.date_range('1/1/2000','12/1/2000',freq = 'BM')"
   ]
  },
  {
   "cell_type": "code",
   "execution_count": 158,
   "metadata": {
    "ExecuteTime": {
     "end_time": "2018-05-30T09:07:55.670954Z",
     "start_time": "2018-05-30T09:07:55.666935Z"
    }
   },
   "outputs": [
    {
     "data": {
      "text/plain": [
       "DatetimeIndex(['2012-05-02 12:56:31', '2012-05-03 12:56:31',\n",
       "               '2012-05-04 12:56:31', '2012-05-05 12:56:31',\n",
       "               '2012-05-06 12:56:31'],\n",
       "              dtype='datetime64[ns]', freq='D')"
      ]
     },
     "execution_count": 158,
     "metadata": {},
     "output_type": "execute_result"
    }
   ],
   "source": [
    "pd.date_range('5/2/2012 12:56:31',periods=5)"
   ]
  },
  {
   "cell_type": "code",
   "execution_count": 159,
   "metadata": {
    "ExecuteTime": {
     "end_time": "2018-05-30T09:07:56.208298Z",
     "start_time": "2018-05-30T09:07:56.203285Z"
    }
   },
   "outputs": [
    {
     "data": {
      "text/plain": [
       "DatetimeIndex(['2012-05-02', '2012-05-03', '2012-05-04', '2012-05-05',\n",
       "               '2012-05-06'],\n",
       "              dtype='datetime64[ns]', freq='D')"
      ]
     },
     "execution_count": 159,
     "metadata": {},
     "output_type": "execute_result"
    }
   ],
   "source": [
    "pd.date_range('5/2/2012 12:56:31',periods=5,normalize=True)"
   ]
  },
  {
   "cell_type": "markdown",
   "metadata": {},
   "source": [
    "# 频率和日期偏量"
   ]
  },
  {
   "cell_type": "code",
   "execution_count": 161,
   "metadata": {
    "ExecuteTime": {
     "end_time": "2018-05-30T09:10:09.061599Z",
     "start_time": "2018-05-30T09:10:09.058633Z"
    }
   },
   "outputs": [],
   "source": [
    "from pandas.tseries.offsets import Hour,Minute"
   ]
  },
  {
   "cell_type": "code",
   "execution_count": 162,
   "metadata": {
    "ExecuteTime": {
     "end_time": "2018-05-30T09:10:18.366592Z",
     "start_time": "2018-05-30T09:10:18.362604Z"
    }
   },
   "outputs": [
    {
     "data": {
      "text/plain": [
       "<Hour>"
      ]
     },
     "execution_count": 162,
     "metadata": {},
     "output_type": "execute_result"
    }
   ],
   "source": [
    "hour = Hour()\n",
    "hour"
   ]
  },
  {
   "cell_type": "code",
   "execution_count": 163,
   "metadata": {
    "ExecuteTime": {
     "end_time": "2018-05-30T09:10:29.174392Z",
     "start_time": "2018-05-30T09:10:29.170407Z"
    }
   },
   "outputs": [
    {
     "data": {
      "text/plain": [
       "<4 * Hours>"
      ]
     },
     "execution_count": 163,
     "metadata": {},
     "output_type": "execute_result"
    }
   ],
   "source": [
    "four_hours = Hour(4)\n",
    "four_hours"
   ]
  },
  {
   "cell_type": "code",
   "execution_count": 164,
   "metadata": {
    "ExecuteTime": {
     "end_time": "2018-05-30T09:10:35.096818Z",
     "start_time": "2018-05-30T09:10:35.090835Z"
    }
   },
   "outputs": [
    {
     "data": {
      "text/plain": [
       "DatetimeIndex(['2000-01-01 00:00:00', '2000-01-01 04:00:00',\n",
       "               '2000-01-01 08:00:00', '2000-01-01 12:00:00',\n",
       "               '2000-01-01 16:00:00', '2000-01-01 20:00:00',\n",
       "               '2000-01-02 00:00:00', '2000-01-02 04:00:00',\n",
       "               '2000-01-02 08:00:00', '2000-01-02 12:00:00',\n",
       "               '2000-01-02 16:00:00', '2000-01-02 20:00:00',\n",
       "               '2000-01-03 00:00:00', '2000-01-03 04:00:00',\n",
       "               '2000-01-03 08:00:00', '2000-01-03 12:00:00',\n",
       "               '2000-01-03 16:00:00', '2000-01-03 20:00:00'],\n",
       "              dtype='datetime64[ns]', freq='4H')"
      ]
     },
     "execution_count": 164,
     "metadata": {},
     "output_type": "execute_result"
    }
   ],
   "source": [
    "pd.date_range('1/1/2000','1/3/2000 23:59',freq='4h')"
   ]
  },
  {
   "cell_type": "code",
   "execution_count": 165,
   "metadata": {
    "ExecuteTime": {
     "end_time": "2018-05-30T09:10:40.230015Z",
     "start_time": "2018-05-30T09:10:40.227020Z"
    }
   },
   "outputs": [
    {
     "data": {
      "text/plain": [
       "<150 * Minutes>"
      ]
     },
     "execution_count": 165,
     "metadata": {},
     "output_type": "execute_result"
    }
   ],
   "source": [
    "Hour(2)+Minute(30)"
   ]
  },
  {
   "cell_type": "code",
   "execution_count": 166,
   "metadata": {
    "ExecuteTime": {
     "end_time": "2018-05-30T09:10:42.879582Z",
     "start_time": "2018-05-30T09:10:42.874596Z"
    }
   },
   "outputs": [
    {
     "data": {
      "text/plain": [
       "DatetimeIndex(['2000-01-01 00:00:00', '2000-01-01 01:30:00',\n",
       "               '2000-01-01 03:00:00', '2000-01-01 04:30:00',\n",
       "               '2000-01-01 06:00:00', '2000-01-01 07:30:00',\n",
       "               '2000-01-01 09:00:00', '2000-01-01 10:30:00',\n",
       "               '2000-01-01 12:00:00', '2000-01-01 13:30:00'],\n",
       "              dtype='datetime64[ns]', freq='90T')"
      ]
     },
     "execution_count": 166,
     "metadata": {},
     "output_type": "execute_result"
    }
   ],
   "source": [
    "pd.date_range('1/1/2000',periods=10,freq='1h30min')"
   ]
  },
  {
   "cell_type": "markdown",
   "metadata": {},
   "source": [
    "# WOM日期(week of month)"
   ]
  },
  {
   "cell_type": "code",
   "execution_count": 167,
   "metadata": {
    "ExecuteTime": {
     "end_time": "2018-05-30T09:10:49.583699Z",
     "start_time": "2018-05-30T09:10:49.578703Z"
    }
   },
   "outputs": [],
   "source": [
    "rng = pd.date_range('1/1/2012','9/1/2012',freq='WOM-3FRI')  #每月第三个星期五"
   ]
  },
  {
   "cell_type": "code",
   "execution_count": 168,
   "metadata": {
    "ExecuteTime": {
     "end_time": "2018-05-30T09:10:50.719678Z",
     "start_time": "2018-05-30T09:10:50.715690Z"
    }
   },
   "outputs": [
    {
     "data": {
      "text/plain": [
       "DatetimeIndex(['2012-01-20', '2012-02-17', '2012-03-16', '2012-04-20',\n",
       "               '2012-05-18', '2012-06-15', '2012-07-20', '2012-08-17'],\n",
       "              dtype='datetime64[ns]', freq='WOM-3FRI')"
      ]
     },
     "execution_count": 168,
     "metadata": {},
     "output_type": "execute_result"
    }
   ],
   "source": [
    "rng"
   ]
  },
  {
   "cell_type": "markdown",
   "metadata": {},
   "source": [
    "# 移动数据"
   ]
  },
  {
   "cell_type": "code",
   "execution_count": 169,
   "metadata": {
    "ExecuteTime": {
     "end_time": "2018-05-30T09:11:03.321028Z",
     "start_time": "2018-05-30T09:11:03.306064Z"
    }
   },
   "outputs": [
    {
     "data": {
      "text/plain": [
       "2000-01-31    0.927850\n",
       "2000-02-29   -1.213890\n",
       "2000-03-31   -1.220074\n",
       "2000-04-30   -0.524616\n",
       "Freq: M, dtype: float64"
      ]
     },
     "execution_count": 169,
     "metadata": {},
     "output_type": "execute_result"
    }
   ],
   "source": [
    "ts = Series(np.random.randn(4),\n",
    "           index = pd.date_range('1/1/2000',periods=4,freq='M'))\n",
    "ts"
   ]
  },
  {
   "cell_type": "code",
   "execution_count": 170,
   "metadata": {
    "ExecuteTime": {
     "end_time": "2018-05-30T09:11:04.607837Z",
     "start_time": "2018-05-30T09:11:04.594866Z"
    }
   },
   "outputs": [
    {
     "data": {
      "text/plain": [
       "2000-01-31        NaN\n",
       "2000-02-29        NaN\n",
       "2000-03-31    0.92785\n",
       "2000-04-30   -1.21389\n",
       "Freq: M, dtype: float64"
      ]
     },
     "execution_count": 170,
     "metadata": {},
     "output_type": "execute_result"
    }
   ],
   "source": [
    "ts.shift(2)"
   ]
  },
  {
   "cell_type": "code",
   "execution_count": 171,
   "metadata": {
    "ExecuteTime": {
     "end_time": "2018-05-30T09:11:05.231979Z",
     "start_time": "2018-05-30T09:11:05.219013Z"
    }
   },
   "outputs": [
    {
     "data": {
      "text/plain": [
       "2000-01-31   -1.220074\n",
       "2000-02-29   -0.524616\n",
       "2000-03-31         NaN\n",
       "2000-04-30         NaN\n",
       "Freq: M, dtype: float64"
      ]
     },
     "execution_count": 171,
     "metadata": {},
     "output_type": "execute_result"
    }
   ],
   "source": [
    "ts.shift(-2)"
   ]
  },
  {
   "cell_type": "code",
   "execution_count": 172,
   "metadata": {
    "ExecuteTime": {
     "end_time": "2018-05-30T09:11:08.225123Z",
     "start_time": "2018-05-30T09:11:08.210163Z"
    }
   },
   "outputs": [
    {
     "data": {
      "text/plain": [
       "2000-03-31    0.927850\n",
       "2000-04-30   -1.213890\n",
       "2000-05-31   -1.220074\n",
       "2000-06-30   -0.524616\n",
       "Freq: M, dtype: float64"
      ]
     },
     "execution_count": 172,
     "metadata": {},
     "output_type": "execute_result"
    }
   ],
   "source": [
    "ts.shift(2,freq='M')"
   ]
  },
  {
   "cell_type": "code",
   "execution_count": 173,
   "metadata": {
    "ExecuteTime": {
     "end_time": "2018-05-30T09:11:08.984440Z",
     "start_time": "2018-05-30T09:11:08.970479Z"
    }
   },
   "outputs": [
    {
     "data": {
      "text/plain": [
       "2000-02-03    0.927850\n",
       "2000-03-03   -1.213890\n",
       "2000-04-03   -1.220074\n",
       "2000-05-03   -0.524616\n",
       "dtype: float64"
      ]
     },
     "execution_count": 173,
     "metadata": {},
     "output_type": "execute_result"
    }
   ],
   "source": [
    "ts.shift(3,freq='D')"
   ]
  },
  {
   "cell_type": "code",
   "execution_count": 174,
   "metadata": {
    "ExecuteTime": {
     "end_time": "2018-05-30T09:11:10.961305Z",
     "start_time": "2018-05-30T09:11:10.947375Z"
    }
   },
   "outputs": [
    {
     "data": {
      "text/plain": [
       "2000-02-03    0.927850\n",
       "2000-03-03   -1.213890\n",
       "2000-04-03   -1.220074\n",
       "2000-05-03   -0.524616\n",
       "dtype: float64"
      ]
     },
     "execution_count": 174,
     "metadata": {},
     "output_type": "execute_result"
    }
   ],
   "source": [
    "ts.shift(1,freq='3D')"
   ]
  },
  {
   "cell_type": "code",
   "execution_count": 175,
   "metadata": {
    "ExecuteTime": {
     "end_time": "2018-05-30T09:11:11.671602Z",
     "start_time": "2018-05-30T09:11:11.658608Z"
    }
   },
   "outputs": [
    {
     "data": {
      "text/plain": [
       "2000-01-31 01:30:00    0.927850\n",
       "2000-02-29 01:30:00   -1.213890\n",
       "2000-03-31 01:30:00   -1.220074\n",
       "2000-04-30 01:30:00   -0.524616\n",
       "Freq: M, dtype: float64"
      ]
     },
     "execution_count": 175,
     "metadata": {},
     "output_type": "execute_result"
    }
   ],
   "source": [
    "ts.shift(1,freq='90T')"
   ]
  }
 ],
 "metadata": {
  "kernelspec": {
   "display_name": "Python 3",
   "language": "python",
   "name": "python3"
  },
  "language_info": {
   "codemirror_mode": {
    "name": "ipython",
    "version": 3
   },
   "file_extension": ".py",
   "mimetype": "text/x-python",
   "name": "python",
   "nbconvert_exporter": "python",
   "pygments_lexer": "ipython3",
   "version": "3.6.4"
  },
  "latex_envs": {
   "LaTeX_envs_menu_present": true,
   "autocomplete": true,
   "bibliofile": "biblio.bib",
   "cite_by": "apalike",
   "current_citInitial": 1,
   "eqLabelWithNumbers": true,
   "eqNumInitial": 1,
   "hotkeys": {
    "equation": "Ctrl-E",
    "itemize": "Ctrl-I"
   },
   "labels_anchors": false,
   "latex_user_defs": false,
   "report_style_numbering": false,
   "user_envs_cfg": false
  },
  "toc": {
   "nav_menu": {
    "height": "401px",
    "width": "253px"
   },
   "number_sections": true,
   "sideBar": false,
   "skip_h1_title": false,
   "title_cell": "Table of Contents",
   "title_sidebar": "Contents",
   "toc_cell": false,
   "toc_position": {
    "height": "471px",
    "left": "2px",
    "right": "20px",
    "top": "111.997px",
    "width": "212px"
   },
   "toc_section_display": "block",
   "toc_window_display": true
  }
 },
 "nbformat": 4,
 "nbformat_minor": 2
}
