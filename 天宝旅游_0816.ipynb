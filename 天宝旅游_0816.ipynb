{
 "cells": [
  {
   "cell_type": "code",
   "execution_count": 1,
   "metadata": {
    "collapsed": true
   },
   "outputs": [],
   "source": [
    "import pandas as pd\n",
    "import re,json"
   ]
  },
  {
   "cell_type": "markdown",
   "metadata": {},
   "source": [
    "# 程凯json处理"
   ]
  },
  {
   "cell_type": "code",
   "execution_count": 2,
   "metadata": {
    "collapsed": false
   },
   "outputs": [
    {
     "data": {
      "text/html": [
       "<div>\n",
       "<style>\n",
       "    .dataframe thead tr:only-child th {\n",
       "        text-align: right;\n",
       "    }\n",
       "\n",
       "    .dataframe thead th {\n",
       "        text-align: left;\n",
       "    }\n",
       "\n",
       "    .dataframe tbody tr th {\n",
       "        vertical-align: top;\n",
       "    }\n",
       "</style>\n",
       "<table border=\"1\" class=\"dataframe\">\n",
       "  <thead>\n",
       "    <tr style=\"text-align: right;\">\n",
       "      <th></th>\n",
       "      <th>关键词</th>\n",
       "      <th>联想词</th>\n",
       "      <th>value</th>\n",
       "    </tr>\n",
       "  </thead>\n",
       "  <tbody>\n",
       "    <tr>\n",
       "      <th>0</th>\n",
       "      <td>EMAIL</td>\n",
       "      <td>保险公司</td>\n",
       "      <td>[1.125, 1]</td>\n",
       "    </tr>\n",
       "    <tr>\n",
       "      <th>1</th>\n",
       "      <td>EMAIL</td>\n",
       "      <td>信用卡</td>\n",
       "      <td>[3.115, 2]</td>\n",
       "    </tr>\n",
       "    <tr>\n",
       "      <th>2</th>\n",
       "      <td>EMAIL</td>\n",
       "      <td>出票</td>\n",
       "      <td>[1.787, 1]</td>\n",
       "    </tr>\n",
       "    <tr>\n",
       "      <th>3</th>\n",
       "      <td>EMAIL</td>\n",
       "      <td>国泰</td>\n",
       "      <td>[1.351, 1]</td>\n",
       "    </tr>\n",
       "    <tr>\n",
       "      <th>4</th>\n",
       "      <td>EMAIL</td>\n",
       "      <td>收据</td>\n",
       "      <td>[3.6319999999999997, 2]</td>\n",
       "    </tr>\n",
       "  </tbody>\n",
       "</table>\n",
       "</div>"
      ],
      "text/plain": [
       "     关键词   联想词                    value\n",
       "0  EMAIL  保险公司               [1.125, 1]\n",
       "1  EMAIL   信用卡               [3.115, 2]\n",
       "2  EMAIL    出票               [1.787, 1]\n",
       "3  EMAIL    国泰               [1.351, 1]\n",
       "4  EMAIL    收据  [3.6319999999999997, 2]"
      ]
     },
     "execution_count": 2,
     "metadata": {},
     "output_type": "execute_result"
    }
   ],
   "source": [
    "with open('imagine_link_new.json','r',encoding = 'gbk') as f:\n",
    "    f = f.read()\n",
    "file = json.loads(f)\n",
    "data = pd.DataFrame(file)\n",
    "data = data.stack().reset_index()\n",
    "data.columns = ['关键词','联想词','value']\n",
    "data.head()"
   ]
  },
  {
   "cell_type": "code",
   "execution_count": 3,
   "metadata": {
    "collapsed": false
   },
   "outputs": [
    {
     "data": {
      "text/html": [
       "<div>\n",
       "<style>\n",
       "    .dataframe thead tr:only-child th {\n",
       "        text-align: right;\n",
       "    }\n",
       "\n",
       "    .dataframe thead th {\n",
       "        text-align: left;\n",
       "    }\n",
       "\n",
       "    .dataframe tbody tr th {\n",
       "        vertical-align: top;\n",
       "    }\n",
       "</style>\n",
       "<table border=\"1\" class=\"dataframe\">\n",
       "  <thead>\n",
       "    <tr style=\"text-align: right;\">\n",
       "      <th></th>\n",
       "      <th>关键词</th>\n",
       "      <th>联想词</th>\n",
       "      <th>value</th>\n",
       "      <th>频次</th>\n",
       "      <th>threshold</th>\n",
       "    </tr>\n",
       "  </thead>\n",
       "  <tbody>\n",
       "    <tr>\n",
       "      <th>0</th>\n",
       "      <td>EMAIL</td>\n",
       "      <td>保险公司</td>\n",
       "      <td>[1.125, 1]</td>\n",
       "      <td>1</td>\n",
       "      <td>1.1250</td>\n",
       "    </tr>\n",
       "    <tr>\n",
       "      <th>1</th>\n",
       "      <td>EMAIL</td>\n",
       "      <td>信用卡</td>\n",
       "      <td>[3.115, 2]</td>\n",
       "      <td>2</td>\n",
       "      <td>1.5575</td>\n",
       "    </tr>\n",
       "    <tr>\n",
       "      <th>2</th>\n",
       "      <td>EMAIL</td>\n",
       "      <td>出票</td>\n",
       "      <td>[1.787, 1]</td>\n",
       "      <td>1</td>\n",
       "      <td>1.7870</td>\n",
       "    </tr>\n",
       "    <tr>\n",
       "      <th>3</th>\n",
       "      <td>EMAIL</td>\n",
       "      <td>国泰</td>\n",
       "      <td>[1.351, 1]</td>\n",
       "      <td>1</td>\n",
       "      <td>1.3510</td>\n",
       "    </tr>\n",
       "    <tr>\n",
       "      <th>4</th>\n",
       "      <td>EMAIL</td>\n",
       "      <td>收据</td>\n",
       "      <td>[3.6319999999999997, 2]</td>\n",
       "      <td>2</td>\n",
       "      <td>1.8160</td>\n",
       "    </tr>\n",
       "  </tbody>\n",
       "</table>\n",
       "</div>"
      ],
      "text/plain": [
       "     关键词   联想词                    value  频次  threshold\n",
       "0  EMAIL  保险公司               [1.125, 1]   1     1.1250\n",
       "1  EMAIL   信用卡               [3.115, 2]   2     1.5575\n",
       "2  EMAIL    出票               [1.787, 1]   1     1.7870\n",
       "3  EMAIL    国泰               [1.351, 1]   1     1.3510\n",
       "4  EMAIL    收据  [3.6319999999999997, 2]   2     1.8160"
      ]
     },
     "execution_count": 3,
     "metadata": {},
     "output_type": "execute_result"
    }
   ],
   "source": [
    "data['频次'] = data.value.str[1]\n",
    "data['threshold'] = data.value.str[0]/data['频次']\n",
    "data.head()"
   ]
  },
  {
   "cell_type": "code",
   "execution_count": 4,
   "metadata": {
    "collapsed": false
   },
   "outputs": [
    {
     "data": {
      "text/plain": [
       "{'threshold': 0, 'value': 0, '关键词': 0, '联想词': 0, '频次': 0}"
      ]
     },
     "execution_count": 4,
     "metadata": {},
     "output_type": "execute_result"
    }
   ],
   "source": [
    "cols = list(data.columns)\n",
    "missing = list(map(lambda i:data[i].isnull().sum(),cols))\n",
    "missing_dict = dict(zip(cols,missing))\n",
    "missing_dict"
   ]
  },
  {
   "cell_type": "code",
   "execution_count": 5,
   "metadata": {
    "collapsed": true
   },
   "outputs": [],
   "source": [
    "data[['关键词','联想词','threshold','频次']].to_csv('关键词联想词_0816.txt',sep = '\\t',encoding = 'utf-8',index = False)"
   ]
  },
  {
   "cell_type": "markdown",
   "metadata": {},
   "source": [
    "# 关键词情绪处理"
   ]
  },
  {
   "cell_type": "code",
   "execution_count": 6,
   "metadata": {
    "collapsed": false
   },
   "outputs": [
    {
     "data": {
      "text/html": [
       "<div>\n",
       "<style>\n",
       "    .dataframe thead tr:only-child th {\n",
       "        text-align: right;\n",
       "    }\n",
       "\n",
       "    .dataframe thead th {\n",
       "        text-align: left;\n",
       "    }\n",
       "\n",
       "    .dataframe tbody tr th {\n",
       "        vertical-align: top;\n",
       "    }\n",
       "</style>\n",
       "<table border=\"1\" class=\"dataframe\">\n",
       "  <thead>\n",
       "    <tr style=\"text-align: right;\">\n",
       "      <th></th>\n",
       "      <th>ID</th>\n",
       "      <th>date</th>\n",
       "      <th>phone</th>\n",
       "      <th>type</th>\n",
       "      <th>sentence</th>\n",
       "      <th>emotion</th>\n",
       "      <th>threshold</th>\n",
       "      <th>keyword</th>\n",
       "      <th>area</th>\n",
       "    </tr>\n",
       "  </thead>\n",
       "  <tbody>\n",
       "    <tr>\n",
       "      <th>0</th>\n",
       "      <td>1</td>\n",
       "      <td>20170624</td>\n",
       "      <td>6475223313</td>\n",
       "      <td>1</td>\n",
       "      <td>嗯</td>\n",
       "      <td>NaN</td>\n",
       "      <td>0.000</td>\n",
       "      <td>NaN</td>\n",
       "      <td>Ontario</td>\n",
       "    </tr>\n",
       "    <tr>\n",
       "      <th>1</th>\n",
       "      <td>1</td>\n",
       "      <td>20170624</td>\n",
       "      <td>6475223313</td>\n",
       "      <td>1</td>\n",
       "      <td>喂你好，</td>\n",
       "      <td>NaN</td>\n",
       "      <td>0.000</td>\n",
       "      <td>NaN</td>\n",
       "      <td>Ontario</td>\n",
       "    </tr>\n",
       "    <tr>\n",
       "      <th>2</th>\n",
       "      <td>1</td>\n",
       "      <td>20170624</td>\n",
       "      <td>6475223313</td>\n",
       "      <td>2</td>\n",
       "      <td>你好，我是珍惜</td>\n",
       "      <td>NaN</td>\n",
       "      <td>0.000</td>\n",
       "      <td>NaN</td>\n",
       "      <td>Ontario</td>\n",
       "    </tr>\n",
       "    <tr>\n",
       "      <th>3</th>\n",
       "      <td>1</td>\n",
       "      <td>20170624</td>\n",
       "      <td>6475223313</td>\n",
       "      <td>2</td>\n",
       "      <td>刚才打电话给你啊你好，啊那个胡玉成有没有早上的飞机呢？</td>\n",
       "      <td>NaN</td>\n",
       "      <td>0.000</td>\n",
       "      <td>NaN</td>\n",
       "      <td>Ontario</td>\n",
       "    </tr>\n",
       "    <tr>\n",
       "      <th>4</th>\n",
       "      <td>1</td>\n",
       "      <td>20170624</td>\n",
       "      <td>6475223313</td>\n",
       "      <td>1</td>\n",
       "      <td>早上啊看一下，对</td>\n",
       "      <td>愤怒</td>\n",
       "      <td>1.123</td>\n",
       "      <td>NaN</td>\n",
       "      <td>Ontario</td>\n",
       "    </tr>\n",
       "  </tbody>\n",
       "</table>\n",
       "</div>"
      ],
      "text/plain": [
       "   ID      date       phone  type                     sentence emotion  \\\n",
       "0   1  20170624  6475223313     1                            嗯     NaN   \n",
       "1   1  20170624  6475223313     1                         喂你好，     NaN   \n",
       "2   1  20170624  6475223313     2                      你好，我是珍惜     NaN   \n",
       "3   1  20170624  6475223313     2  刚才打电话给你啊你好，啊那个胡玉成有没有早上的飞机呢？     NaN   \n",
       "4   1  20170624  6475223313     1                     早上啊看一下，对      愤怒   \n",
       "\n",
       "   threshold keyword     area  \n",
       "0      0.000     NaN  Ontario  \n",
       "1      0.000     NaN  Ontario  \n",
       "2      0.000     NaN  Ontario  \n",
       "3      0.000     NaN  Ontario  \n",
       "4      1.123     NaN  Ontario  "
      ]
     },
     "execution_count": 6,
     "metadata": {},
     "output_type": "execute_result"
    }
   ],
   "source": [
    "dfa = pd.read_table('tianbao_result_keyword_new.txt',sep = '\\t',error_bad_lines=False)\n",
    "dfa.head()"
   ]
  },
  {
   "cell_type": "code",
   "execution_count": 7,
   "metadata": {
    "collapsed": false
   },
   "outputs": [
    {
     "data": {
      "text/plain": [
       "{'ID': 0,\n",
       " 'area': 0,\n",
       " 'date': 0,\n",
       " 'emotion': 13504,\n",
       " 'keyword': 21936,\n",
       " 'phone': 0,\n",
       " 'sentence': 0,\n",
       " 'threshold': 0,\n",
       " 'type': 0}"
      ]
     },
     "execution_count": 7,
     "metadata": {},
     "output_type": "execute_result"
    }
   ],
   "source": [
    "cols  = list(dfa.columns)\n",
    "missing = list(map(lambda i :dfa[i].isnull().sum(),cols))\n",
    "missing_dict = dict(zip(cols,missing))\n",
    "missing_dict"
   ]
  },
  {
   "cell_type": "code",
   "execution_count": 8,
   "metadata": {
    "collapsed": false
   },
   "outputs": [
    {
     "data": {
      "text/plain": [
       "Ontario                                 20656\n",
       "unkown                                   2139\n",
       "Quebec                                   1403\n",
       "British Columbia                          746\n",
       "Alberta                                   407\n",
       "Manitoba                                   39\n",
       "New Brunswick                              28\n",
       "Nova Scotia and Prince Edward Island       20\n",
       "Name: area, dtype: int64"
      ]
     },
     "execution_count": 8,
     "metadata": {},
     "output_type": "execute_result"
    }
   ],
   "source": [
    "dfa.area.value_counts()"
   ]
  },
  {
   "cell_type": "markdown",
   "metadata": {},
   "source": [
    "## 更改错别字"
   ]
  },
  {
   "cell_type": "code",
   "execution_count": 9,
   "metadata": {
    "collapsed": false
   },
   "outputs": [],
   "source": [
    "dfa.loc[dfa.area == 'unkown','area'] = 'unknown'"
   ]
  },
  {
   "cell_type": "code",
   "execution_count": 10,
   "metadata": {
    "collapsed": false
   },
   "outputs": [
    {
     "data": {
      "text/plain": [
       "Ontario                                 20656\n",
       "unknown                                  2139\n",
       "Quebec                                   1403\n",
       "British Columbia                          746\n",
       "Alberta                                   407\n",
       "Manitoba                                   39\n",
       "New Brunswick                              28\n",
       "Nova Scotia and Prince Edward Island       20\n",
       "Name: area, dtype: int64"
      ]
     },
     "execution_count": 10,
     "metadata": {},
     "output_type": "execute_result"
    }
   ],
   "source": [
    "dfa.area.value_counts()"
   ]
  },
  {
   "cell_type": "code",
   "execution_count": 11,
   "metadata": {
    "collapsed": true
   },
   "outputs": [],
   "source": [
    "dfa['country'] = 'Canada'"
   ]
  },
  {
   "cell_type": "code",
   "execution_count": 12,
   "metadata": {
    "collapsed": false
   },
   "outputs": [
    {
     "data": {
      "text/plain": [
       "Index(['ID', 'date', 'phone', 'type', 'sentence', 'emotion', 'threshold',\n",
       "       'keyword', 'area', 'country'],\n",
       "      dtype='object')"
      ]
     },
     "execution_count": 12,
     "metadata": {},
     "output_type": "execute_result"
    }
   ],
   "source": [
    "dfa.columns"
   ]
  },
  {
   "cell_type": "code",
   "execution_count": 13,
   "metadata": {
    "collapsed": true
   },
   "outputs": [],
   "source": [
    "dfa.to_csv('geo.txt',sep = '\\t',index = False,encoding = 'utf-8')"
   ]
  },
  {
   "cell_type": "markdown",
   "metadata": {},
   "source": [
    "## 关键词同义词合并"
   ]
  },
  {
   "cell_type": "code",
   "execution_count": 14,
   "metadata": {
    "collapsed": false
   },
   "outputs": [
    {
     "data": {
      "text/plain": [
       "机票       619\n",
       "出票       366\n",
       "信用卡      246\n",
       "机场       219\n",
       "改签       196\n",
       "行程       184\n",
       "直飞       163\n",
       "积分       156\n",
       "座位       153\n",
       "转机       136\n",
       "行李       132\n",
       "EMAIL    121\n",
       "退票        85\n",
       "公斤        78\n",
       "海航        76\n",
       "仓位        66\n",
       "东航        65\n",
       "托运        64\n",
       "费用        63\n",
       "团费        52\n",
       "手续费       40\n",
       "罚款        34\n",
       "保险公司      25\n",
       "国泰        24\n",
       "罚金        20\n",
       "海南航空      18\n",
       "参团        16\n",
       "收据        16\n",
       "东方航空      14\n",
       "退款        13\n",
       "保单        12\n",
       "罚钱         8\n",
       "保额         6\n",
       "租车         4\n",
       "医疗保险       4\n",
       "拼房         4\n",
       "服务费        4\n",
       "Name: keyword, dtype: int64"
      ]
     },
     "execution_count": 14,
     "metadata": {},
     "output_type": "execute_result"
    }
   ],
   "source": [
    "dfa.keyword.value_counts()"
   ]
  },
  {
   "cell_type": "code",
   "execution_count": 15,
   "metadata": {
    "collapsed": false
   },
   "outputs": [],
   "source": [
    "dfa['keyword'].replace(['东航','海航','退票','罚金','罚钱'],['东方航空','海南航空','退款','罚款','罚款'],inplace=True)"
   ]
  },
  {
   "cell_type": "code",
   "execution_count": 32,
   "metadata": {
    "collapsed": false
   },
   "outputs": [],
   "source": [
    "pd.DataFrame(dfa.keyword.value_counts()).to_csv('keywords_frequency_new.txt',sep = '\\t',encoding = 'utf-8')"
   ]
  },
  {
   "cell_type": "code",
   "execution_count": 17,
   "metadata": {
    "collapsed": true
   },
   "outputs": [],
   "source": [
    "dfa.to_csv('天宝旅游关键词情绪_0816.txt',encoding = 'utf-8',sep = '\\t',index = False)"
   ]
  },
  {
   "cell_type": "markdown",
   "metadata": {},
   "source": [
    "# 带关键词的用户数据"
   ]
  },
  {
   "cell_type": "code",
   "execution_count": 18,
   "metadata": {
    "collapsed": false
   },
   "outputs": [
    {
     "data": {
      "text/plain": [
       "(1959, 10)"
      ]
     },
     "execution_count": 18,
     "metadata": {},
     "output_type": "execute_result"
    }
   ],
   "source": [
    "customer= dfa.loc[dfa.type == 1]\n",
    "cond = customer.keyword.notnull()\n",
    "customer = customer.loc[cond].copy()\n",
    "customer.shape"
   ]
  },
  {
   "cell_type": "code",
   "execution_count": 19,
   "metadata": {
    "collapsed": false
   },
   "outputs": [
    {
     "data": {
      "text/html": [
       "<div>\n",
       "<style>\n",
       "    .dataframe thead tr:only-child th {\n",
       "        text-align: right;\n",
       "    }\n",
       "\n",
       "    .dataframe thead th {\n",
       "        text-align: left;\n",
       "    }\n",
       "\n",
       "    .dataframe tbody tr th {\n",
       "        vertical-align: top;\n",
       "    }\n",
       "</style>\n",
       "<table border=\"1\" class=\"dataframe\">\n",
       "  <thead>\n",
       "    <tr style=\"text-align: right;\">\n",
       "      <th></th>\n",
       "      <th>ID</th>\n",
       "      <th>date</th>\n",
       "      <th>phone</th>\n",
       "      <th>type</th>\n",
       "      <th>sentence</th>\n",
       "      <th>emotion</th>\n",
       "      <th>threshold</th>\n",
       "      <th>keyword</th>\n",
       "      <th>area</th>\n",
       "      <th>country</th>\n",
       "    </tr>\n",
       "  </thead>\n",
       "  <tbody>\n",
       "    <tr>\n",
       "      <th>23</th>\n",
       "      <td>2</td>\n",
       "      <td>20170704</td>\n",
       "      <td>6476695236</td>\n",
       "      <td>1</td>\n",
       "      <td>唉没有，我联系一下，对礼拜六礼拜天你帮我看下去福州的，我老婆机票也有可能，我也感觉因为今天刚...</td>\n",
       "      <td>愤怒</td>\n",
       "      <td>1.538</td>\n",
       "      <td>机票</td>\n",
       "      <td>Ontario</td>\n",
       "      <td>Canada</td>\n",
       "    </tr>\n",
       "    <tr>\n",
       "      <th>56</th>\n",
       "      <td>2</td>\n",
       "      <td>20170704</td>\n",
       "      <td>6476695236</td>\n",
       "      <td>1</td>\n",
       "      <td>8号的凌晨，那其他那个噢你你们最近怎么跟东航南航关系比较好，都是往南走。吧。</td>\n",
       "      <td>愤怒</td>\n",
       "      <td>2.116</td>\n",
       "      <td>东方航空</td>\n",
       "      <td>Ontario</td>\n",
       "      <td>Canada</td>\n",
       "    </tr>\n",
       "    <tr>\n",
       "      <th>65</th>\n",
       "      <td>2</td>\n",
       "      <td>20170704</td>\n",
       "      <td>6476695236</td>\n",
       "      <td>1</td>\n",
       "      <td>东航呢4点半</td>\n",
       "      <td>愤怒</td>\n",
       "      <td>0.979</td>\n",
       "      <td>东方航空</td>\n",
       "      <td>Ontario</td>\n",
       "      <td>Canada</td>\n",
       "    </tr>\n",
       "    <tr>\n",
       "      <th>66</th>\n",
       "      <td>2</td>\n",
       "      <td>20170704</td>\n",
       "      <td>6476695236</td>\n",
       "      <td>1</td>\n",
       "      <td>噢东航东航4点半的对下午4点半的唉是到哪里了？</td>\n",
       "      <td>愤怒</td>\n",
       "      <td>1.034</td>\n",
       "      <td>东方航空</td>\n",
       "      <td>Ontario</td>\n",
       "      <td>Canada</td>\n",
       "    </tr>\n",
       "    <tr>\n",
       "      <th>78</th>\n",
       "      <td>2</td>\n",
       "      <td>20170704</td>\n",
       "      <td>6476695236</td>\n",
       "      <td>1</td>\n",
       "      <td>还有这样子，现在买机票了</td>\n",
       "      <td>愤怒</td>\n",
       "      <td>0.975</td>\n",
       "      <td>机票</td>\n",
       "      <td>Ontario</td>\n",
       "      <td>Canada</td>\n",
       "    </tr>\n",
       "    <tr>\n",
       "      <th>82</th>\n",
       "      <td>2</td>\n",
       "      <td>20170704</td>\n",
       "      <td>6476695236</td>\n",
       "      <td>1</td>\n",
       "      <td>啊广州转机啊</td>\n",
       "      <td>焦虑</td>\n",
       "      <td>1.007</td>\n",
       "      <td>转机</td>\n",
       "      <td>Ontario</td>\n",
       "      <td>Canada</td>\n",
       "    </tr>\n",
       "    <tr>\n",
       "      <th>108</th>\n",
       "      <td>3</td>\n",
       "      <td>20170710</td>\n",
       "      <td>6479959904</td>\n",
       "      <td>1</td>\n",
       "      <td>唉你好唉，你好，姚老板那里，我问一下那个退票汇票啊陈道明给我一下吗？</td>\n",
       "      <td>NaN</td>\n",
       "      <td>0.000</td>\n",
       "      <td>退款</td>\n",
       "      <td>Ontario</td>\n",
       "      <td>Canada</td>\n",
       "    </tr>\n",
       "    <tr>\n",
       "      <th>125</th>\n",
       "      <td>3</td>\n",
       "      <td>20170710</td>\n",
       "      <td>6479959904</td>\n",
       "      <td>1</td>\n",
       "      <td>转账啊当然退票多man。</td>\n",
       "      <td>愤怒</td>\n",
       "      <td>3.041</td>\n",
       "      <td>退款</td>\n",
       "      <td>Ontario</td>\n",
       "      <td>Canada</td>\n",
       "    </tr>\n",
       "    <tr>\n",
       "      <th>137</th>\n",
       "      <td>3</td>\n",
       "      <td>20170710</td>\n",
       "      <td>6479959904</td>\n",
       "      <td>1</td>\n",
       "      <td>你们岂不是要交手续费？这样子搞。</td>\n",
       "      <td>厌恶</td>\n",
       "      <td>1.723</td>\n",
       "      <td>手续费</td>\n",
       "      <td>Ontario</td>\n",
       "      <td>Canada</td>\n",
       "    </tr>\n",
       "    <tr>\n",
       "      <th>255</th>\n",
       "      <td>6</td>\n",
       "      <td>20170712</td>\n",
       "      <td>6478089169</td>\n",
       "      <td>1</td>\n",
       "      <td>但是它还是按照改票费用来算的，我当然它就只改这一段，它至少都要补300块钱。我因为车票的改签...</td>\n",
       "      <td>愤怒</td>\n",
       "      <td>1.423</td>\n",
       "      <td>改签</td>\n",
       "      <td>Ontario</td>\n",
       "      <td>Canada</td>\n",
       "    </tr>\n",
       "  </tbody>\n",
       "</table>\n",
       "</div>"
      ],
      "text/plain": [
       "     ID      date       phone  type  \\\n",
       "23    2  20170704  6476695236     1   \n",
       "56    2  20170704  6476695236     1   \n",
       "65    2  20170704  6476695236     1   \n",
       "66    2  20170704  6476695236     1   \n",
       "78    2  20170704  6476695236     1   \n",
       "82    2  20170704  6476695236     1   \n",
       "108   3  20170710  6479959904     1   \n",
       "125   3  20170710  6479959904     1   \n",
       "137   3  20170710  6479959904     1   \n",
       "255   6  20170712  6478089169     1   \n",
       "\n",
       "                                              sentence emotion  threshold  \\\n",
       "23   唉没有，我联系一下，对礼拜六礼拜天你帮我看下去福州的，我老婆机票也有可能，我也感觉因为今天刚...      愤怒      1.538   \n",
       "56              8号的凌晨，那其他那个噢你你们最近怎么跟东航南航关系比较好，都是往南走。吧。      愤怒      2.116   \n",
       "65                                              东航呢4点半      愤怒      0.979   \n",
       "66                             噢东航东航4点半的对下午4点半的唉是到哪里了？      愤怒      1.034   \n",
       "78                                        还有这样子，现在买机票了      愤怒      0.975   \n",
       "82                                              啊广州转机啊      焦虑      1.007   \n",
       "108                 唉你好唉，你好，姚老板那里，我问一下那个退票汇票啊陈道明给我一下吗？     NaN      0.000   \n",
       "125                                       转账啊当然退票多man。      愤怒      3.041   \n",
       "137                                   你们岂不是要交手续费？这样子搞。      厌恶      1.723   \n",
       "255  但是它还是按照改票费用来算的，我当然它就只改这一段，它至少都要补300块钱。我因为车票的改签...      愤怒      1.423   \n",
       "\n",
       "    keyword     area country  \n",
       "23       机票  Ontario  Canada  \n",
       "56     东方航空  Ontario  Canada  \n",
       "65     东方航空  Ontario  Canada  \n",
       "66     东方航空  Ontario  Canada  \n",
       "78       机票  Ontario  Canada  \n",
       "82       转机  Ontario  Canada  \n",
       "108      退款  Ontario  Canada  \n",
       "125      退款  Ontario  Canada  \n",
       "137     手续费  Ontario  Canada  \n",
       "255      改签  Ontario  Canada  "
      ]
     },
     "execution_count": 19,
     "metadata": {},
     "output_type": "execute_result"
    }
   ],
   "source": [
    "customer.head(10)"
   ]
  },
  {
   "cell_type": "code",
   "execution_count": 20,
   "metadata": {
    "collapsed": true
   },
   "outputs": [],
   "source": [
    "customer.to_csv('带关键词的用户数据_0816.txt',encoding = 'utf-8',index = False,sep = '\\t')"
   ]
  },
  {
   "cell_type": "code",
   "execution_count": 21,
   "metadata": {
    "collapsed": false
   },
   "outputs": [
    {
     "data": {
      "text/html": [
       "<div>\n",
       "<style>\n",
       "    .dataframe thead tr:only-child th {\n",
       "        text-align: right;\n",
       "    }\n",
       "\n",
       "    .dataframe thead th {\n",
       "        text-align: left;\n",
       "    }\n",
       "\n",
       "    .dataframe tbody tr th {\n",
       "        vertical-align: top;\n",
       "    }\n",
       "</style>\n",
       "<table border=\"1\" class=\"dataframe\">\n",
       "  <thead>\n",
       "    <tr style=\"text-align: right;\">\n",
       "      <th></th>\n",
       "      <th>ID</th>\n",
       "    </tr>\n",
       "    <tr>\n",
       "      <th>keyword</th>\n",
       "      <th></th>\n",
       "    </tr>\n",
       "  </thead>\n",
       "  <tbody>\n",
       "    <tr>\n",
       "      <th>机票</th>\n",
       "      <td>309</td>\n",
       "    </tr>\n",
       "    <tr>\n",
       "      <th>出票</th>\n",
       "      <td>210</td>\n",
       "    </tr>\n",
       "    <tr>\n",
       "      <th>机场</th>\n",
       "      <td>137</td>\n",
       "    </tr>\n",
       "    <tr>\n",
       "      <th>信用卡</th>\n",
       "      <td>133</td>\n",
       "    </tr>\n",
       "    <tr>\n",
       "      <th>改签</th>\n",
       "      <td>132</td>\n",
       "    </tr>\n",
       "  </tbody>\n",
       "</table>\n",
       "</div>"
      ],
      "text/plain": [
       "          ID\n",
       "keyword     \n",
       "机票       309\n",
       "出票       210\n",
       "机场       137\n",
       "信用卡      133\n",
       "改签       132"
      ]
     },
     "execution_count": 21,
     "metadata": {},
     "output_type": "execute_result"
    }
   ],
   "source": [
    "grouped = customer.groupby('keyword')['ID'].count()\n",
    "people = pd.DataFrame(grouped.sort_values(ascending =False))\n",
    "people.head()"
   ]
  },
  {
   "cell_type": "code",
   "execution_count": 22,
   "metadata": {
    "collapsed": true
   },
   "outputs": [],
   "source": [
    "people.to_csv('关键词提及人数统计_0816.txt',sep = '\\t',encoding = 'utf-8')"
   ]
  },
  {
   "cell_type": "markdown",
   "metadata": {},
   "source": [
    "# 关键词词频处理"
   ]
  },
  {
   "cell_type": "code",
   "execution_count": 23,
   "metadata": {
    "collapsed": false
   },
   "outputs": [
    {
     "data": {
      "text/html": [
       "<div>\n",
       "<style>\n",
       "    .dataframe thead tr:only-child th {\n",
       "        text-align: right;\n",
       "    }\n",
       "\n",
       "    .dataframe thead th {\n",
       "        text-align: left;\n",
       "    }\n",
       "\n",
       "    .dataframe tbody tr th {\n",
       "        vertical-align: top;\n",
       "    }\n",
       "</style>\n",
       "<table border=\"1\" class=\"dataframe\">\n",
       "  <thead>\n",
       "    <tr style=\"text-align: right;\">\n",
       "      <th></th>\n",
       "      <th>keyword</th>\n",
       "      <th>词频</th>\n",
       "    </tr>\n",
       "  </thead>\n",
       "  <tbody>\n",
       "    <tr>\n",
       "      <th>0</th>\n",
       "      <td>邮箱</td>\n",
       "      <td>60</td>\n",
       "    </tr>\n",
       "    <tr>\n",
       "      <th>1</th>\n",
       "      <td>签证</td>\n",
       "      <td>136</td>\n",
       "    </tr>\n",
       "    <tr>\n",
       "      <th>2</th>\n",
       "      <td>手机</td>\n",
       "      <td>82</td>\n",
       "    </tr>\n",
       "    <tr>\n",
       "      <th>3</th>\n",
       "      <td>改签</td>\n",
       "      <td>107</td>\n",
       "    </tr>\n",
       "    <tr>\n",
       "      <th>4</th>\n",
       "      <td>海航</td>\n",
       "      <td>85</td>\n",
       "    </tr>\n",
       "  </tbody>\n",
       "</table>\n",
       "</div>"
      ],
      "text/plain": [
       "  keyword   词频\n",
       "0      邮箱   60\n",
       "1      签证  136\n",
       "2      手机   82\n",
       "3      改签  107\n",
       "4      海航   85"
      ]
     },
     "execution_count": 23,
     "metadata": {},
     "output_type": "execute_result"
    }
   ],
   "source": [
    "frequency = pd.read_table('keywords_frequency.txt',sep = '\\t')\n",
    "frequency.head()"
   ]
  },
  {
   "cell_type": "code",
   "execution_count": 24,
   "metadata": {
    "collapsed": false
   },
   "outputs": [
    {
     "data": {
      "text/html": [
       "<div>\n",
       "<style>\n",
       "    .dataframe thead tr:only-child th {\n",
       "        text-align: right;\n",
       "    }\n",
       "\n",
       "    .dataframe thead th {\n",
       "        text-align: left;\n",
       "    }\n",
       "\n",
       "    .dataframe tbody tr th {\n",
       "        vertical-align: top;\n",
       "    }\n",
       "</style>\n",
       "<table border=\"1\" class=\"dataframe\">\n",
       "  <thead>\n",
       "    <tr style=\"text-align: right;\">\n",
       "      <th></th>\n",
       "      <th>emotion</th>\n",
       "      <th>threshold</th>\n",
       "      <th>keyword</th>\n",
       "      <th>sentence</th>\n",
       "    </tr>\n",
       "  </thead>\n",
       "  <tbody>\n",
       "    <tr>\n",
       "      <th>0</th>\n",
       "      <td>NaN</td>\n",
       "      <td>0.000</td>\n",
       "      <td>NaN</td>\n",
       "      <td>嗯</td>\n",
       "    </tr>\n",
       "    <tr>\n",
       "      <th>1</th>\n",
       "      <td>NaN</td>\n",
       "      <td>0.000</td>\n",
       "      <td>NaN</td>\n",
       "      <td>喂你好，</td>\n",
       "    </tr>\n",
       "    <tr>\n",
       "      <th>2</th>\n",
       "      <td>NaN</td>\n",
       "      <td>0.000</td>\n",
       "      <td>NaN</td>\n",
       "      <td>你好，我是珍惜</td>\n",
       "    </tr>\n",
       "    <tr>\n",
       "      <th>3</th>\n",
       "      <td>NaN</td>\n",
       "      <td>0.000</td>\n",
       "      <td>NaN</td>\n",
       "      <td>刚才打电话给你啊你好，啊那个胡玉成有没有早上的飞机呢？</td>\n",
       "    </tr>\n",
       "    <tr>\n",
       "      <th>4</th>\n",
       "      <td>愤怒</td>\n",
       "      <td>1.123</td>\n",
       "      <td>NaN</td>\n",
       "      <td>早上啊看一下，对</td>\n",
       "    </tr>\n",
       "  </tbody>\n",
       "</table>\n",
       "</div>"
      ],
      "text/plain": [
       "  emotion  threshold keyword                     sentence\n",
       "0     NaN      0.000     NaN                            嗯\n",
       "1     NaN      0.000     NaN                         喂你好，\n",
       "2     NaN      0.000     NaN                      你好，我是珍惜\n",
       "3     NaN      0.000     NaN  刚才打电话给你啊你好，啊那个胡玉成有没有早上的飞机呢？\n",
       "4      愤怒      1.123     NaN                     早上啊看一下，对"
      ]
     },
     "execution_count": 24,
     "metadata": {},
     "output_type": "execute_result"
    }
   ],
   "source": [
    "dfb = dfa[['emotion','threshold','keyword','sentence']].copy()\n",
    "dfb.head()"
   ]
  },
  {
   "cell_type": "code",
   "execution_count": 25,
   "metadata": {
    "collapsed": false
   },
   "outputs": [
    {
     "data": {
      "text/html": [
       "<div>\n",
       "<style>\n",
       "    .dataframe thead tr:only-child th {\n",
       "        text-align: right;\n",
       "    }\n",
       "\n",
       "    .dataframe thead th {\n",
       "        text-align: left;\n",
       "    }\n",
       "\n",
       "    .dataframe tbody tr th {\n",
       "        vertical-align: top;\n",
       "    }\n",
       "</style>\n",
       "<table border=\"1\" class=\"dataframe\">\n",
       "  <thead>\n",
       "    <tr style=\"text-align: right;\">\n",
       "      <th></th>\n",
       "      <th>threshold</th>\n",
       "    </tr>\n",
       "    <tr>\n",
       "      <th>keyword</th>\n",
       "      <th></th>\n",
       "    </tr>\n",
       "  </thead>\n",
       "  <tbody>\n",
       "    <tr>\n",
       "      <th>EMAIL</th>\n",
       "      <td>0.649669</td>\n",
       "    </tr>\n",
       "    <tr>\n",
       "      <th>东方航空</th>\n",
       "      <td>1.067848</td>\n",
       "    </tr>\n",
       "    <tr>\n",
       "      <th>仓位</th>\n",
       "      <td>1.062924</td>\n",
       "    </tr>\n",
       "    <tr>\n",
       "      <th>保单</th>\n",
       "      <td>1.119417</td>\n",
       "    </tr>\n",
       "    <tr>\n",
       "      <th>保险公司</th>\n",
       "      <td>1.105520</td>\n",
       "    </tr>\n",
       "  </tbody>\n",
       "</table>\n",
       "</div>"
      ],
      "text/plain": [
       "         threshold\n",
       "keyword           \n",
       "EMAIL     0.649669\n",
       "东方航空      1.067848\n",
       "仓位        1.062924\n",
       "保单        1.119417\n",
       "保险公司      1.105520"
      ]
     },
     "execution_count": 25,
     "metadata": {},
     "output_type": "execute_result"
    }
   ],
   "source": [
    "dfb = pd.DataFrame(dfb.groupby('keyword').threshold.mean())\n",
    "dfb.head()"
   ]
  },
  {
   "cell_type": "code",
   "execution_count": 26,
   "metadata": {
    "collapsed": false
   },
   "outputs": [
    {
     "data": {
      "text/html": [
       "<div>\n",
       "<style>\n",
       "    .dataframe thead tr:only-child th {\n",
       "        text-align: right;\n",
       "    }\n",
       "\n",
       "    .dataframe thead th {\n",
       "        text-align: left;\n",
       "    }\n",
       "\n",
       "    .dataframe tbody tr th {\n",
       "        vertical-align: top;\n",
       "    }\n",
       "</style>\n",
       "<table border=\"1\" class=\"dataframe\">\n",
       "  <thead>\n",
       "    <tr style=\"text-align: right;\">\n",
       "      <th></th>\n",
       "      <th>threshold</th>\n",
       "    </tr>\n",
       "    <tr>\n",
       "      <th>keyword</th>\n",
       "      <th></th>\n",
       "    </tr>\n",
       "  </thead>\n",
       "  <tbody>\n",
       "    <tr>\n",
       "      <th>EMAIL</th>\n",
       "      <td>0.649669</td>\n",
       "    </tr>\n",
       "    <tr>\n",
       "      <th>东方航空</th>\n",
       "      <td>1.067848</td>\n",
       "    </tr>\n",
       "    <tr>\n",
       "      <th>仓位</th>\n",
       "      <td>1.062924</td>\n",
       "    </tr>\n",
       "    <tr>\n",
       "      <th>保单</th>\n",
       "      <td>1.119417</td>\n",
       "    </tr>\n",
       "    <tr>\n",
       "      <th>保险公司</th>\n",
       "      <td>1.105520</td>\n",
       "    </tr>\n",
       "  </tbody>\n",
       "</table>\n",
       "</div>"
      ],
      "text/plain": [
       "         threshold\n",
       "keyword           \n",
       "EMAIL     0.649669\n",
       "东方航空      1.067848\n",
       "仓位        1.062924\n",
       "保单        1.119417\n",
       "保险公司      1.105520"
      ]
     },
     "execution_count": 26,
     "metadata": {},
     "output_type": "execute_result"
    }
   ],
   "source": [
    "dfb = dfa[['emotion','threshold','keyword','sentence']].copy()\n",
    "dfb = pd.DataFrame(dfb.groupby('keyword').threshold.mean())\n",
    "dfb.head()"
   ]
  },
  {
   "cell_type": "code",
   "execution_count": 27,
   "metadata": {
    "collapsed": true
   },
   "outputs": [],
   "source": [
    "dfb.to_csv('keyword_thresh_0816.txt',sep ='\\t',encoding = 'utf-8')"
   ]
  },
  {
   "cell_type": "code",
   "execution_count": 28,
   "metadata": {
    "collapsed": false
   },
   "outputs": [
    {
     "data": {
      "text/html": [
       "<div>\n",
       "<style>\n",
       "    .dataframe thead tr:only-child th {\n",
       "        text-align: right;\n",
       "    }\n",
       "\n",
       "    .dataframe thead th {\n",
       "        text-align: left;\n",
       "    }\n",
       "\n",
       "    .dataframe tbody tr th {\n",
       "        vertical-align: top;\n",
       "    }\n",
       "</style>\n",
       "<table border=\"1\" class=\"dataframe\">\n",
       "  <thead>\n",
       "    <tr style=\"text-align: right;\">\n",
       "      <th></th>\n",
       "      <th>keyword</th>\n",
       "      <th>threshold</th>\n",
       "    </tr>\n",
       "  </thead>\n",
       "  <tbody>\n",
       "    <tr>\n",
       "      <th>0</th>\n",
       "      <td>EMAIL</td>\n",
       "      <td>0.283893</td>\n",
       "    </tr>\n",
       "    <tr>\n",
       "      <th>1</th>\n",
       "      <td>QQ</td>\n",
       "      <td>0.375427</td>\n",
       "    </tr>\n",
       "    <tr>\n",
       "      <th>2</th>\n",
       "      <td>wifi</td>\n",
       "      <td>0.289720</td>\n",
       "    </tr>\n",
       "    <tr>\n",
       "      <th>3</th>\n",
       "      <td>东方航空</td>\n",
       "      <td>0.854357</td>\n",
       "    </tr>\n",
       "    <tr>\n",
       "      <th>4</th>\n",
       "      <td>东航</td>\n",
       "      <td>0.590446</td>\n",
       "    </tr>\n",
       "  </tbody>\n",
       "</table>\n",
       "</div>"
      ],
      "text/plain": [
       "  keyword  threshold\n",
       "0   EMAIL   0.283893\n",
       "1      QQ   0.375427\n",
       "2    wifi   0.289720\n",
       "3    东方航空   0.854357\n",
       "4      东航   0.590446"
      ]
     },
     "execution_count": 28,
     "metadata": {},
     "output_type": "execute_result"
    }
   ],
   "source": [
    "dfc = pd.read_table('keyword_thresh.txt')\n",
    "dfc.head()"
   ]
  },
  {
   "cell_type": "code",
   "execution_count": 29,
   "metadata": {
    "collapsed": false
   },
   "outputs": [
    {
     "data": {
      "text/html": [
       "<div>\n",
       "<style>\n",
       "    .dataframe thead tr:only-child th {\n",
       "        text-align: right;\n",
       "    }\n",
       "\n",
       "    .dataframe thead th {\n",
       "        text-align: left;\n",
       "    }\n",
       "\n",
       "    .dataframe tbody tr th {\n",
       "        vertical-align: top;\n",
       "    }\n",
       "</style>\n",
       "<table border=\"1\" class=\"dataframe\">\n",
       "  <thead>\n",
       "    <tr style=\"text-align: right;\">\n",
       "      <th></th>\n",
       "      <th>keyword</th>\n",
       "      <th>词频</th>\n",
       "      <th>threshold</th>\n",
       "    </tr>\n",
       "  </thead>\n",
       "  <tbody>\n",
       "    <tr>\n",
       "      <th>0</th>\n",
       "      <td>邮箱</td>\n",
       "      <td>60</td>\n",
       "      <td>0.229984</td>\n",
       "    </tr>\n",
       "    <tr>\n",
       "      <th>1</th>\n",
       "      <td>签证</td>\n",
       "      <td>136</td>\n",
       "      <td>0.372948</td>\n",
       "    </tr>\n",
       "    <tr>\n",
       "      <th>2</th>\n",
       "      <td>手机</td>\n",
       "      <td>82</td>\n",
       "      <td>0.411692</td>\n",
       "    </tr>\n",
       "    <tr>\n",
       "      <th>3</th>\n",
       "      <td>改签</td>\n",
       "      <td>107</td>\n",
       "      <td>0.333408</td>\n",
       "    </tr>\n",
       "    <tr>\n",
       "      <th>4</th>\n",
       "      <td>海航</td>\n",
       "      <td>85</td>\n",
       "      <td>0.518408</td>\n",
       "    </tr>\n",
       "  </tbody>\n",
       "</table>\n",
       "</div>"
      ],
      "text/plain": [
       "  keyword   词频  threshold\n",
       "0      邮箱   60   0.229984\n",
       "1      签证  136   0.372948\n",
       "2      手机   82   0.411692\n",
       "3      改签  107   0.333408\n",
       "4      海航   85   0.518408"
      ]
     },
     "execution_count": 29,
     "metadata": {},
     "output_type": "execute_result"
    }
   ],
   "source": [
    "dfd = pd.merge(frequency[['keyword','词频']],dfc)\n",
    "dfd.head()"
   ]
  },
  {
   "cell_type": "code",
   "execution_count": 30,
   "metadata": {
    "collapsed": true
   },
   "outputs": [],
   "source": [
    "dfd.to_csv('关键词词频情绪_0816.txt',sep = ',',encoding = 'utf-8')"
   ]
  },
  {
   "cell_type": "code",
   "execution_count": null,
   "metadata": {
    "collapsed": true
   },
   "outputs": [],
   "source": []
  }
 ],
 "metadata": {
  "kernelspec": {
   "display_name": "Python 3",
   "language": "python",
   "name": "python3"
  },
  "language_info": {
   "codemirror_mode": {
    "name": "ipython",
    "version": 3
   },
   "file_extension": ".py",
   "mimetype": "text/x-python",
   "name": "python",
   "nbconvert_exporter": "python",
   "pygments_lexer": "ipython3",
   "version": "3.6.0"
  },
  "latex_envs": {
   "LaTeX_envs_menu_present": true,
   "autocomplete": true,
   "bibliofile": "biblio.bib",
   "cite_by": "apalike",
   "current_citInitial": 1,
   "eqLabelWithNumbers": true,
   "eqNumInitial": 1,
   "hotkeys": {
    "equation": "Ctrl-E",
    "itemize": "Ctrl-I"
   },
   "labels_anchors": false,
   "latex_user_defs": false,
   "report_style_numbering": false,
   "user_envs_cfg": false
  },
  "toc": {
   "colors": {
    "hover_highlight": "#DAA520",
    "running_highlight": "#FF0000",
    "selected_highlight": "#FFD700"
   },
   "moveMenuLeft": true,
   "nav_menu": {
    "height": "149px",
    "width": "253px"
   },
   "navigate_menu": true,
   "number_sections": true,
   "sideBar": true,
   "threshold": 4,
   "toc_cell": false,
   "toc_section_display": "block",
   "toc_window_display": false,
   "widenNotebook": false
  }
 },
 "nbformat": 4,
 "nbformat_minor": 2
}
