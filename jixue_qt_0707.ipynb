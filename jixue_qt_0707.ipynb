{
 "cells": [
  {
   "cell_type": "code",
   "execution_count": 1,
   "metadata": {
    "collapsed": false
   },
   "outputs": [],
   "source": [
    "import pandas as pd\n",
    "import numpy as np\n",
    "from pandas import Series,DataFrame\n",
    "from datetime import datetime\n",
    "import time,re\n",
    "import matplotlib as mpl\n",
    "mpl.rcParams['font.sans-serif'] = ['SimHei']\n",
    "import matplotlib.pyplot as plt\n",
    "%matplotlib inline"
   ]
  },
  {
   "cell_type": "markdown",
   "metadata": {},
   "source": [
    "# 读入晴天数据集"
   ]
  },
  {
   "cell_type": "code",
   "execution_count": 2,
   "metadata": {
    "collapsed": false
   },
   "outputs": [
    {
     "data": {
      "text/plain": [
       "(19917, 18)"
      ]
     },
     "execution_count": 2,
     "metadata": {},
     "output_type": "execute_result"
    }
   ],
   "source": [
    "qt = pd.read_table('qingtian.txt')\n",
    "qt.shape"
   ]
  },
  {
   "cell_type": "markdown",
   "metadata": {},
   "source": [
    "## 去掉无关字段"
   ]
  },
  {
   "cell_type": "code",
   "execution_count": 3,
   "metadata": {
    "collapsed": false
   },
   "outputs": [],
   "source": [
    "qt.drop('用户ID',axis = 1,inplace = True)"
   ]
  },
  {
   "cell_type": "markdown",
   "metadata": {},
   "source": [
    "## 在指定位置增加歌曲名字段"
   ]
  },
  {
   "cell_type": "code",
   "execution_count": 4,
   "metadata": {
    "collapsed": true
   },
   "outputs": [],
   "source": [
    "qt.insert(0,column = '歌曲名',value = '晴天')"
   ]
  },
  {
   "cell_type": "code",
   "execution_count": 5,
   "metadata": {
    "collapsed": false
   },
   "outputs": [
    {
     "data": {
      "text/plain": [
       "(19917, 18)"
      ]
     },
     "execution_count": 5,
     "metadata": {},
     "output_type": "execute_result"
    }
   ],
   "source": [
    "qt.shape"
   ]
  },
  {
   "cell_type": "markdown",
   "metadata": {},
   "source": [
    "## 字段顺序调整"
   ]
  },
  {
   "cell_type": "code",
   "execution_count": 6,
   "metadata": {
    "collapsed": false
   },
   "outputs": [
    {
     "data": {
      "text/html": [
       "<div>\n",
       "<style>\n",
       "    .dataframe thead tr:only-child th {\n",
       "        text-align: right;\n",
       "    }\n",
       "\n",
       "    .dataframe thead th {\n",
       "        text-align: left;\n",
       "    }\n",
       "\n",
       "    .dataframe tbody tr th {\n",
       "        vertical-align: top;\n",
       "    }\n",
       "</style>\n",
       "<table border=\"1\" class=\"dataframe\">\n",
       "  <thead>\n",
       "    <tr style=\"text-align: right;\">\n",
       "      <th></th>\n",
       "      <th>歌曲名</th>\n",
       "      <th>用户昵称</th>\n",
       "      <th>评论时间</th>\n",
       "      <th>点赞总数</th>\n",
       "      <th>评论内容</th>\n",
       "      <th>polarity</th>\n",
       "      <th>magnitude</th>\n",
       "      <th>乐观</th>\n",
       "      <th>愉快</th>\n",
       "      <th>兴奋</th>\n",
       "      <th>喜爱</th>\n",
       "      <th>害羞</th>\n",
       "      <th>悲伤</th>\n",
       "      <th>愤怒</th>\n",
       "      <th>恐惧</th>\n",
       "      <th>厌恶</th>\n",
       "      <th>惊讶</th>\n",
       "      <th>焦虑</th>\n",
       "    </tr>\n",
       "  </thead>\n",
       "  <tbody>\n",
       "    <tr>\n",
       "      <th>0</th>\n",
       "      <td>晴天</td>\n",
       "      <td>笙笙不熄</td>\n",
       "      <td>1.490684e+12</td>\n",
       "      <td>0.0</td>\n",
       "      <td>1111</td>\n",
       "      <td>46.110</td>\n",
       "      <td>0.202</td>\n",
       "      <td>0.0</td>\n",
       "      <td>0.178</td>\n",
       "      <td>0.178</td>\n",
       "      <td>0.186</td>\n",
       "      <td>0.0</td>\n",
       "      <td>0.0</td>\n",
       "      <td>0.288</td>\n",
       "      <td>0.17</td>\n",
       "      <td>0.0</td>\n",
       "      <td>0.0</td>\n",
       "      <td>0.0</td>\n",
       "    </tr>\n",
       "    <tr>\n",
       "      <th>1</th>\n",
       "      <td>晴天</td>\n",
       "      <td>乔先森1995</td>\n",
       "      <td>1.490683e+12</td>\n",
       "      <td>0.0</td>\n",
       "      <td>苏州园区的路过，哈哈哈</td>\n",
       "      <td>59.526</td>\n",
       "      <td>0.339</td>\n",
       "      <td>0.0</td>\n",
       "      <td>0.217</td>\n",
       "      <td>0.196</td>\n",
       "      <td>0.287</td>\n",
       "      <td>0.0</td>\n",
       "      <td>0.0</td>\n",
       "      <td>0.000</td>\n",
       "      <td>0.00</td>\n",
       "      <td>0.0</td>\n",
       "      <td>0.3</td>\n",
       "      <td>0.0</td>\n",
       "    </tr>\n",
       "  </tbody>\n",
       "</table>\n",
       "</div>"
      ],
      "text/plain": [
       "  歌曲名     用户昵称          评论时间  点赞总数         评论内容  polarity  magnitude   乐观  \\\n",
       "0  晴天     笙笙不熄  1.490684e+12   0.0         1111    46.110      0.202  0.0   \n",
       "1  晴天  乔先森1995  1.490683e+12   0.0  苏州园区的路过，哈哈哈    59.526      0.339  0.0   \n",
       "\n",
       "      愉快     兴奋     喜爱   害羞   悲伤     愤怒    恐惧   厌恶   惊讶   焦虑  \n",
       "0  0.178  0.178  0.186  0.0  0.0  0.288  0.17  0.0  0.0  0.0  \n",
       "1  0.217  0.196  0.287  0.0  0.0  0.000  0.00  0.0  0.3  0.0  "
      ]
     },
     "execution_count": 6,
     "metadata": {},
     "output_type": "execute_result"
    }
   ],
   "source": [
    "new_columns = ('歌曲名', '用户昵称', '评论时间', '点赞总数', '评论内容', 'polarity', 'magnitude', '乐观',\n",
    "       '愉快', '兴奋', '喜爱', '害羞', '悲伤', '愤怒', '恐惧', '厌恶', '惊讶', '焦虑')\n",
    "qt = qt.reindex_axis(new_columns,axis = 1)\n",
    "qt.head(2)"
   ]
  },
  {
   "cell_type": "markdown",
   "metadata": {},
   "source": [
    "## 评论时间处理"
   ]
  },
  {
   "cell_type": "code",
   "execution_count": 7,
   "metadata": {
    "collapsed": true
   },
   "outputs": [],
   "source": [
    "qt['评论时间'] = pd.to_datetime(qt['评论时间'], unit='ms').dt.strftime('%Y-%m-%d %H:%M:%S')"
   ]
  },
  {
   "cell_type": "code",
   "execution_count": 8,
   "metadata": {
    "collapsed": false
   },
   "outputs": [
    {
     "data": {
      "text/html": [
       "<div>\n",
       "<style>\n",
       "    .dataframe thead tr:only-child th {\n",
       "        text-align: right;\n",
       "    }\n",
       "\n",
       "    .dataframe thead th {\n",
       "        text-align: left;\n",
       "    }\n",
       "\n",
       "    .dataframe tbody tr th {\n",
       "        vertical-align: top;\n",
       "    }\n",
       "</style>\n",
       "<table border=\"1\" class=\"dataframe\">\n",
       "  <thead>\n",
       "    <tr style=\"text-align: right;\">\n",
       "      <th></th>\n",
       "      <th>歌曲名</th>\n",
       "      <th>用户昵称</th>\n",
       "      <th>评论时间</th>\n",
       "      <th>点赞总数</th>\n",
       "      <th>评论内容</th>\n",
       "      <th>polarity</th>\n",
       "      <th>magnitude</th>\n",
       "      <th>乐观</th>\n",
       "      <th>愉快</th>\n",
       "      <th>兴奋</th>\n",
       "      <th>喜爱</th>\n",
       "      <th>害羞</th>\n",
       "      <th>悲伤</th>\n",
       "      <th>愤怒</th>\n",
       "      <th>恐惧</th>\n",
       "      <th>厌恶</th>\n",
       "      <th>惊讶</th>\n",
       "      <th>焦虑</th>\n",
       "    </tr>\n",
       "  </thead>\n",
       "  <tbody>\n",
       "    <tr>\n",
       "      <th>0</th>\n",
       "      <td>晴天</td>\n",
       "      <td>笙笙不熄</td>\n",
       "      <td>2017-03-28 06:47:28</td>\n",
       "      <td>0.0</td>\n",
       "      <td>1111</td>\n",
       "      <td>46.110</td>\n",
       "      <td>0.202</td>\n",
       "      <td>0.0</td>\n",
       "      <td>0.178</td>\n",
       "      <td>0.178</td>\n",
       "      <td>0.186</td>\n",
       "      <td>0.0</td>\n",
       "      <td>0.0</td>\n",
       "      <td>0.288</td>\n",
       "      <td>0.17</td>\n",
       "      <td>0.0</td>\n",
       "      <td>0.0</td>\n",
       "      <td>0.0</td>\n",
       "    </tr>\n",
       "    <tr>\n",
       "      <th>1</th>\n",
       "      <td>晴天</td>\n",
       "      <td>乔先森1995</td>\n",
       "      <td>2017-03-28 06:43:53</td>\n",
       "      <td>0.0</td>\n",
       "      <td>苏州园区的路过，哈哈哈</td>\n",
       "      <td>59.526</td>\n",
       "      <td>0.339</td>\n",
       "      <td>0.0</td>\n",
       "      <td>0.217</td>\n",
       "      <td>0.196</td>\n",
       "      <td>0.287</td>\n",
       "      <td>0.0</td>\n",
       "      <td>0.0</td>\n",
       "      <td>0.000</td>\n",
       "      <td>0.00</td>\n",
       "      <td>0.0</td>\n",
       "      <td>0.3</td>\n",
       "      <td>0.0</td>\n",
       "    </tr>\n",
       "  </tbody>\n",
       "</table>\n",
       "</div>"
      ],
      "text/plain": [
       "  歌曲名     用户昵称                 评论时间  点赞总数         评论内容  polarity  magnitude  \\\n",
       "0  晴天     笙笙不熄  2017-03-28 06:47:28   0.0         1111    46.110      0.202   \n",
       "1  晴天  乔先森1995  2017-03-28 06:43:53   0.0  苏州园区的路过，哈哈哈    59.526      0.339   \n",
       "\n",
       "    乐观     愉快     兴奋     喜爱   害羞   悲伤     愤怒    恐惧   厌恶   惊讶   焦虑  \n",
       "0  0.0  0.178  0.178  0.186  0.0  0.0  0.288  0.17  0.0  0.0  0.0  \n",
       "1  0.0  0.217  0.196  0.287  0.0  0.0  0.000  0.00  0.0  0.3  0.0  "
      ]
     },
     "execution_count": 8,
     "metadata": {},
     "output_type": "execute_result"
    }
   ],
   "source": [
    "qt.head(2)"
   ]
  },
  {
   "cell_type": "markdown",
   "metadata": {},
   "source": [
    "# 读入彩虹、蒲公英的约定数据集"
   ]
  },
  {
   "cell_type": "code",
   "execution_count": 9,
   "metadata": {
    "collapsed": false
   },
   "outputs": [
    {
     "data": {
      "text/plain": [
       "(27297, 18)"
      ]
     },
     "execution_count": 9,
     "metadata": {},
     "output_type": "execute_result"
    }
   ],
   "source": [
    "ch = pd.read_table('jay_zhou-result.txt')\n",
    "ch.shape"
   ]
  },
  {
   "cell_type": "code",
   "execution_count": 10,
   "metadata": {
    "collapsed": false
   },
   "outputs": [],
   "source": [
    "ch = ch.reindex_axis(new_columns,axis = 1)"
   ]
  },
  {
   "cell_type": "code",
   "execution_count": 11,
   "metadata": {
    "collapsed": false
   },
   "outputs": [
    {
     "data": {
      "text/html": [
       "<div>\n",
       "<style>\n",
       "    .dataframe thead tr:only-child th {\n",
       "        text-align: right;\n",
       "    }\n",
       "\n",
       "    .dataframe thead th {\n",
       "        text-align: left;\n",
       "    }\n",
       "\n",
       "    .dataframe tbody tr th {\n",
       "        vertical-align: top;\n",
       "    }\n",
       "</style>\n",
       "<table border=\"1\" class=\"dataframe\">\n",
       "  <thead>\n",
       "    <tr style=\"text-align: right;\">\n",
       "      <th></th>\n",
       "      <th>歌曲名</th>\n",
       "      <th>用户昵称</th>\n",
       "      <th>评论时间</th>\n",
       "      <th>点赞总数</th>\n",
       "      <th>评论内容</th>\n",
       "      <th>polarity</th>\n",
       "      <th>magnitude</th>\n",
       "      <th>乐观</th>\n",
       "      <th>愉快</th>\n",
       "      <th>兴奋</th>\n",
       "      <th>喜爱</th>\n",
       "      <th>害羞</th>\n",
       "      <th>悲伤</th>\n",
       "      <th>愤怒</th>\n",
       "      <th>恐惧</th>\n",
       "      <th>厌恶</th>\n",
       "      <th>惊讶</th>\n",
       "      <th>焦虑</th>\n",
       "    </tr>\n",
       "  </thead>\n",
       "  <tbody>\n",
       "    <tr>\n",
       "      <th>0</th>\n",
       "      <td>彩虹</td>\n",
       "      <td>cp33</td>\n",
       "      <td>2014-11-10</td>\n",
       "      <td>51822</td>\n",
       "      <td>高一那年，暗恋一个女孩，她说她最爱听彩虹，我就反复练习，终于等到一个机会，在电话里唱给她听，...</td>\n",
       "      <td>69.786</td>\n",
       "      <td>0.209</td>\n",
       "      <td>0.142363</td>\n",
       "      <td>0.154925</td>\n",
       "      <td>0.135385</td>\n",
       "      <td>0.265187</td>\n",
       "      <td>0.0</td>\n",
       "      <td>0.0</td>\n",
       "      <td>0.149257</td>\n",
       "      <td>0.042300</td>\n",
       "      <td>0.0</td>\n",
       "      <td>0.053479</td>\n",
       "      <td>0.057407</td>\n",
       "    </tr>\n",
       "    <tr>\n",
       "      <th>1</th>\n",
       "      <td>彩虹</td>\n",
       "      <td>啵喵</td>\n",
       "      <td>2015-08-28</td>\n",
       "      <td>26484</td>\n",
       "      <td>把《彩虹》的歌词和蔡依林的《倒带》对照着听倒带:你累积给的伤害我是真的很难释怀彩虹:释怀说了...</td>\n",
       "      <td>65.641</td>\n",
       "      <td>0.364</td>\n",
       "      <td>0.200205</td>\n",
       "      <td>0.127344</td>\n",
       "      <td>0.117497</td>\n",
       "      <td>0.211364</td>\n",
       "      <td>0.0</td>\n",
       "      <td>0.0</td>\n",
       "      <td>0.242918</td>\n",
       "      <td>0.100672</td>\n",
       "      <td>0.0</td>\n",
       "      <td>0.000000</td>\n",
       "      <td>0.000000</td>\n",
       "    </tr>\n",
       "  </tbody>\n",
       "</table>\n",
       "</div>"
      ],
      "text/plain": [
       "  歌曲名  用户昵称        评论时间   点赞总数  \\\n",
       "0  彩虹  cp33  2014-11-10  51822   \n",
       "1  彩虹    啵喵  2015-08-28  26484   \n",
       "\n",
       "                                                评论内容  polarity  magnitude  \\\n",
       "0  高一那年，暗恋一个女孩，她说她最爱听彩虹，我就反复练习，终于等到一个机会，在电话里唱给她听，...    69.786      0.209   \n",
       "1  把《彩虹》的歌词和蔡依林的《倒带》对照着听倒带:你累积给的伤害我是真的很难释怀彩虹:释怀说了...    65.641      0.364   \n",
       "\n",
       "         乐观        愉快        兴奋        喜爱   害羞   悲伤        愤怒        恐惧   厌恶  \\\n",
       "0  0.142363  0.154925  0.135385  0.265187  0.0  0.0  0.149257  0.042300  0.0   \n",
       "1  0.200205  0.127344  0.117497  0.211364  0.0  0.0  0.242918  0.100672  0.0   \n",
       "\n",
       "         惊讶        焦虑  \n",
       "0  0.053479  0.057407  \n",
       "1  0.000000  0.000000  "
      ]
     },
     "execution_count": 11,
     "metadata": {},
     "output_type": "execute_result"
    }
   ],
   "source": [
    "ch.head(2)"
   ]
  },
  {
   "cell_type": "markdown",
   "metadata": {},
   "source": [
    "# 数据集合成"
   ]
  },
  {
   "cell_type": "code",
   "execution_count": 12,
   "metadata": {
    "collapsed": false
   },
   "outputs": [
    {
     "data": {
      "text/plain": [
       "(47214, 18)"
      ]
     },
     "execution_count": 12,
     "metadata": {},
     "output_type": "execute_result"
    }
   ],
   "source": [
    "df = pd.concat([qt,ch],ignore_index = True)\n",
    "df.shape"
   ]
  },
  {
   "cell_type": "code",
   "execution_count": 13,
   "metadata": {
    "collapsed": false
   },
   "outputs": [
    {
     "data": {
      "text/html": [
       "<div>\n",
       "<style>\n",
       "    .dataframe thead tr:only-child th {\n",
       "        text-align: right;\n",
       "    }\n",
       "\n",
       "    .dataframe thead th {\n",
       "        text-align: left;\n",
       "    }\n",
       "\n",
       "    .dataframe tbody tr th {\n",
       "        vertical-align: top;\n",
       "    }\n",
       "</style>\n",
       "<table border=\"1\" class=\"dataframe\">\n",
       "  <thead>\n",
       "    <tr style=\"text-align: right;\">\n",
       "      <th></th>\n",
       "      <th>歌曲名</th>\n",
       "      <th>用户昵称</th>\n",
       "      <th>评论时间</th>\n",
       "      <th>点赞总数</th>\n",
       "      <th>评论内容</th>\n",
       "      <th>polarity</th>\n",
       "      <th>magnitude</th>\n",
       "      <th>乐观</th>\n",
       "      <th>愉快</th>\n",
       "      <th>兴奋</th>\n",
       "      <th>喜爱</th>\n",
       "      <th>害羞</th>\n",
       "      <th>悲伤</th>\n",
       "      <th>愤怒</th>\n",
       "      <th>恐惧</th>\n",
       "      <th>厌恶</th>\n",
       "      <th>惊讶</th>\n",
       "      <th>焦虑</th>\n",
       "    </tr>\n",
       "  </thead>\n",
       "  <tbody>\n",
       "    <tr>\n",
       "      <th>0</th>\n",
       "      <td>晴天</td>\n",
       "      <td>笙笙不熄</td>\n",
       "      <td>2017-03-28 06:47:28</td>\n",
       "      <td>0.0</td>\n",
       "      <td>1111</td>\n",
       "      <td>46.110</td>\n",
       "      <td>0.202</td>\n",
       "      <td>0.0</td>\n",
       "      <td>0.178</td>\n",
       "      <td>0.178</td>\n",
       "      <td>0.186</td>\n",
       "      <td>0.0</td>\n",
       "      <td>0.0</td>\n",
       "      <td>0.288</td>\n",
       "      <td>0.17</td>\n",
       "      <td>0.0</td>\n",
       "      <td>0.0</td>\n",
       "      <td>0.0</td>\n",
       "    </tr>\n",
       "    <tr>\n",
       "      <th>1</th>\n",
       "      <td>晴天</td>\n",
       "      <td>乔先森1995</td>\n",
       "      <td>2017-03-28 06:43:53</td>\n",
       "      <td>0.0</td>\n",
       "      <td>苏州园区的路过，哈哈哈</td>\n",
       "      <td>59.526</td>\n",
       "      <td>0.339</td>\n",
       "      <td>0.0</td>\n",
       "      <td>0.217</td>\n",
       "      <td>0.196</td>\n",
       "      <td>0.287</td>\n",
       "      <td>0.0</td>\n",
       "      <td>0.0</td>\n",
       "      <td>0.000</td>\n",
       "      <td>0.00</td>\n",
       "      <td>0.0</td>\n",
       "      <td>0.3</td>\n",
       "      <td>0.0</td>\n",
       "    </tr>\n",
       "  </tbody>\n",
       "</table>\n",
       "</div>"
      ],
      "text/plain": [
       "  歌曲名     用户昵称                 评论时间  点赞总数         评论内容  polarity  magnitude  \\\n",
       "0  晴天     笙笙不熄  2017-03-28 06:47:28   0.0         1111    46.110      0.202   \n",
       "1  晴天  乔先森1995  2017-03-28 06:43:53   0.0  苏州园区的路过，哈哈哈    59.526      0.339   \n",
       "\n",
       "    乐观     愉快     兴奋     喜爱   害羞   悲伤     愤怒    恐惧   厌恶   惊讶   焦虑  \n",
       "0  0.0  0.178  0.178  0.186  0.0  0.0  0.288  0.17  0.0  0.0  0.0  \n",
       "1  0.0  0.217  0.196  0.287  0.0  0.0  0.000  0.00  0.0  0.3  0.0  "
      ]
     },
     "execution_count": 13,
     "metadata": {},
     "output_type": "execute_result"
    }
   ],
   "source": [
    "df.head(2)"
   ]
  },
  {
   "cell_type": "code",
   "execution_count": 14,
   "metadata": {
    "collapsed": false
   },
   "outputs": [
    {
     "data": {
      "text/plain": [
       "Index(['歌曲名', '用户昵称', '评论时间', '点赞总数', '评论内容', 'polarity', 'magnitude', '乐观',\n",
       "       '愉快', '兴奋', '喜爱', '害羞', '悲伤', '愤怒', '恐惧', '厌恶', '惊讶', '焦虑'],\n",
       "      dtype='object')"
      ]
     },
     "execution_count": 14,
     "metadata": {},
     "output_type": "execute_result"
    }
   ],
   "source": [
    "df.columns"
   ]
  },
  {
   "cell_type": "markdown",
   "metadata": {},
   "source": [
    "# 表情提取"
   ]
  },
  {
   "cell_type": "code",
   "execution_count": 15,
   "metadata": {
    "collapsed": false
   },
   "outputs": [
    {
     "data": {
      "text/plain": [
       "      43645\n",
       "流泪      366\n",
       "爱心      340\n",
       "可爱      332\n",
       "大哭      330\n",
       "Name: emo, dtype: int64"
      ]
     },
     "execution_count": 15,
     "metadata": {},
     "output_type": "execute_result"
    }
   ],
   "source": [
    "df['emo'] = df['评论内容'].str.findall(r'\\[(.*?)\\]',re.I|re.M)\n",
    "df['emo'] = df['emo'].str[0].replace(r'[\\[\\]]','\\t')\n",
    "df['emo'].map(lambda x:x.strip() if isinstance(x,str) else x).head(10)\n",
    "df['emo'] = df['emo'].str.split('\\t+')\n",
    "df['emo'] = df['emo'].map(lambda x: ','.join(x) if isinstance(x, list) else '')\n",
    "df['emo'].value_counts().head()"
   ]
  },
  {
   "cell_type": "markdown",
   "metadata": {},
   "source": [
    "# 增加评论长度字段"
   ]
  },
  {
   "cell_type": "code",
   "execution_count": 16,
   "metadata": {
    "collapsed": true
   },
   "outputs": [],
   "source": [
    "df.insert(4,column = '评论长度',value = df['评论内容'].str.len())"
   ]
  },
  {
   "cell_type": "markdown",
   "metadata": {
    "collapsed": true
   },
   "source": [
    "# discussion result"
   ]
  },
  {
   "cell_type": "markdown",
   "metadata": {},
   "source": [
    "## 一天24小时评论数的变化"
   ]
  },
  {
   "cell_type": "markdown",
   "metadata": {},
   "source": [
    "![](when.png)"
   ]
  },
  {
   "cell_type": "markdown",
   "metadata": {},
   "source": [
    "## 评论中提及的城市分布"
   ]
  },
  {
   "cell_type": "code",
   "execution_count": 17,
   "metadata": {
    "collapsed": true
   },
   "outputs": [],
   "source": [
    "citylist = ['苏州','北京','上海','天津','成都',\n",
    "            '南京','广州','杭州','芜湖','长春',\n",
    "            '黄山','烟台','无锡','榆林','新余',\n",
    "            '晋江','湘潭','襄阳','江门','绵阳',\n",
    "            '婺源','荆州','哈尔滨','庐州','柳州',\n",
    "            '金华','秦皇岛','南阳','益阳','渭南',\n",
    "            '淄博','绍兴','广安','贵阳','常州',\n",
    "            '上饶','泰安','池州','绵阳','九江',\n",
    "            '呼和浩特','佛山','莆田','南昌','遵义',\n",
    "            '马鞍山','衡阳','东莞','淮南','玉林',\n",
    "            '咸阳','淮安','雅安','长沙','德州',\n",
    "            '深圳','福州','武汉','沈阳','泉州',\n",
    "            '厦门','杭州','郑州','西安','南宁',\n",
    "            '嘉兴','兰州','珠海','潍坊','商丘',\n",
    "            '合肥','重庆','昆明','连云港','宜兴',\n",
    "            '温州','济南','宁波']"
   ]
  },
  {
   "cell_type": "code",
   "execution_count": 18,
   "metadata": {
    "collapsed": false
   },
   "outputs": [],
   "source": [
    "df['城市'] = df['评论内容'].str.findall(r'|'.join(citylist),re.I|re.M)\n",
    "df['城市'] = df['城市'].str[0].replace(r'[\\[\\]]','\\t+')"
   ]
  },
  {
   "cell_type": "code",
   "execution_count": 33,
   "metadata": {
    "collapsed": false
   },
   "outputs": [
    {
     "data": {
      "text/html": [
       "<div>\n",
       "<style>\n",
       "    .dataframe thead tr:only-child th {\n",
       "        text-align: right;\n",
       "    }\n",
       "\n",
       "    .dataframe thead th {\n",
       "        text-align: left;\n",
       "    }\n",
       "\n",
       "    .dataframe tbody tr th {\n",
       "        vertical-align: top;\n",
       "    }\n",
       "</style>\n",
       "<table border=\"1\" class=\"dataframe\">\n",
       "  <thead>\n",
       "    <tr style=\"text-align: right;\">\n",
       "      <th></th>\n",
       "      <th>城市</th>\n",
       "    </tr>\n",
       "  </thead>\n",
       "  <tbody>\n",
       "    <tr>\n",
       "      <th>南京</th>\n",
       "      <td>107</td>\n",
       "    </tr>\n",
       "    <tr>\n",
       "      <th>武汉</th>\n",
       "      <td>96</td>\n",
       "    </tr>\n",
       "    <tr>\n",
       "      <th>重庆</th>\n",
       "      <td>90</td>\n",
       "    </tr>\n",
       "    <tr>\n",
       "      <th>西安</th>\n",
       "      <td>79</td>\n",
       "    </tr>\n",
       "    <tr>\n",
       "      <th>成都</th>\n",
       "      <td>78</td>\n",
       "    </tr>\n",
       "  </tbody>\n",
       "</table>\n",
       "</div>"
      ],
      "text/plain": [
       "     城市\n",
       "南京  107\n",
       "武汉   96\n",
       "重庆   90\n",
       "西安   79\n",
       "成都   78"
      ]
     },
     "execution_count": 33,
     "metadata": {},
     "output_type": "execute_result"
    }
   ],
   "source": [
    "city = pd.DataFrame(df['城市'].value_counts())\n",
    "city.head()"
   ]
  },
  {
   "cell_type": "markdown",
   "metadata": {},
   "source": [
    "## 点赞数与评论长度"
   ]
  },
  {
   "cell_type": "code",
   "execution_count": 20,
   "metadata": {
    "collapsed": false
   },
   "outputs": [
    {
     "data": {
      "image/png": "[encoded data removed]",
      "text/plain": [
       "<matplotlib.figure.Figure at 0x1dcb0cbd860>"
      ]
     },
     "metadata": {},
     "output_type": "display_data"
    }
   ],
   "source": [
    "df.sort_values(by = '点赞总数',ascending = False)\n",
    "x = df['点赞总数']\n",
    "y = df['评论长度']\n",
    "plt.scatter(x,y)\n",
    "plt.title('点赞数与评论长度的关系')\n",
    "plt.xlabel('点赞数')\n",
    "plt.ylabel('评论长度')\n",
    "plt.grid()"
   ]
  },
  {
   "cell_type": "code",
   "execution_count": 21,
   "metadata": {
    "collapsed": false
   },
   "outputs": [
    {
     "data": {
      "text/plain": [
       "23.20269840933641"
      ]
     },
     "execution_count": 21,
     "metadata": {},
     "output_type": "execute_result"
    }
   ],
   "source": [
    "df['评论长度'].mean()"
   ]
  },
  {
   "cell_type": "code",
   "execution_count": 22,
   "metadata": {
    "collapsed": false
   },
   "outputs": [
    {
     "data": {
      "text/html": [
       "<div>\n",
       "<style>\n",
       "    .dataframe thead tr:only-child th {\n",
       "        text-align: right;\n",
       "    }\n",
       "\n",
       "    .dataframe thead th {\n",
       "        text-align: left;\n",
       "    }\n",
       "\n",
       "    .dataframe tbody tr th {\n",
       "        vertical-align: top;\n",
       "    }\n",
       "</style>\n",
       "<table border=\"1\" class=\"dataframe\">\n",
       "  <thead>\n",
       "    <tr style=\"text-align: right;\">\n",
       "      <th></th>\n",
       "      <th>评论长度</th>\n",
       "    </tr>\n",
       "  </thead>\n",
       "  <tbody>\n",
       "    <tr>\n",
       "      <th>4.0</th>\n",
       "      <td>2739</td>\n",
       "    </tr>\n",
       "    <tr>\n",
       "      <th>7.0</th>\n",
       "      <td>2177</td>\n",
       "    </tr>\n",
       "    <tr>\n",
       "      <th>8.0</th>\n",
       "      <td>1998</td>\n",
       "    </tr>\n",
       "    <tr>\n",
       "      <th>12.0</th>\n",
       "      <td>1993</td>\n",
       "    </tr>\n",
       "    <tr>\n",
       "      <th>11.0</th>\n",
       "      <td>1956</td>\n",
       "    </tr>\n",
       "  </tbody>\n",
       "</table>\n",
       "</div>"
      ],
      "text/plain": [
       "      评论长度\n",
       "4.0   2739\n",
       "7.0   2177\n",
       "8.0   1998\n",
       "12.0  1993\n",
       "11.0  1956"
      ]
     },
     "execution_count": 22,
     "metadata": {},
     "output_type": "execute_result"
    }
   ],
   "source": [
    "length = pd.DataFrame(df['评论长度'].value_counts())\n",
    "length.head()"
   ]
  },
  {
   "cell_type": "code",
   "execution_count": 34,
   "metadata": {
    "collapsed": false
   },
   "outputs": [
    {
     "data": {
      "text/html": [
       "<div>\n",
       "<style>\n",
       "    .dataframe thead tr:only-child th {\n",
       "        text-align: right;\n",
       "    }\n",
       "\n",
       "    .dataframe thead th {\n",
       "        text-align: left;\n",
       "    }\n",
       "\n",
       "    .dataframe tbody tr th {\n",
       "        vertical-align: top;\n",
       "    }\n",
       "</style>\n",
       "<table border=\"1\" class=\"dataframe\">\n",
       "  <thead>\n",
       "    <tr style=\"text-align: right;\">\n",
       "      <th></th>\n",
       "      <th>评论长度</th>\n",
       "      <th>点赞总数</th>\n",
       "    </tr>\n",
       "  </thead>\n",
       "  <tbody>\n",
       "    <tr>\n",
       "      <th>0</th>\n",
       "      <td>4.0</td>\n",
       "      <td>0.0</td>\n",
       "    </tr>\n",
       "    <tr>\n",
       "      <th>1</th>\n",
       "      <td>11.0</td>\n",
       "      <td>0.0</td>\n",
       "    </tr>\n",
       "    <tr>\n",
       "      <th>2</th>\n",
       "      <td>21.0</td>\n",
       "      <td>0.0</td>\n",
       "    </tr>\n",
       "    <tr>\n",
       "      <th>3</th>\n",
       "      <td>11.0</td>\n",
       "      <td>0.0</td>\n",
       "    </tr>\n",
       "    <tr>\n",
       "      <th>4</th>\n",
       "      <td>29.0</td>\n",
       "      <td>0.0</td>\n",
       "    </tr>\n",
       "  </tbody>\n",
       "</table>\n",
       "</div>"
      ],
      "text/plain": [
       "   评论长度  点赞总数\n",
       "0   4.0   0.0\n",
       "1  11.0   0.0\n",
       "2  21.0   0.0\n",
       "3  11.0   0.0\n",
       "4  29.0   0.0"
      ]
     },
     "execution_count": 34,
     "metadata": {},
     "output_type": "execute_result"
    }
   ],
   "source": [
    "a = df[['评论长度','点赞总数']].copy()\n",
    "a.head(5)"
   ]
  },
  {
   "cell_type": "code",
   "execution_count": 35,
   "metadata": {
    "collapsed": false
   },
   "outputs": [
    {
     "data": {
      "text/html": [
       "<div>\n",
       "<style>\n",
       "    .dataframe thead tr:only-child th {\n",
       "        text-align: right;\n",
       "    }\n",
       "\n",
       "    .dataframe thead th {\n",
       "        text-align: left;\n",
       "    }\n",
       "\n",
       "    .dataframe tbody tr th {\n",
       "        vertical-align: top;\n",
       "    }\n",
       "</style>\n",
       "<table border=\"1\" class=\"dataframe\">\n",
       "  <thead>\n",
       "    <tr style=\"text-align: right;\">\n",
       "      <th></th>\n",
       "      <th>评论长度</th>\n",
       "      <th>点赞总数</th>\n",
       "      <th>COUNT</th>\n",
       "    </tr>\n",
       "  </thead>\n",
       "  <tbody>\n",
       "    <tr>\n",
       "      <th>0</th>\n",
       "      <td>4.0</td>\n",
       "      <td>0.0</td>\n",
       "      <td>1</td>\n",
       "    </tr>\n",
       "    <tr>\n",
       "      <th>1</th>\n",
       "      <td>11.0</td>\n",
       "      <td>0.0</td>\n",
       "      <td>1</td>\n",
       "    </tr>\n",
       "    <tr>\n",
       "      <th>2</th>\n",
       "      <td>21.0</td>\n",
       "      <td>0.0</td>\n",
       "      <td>1</td>\n",
       "    </tr>\n",
       "    <tr>\n",
       "      <th>3</th>\n",
       "      <td>11.0</td>\n",
       "      <td>0.0</td>\n",
       "      <td>1</td>\n",
       "    </tr>\n",
       "    <tr>\n",
       "      <th>4</th>\n",
       "      <td>29.0</td>\n",
       "      <td>0.0</td>\n",
       "      <td>1</td>\n",
       "    </tr>\n",
       "  </tbody>\n",
       "</table>\n",
       "</div>"
      ],
      "text/plain": [
       "   评论长度  点赞总数  COUNT\n",
       "0   4.0   0.0      1\n",
       "1  11.0   0.0      1\n",
       "2  21.0   0.0      1\n",
       "3  11.0   0.0      1\n",
       "4  29.0   0.0      1"
      ]
     },
     "execution_count": 35,
     "metadata": {},
     "output_type": "execute_result"
    }
   ],
   "source": [
    "a['COUNT'] = 1\n",
    "a.head()"
   ]
  },
  {
   "cell_type": "code",
   "execution_count": 36,
   "metadata": {
    "collapsed": false
   },
   "outputs": [
    {
     "data": {
      "text/html": [
       "<div>\n",
       "<style>\n",
       "    .dataframe thead tr:only-child th {\n",
       "        text-align: right;\n",
       "    }\n",
       "\n",
       "    .dataframe thead th {\n",
       "        text-align: left;\n",
       "    }\n",
       "\n",
       "    .dataframe tbody tr th {\n",
       "        vertical-align: top;\n",
       "    }\n",
       "</style>\n",
       "<table border=\"1\" class=\"dataframe\">\n",
       "  <thead>\n",
       "    <tr style=\"text-align: right;\">\n",
       "      <th></th>\n",
       "      <th>评论长度</th>\n",
       "      <th>COUNT</th>\n",
       "      <th>点赞总数</th>\n",
       "    </tr>\n",
       "  </thead>\n",
       "  <tbody>\n",
       "    <tr>\n",
       "      <th>0</th>\n",
       "      <td>1.0</td>\n",
       "      <td>347</td>\n",
       "      <td>650.0</td>\n",
       "    </tr>\n",
       "    <tr>\n",
       "      <th>1</th>\n",
       "      <td>2.0</td>\n",
       "      <td>1859</td>\n",
       "      <td>2951.0</td>\n",
       "    </tr>\n",
       "    <tr>\n",
       "      <th>2</th>\n",
       "      <td>3.0</td>\n",
       "      <td>1484</td>\n",
       "      <td>2219.0</td>\n",
       "    </tr>\n",
       "    <tr>\n",
       "      <th>3</th>\n",
       "      <td>4.0</td>\n",
       "      <td>2739</td>\n",
       "      <td>5378.0</td>\n",
       "    </tr>\n",
       "    <tr>\n",
       "      <th>4</th>\n",
       "      <td>5.0</td>\n",
       "      <td>1848</td>\n",
       "      <td>2986.0</td>\n",
       "    </tr>\n",
       "  </tbody>\n",
       "</table>\n",
       "</div>"
      ],
      "text/plain": [
       "   评论长度  COUNT    点赞总数\n",
       "0   1.0    347   650.0\n",
       "1   2.0   1859  2951.0\n",
       "2   3.0   1484  2219.0\n",
       "3   4.0   2739  5378.0\n",
       "4   5.0   1848  2986.0"
      ]
     },
     "execution_count": 36,
     "metadata": {},
     "output_type": "execute_result"
    }
   ],
   "source": [
    "a.groupby('评论长度').agg({'COUNT':'sum','点赞总数':'sum'}).reset_index().head()"
   ]
  },
  {
   "cell_type": "code",
   "execution_count": 26,
   "metadata": {
    "collapsed": false
   },
   "outputs": [
    {
     "data": {
      "text/html": [
       "<div>\n",
       "<style>\n",
       "    .dataframe thead tr:only-child th {\n",
       "        text-align: right;\n",
       "    }\n",
       "\n",
       "    .dataframe thead th {\n",
       "        text-align: left;\n",
       "    }\n",
       "\n",
       "    .dataframe tbody tr th {\n",
       "        vertical-align: top;\n",
       "    }\n",
       "</style>\n",
       "<table border=\"1\" class=\"dataframe\">\n",
       "  <thead>\n",
       "    <tr style=\"text-align: right;\">\n",
       "      <th></th>\n",
       "      <th>评论类别</th>\n",
       "    </tr>\n",
       "  </thead>\n",
       "  <tbody>\n",
       "    <tr>\n",
       "      <th>短评</th>\n",
       "      <td>41924</td>\n",
       "    </tr>\n",
       "    <tr>\n",
       "      <th>中评</th>\n",
       "      <td>3546</td>\n",
       "    </tr>\n",
       "    <tr>\n",
       "      <th>较长评</th>\n",
       "      <td>1733</td>\n",
       "    </tr>\n",
       "    <tr>\n",
       "      <th>长评</th>\n",
       "      <td>10</td>\n",
       "    </tr>\n",
       "  </tbody>\n",
       "</table>\n",
       "</div>"
      ],
      "text/plain": [
       "      评论类别\n",
       "短评   41924\n",
       "中评    3546\n",
       "较长评   1733\n",
       "长评      10"
      ]
     },
     "execution_count": 26,
     "metadata": {},
     "output_type": "execute_result"
    }
   ],
   "source": [
    "df.loc[df['评论长度']<=50,'评论类别']='短评'\n",
    "df.loc[(df['评论长度']>50) & (df['评论长度']<=100),'评论类别']= '中评'\n",
    "df.loc[(df['评论长度']>100) & (df['评论长度']<=150),'评论类别']= '较长评'\n",
    "df.loc[df['评论长度']>150,'评论类别']= '长评'\n",
    "pd.DataFrame(df['评论类别'].value_counts())"
   ]
  },
  {
   "cell_type": "code",
   "execution_count": 48,
   "metadata": {
    "collapsed": false
   },
   "outputs": [
    {
     "data": {
      "text/html": [
       "<div>\n",
       "<style>\n",
       "    .dataframe thead tr:only-child th {\n",
       "        text-align: right;\n",
       "    }\n",
       "\n",
       "    .dataframe thead th {\n",
       "        text-align: left;\n",
       "    }\n",
       "\n",
       "    .dataframe tbody tr th {\n",
       "        vertical-align: top;\n",
       "    }\n",
       "</style>\n",
       "<table border=\"1\" class=\"dataframe\">\n",
       "  <thead>\n",
       "    <tr style=\"text-align: right;\">\n",
       "      <th></th>\n",
       "      <th>评论类别</th>\n",
       "    </tr>\n",
       "  </thead>\n",
       "  <tbody>\n",
       "    <tr>\n",
       "      <th>短评</th>\n",
       "      <td>567</td>\n",
       "    </tr>\n",
       "    <tr>\n",
       "      <th>中评</th>\n",
       "      <td>133</td>\n",
       "    </tr>\n",
       "    <tr>\n",
       "      <th>较长评</th>\n",
       "      <td>121</td>\n",
       "    </tr>\n",
       "    <tr>\n",
       "      <th>长评</th>\n",
       "      <td>1</td>\n",
       "    </tr>\n",
       "  </tbody>\n",
       "</table>\n",
       "</div>"
      ],
      "text/plain": [
       "     评论类别\n",
       "短评    567\n",
       "中评    133\n",
       "较长评   121\n",
       "长评      1"
      ]
     },
     "execution_count": 48,
     "metadata": {},
     "output_type": "execute_result"
    }
   ],
   "source": [
    "zan = df[df['点赞总数']>=10]\n",
    "pd.DataFrame(zan['评论类别'].value_counts())"
   ]
  },
  {
   "cell_type": "code",
   "execution_count": 28,
   "metadata": {
    "collapsed": false
   },
   "outputs": [
    {
     "data": {
      "text/plain": [
       "822"
      ]
     },
     "execution_count": 28,
     "metadata": {},
     "output_type": "execute_result"
    }
   ],
   "source": [
    "len(zan)"
   ]
  },
  {
   "cell_type": "code",
   "execution_count": 49,
   "metadata": {
    "collapsed": false
   },
   "outputs": [
    {
     "data": {
      "text/html": [
       "<div>\n",
       "<style>\n",
       "    .dataframe thead tr:only-child th {\n",
       "        text-align: right;\n",
       "    }\n",
       "\n",
       "    .dataframe thead th {\n",
       "        text-align: left;\n",
       "    }\n",
       "\n",
       "    .dataframe tbody tr th {\n",
       "        vertical-align: top;\n",
       "    }\n",
       "</style>\n",
       "<table border=\"1\" class=\"dataframe\">\n",
       "  <thead>\n",
       "    <tr style=\"text-align: right;\">\n",
       "      <th></th>\n",
       "      <th>评论类别</th>\n",
       "    </tr>\n",
       "  </thead>\n",
       "  <tbody>\n",
       "    <tr>\n",
       "      <th>短评</th>\n",
       "      <td>29841</td>\n",
       "    </tr>\n",
       "    <tr>\n",
       "      <th>中评</th>\n",
       "      <td>3024</td>\n",
       "    </tr>\n",
       "    <tr>\n",
       "      <th>较长评</th>\n",
       "      <td>1560</td>\n",
       "    </tr>\n",
       "    <tr>\n",
       "      <th>长评</th>\n",
       "      <td>10</td>\n",
       "    </tr>\n",
       "  </tbody>\n",
       "</table>\n",
       "</div>"
      ],
      "text/plain": [
       "      评论类别\n",
       "短评   29841\n",
       "中评    3024\n",
       "较长评   1560\n",
       "长评      10"
      ]
     },
     "execution_count": 49,
     "metadata": {},
     "output_type": "execute_result"
    }
   ],
   "source": [
    "zero = df[df['点赞总数']>0]\n",
    "pd.DataFrame(zero['评论类别'].value_counts())"
   ]
  },
  {
   "cell_type": "markdown",
   "metadata": {},
   "source": [
    "## 点赞数与polarity"
   ]
  },
  {
   "cell_type": "code",
   "execution_count": 30,
   "metadata": {
    "collapsed": false
   },
   "outputs": [
    {
     "data": {
      "image/png": "[encoded data removed]",
      "text/plain": [
       "<matplotlib.figure.Figure at 0x1dcb1cb28d0>"
      ]
     },
     "metadata": {},
     "output_type": "display_data"
    }
   ],
   "source": [
    "df.sort_values(by = '点赞总数',ascending = False)\n",
    "x = df['点赞总数']\n",
    "y = df['polarity']\n",
    "plt.scatter(x,y)\n",
    "plt.title('点赞数与polarity的关系')\n",
    "plt.xlabel('点赞数')\n",
    "plt.ylabel('polarity')\n",
    "plt.grid()"
   ]
  },
  {
   "cell_type": "code",
   "execution_count": 39,
   "metadata": {
    "collapsed": false
   },
   "outputs": [
    {
     "data": {
      "text/plain": [
       "较高情绪值    22971\n",
       "一般情绪值    12634\n",
       "较低情绪值     7983\n",
       "极低情绪值     3626\n",
       "Name: 情绪高低, dtype: int64"
      ]
     },
     "execution_count": 39,
     "metadata": {},
     "output_type": "execute_result"
    }
   ],
   "source": [
    "df.loc[df['polarity']>=60,'情绪高低'] = '较高情绪值'\n",
    "df.loc[(df['polarity']>=40) & (df['polarity']< 60),'情绪高低'] = '一般情绪值'\n",
    "df.loc[(df['polarity']>=25) & (df['polarity']< 40),'情绪高低'] = '较低情绪值'\n",
    "df.loc[df['polarity']<25,'情绪高低'] = '极低情绪值'\n",
    "df['情绪高低'].value_counts()"
   ]
  },
  {
   "cell_type": "code",
   "execution_count": 41,
   "metadata": {
    "collapsed": false
   },
   "outputs": [
    {
     "data": {
      "text/html": [
       "<div>\n",
       "<style>\n",
       "    .dataframe thead tr:only-child th {\n",
       "        text-align: right;\n",
       "    }\n",
       "\n",
       "    .dataframe thead th {\n",
       "        text-align: left;\n",
       "    }\n",
       "\n",
       "    .dataframe tbody tr th {\n",
       "        vertical-align: top;\n",
       "    }\n",
       "</style>\n",
       "<table border=\"1\" class=\"dataframe\">\n",
       "  <thead>\n",
       "    <tr style=\"text-align: right;\">\n",
       "      <th></th>\n",
       "      <th>情绪高低</th>\n",
       "    </tr>\n",
       "  </thead>\n",
       "  <tbody>\n",
       "    <tr>\n",
       "      <th>较高情绪值</th>\n",
       "      <td>379</td>\n",
       "    </tr>\n",
       "    <tr>\n",
       "      <th>一般情绪值</th>\n",
       "      <td>255</td>\n",
       "    </tr>\n",
       "    <tr>\n",
       "      <th>较低情绪值</th>\n",
       "      <td>128</td>\n",
       "    </tr>\n",
       "    <tr>\n",
       "      <th>极低情绪值</th>\n",
       "      <td>60</td>\n",
       "    </tr>\n",
       "  </tbody>\n",
       "</table>\n",
       "</div>"
      ],
      "text/plain": [
       "       情绪高低\n",
       "较高情绪值   379\n",
       "一般情绪值   255\n",
       "较低情绪值   128\n",
       "极低情绪值    60"
      ]
     },
     "execution_count": 41,
     "metadata": {},
     "output_type": "execute_result"
    }
   ],
   "source": [
    "pd.DataFrame(zan['情绪高低'].value_counts())"
   ]
  },
  {
   "cell_type": "code",
   "execution_count": 44,
   "metadata": {
    "collapsed": false
   },
   "outputs": [
    {
     "data": {
      "text/html": [
       "<div>\n",
       "<style>\n",
       "    .dataframe thead tr:only-child th {\n",
       "        text-align: right;\n",
       "    }\n",
       "\n",
       "    .dataframe thead th {\n",
       "        text-align: left;\n",
       "    }\n",
       "\n",
       "    .dataframe tbody tr th {\n",
       "        vertical-align: top;\n",
       "    }\n",
       "</style>\n",
       "<table border=\"1\" class=\"dataframe\">\n",
       "  <thead>\n",
       "    <tr style=\"text-align: right;\">\n",
       "      <th></th>\n",
       "      <th>情绪高低</th>\n",
       "    </tr>\n",
       "  </thead>\n",
       "  <tbody>\n",
       "    <tr>\n",
       "      <th>较高情绪值</th>\n",
       "      <td>16419</td>\n",
       "    </tr>\n",
       "    <tr>\n",
       "      <th>一般情绪值</th>\n",
       "      <td>9372</td>\n",
       "    </tr>\n",
       "    <tr>\n",
       "      <th>较低情绪值</th>\n",
       "      <td>5603</td>\n",
       "    </tr>\n",
       "    <tr>\n",
       "      <th>极低情绪值</th>\n",
       "      <td>3041</td>\n",
       "    </tr>\n",
       "  </tbody>\n",
       "</table>\n",
       "</div>"
      ],
      "text/plain": [
       "        情绪高低\n",
       "较高情绪值  16419\n",
       "一般情绪值   9372\n",
       "较低情绪值   5603\n",
       "极低情绪值   3041"
      ]
     },
     "execution_count": 44,
     "metadata": {},
     "output_type": "execute_result"
    }
   ],
   "source": [
    "pd.DataFrame(zero['情绪高低'].value_counts())"
   ]
  },
  {
   "cell_type": "markdown",
   "metadata": {},
   "source": [
    "## 点赞数与magnitude"
   ]
  },
  {
   "cell_type": "code",
   "execution_count": 46,
   "metadata": {
    "collapsed": false
   },
   "outputs": [
    {
     "data": {
      "image/png": "[encoded data removed]",
      "text/plain": [
       "<matplotlib.figure.Figure at 0x1dcb1a1c470>"
      ]
     },
     "metadata": {},
     "output_type": "display_data"
    }
   ],
   "source": [
    "x = df['点赞总数']\n",
    "y = df['magnitude']\n",
    "plt.scatter(x,y)\n",
    "plt.title('点赞数与magnitude的关系')\n",
    "plt.xlabel('点赞数')\n",
    "plt.ylabel('magnitude')\n",
    "plt.grid()"
   ]
  },
  {
   "cell_type": "code",
   "execution_count": 47,
   "metadata": {
    "collapsed": false
   },
   "outputs": [
    {
     "data": {
      "text/plain": [
       "一般     40822\n",
       "较浓      5975\n",
       "非常浓      381\n",
       "极浓        36\n",
       "Name: 情绪浓度, dtype: int64"
      ]
     },
     "execution_count": 47,
     "metadata": {},
     "output_type": "execute_result"
    }
   ],
   "source": [
    "df.loc[df['magnitude']>=1.5,'情绪浓度'] = '极浓'\n",
    "df.loc[(df['magnitude']>=1) & (df['magnitude']< 1.5),'情绪浓度'] = '非常浓'\n",
    "df.loc[(df['magnitude']>=0.5) & (df['magnitude']< 1),'情绪浓度'] = '较浓'\n",
    "df.loc[df['magnitude']<0.5,'情绪浓度'] = '一般'\n",
    "df['情绪浓度'].value_counts()"
   ]
  },
  {
   "cell_type": "code",
   "execution_count": 50,
   "metadata": {
    "collapsed": false
   },
   "outputs": [
    {
     "data": {
      "text/html": [
       "<div>\n",
       "<style>\n",
       "    .dataframe thead tr:only-child th {\n",
       "        text-align: right;\n",
       "    }\n",
       "\n",
       "    .dataframe thead th {\n",
       "        text-align: left;\n",
       "    }\n",
       "\n",
       "    .dataframe tbody tr th {\n",
       "        vertical-align: top;\n",
       "    }\n",
       "</style>\n",
       "<table border=\"1\" class=\"dataframe\">\n",
       "  <thead>\n",
       "    <tr style=\"text-align: right;\">\n",
       "      <th></th>\n",
       "      <th>情绪浓度</th>\n",
       "    </tr>\n",
       "  </thead>\n",
       "  <tbody>\n",
       "    <tr>\n",
       "      <th>一般</th>\n",
       "      <td>773</td>\n",
       "    </tr>\n",
       "    <tr>\n",
       "      <th>较浓</th>\n",
       "      <td>46</td>\n",
       "    </tr>\n",
       "    <tr>\n",
       "      <th>非常浓</th>\n",
       "      <td>3</td>\n",
       "    </tr>\n",
       "  </tbody>\n",
       "</table>\n",
       "</div>"
      ],
      "text/plain": [
       "     情绪浓度\n",
       "一般    773\n",
       "较浓     46\n",
       "非常浓     3"
      ]
     },
     "execution_count": 50,
     "metadata": {},
     "output_type": "execute_result"
    }
   ],
   "source": [
    "pd.DataFrame(zan['情绪浓度'].value_counts())"
   ]
  },
  {
   "cell_type": "code",
   "execution_count": 51,
   "metadata": {
    "collapsed": false
   },
   "outputs": [
    {
     "data": {
      "text/html": [
       "<div>\n",
       "<style>\n",
       "    .dataframe thead tr:only-child th {\n",
       "        text-align: right;\n",
       "    }\n",
       "\n",
       "    .dataframe thead th {\n",
       "        text-align: left;\n",
       "    }\n",
       "\n",
       "    .dataframe tbody tr th {\n",
       "        vertical-align: top;\n",
       "    }\n",
       "</style>\n",
       "<table border=\"1\" class=\"dataframe\">\n",
       "  <thead>\n",
       "    <tr style=\"text-align: right;\">\n",
       "      <th></th>\n",
       "      <th>情绪浓度</th>\n",
       "    </tr>\n",
       "  </thead>\n",
       "  <tbody>\n",
       "    <tr>\n",
       "      <th>一般</th>\n",
       "      <td>29935</td>\n",
       "    </tr>\n",
       "    <tr>\n",
       "      <th>较浓</th>\n",
       "      <td>4217</td>\n",
       "    </tr>\n",
       "    <tr>\n",
       "      <th>非常浓</th>\n",
       "      <td>259</td>\n",
       "    </tr>\n",
       "    <tr>\n",
       "      <th>极浓</th>\n",
       "      <td>24</td>\n",
       "    </tr>\n",
       "  </tbody>\n",
       "</table>\n",
       "</div>"
      ],
      "text/plain": [
       "      情绪浓度\n",
       "一般   29935\n",
       "较浓    4217\n",
       "非常浓    259\n",
       "极浓      24"
      ]
     },
     "execution_count": 51,
     "metadata": {},
     "output_type": "execute_result"
    }
   ],
   "source": [
    "pd.DataFrame(zero['情绪浓度'].value_counts())"
   ]
  },
  {
   "cell_type": "markdown",
   "metadata": {},
   "source": [
    "## 每首歌"
   ]
  },
  {
   "cell_type": "markdown",
   "metadata": {},
   "source": [
    "### 晴天"
   ]
  },
  {
   "cell_type": "code",
   "execution_count": 52,
   "metadata": {
    "collapsed": false
   },
   "outputs": [
    {
     "data": {
      "text/html": [
       "<div>\n",
       "<style>\n",
       "    .dataframe thead tr:only-child th {\n",
       "        text-align: right;\n",
       "    }\n",
       "\n",
       "    .dataframe thead th {\n",
       "        text-align: left;\n",
       "    }\n",
       "\n",
       "    .dataframe tbody tr th {\n",
       "        vertical-align: top;\n",
       "    }\n",
       "</style>\n",
       "<table border=\"1\" class=\"dataframe\">\n",
       "  <thead>\n",
       "    <tr style=\"text-align: right;\">\n",
       "      <th></th>\n",
       "      <th>歌曲名</th>\n",
       "      <th>用户昵称</th>\n",
       "      <th>评论时间</th>\n",
       "      <th>点赞总数</th>\n",
       "      <th>评论长度</th>\n",
       "      <th>评论内容</th>\n",
       "      <th>polarity</th>\n",
       "      <th>magnitude</th>\n",
       "      <th>乐观</th>\n",
       "      <th>愉快</th>\n",
       "      <th>...</th>\n",
       "      <th>愤怒</th>\n",
       "      <th>恐惧</th>\n",
       "      <th>厌恶</th>\n",
       "      <th>惊讶</th>\n",
       "      <th>焦虑</th>\n",
       "      <th>emo</th>\n",
       "      <th>城市</th>\n",
       "      <th>评论类别</th>\n",
       "      <th>情绪高低</th>\n",
       "      <th>情绪浓度</th>\n",
       "    </tr>\n",
       "  </thead>\n",
       "  <tbody>\n",
       "    <tr>\n",
       "      <th>19275</th>\n",
       "      <td>晴天</td>\n",
       "      <td>蛋蛋是圆D</td>\n",
       "      <td>2014-10-17 07:22:54</td>\n",
       "      <td>281778.0</td>\n",
       "      <td>26.0</td>\n",
       "      <td>高一听的，那时候遇到了孩儿他妈，然后就这么幸福下来了</td>\n",
       "      <td>54.900</td>\n",
       "      <td>0.188</td>\n",
       "      <td>0.497</td>\n",
       "      <td>0.503</td>\n",
       "      <td>...</td>\n",
       "      <td>0.000</td>\n",
       "      <td>0.0</td>\n",
       "      <td>0.000</td>\n",
       "      <td>0.0</td>\n",
       "      <td>0.0</td>\n",
       "      <td></td>\n",
       "      <td>NaN</td>\n",
       "      <td>短评</td>\n",
       "      <td>一般情绪值</td>\n",
       "      <td>一般</td>\n",
       "    </tr>\n",
       "    <tr>\n",
       "      <th>19061</th>\n",
       "      <td>晴天</td>\n",
       "      <td>荒灰黄</td>\n",
       "      <td>2014-11-04 09:19:19</td>\n",
       "      <td>129736.0</td>\n",
       "      <td>13.0</td>\n",
       "      <td>老子要听一辈子周杰伦！！！</td>\n",
       "      <td>25.758</td>\n",
       "      <td>0.100</td>\n",
       "      <td>0.000</td>\n",
       "      <td>0.000</td>\n",
       "      <td>...</td>\n",
       "      <td>0.376</td>\n",
       "      <td>0.0</td>\n",
       "      <td>0.321</td>\n",
       "      <td>0.0</td>\n",
       "      <td>0.0</td>\n",
       "      <td></td>\n",
       "      <td>NaN</td>\n",
       "      <td>短评</td>\n",
       "      <td>较低情绪值</td>\n",
       "      <td>一般</td>\n",
       "    </tr>\n",
       "    <tr>\n",
       "      <th>18477</th>\n",
       "      <td>晴天</td>\n",
       "      <td>长在地上的姑娘</td>\n",
       "      <td>2014-12-03 02:56:29</td>\n",
       "      <td>108579.0</td>\n",
       "      <td>16.0</td>\n",
       "      <td>周杰伦 你要对那么多人的青春负责</td>\n",
       "      <td>86.940</td>\n",
       "      <td>0.413</td>\n",
       "      <td>0.000</td>\n",
       "      <td>0.000</td>\n",
       "      <td>...</td>\n",
       "      <td>0.000</td>\n",
       "      <td>0.0</td>\n",
       "      <td>0.000</td>\n",
       "      <td>0.0</td>\n",
       "      <td>0.0</td>\n",
       "      <td></td>\n",
       "      <td>NaN</td>\n",
       "      <td>短评</td>\n",
       "      <td>较高情绪值</td>\n",
       "      <td>一般</td>\n",
       "    </tr>\n",
       "    <tr>\n",
       "      <th>16953</th>\n",
       "      <td>晴天</td>\n",
       "      <td>緑茶婊</td>\n",
       "      <td>2015-02-08 23:08:21</td>\n",
       "      <td>87734.0</td>\n",
       "      <td>71.0</td>\n",
       "      <td>初中听周杰伦被同学嘲笑：唱的什么鬼…长那么丑…词都唱不清…他们哪知道若干年后会听着他的歌流泪一整晚，原来我们输给了时光，败给了唇红齿白的自己😭</td>\n",
       "      <td>25.591</td>\n",
       "      <td>0.323</td>\n",
       "      <td>0.000</td>\n",
       "      <td>0.000</td>\n",
       "      <td>...</td>\n",
       "      <td>0.276</td>\n",
       "      <td>0.0</td>\n",
       "      <td>0.244</td>\n",
       "      <td>0.0</td>\n",
       "      <td>0.0</td>\n",
       "      <td></td>\n",
       "      <td>NaN</td>\n",
       "      <td>中评</td>\n",
       "      <td>较低情绪值</td>\n",
       "      <td>一般</td>\n",
       "    </tr>\n",
       "    <tr>\n",
       "      <th>19074</th>\n",
       "      <td>晴天</td>\n",
       "      <td>哥特式的永恒</td>\n",
       "      <td>2014-11-03 15:39:12</td>\n",
       "      <td>75640.0</td>\n",
       "      <td>84.0</td>\n",
       "      <td>有没有85前听杰伦的来这？我84，2000年开始听刚上高一，现在都是俩孩的爹了，再听谢谢老歌好像回到了那时候的晚自习，在操场一起牵手的那个没成了孩他娘，但也没什么遗憾～</td>\n",
       "      <td>49.744</td>\n",
       "      <td>0.080</td>\n",
       "      <td>0.000</td>\n",
       "      <td>0.252</td>\n",
       "      <td>...</td>\n",
       "      <td>0.415</td>\n",
       "      <td>0.0</td>\n",
       "      <td>0.000</td>\n",
       "      <td>0.0</td>\n",
       "      <td>0.0</td>\n",
       "      <td></td>\n",
       "      <td>NaN</td>\n",
       "      <td>中评</td>\n",
       "      <td>一般情绪值</td>\n",
       "      <td>一般</td>\n",
       "    </tr>\n",
       "  </tbody>\n",
       "</table>\n",
       "<p>5 rows × 24 columns</p>\n",
       "</div>"
      ],
      "text/plain": [
       "      歌曲名     用户昵称                 评论时间      点赞总数  评论长度  \\\n",
       "19275  晴天    蛋蛋是圆D  2014-10-17 07:22:54  281778.0  26.0   \n",
       "19061  晴天      荒灰黄  2014-11-04 09:19:19  129736.0  13.0   \n",
       "18477  晴天  长在地上的姑娘  2014-12-03 02:56:29  108579.0  16.0   \n",
       "16953  晴天      緑茶婊  2015-02-08 23:08:21   87734.0  71.0   \n",
       "19074  晴天   哥特式的永恒  2014-11-03 15:39:12   75640.0  84.0   \n",
       "\n",
       "                                                                                       评论内容  \\\n",
       "19275                                                            高一听的，那时候遇到了孩儿他妈，然后就这么幸福下来了   \n",
       "19061                                                                         老子要听一辈子周杰伦！！！   \n",
       "18477                                                                      周杰伦 你要对那么多人的青春负责   \n",
       "16953               初中听周杰伦被同学嘲笑：唱的什么鬼…长那么丑…词都唱不清…他们哪知道若干年后会听着他的歌流泪一整晚，原来我们输给了时光，败给了唇红齿白的自己😭   \n",
       "19074  有没有85前听杰伦的来这？我84，2000年开始听刚上高一，现在都是俩孩的爹了，再听谢谢老歌好像回到了那时候的晚自习，在操场一起牵手的那个没成了孩他娘，但也没什么遗憾～   \n",
       "\n",
       "       polarity  magnitude     乐观     愉快 ...      愤怒   恐惧     厌恶   惊讶   焦虑  \\\n",
       "19275    54.900      0.188  0.497  0.503 ...   0.000  0.0  0.000  0.0  0.0   \n",
       "19061    25.758      0.100  0.000  0.000 ...   0.376  0.0  0.321  0.0  0.0   \n",
       "18477    86.940      0.413  0.000  0.000 ...   0.000  0.0  0.000  0.0  0.0   \n",
       "16953    25.591      0.323  0.000  0.000 ...   0.276  0.0  0.244  0.0  0.0   \n",
       "19074    49.744      0.080  0.000  0.252 ...   0.415  0.0  0.000  0.0  0.0   \n",
       "\n",
       "       emo   城市  评论类别   情绪高低 情绪浓度  \n",
       "19275       NaN    短评  一般情绪值   一般  \n",
       "19061       NaN    短评  较低情绪值   一般  \n",
       "18477       NaN    短评  较高情绪值   一般  \n",
       "16953       NaN    中评  较低情绪值   一般  \n",
       "19074       NaN    中评  一般情绪值   一般  \n",
       "\n",
       "[5 rows x 24 columns]"
      ]
     },
     "execution_count": 52,
     "metadata": {},
     "output_type": "execute_result"
    }
   ],
   "source": [
    "qt_upvote = zan[zan['歌曲名']=='晴天']\n",
    "qt_upvote = zan.sort_values(by = '点赞总数',ascending = False)\n",
    "pd.set_option('max_colwidth', 400)\n",
    "qt_upvote.head()"
   ]
  },
  {
   "cell_type": "markdown",
   "metadata": {},
   "source": [
    "### 彩虹"
   ]
  },
  {
   "cell_type": "code",
   "execution_count": 55,
   "metadata": {
    "collapsed": false
   },
   "outputs": [
    {
     "data": {
      "text/html": [
       "<div>\n",
       "<style>\n",
       "    .dataframe thead tr:only-child th {\n",
       "        text-align: right;\n",
       "    }\n",
       "\n",
       "    .dataframe thead th {\n",
       "        text-align: left;\n",
       "    }\n",
       "\n",
       "    .dataframe tbody tr th {\n",
       "        vertical-align: top;\n",
       "    }\n",
       "</style>\n",
       "<table border=\"1\" class=\"dataframe\">\n",
       "  <thead>\n",
       "    <tr style=\"text-align: right;\">\n",
       "      <th></th>\n",
       "      <th>歌曲名</th>\n",
       "      <th>用户昵称</th>\n",
       "      <th>评论时间</th>\n",
       "      <th>点赞总数</th>\n",
       "      <th>评论长度</th>\n",
       "      <th>评论内容</th>\n",
       "      <th>polarity</th>\n",
       "      <th>magnitude</th>\n",
       "      <th>乐观</th>\n",
       "      <th>愉快</th>\n",
       "      <th>...</th>\n",
       "      <th>愤怒</th>\n",
       "      <th>恐惧</th>\n",
       "      <th>厌恶</th>\n",
       "      <th>惊讶</th>\n",
       "      <th>焦虑</th>\n",
       "      <th>emo</th>\n",
       "      <th>城市</th>\n",
       "      <th>评论类别</th>\n",
       "      <th>情绪高低</th>\n",
       "      <th>情绪浓度</th>\n",
       "    </tr>\n",
       "  </thead>\n",
       "  <tbody>\n",
       "    <tr>\n",
       "      <th>19917</th>\n",
       "      <td>彩虹</td>\n",
       "      <td>cp33</td>\n",
       "      <td>2014-11-10</td>\n",
       "      <td>51822.0</td>\n",
       "      <td>57.0</td>\n",
       "      <td>高一那年，暗恋一个女孩，她说她最爱听彩虹，我就反复练习，终于等到一个机会，在电话里唱给她听，于是就答应和我在一起了</td>\n",
       "      <td>69.786</td>\n",
       "      <td>0.209</td>\n",
       "      <td>0.142363</td>\n",
       "      <td>0.154925</td>\n",
       "      <td>...</td>\n",
       "      <td>0.149257</td>\n",
       "      <td>0.042300</td>\n",
       "      <td>0.0</td>\n",
       "      <td>0.053479</td>\n",
       "      <td>0.057407</td>\n",
       "      <td></td>\n",
       "      <td>NaN</td>\n",
       "      <td>中评</td>\n",
       "      <td>较高情绪值</td>\n",
       "      <td>一般</td>\n",
       "    </tr>\n",
       "    <tr>\n",
       "      <th>19918</th>\n",
       "      <td>彩虹</td>\n",
       "      <td>啵喵</td>\n",
       "      <td>2015-08-28</td>\n",
       "      <td>26484.0</td>\n",
       "      <td>111.0</td>\n",
       "      <td>把《彩虹》的歌词和蔡依林的《倒带》对照着听倒带:你累积给的伤害我是真的很难释怀彩虹:释怀说了太多就成真不了倒带:宁愿没出息求我别离开彩虹:你要离开我知道很简单倒带:我想依赖彩虹:你说依赖倒带:我们面前太多阻碍彩虹:是我们的</td>\n",
       "      <td>65.641</td>\n",
       "      <td>0.364</td>\n",
       "      <td>0.200205</td>\n",
       "      <td>0.127344</td>\n",
       "      <td>...</td>\n",
       "      <td>0.242918</td>\n",
       "      <td>0.100672</td>\n",
       "      <td>0.0</td>\n",
       "      <td>0.000000</td>\n",
       "      <td>0.000000</td>\n",
       "      <td></td>\n",
       "      <td>NaN</td>\n",
       "      <td>较长评</td>\n",
       "      <td>较高情绪值</td>\n",
       "      <td>一般</td>\n",
       "    </tr>\n",
       "  </tbody>\n",
       "</table>\n",
       "<p>2 rows × 24 columns</p>\n",
       "</div>"
      ],
      "text/plain": [
       "      歌曲名  用户昵称        评论时间     点赞总数   评论长度  \\\n",
       "19917  彩虹  cp33  2014-11-10  51822.0   57.0   \n",
       "19918  彩虹    啵喵  2015-08-28  26484.0  111.0   \n",
       "\n",
       "                                                                                                                  评论内容  \\\n",
       "19917                                                        高一那年，暗恋一个女孩，她说她最爱听彩虹，我就反复练习，终于等到一个机会，在电话里唱给她听，于是就答应和我在一起了   \n",
       "19918  把《彩虹》的歌词和蔡依林的《倒带》对照着听倒带:你累积给的伤害我是真的很难释怀彩虹:释怀说了太多就成真不了倒带:宁愿没出息求我别离开彩虹:你要离开我知道很简单倒带:我想依赖彩虹:你说依赖倒带:我们面前太多阻碍彩虹:是我们的   \n",
       "\n",
       "       polarity  magnitude        乐观        愉快 ...         愤怒        恐惧   厌恶  \\\n",
       "19917    69.786      0.209  0.142363  0.154925 ...   0.149257  0.042300  0.0   \n",
       "19918    65.641      0.364  0.200205  0.127344 ...   0.242918  0.100672  0.0   \n",
       "\n",
       "             惊讶        焦虑  emo   城市  评论类别   情绪高低 情绪浓度  \n",
       "19917  0.053479  0.057407       NaN    中评  较高情绪值   一般  \n",
       "19918  0.000000  0.000000       NaN   较长评  较高情绪值   一般  \n",
       "\n",
       "[2 rows x 24 columns]"
      ]
     },
     "execution_count": 55,
     "metadata": {},
     "output_type": "execute_result"
    }
   ],
   "source": [
    "ch_upvote = zan[zan['歌曲名']=='彩虹']\n",
    "ch_upvote = ch_upvote.sort_values(by = '点赞总数',ascending = False)\n",
    "pd.set_option('max_colwidth', 400)\n",
    "ch_upvote.head(2)"
   ]
  },
  {
   "cell_type": "markdown",
   "metadata": {},
   "source": [
    "### 蒲公英的约定"
   ]
  },
  {
   "cell_type": "code",
   "execution_count": 56,
   "metadata": {
    "collapsed": false
   },
   "outputs": [
    {
     "data": {
      "text/html": [
       "<div>\n",
       "<style>\n",
       "    .dataframe thead tr:only-child th {\n",
       "        text-align: right;\n",
       "    }\n",
       "\n",
       "    .dataframe thead th {\n",
       "        text-align: left;\n",
       "    }\n",
       "\n",
       "    .dataframe tbody tr th {\n",
       "        vertical-align: top;\n",
       "    }\n",
       "</style>\n",
       "<table border=\"1\" class=\"dataframe\">\n",
       "  <thead>\n",
       "    <tr style=\"text-align: right;\">\n",
       "      <th></th>\n",
       "      <th>歌曲名</th>\n",
       "      <th>用户昵称</th>\n",
       "      <th>评论时间</th>\n",
       "      <th>点赞总数</th>\n",
       "      <th>评论长度</th>\n",
       "      <th>评论内容</th>\n",
       "      <th>polarity</th>\n",
       "      <th>magnitude</th>\n",
       "      <th>乐观</th>\n",
       "      <th>愉快</th>\n",
       "      <th>...</th>\n",
       "      <th>愤怒</th>\n",
       "      <th>恐惧</th>\n",
       "      <th>厌恶</th>\n",
       "      <th>惊讶</th>\n",
       "      <th>焦虑</th>\n",
       "      <th>emo</th>\n",
       "      <th>城市</th>\n",
       "      <th>评论类别</th>\n",
       "      <th>情绪高低</th>\n",
       "      <th>情绪浓度</th>\n",
       "    </tr>\n",
       "  </thead>\n",
       "  <tbody>\n",
       "    <tr>\n",
       "      <th>29558</th>\n",
       "      <td>蒲公英的约定</td>\n",
       "      <td>灬死亡之翼灬</td>\n",
       "      <td>2014-11-07</td>\n",
       "      <td>39586.0</td>\n",
       "      <td>23.0</td>\n",
       "      <td>因为这首歌 从小到大我只喝优乐美 从不喝香飘飘</td>\n",
       "      <td>42.967</td>\n",
       "      <td>0.082</td>\n",
       "      <td>0.000000</td>\n",
       "      <td>0.095816</td>\n",
       "      <td>...</td>\n",
       "      <td>0.177373</td>\n",
       "      <td>0.0000</td>\n",
       "      <td>0.136879</td>\n",
       "      <td>0.097526</td>\n",
       "      <td>0.0</td>\n",
       "      <td></td>\n",
       "      <td>NaN</td>\n",
       "      <td>短评</td>\n",
       "      <td>一般情绪值</td>\n",
       "      <td>一般</td>\n",
       "    </tr>\n",
       "    <tr>\n",
       "      <th>29559</th>\n",
       "      <td>蒲公英的约定</td>\n",
       "      <td>Pathoshepherd</td>\n",
       "      <td>2014-10-30</td>\n",
       "      <td>20933.0</td>\n",
       "      <td>21.0</td>\n",
       "      <td>这首歌的最后一句歌词或许是永恒不变的问题吧</td>\n",
       "      <td>31.013</td>\n",
       "      <td>0.159</td>\n",
       "      <td>0.099552</td>\n",
       "      <td>0.053032</td>\n",
       "      <td>...</td>\n",
       "      <td>0.338036</td>\n",
       "      <td>0.1566</td>\n",
       "      <td>0.000000</td>\n",
       "      <td>0.000000</td>\n",
       "      <td>0.0</td>\n",
       "      <td></td>\n",
       "      <td>NaN</td>\n",
       "      <td>短评</td>\n",
       "      <td>较低情绪值</td>\n",
       "      <td>一般</td>\n",
       "    </tr>\n",
       "  </tbody>\n",
       "</table>\n",
       "<p>2 rows × 24 columns</p>\n",
       "</div>"
      ],
      "text/plain": [
       "          歌曲名           用户昵称        评论时间     点赞总数  评论长度  \\\n",
       "29558  蒲公英的约定         灬死亡之翼灬  2014-11-07  39586.0  23.0   \n",
       "29559  蒲公英的约定  Pathoshepherd  2014-10-30  20933.0  21.0   \n",
       "\n",
       "                          评论内容  polarity  magnitude        乐观        愉快 ...   \\\n",
       "29558  因为这首歌 从小到大我只喝优乐美 从不喝香飘飘    42.967      0.082  0.000000  0.095816 ...    \n",
       "29559    这首歌的最后一句歌词或许是永恒不变的问题吧    31.013      0.159  0.099552  0.053032 ...    \n",
       "\n",
       "             愤怒      恐惧        厌恶        惊讶   焦虑  emo   城市  评论类别   情绪高低 情绪浓度  \n",
       "29558  0.177373  0.0000  0.136879  0.097526  0.0       NaN    短评  一般情绪值   一般  \n",
       "29559  0.338036  0.1566  0.000000  0.000000  0.0       NaN    短评  较低情绪值   一般  \n",
       "\n",
       "[2 rows x 24 columns]"
      ]
     },
     "execution_count": 56,
     "metadata": {},
     "output_type": "execute_result"
    }
   ],
   "source": [
    "pu_upvote = zan[zan['歌曲名']=='蒲公英的约定']\n",
    "pu_upvote = pu_upvote.sort_values(by = '点赞总数',ascending = False)\n",
    "pd.set_option('max_colwidth', 400)\n",
    "pu_upvote.head(2)"
   ]
  },
  {
   "cell_type": "markdown",
   "metadata": {
    "collapsed": true
   },
   "source": [
    "### 提及词汇"
   ]
  },
  {
   "cell_type": "markdown",
   "metadata": {},
   "source": [
    "#### 歌手"
   ]
  },
  {
   "cell_type": "code",
   "execution_count": 58,
   "metadata": {
    "collapsed": false
   },
   "outputs": [
    {
     "data": {
      "text/html": [
       "<div>\n",
       "<style>\n",
       "    .dataframe thead tr:only-child th {\n",
       "        text-align: right;\n",
       "    }\n",
       "\n",
       "    .dataframe thead th {\n",
       "        text-align: left;\n",
       "    }\n",
       "\n",
       "    .dataframe tbody tr th {\n",
       "        vertical-align: top;\n",
       "    }\n",
       "</style>\n",
       "<table border=\"1\" class=\"dataframe\">\n",
       "  <thead>\n",
       "    <tr style=\"text-align: right;\">\n",
       "      <th></th>\n",
       "      <th>评论内容</th>\n",
       "      <th>点赞总数</th>\n",
       "    </tr>\n",
       "  </thead>\n",
       "  <tbody>\n",
       "    <tr>\n",
       "      <th>9047</th>\n",
       "      <td>我的微信昵称是晴天，我最喜欢的天气是晴天，我最爱的歌是晴天，我喜欢的歌手是周杰伦，我的愿望是在晴天的一百三十二万条评论里上热评，可以吗？</td>\n",
       "      <td>12.0</td>\n",
       "    </tr>\n",
       "    <tr>\n",
       "      <th>9848</th>\n",
       "      <td>为什么周杰伦现在的口碑一年比一年好，因为90后长大了，他的音乐不只是音乐啊，是我们的青春。</td>\n",
       "      <td>11.0</td>\n",
       "    </tr>\n",
       "    <tr>\n",
       "      <th>10420</th>\n",
       "      <td>评论明明都过万了，为什么还不能显示9999+？这怎能体现杰伦的屌阿</td>\n",
       "      <td>53.0</td>\n",
       "    </tr>\n",
       "    <tr>\n",
       "      <th>11207</th>\n",
       "      <td>周杰伦演唱会上说了一句：接下来，我就要勾起你们青春的回忆，来了哦~泪飚</td>\n",
       "      <td>23.0</td>\n",
       "    </tr>\n",
       "    <tr>\n",
       "      <th>11269</th>\n",
       "      <td>演唱会杰伦必唱曲目，有幸听过一场现场《晴天》5.16南京站，杰伦现场歌迷点歌，是一对情侣，杰伦很八卦，男歌迷说“我顶你哦”杰伦也在台上傻笑，因为他就是我们的州青春，然后杰伦说，那就带来一首晴天吧，顿时泪奔</td>\n",
       "      <td>11.0</td>\n",
       "    </tr>\n",
       "  </tbody>\n",
       "</table>\n",
       "</div>"
      ],
      "text/plain": [
       "                                                                                                         评论内容  \\\n",
       "9047                                     我的微信昵称是晴天，我最喜欢的天气是晴天，我最爱的歌是晴天，我喜欢的歌手是周杰伦，我的愿望是在晴天的一百三十二万条评论里上热评，可以吗？   \n",
       "9848                                                            为什么周杰伦现在的口碑一年比一年好，因为90后长大了，他的音乐不只是音乐啊，是我们的青春。   \n",
       "10420                                                                       评论明明都过万了，为什么还不能显示9999+？这怎能体现杰伦的屌阿   \n",
       "11207                                                                     周杰伦演唱会上说了一句：接下来，我就要勾起你们青春的回忆，来了哦~泪飚   \n",
       "11269  演唱会杰伦必唱曲目，有幸听过一场现场《晴天》5.16南京站，杰伦现场歌迷点歌，是一对情侣，杰伦很八卦，男歌迷说“我顶你哦”杰伦也在台上傻笑，因为他就是我们的州青春，然后杰伦说，那就带来一首晴天吧，顿时泪奔   \n",
       "\n",
       "       点赞总数  \n",
       "9047   12.0  \n",
       "9848   11.0  \n",
       "10420  53.0  \n",
       "11207  23.0  \n",
       "11269  11.0  "
      ]
     },
     "execution_count": 58,
     "metadata": {},
     "output_type": "execute_result"
    }
   ],
   "source": [
    "jay = zan[zan['评论内容'].str.contains('周杰伦|杰伦|jay|Jay')] \n",
    "jay[['评论内容','点赞总数']].head()"
   ]
  },
  {
   "cell_type": "code",
   "execution_count": 59,
   "metadata": {
    "collapsed": false
   },
   "outputs": [
    {
     "data": {
      "text/plain": [
       "晴天        101\n",
       "蒲公英的约定     24\n",
       "彩虹         23\n",
       "Name: 歌曲名, dtype: int64"
      ]
     },
     "execution_count": 59,
     "metadata": {},
     "output_type": "execute_result"
    }
   ],
   "source": [
    "jay['歌曲名'].value_counts()"
   ]
  },
  {
   "cell_type": "markdown",
   "metadata": {},
   "source": [
    "#### 旋律、节奏"
   ]
  },
  {
   "cell_type": "code",
   "execution_count": 61,
   "metadata": {
    "collapsed": false
   },
   "outputs": [
    {
     "data": {
      "text/html": [
       "<div>\n",
       "<style>\n",
       "    .dataframe thead tr:only-child th {\n",
       "        text-align: right;\n",
       "    }\n",
       "\n",
       "    .dataframe thead th {\n",
       "        text-align: left;\n",
       "    }\n",
       "\n",
       "    .dataframe tbody tr th {\n",
       "        vertical-align: top;\n",
       "    }\n",
       "</style>\n",
       "<table border=\"1\" class=\"dataframe\">\n",
       "  <thead>\n",
       "    <tr style=\"text-align: right;\">\n",
       "      <th></th>\n",
       "      <th>评论内容</th>\n",
       "      <th>点赞总数</th>\n",
       "    </tr>\n",
       "  </thead>\n",
       "  <tbody>\n",
       "    <tr>\n",
       "      <th>10281</th>\n",
       "      <td>昨天济南站，前奏一出就泪崩了，再来感受下</td>\n",
       "      <td>88.0</td>\n",
       "    </tr>\n",
       "    <tr>\n",
       "      <th>11187</th>\n",
       "      <td>评论必须上万 ，这么点评论恶心谁呢，有多少歌你能让你喜欢十多年的？外国歌曲再好听，你不看翻译你知道啥意思？逼格高一会儿就行了，唱都不会唱，还感动，感动个篮子。</td>\n",
       "      <td>11.0</td>\n",
       "    </tr>\n",
       "    <tr>\n",
       "      <th>11725</th>\n",
       "      <td>今天离高考还有6天16个小时，心很乱情绪很烦，晴天的旋律在心里嚷嚷了一天，好吧，午睡醒我决定满足自己，认认真真跟着唱一遍。然后，认认真真开始进入备考状态。我高四了，祝我好运。</td>\n",
       "      <td>145.0</td>\n",
       "    </tr>\n",
       "    <tr>\n",
       "      <th>11850</th>\n",
       "      <td>是这首歌的前奏，激发了我学吉他的欲望，然后我说服我妈妈给我买了第一把琴，我自己看着刘传的书，每逢周末，我抱着吉他不放…现在已经开始教小朋友们弹吉他了…回想起来，那段时间充满了各种美好和感动。</td>\n",
       "      <td>26.0</td>\n",
       "    </tr>\n",
       "    <tr>\n",
       "      <th>12049</th>\n",
       "      <td>有人说前奏无敌我就不高兴了 分明是全部都好都无敌！</td>\n",
       "      <td>208.0</td>\n",
       "    </tr>\n",
       "  </tbody>\n",
       "</table>\n",
       "</div>"
      ],
      "text/plain": [
       "                                                                                                  评论内容  \\\n",
       "10281                                                                             昨天济南站，前奏一出就泪崩了，再来感受下   \n",
       "11187                  评论必须上万 ，这么点评论恶心谁呢，有多少歌你能让你喜欢十多年的？外国歌曲再好听，你不看翻译你知道啥意思？逼格高一会儿就行了，唱都不会唱，还感动，感动个篮子。   \n",
       "11725          今天离高考还有6天16个小时，心很乱情绪很烦，晴天的旋律在心里嚷嚷了一天，好吧，午睡醒我决定满足自己，认认真真跟着唱一遍。然后，认认真真开始进入备考状态。我高四了，祝我好运。   \n",
       "11850  是这首歌的前奏，激发了我学吉他的欲望，然后我说服我妈妈给我买了第一把琴，我自己看着刘传的书，每逢周末，我抱着吉他不放…现在已经开始教小朋友们弹吉他了…回想起来，那段时间充满了各种美好和感动。   \n",
       "12049                                                                        有人说前奏无敌我就不高兴了 分明是全部都好都无敌！   \n",
       "\n",
       "        点赞总数  \n",
       "10281   88.0  \n",
       "11187   11.0  \n",
       "11725  145.0  \n",
       "11850   26.0  \n",
       "12049  208.0  "
      ]
     },
     "execution_count": 61,
     "metadata": {},
     "output_type": "execute_result"
    }
   ],
   "source": [
    "intro = zan[zan['评论内容'].str.contains('前奏|旋律|节奏|歌曲')]\n",
    "intro[['评论内容','点赞总数']].head()"
   ]
  },
  {
   "cell_type": "code",
   "execution_count": 62,
   "metadata": {
    "collapsed": false
   },
   "outputs": [
    {
     "data": {
      "text/plain": [
       "晴天        48\n",
       "蒲公英的约定     5\n",
       "彩虹         2\n",
       "Name: 歌曲名, dtype: int64"
      ]
     },
     "execution_count": 62,
     "metadata": {},
     "output_type": "execute_result"
    }
   ],
   "source": [
    "intro['歌曲名'].value_counts()"
   ]
  },
  {
   "cell_type": "markdown",
   "metadata": {},
   "source": [
    "#### 喜欢/爱情/初恋/暗恋/恋爱\"(爱)"
   ]
  },
  {
   "cell_type": "code",
   "execution_count": 63,
   "metadata": {
    "collapsed": false
   },
   "outputs": [
    {
     "data": {
      "text/html": [
       "<div>\n",
       "<style>\n",
       "    .dataframe thead tr:only-child th {\n",
       "        text-align: right;\n",
       "    }\n",
       "\n",
       "    .dataframe thead th {\n",
       "        text-align: left;\n",
       "    }\n",
       "\n",
       "    .dataframe tbody tr th {\n",
       "        vertical-align: top;\n",
       "    }\n",
       "</style>\n",
       "<table border=\"1\" class=\"dataframe\">\n",
       "  <thead>\n",
       "    <tr style=\"text-align: right;\">\n",
       "      <th></th>\n",
       "      <th>评论内容</th>\n",
       "      <th>点赞总数</th>\n",
       "    </tr>\n",
       "  </thead>\n",
       "  <tbody>\n",
       "    <tr>\n",
       "      <th>3394</th>\n",
       "      <td>去年高考出成绩的那个凌晨，听了这首歌，突然哭了，一个冲动去和男神表白，我让他不要回我，因为没有这个答案的话我还能再继续喜欢他很久，后来他去了复旦，我选择了复读，离2017年高考还有73天，真的很想去复旦，告诉他喜欢了你三年的人和你一样优秀[流泪]</td>\n",
       "      <td>11.0</td>\n",
       "    </tr>\n",
       "    <tr>\n",
       "      <th>3917</th>\n",
       "      <td>初二，借的我喜欢的姑凉的物理书，在最后一页，我偷偷的写上了晴天的歌词。</td>\n",
       "      <td>11.0</td>\n",
       "    </tr>\n",
       "    <tr>\n",
       "      <th>4046</th>\n",
       "      <td>昨天喜欢了三年的他获得了清华直降六十分的资格，怎么说呢，替他高兴但又暗自失落，好像距离他更远了。正在写人大自主招生的自荐，接下来的七十几天一定要加油，稳定发挥，圆梦人大。Hey，你要等我。</td>\n",
       "      <td>10.0</td>\n",
       "    </tr>\n",
       "    <tr>\n",
       "      <th>8626</th>\n",
       "      <td>今天是我的20岁生日，接下来的十年是人生中最重要的十年，我希望我能把它过好，在我最喜欢的歌下祝我自己一帆风顺吧</td>\n",
       "      <td>11.0</td>\n",
       "    </tr>\n",
       "    <tr>\n",
       "      <th>9047</th>\n",
       "      <td>我的微信昵称是晴天，我最喜欢的天气是晴天，我最爱的歌是晴天，我喜欢的歌手是周杰伦，我的愿望是在晴天的一百三十二万条评论里上热评，可以吗？</td>\n",
       "      <td>12.0</td>\n",
       "    </tr>\n",
       "    <tr>\n",
       "      <th>9508</th>\n",
       "      <td>2017-3-23 星期四  晴天  中国1：0韩国 请国人永远铭记这一天 装B的棒子国输给了我们大华夏[爱心]</td>\n",
       "      <td>15.0</td>\n",
       "    </tr>\n",
       "    <tr>\n",
       "      <th>9686</th>\n",
       "      <td>这是我最喜欢的一首歌，也是我网易云收藏的第一首歌，同样也是网易云第一首破百万的歌，其实我最想说的是，谭羽伶，你回来吧，我们不分手好不好，我求你了，从校园到踏入社会1500多天，我们结婚吧，好不好</td>\n",
       "      <td>10.0</td>\n",
       "    </tr>\n",
       "    <tr>\n",
       "      <th>10106</th>\n",
       "      <td>本来最爱的是黑色幽默。因为一份爱 我现在最爱的是晴天。呐 谢谢你维护着当时的我的幻想。说了太多谢谢你。这次换句：我爱你。我只爱过你一人。</td>\n",
       "      <td>42.0</td>\n",
       "    </tr>\n",
       "    <tr>\n",
       "      <th>10285</th>\n",
       "      <td>云音乐的评论现在全是这样的高逼格用词：【记得高中那会就开始】 【又想起了我的大学时代】【那时候我的前女友也爱听】【小学到现在一直都在听】【从手机的播放列表里从来没删除过，还有mp3】 ......真希望以后能少看见点这样的词，我不排除你确实在表达心情，可我们的眼睛真看累了，咱能不能换个套路</td>\n",
       "      <td>61.0</td>\n",
       "    </tr>\n",
       "    <tr>\n",
       "      <th>11187</th>\n",
       "      <td>评论必须上万 ，这么点评论恶心谁呢，有多少歌你能让你喜欢十多年的？外国歌曲再好听，你不看翻译你知道啥意思？逼格高一会儿就行了，唱都不会唱，还感动，感动个篮子。</td>\n",
       "      <td>11.0</td>\n",
       "    </tr>\n",
       "  </tbody>\n",
       "</table>\n",
       "</div>"
      ],
      "text/plain": [
       "                                                                                                                                                    评论内容  \\\n",
       "3394                         去年高考出成绩的那个凌晨，听了这首歌，突然哭了，一个冲动去和男神表白，我让他不要回我，因为没有这个答案的话我还能再继续喜欢他很久，后来他去了复旦，我选择了复读，离2017年高考还有73天，真的很想去复旦，告诉他喜欢了你三年的人和你一样优秀[流泪]   \n",
       "3917                                                                                                                 初二，借的我喜欢的姑凉的物理书，在最后一页，我偷偷的写上了晴天的歌词。   \n",
       "4046                                                      昨天喜欢了三年的他获得了清华直降六十分的资格，怎么说呢，替他高兴但又暗自失落，好像距离他更远了。正在写人大自主招生的自荐，接下来的七十几天一定要加油，稳定发挥，圆梦人大。Hey，你要等我。   \n",
       "8626                                                                                             今天是我的20岁生日，接下来的十年是人生中最重要的十年，我希望我能把它过好，在我最喜欢的歌下祝我自己一帆风顺吧   \n",
       "9047                                                                                我的微信昵称是晴天，我最喜欢的天气是晴天，我最爱的歌是晴天，我喜欢的歌手是周杰伦，我的愿望是在晴天的一百三十二万条评论里上热评，可以吗？   \n",
       "9508                                                                                            2017-3-23 星期四  晴天  中国1：0韩国 请国人永远铭记这一天 装B的棒子国输给了我们大华夏[爱心]   \n",
       "9686                                                   这是我最喜欢的一首歌，也是我网易云收藏的第一首歌，同样也是网易云第一首破百万的歌，其实我最想说的是，谭羽伶，你回来吧，我们不分手好不好，我求你了，从校园到踏入社会1500多天，我们结婚吧，好不好   \n",
       "10106                                                                               本来最爱的是黑色幽默。因为一份爱 我现在最爱的是晴天。呐 谢谢你维护着当时的我的幻想。说了太多谢谢你。这次换句：我爱你。我只爱过你一人。   \n",
       "10285  云音乐的评论现在全是这样的高逼格用词：【记得高中那会就开始】 【又想起了我的大学时代】【那时候我的前女友也爱听】【小学到现在一直都在听】【从手机的播放列表里从来没删除过，还有mp3】 ......真希望以后能少看见点这样的词，我不排除你确实在表达心情，可我们的眼睛真看累了，咱能不能换个套路   \n",
       "11187                                                                    评论必须上万 ，这么点评论恶心谁呢，有多少歌你能让你喜欢十多年的？外国歌曲再好听，你不看翻译你知道啥意思？逼格高一会儿就行了，唱都不会唱，还感动，感动个篮子。   \n",
       "\n",
       "       点赞总数  \n",
       "3394   11.0  \n",
       "3917   11.0  \n",
       "4046   10.0  \n",
       "8626   11.0  \n",
       "9047   12.0  \n",
       "9508   15.0  \n",
       "9686   10.0  \n",
       "10106  42.0  \n",
       "10285  61.0  \n",
       "11187  11.0  "
      ]
     },
     "execution_count": 63,
     "metadata": {},
     "output_type": "execute_result"
    }
   ],
   "source": [
    "like = zan[zan['评论内容'].str.contains('喜欢|爱情|初恋|暗恋|恋爱|爱')]\n",
    "like[['评论内容','点赞总数']].head(10)"
   ]
  },
  {
   "cell_type": "code",
   "execution_count": 64,
   "metadata": {
    "collapsed": false
   },
   "outputs": [
    {
     "data": {
      "text/plain": [
       "晴天        147\n",
       "蒲公英的约定     60\n",
       "彩虹         36\n",
       "Name: 歌曲名, dtype: int64"
      ]
     },
     "execution_count": 64,
     "metadata": {},
     "output_type": "execute_result"
    }
   ],
   "source": [
    "like['歌曲名'].value_counts()"
   ]
  },
  {
   "cell_type": "markdown",
   "metadata": {},
   "source": [
    "#### 青春/回忆/记忆/时代/过去/故事\"(情节)"
   ]
  },
  {
   "cell_type": "code",
   "execution_count": 66,
   "metadata": {
    "collapsed": false
   },
   "outputs": [
    {
     "data": {
      "text/html": [
       "<div>\n",
       "<style>\n",
       "    .dataframe thead tr:only-child th {\n",
       "        text-align: right;\n",
       "    }\n",
       "\n",
       "    .dataframe thead th {\n",
       "        text-align: left;\n",
       "    }\n",
       "\n",
       "    .dataframe tbody tr th {\n",
       "        vertical-align: top;\n",
       "    }\n",
       "</style>\n",
       "<table border=\"1\" class=\"dataframe\">\n",
       "  <thead>\n",
       "    <tr style=\"text-align: right;\">\n",
       "      <th></th>\n",
       "      <th>评论内容</th>\n",
       "      <th>点赞总数</th>\n",
       "    </tr>\n",
       "  </thead>\n",
       "  <tbody>\n",
       "    <tr>\n",
       "      <th>4877</th>\n",
       "      <td>看了3个小时的评论 就像看了三万人的青春</td>\n",
       "      <td>11.0</td>\n",
       "    </tr>\n",
       "    <tr>\n",
       "      <th>4990</th>\n",
       "      <td>今天我生日，然后过去了八分钟没有收到祝福，我有点介意某只傻狍子😞晚安～</td>\n",
       "      <td>11.0</td>\n",
       "    </tr>\n",
       "    <tr>\n",
       "      <th>9848</th>\n",
       "      <td>为什么周杰伦现在的口碑一年比一年好，因为90后长大了，他的音乐不只是音乐啊，是我们的青春。</td>\n",
       "      <td>11.0</td>\n",
       "    </tr>\n",
       "    <tr>\n",
       "      <th>10285</th>\n",
       "      <td>云音乐的评论现在全是这样的高逼格用词：【记得高中那会就开始】 【又想起了我的大学时代】【那时候我的前女友也爱听】【小学到现在一直都在听】【从手机的播放列表里从来没删除过，还有mp3】 ......真希望以后能少看见点这样的词，我不排除你确实在表达心情，可我们的眼睛真看累了，咱能不能换个套路</td>\n",
       "      <td>61.0</td>\n",
       "    </tr>\n",
       "    <tr>\n",
       "      <th>11207</th>\n",
       "      <td>周杰伦演唱会上说了一句：接下来，我就要勾起你们青春的回忆，来了哦~泪飚</td>\n",
       "      <td>23.0</td>\n",
       "    </tr>\n",
       "  </tbody>\n",
       "</table>\n",
       "</div>"
      ],
      "text/plain": [
       "                                                                                                                                                    评论内容  \\\n",
       "4877                                                                                                                               看了3个小时的评论 就像看了三万人的青春    \n",
       "4990                                                                                                                 今天我生日，然后过去了八分钟没有收到祝福，我有点介意某只傻狍子😞晚安～   \n",
       "9848                                                                                                       为什么周杰伦现在的口碑一年比一年好，因为90后长大了，他的音乐不只是音乐啊，是我们的青春。   \n",
       "10285  云音乐的评论现在全是这样的高逼格用词：【记得高中那会就开始】 【又想起了我的大学时代】【那时候我的前女友也爱听】【小学到现在一直都在听】【从手机的播放列表里从来没删除过，还有mp3】 ......真希望以后能少看见点这样的词，我不排除你确实在表达心情，可我们的眼睛真看累了，咱能不能换个套路   \n",
       "11207                                                                                                                周杰伦演唱会上说了一句：接下来，我就要勾起你们青春的回忆，来了哦~泪飚   \n",
       "\n",
       "       点赞总数  \n",
       "4877   11.0  \n",
       "4990   11.0  \n",
       "9848   11.0  \n",
       "10285  61.0  \n",
       "11207  23.0  "
      ]
     },
     "execution_count": 66,
     "metadata": {},
     "output_type": "execute_result"
    }
   ],
   "source": [
    "story = zan[zan['评论内容'].str.contains('青春|回忆|记忆|时代|过去|故事')]\n",
    "story[['评论内容','点赞总数']].head()"
   ]
  },
  {
   "cell_type": "code",
   "execution_count": 67,
   "metadata": {
    "collapsed": false
   },
   "outputs": [
    {
     "data": {
      "text/plain": [
       "晴天        125\n",
       "蒲公英的约定     23\n",
       "彩虹          9\n",
       "Name: 歌曲名, dtype: int64"
      ]
     },
     "execution_count": 67,
     "metadata": {},
     "output_type": "execute_result"
    }
   ],
   "source": [
    "story['歌曲名'].value_counts()"
   ]
  },
  {
   "cell_type": "markdown",
   "metadata": {},
   "source": [
    "#### 翘课/校园/教室/作业/放学/秋千/花\"(校园意象)"
   ]
  },
  {
   "cell_type": "code",
   "execution_count": 68,
   "metadata": {
    "collapsed": false
   },
   "outputs": [
    {
     "data": {
      "text/html": [
       "<div>\n",
       "<style>\n",
       "    .dataframe thead tr:only-child th {\n",
       "        text-align: right;\n",
       "    }\n",
       "\n",
       "    .dataframe thead th {\n",
       "        text-align: left;\n",
       "    }\n",
       "\n",
       "    .dataframe tbody tr th {\n",
       "        vertical-align: top;\n",
       "    }\n",
       "</style>\n",
       "<table border=\"1\" class=\"dataframe\">\n",
       "  <thead>\n",
       "    <tr style=\"text-align: right;\">\n",
       "      <th></th>\n",
       "      <th>评论内容</th>\n",
       "      <th>点赞总数</th>\n",
       "    </tr>\n",
       "  </thead>\n",
       "  <tbody>\n",
       "    <tr>\n",
       "      <th>9686</th>\n",
       "      <td>这是我最喜欢的一首歌，也是我网易云收藏的第一首歌，同样也是网易云第一首破百万的歌，其实我最想说的是，谭羽伶，你回来吧，我们不分手好不好，我求你了，从校园到踏入社会1500多天，我们结婚吧，好不好</td>\n",
       "      <td>10.0</td>\n",
       "    </tr>\n",
       "    <tr>\n",
       "      <th>11153</th>\n",
       "      <td>为你翘课，和你一起在谈心室罚站，可是一点也不觉得难过，反而很满足。一晃十二年了。我却做了你的伴郎。消失的下雨天，我好想再淋一遍</td>\n",
       "      <td>39.0</td>\n",
       "    </tr>\n",
       "    <tr>\n",
       "      <th>12068</th>\n",
       "      <td>后来在一次逛街中，妈妈答应给我买专辑，但只能买一张，当时我特别想买的专辑，一张是只认得这一首歌的周杰伦的《叶惠美》，一张是朴树的《生如夏花》，后来才知道这两个人的才华不分伯仲，我左手拿着《叶惠美》右手拿着《生如夏花》在音像店里犹豫了好长时间，最后我选择了《叶惠美》。</td>\n",
       "      <td>17.0</td>\n",
       "    </tr>\n",
       "    <tr>\n",
       "      <th>12311</th>\n",
       "      <td>虽然歌词没有林夕文山的那么妙笔生花，但周杰伦的歌词却能妙笔生情，为何？ 故事的小黄花  从出生那年就飘着  童年的荡秋千  随记忆一直晃到现在  他的想法早已种下很久，已经成为天王的周杰伦依然怀念校园的点滴，哪怕是当时二十多岁的他，依然孩子气，专一认真、念旧痴情、他才华横溢，他低调不羁。</td>\n",
       "      <td>10.0</td>\n",
       "    </tr>\n",
       "    <tr>\n",
       "      <th>12749</th>\n",
       "      <td>第一次听这首歌是小学6年级，现在大学都快毕业了，依然忘不了第一次听这首歌的那种难过劲儿。越长大越难过，每一次听都五味杂陈。然而再也回不到为你翘课准备礼物，为你翘课借酒消愁的日子，还有从此再也没有学生时代纯真的爱情了。以此纪念。最后，祝福所有6月毕业的大学狗们。</td>\n",
       "      <td>10.0</td>\n",
       "    </tr>\n",
       "  </tbody>\n",
       "</table>\n",
       "</div>"
      ],
      "text/plain": [
       "                                                                                                                                                   评论内容  \\\n",
       "9686                                                  这是我最喜欢的一首歌，也是我网易云收藏的第一首歌，同样也是网易云第一首破百万的歌，其实我最想说的是，谭羽伶，你回来吧，我们不分手好不好，我求你了，从校园到踏入社会1500多天，我们结婚吧，好不好   \n",
       "11153                                                                                   为你翘课，和你一起在谈心室罚站，可是一点也不觉得难过，反而很满足。一晃十二年了。我却做了你的伴郎。消失的下雨天，我好想再淋一遍   \n",
       "12068             后来在一次逛街中，妈妈答应给我买专辑，但只能买一张，当时我特别想买的专辑，一张是只认得这一首歌的周杰伦的《叶惠美》，一张是朴树的《生如夏花》，后来才知道这两个人的才华不分伯仲，我左手拿着《叶惠美》右手拿着《生如夏花》在音像店里犹豫了好长时间，最后我选择了《叶惠美》。   \n",
       "12311  虽然歌词没有林夕文山的那么妙笔生花，但周杰伦的歌词却能妙笔生情，为何？ 故事的小黄花  从出生那年就飘着  童年的荡秋千  随记忆一直晃到现在  他的想法早已种下很久，已经成为天王的周杰伦依然怀念校园的点滴，哪怕是当时二十多岁的他，依然孩子气，专一认真、念旧痴情、他才华横溢，他低调不羁。   \n",
       "12749                第一次听这首歌是小学6年级，现在大学都快毕业了，依然忘不了第一次听这首歌的那种难过劲儿。越长大越难过，每一次听都五味杂陈。然而再也回不到为你翘课准备礼物，为你翘课借酒消愁的日子，还有从此再也没有学生时代纯真的爱情了。以此纪念。最后，祝福所有6月毕业的大学狗们。   \n",
       "\n",
       "       点赞总数  \n",
       "9686   10.0  \n",
       "11153  39.0  \n",
       "12068  17.0  \n",
       "12311  10.0  \n",
       "12749  10.0  "
      ]
     },
     "execution_count": 68,
     "metadata": {},
     "output_type": "execute_result"
    }
   ],
   "source": [
    "sth = zan[zan['评论内容'].str.contains('翘课|校园|教室|作业|放学|秋千|花')]\n",
    "sth[['评论内容','点赞总数']].head()"
   ]
  },
  {
   "cell_type": "code",
   "execution_count": 69,
   "metadata": {
    "collapsed": false
   },
   "outputs": [
    {
     "data": {
      "text/plain": [
       "晴天        34\n",
       "蒲公英的约定    14\n",
       "彩虹         3\n",
       "Name: 歌曲名, dtype: int64"
      ]
     },
     "execution_count": 69,
     "metadata": {},
     "output_type": "execute_result"
    }
   ],
   "source": [
    "sth['歌曲名'].value_counts()"
   ]
  },
  {
   "cell_type": "markdown",
   "metadata": {},
   "source": [
    "#### 晴天/下雨/下雨天/天空/风/雨/晴\"(天气)"
   ]
  },
  {
   "cell_type": "code",
   "execution_count": 71,
   "metadata": {
    "collapsed": false
   },
   "outputs": [
    {
     "data": {
      "text/html": [
       "<div>\n",
       "<style>\n",
       "    .dataframe thead tr:only-child th {\n",
       "        text-align: right;\n",
       "    }\n",
       "\n",
       "    .dataframe thead th {\n",
       "        text-align: left;\n",
       "    }\n",
       "\n",
       "    .dataframe tbody tr th {\n",
       "        vertical-align: top;\n",
       "    }\n",
       "</style>\n",
       "<table border=\"1\" class=\"dataframe\">\n",
       "  <thead>\n",
       "    <tr style=\"text-align: right;\">\n",
       "      <th></th>\n",
       "      <th>评论内容</th>\n",
       "      <th>点赞总数</th>\n",
       "    </tr>\n",
       "  </thead>\n",
       "  <tbody>\n",
       "    <tr>\n",
       "      <th>1859</th>\n",
       "      <td>和女友是异地恋，生活在相距两千里的城市，我曾经认为她是我的动力，直到有一天我坐火车一口饭没吃来到她的城市，风里有她的味道，却是和一个陌生男人的身影。我走在冷风中吃着肉夹馍告诉自己，我只是跑了两千里来吃肉夹馍的，我没哭，只不过风太大，迷了眼。</td>\n",
       "      <td>10.0</td>\n",
       "    </tr>\n",
       "    <tr>\n",
       "      <th>3917</th>\n",
       "      <td>初二，借的我喜欢的姑凉的物理书，在最后一页，我偷偷的写上了晴天的歌词。</td>\n",
       "      <td>11.0</td>\n",
       "    </tr>\n",
       "    <tr>\n",
       "      <th>5303</th>\n",
       "      <td>有个逼说薛之谦的《高尚》将会超越我的周的《晴天》，我果断的顶了句妈卖批，你是不是在做梦啊！！！做梦都超越不了😊</td>\n",
       "      <td>10.0</td>\n",
       "    </tr>\n",
       "    <tr>\n",
       "      <th>8626</th>\n",
       "      <td>今天是我的20岁生日，接下来的十年是人生中最重要的十年，我希望我能把它过好，在我最喜欢的歌下祝我自己一帆风顺吧</td>\n",
       "      <td>11.0</td>\n",
       "    </tr>\n",
       "    <tr>\n",
       "      <th>9047</th>\n",
       "      <td>我的微信昵称是晴天，我最喜欢的天气是晴天，我最爱的歌是晴天，我喜欢的歌手是周杰伦，我的愿望是在晴天的一百三十二万条评论里上热评，可以吗？</td>\n",
       "      <td>12.0</td>\n",
       "    </tr>\n",
       "  </tbody>\n",
       "</table>\n",
       "</div>"
      ],
      "text/plain": [
       "                                                                                                                          评论内容  \\\n",
       "1859  和女友是异地恋，生活在相距两千里的城市，我曾经认为她是我的动力，直到有一天我坐火车一口饭没吃来到她的城市，风里有她的味道，却是和一个陌生男人的身影。我走在冷风中吃着肉夹馍告诉自己，我只是跑了两千里来吃肉夹馍的，我没哭，只不过风太大，迷了眼。   \n",
       "3917                                                                                       初二，借的我喜欢的姑凉的物理书，在最后一页，我偷偷的写上了晴天的歌词。   \n",
       "5303                                                                   有个逼说薛之谦的《高尚》将会超越我的周的《晴天》，我果断的顶了句妈卖批，你是不是在做梦啊！！！做梦都超越不了😊   \n",
       "8626                                                                   今天是我的20岁生日，接下来的十年是人生中最重要的十年，我希望我能把它过好，在我最喜欢的歌下祝我自己一帆风顺吧   \n",
       "9047                                                      我的微信昵称是晴天，我最喜欢的天气是晴天，我最爱的歌是晴天，我喜欢的歌手是周杰伦，我的愿望是在晴天的一百三十二万条评论里上热评，可以吗？   \n",
       "\n",
       "      点赞总数  \n",
       "1859  10.0  \n",
       "3917  11.0  \n",
       "5303  10.0  \n",
       "8626  11.0  \n",
       "9047  12.0  "
      ]
     },
     "execution_count": 71,
     "metadata": {},
     "output_type": "execute_result"
    }
   ],
   "source": [
    "wth = zan[zan['评论内容'].str.contains('晴天|彩虹|下雨|下雨天|天空|风|雨|晴|放晴')]\n",
    "wth[['评论内容','点赞总数']].head()"
   ]
  },
  {
   "cell_type": "code",
   "execution_count": 72,
   "metadata": {
    "collapsed": false
   },
   "outputs": [
    {
     "data": {
      "text/plain": [
       "晴天        137\n",
       "彩虹         16\n",
       "蒲公英的约定      7\n",
       "Name: 歌曲名, dtype: int64"
      ]
     },
     "execution_count": 72,
     "metadata": {},
     "output_type": "execute_result"
    }
   ],
   "source": [
    "wth['歌曲名'].value_counts()"
   ]
  },
  {
   "cell_type": "markdown",
   "metadata": {},
   "source": [
    "#### 拜拜/再见/离开/分别/离别/告别\"(离别)"
   ]
  },
  {
   "cell_type": "code",
   "execution_count": 74,
   "metadata": {
    "collapsed": false
   },
   "outputs": [
    {
     "data": {
      "text/html": [
       "<div>\n",
       "<style>\n",
       "    .dataframe thead tr:only-child th {\n",
       "        text-align: right;\n",
       "    }\n",
       "\n",
       "    .dataframe thead th {\n",
       "        text-align: left;\n",
       "    }\n",
       "\n",
       "    .dataframe tbody tr th {\n",
       "        vertical-align: top;\n",
       "    }\n",
       "</style>\n",
       "<table border=\"1\" class=\"dataframe\">\n",
       "  <thead>\n",
       "    <tr style=\"text-align: right;\">\n",
       "      <th></th>\n",
       "      <th>评论内容</th>\n",
       "      <th>点赞总数</th>\n",
       "    </tr>\n",
       "  </thead>\n",
       "  <tbody>\n",
       "    <tr>\n",
       "      <th>17395</th>\n",
       "      <td>在从清迈去曼谷的深夜大巴上，和一个姑娘一人一个耳塞随机到了这首歌，不知道她现在好不好，只记得故事的最后我们说了拜拜。</td>\n",
       "      <td>10.0</td>\n",
       "    </tr>\n",
       "    <tr>\n",
       "      <th>18043</th>\n",
       "      <td>夏天的时候跟他一起跑去Jay的演唱会，第一次牵手拥抱亲吻，第二天车站告别，他回学校我出国再也没见过。这一年就这样过去。</td>\n",
       "      <td>10.0</td>\n",
       "    </tr>\n",
       "    <tr>\n",
       "      <th>18197</th>\n",
       "      <td>20年以后，我去看杰伦的告别演唱会，带着儿子一起，指着在台上依旧熟悉的人说，儿子你看，这是你爸追了40年的人，我还要再追20年，追到我们都老了，老的都哭了</td>\n",
       "      <td>16.0</td>\n",
       "    </tr>\n",
       "    <tr>\n",
       "      <th>18529</th>\n",
       "      <td>用一整首的歌词韵脚做铺垫，一直以为最后一句是，你还是说了再见，其实是你还是说了拜拜。写的不错</td>\n",
       "      <td>10.0</td>\n",
       "    </tr>\n",
       "    <tr>\n",
       "      <th>19079</th>\n",
       "      <td>刚刚在慢悠悠的火车上睡觉，穿得少，很冷。吃瓜子的大妈骤然拉开窗帘瞬间很暖和，我也有不那么讨厌晒的时候。到了冬天从睡眠到运气到状态都变得凝固而运作缓慢。马頔昨天也唱了晴天，算了，故事的最后还是说声拜拜。所有想做的事关乎离得更远和离得更近。</td>\n",
       "      <td>11.0</td>\n",
       "    </tr>\n",
       "  </tbody>\n",
       "</table>\n",
       "</div>"
      ],
      "text/plain": [
       "                                                                                                                         评论内容  \\\n",
       "17395                                                              在从清迈去曼谷的深夜大巴上，和一个姑娘一人一个耳塞随机到了这首歌，不知道她现在好不好，只记得故事的最后我们说了拜拜。   \n",
       "18043                                                             夏天的时候跟他一起跑去Jay的演唱会，第一次牵手拥抱亲吻，第二天车站告别，他回学校我出国再也没见过。这一年就这样过去。   \n",
       "18197                                           20年以后，我去看杰伦的告别演唱会，带着儿子一起，指着在台上依旧熟悉的人说，儿子你看，这是你爸追了40年的人，我还要再追20年，追到我们都老了，老的都哭了   \n",
       "18529                                                                          用一整首的歌词韵脚做铺垫，一直以为最后一句是，你还是说了再见，其实是你还是说了拜拜。写的不错   \n",
       "19079  刚刚在慢悠悠的火车上睡觉，穿得少，很冷。吃瓜子的大妈骤然拉开窗帘瞬间很暖和，我也有不那么讨厌晒的时候。到了冬天从睡眠到运气到状态都变得凝固而运作缓慢。马頔昨天也唱了晴天，算了，故事的最后还是说声拜拜。所有想做的事关乎离得更远和离得更近。   \n",
       "\n",
       "       点赞总数  \n",
       "17395  10.0  \n",
       "18043  10.0  \n",
       "18197  16.0  \n",
       "18529  10.0  \n",
       "19079  11.0  "
      ]
     },
     "execution_count": 74,
     "metadata": {},
     "output_type": "execute_result"
    }
   ],
   "source": [
    "bye = zan[zan['评论内容'].str.contains('拜拜|再见|离开|分别|离别|告别')]\n",
    "bye[['评论内容','点赞总数']].head()"
   ]
  },
  {
   "cell_type": "code",
   "execution_count": 75,
   "metadata": {
    "collapsed": false
   },
   "outputs": [
    {
     "data": {
      "text/plain": [
       "晴天        33\n",
       "蒲公英的约定     6\n",
       "彩虹         3\n",
       "Name: 歌曲名, dtype: int64"
      ]
     },
     "execution_count": 75,
     "metadata": {},
     "output_type": "execute_result"
    }
   ],
   "source": [
    "bye['歌曲名'].value_counts()"
   ]
  },
  {
   "cell_type": "markdown",
   "metadata": {},
   "source": [
    "#### 叶惠美|专辑|卡带|演唱会|音乐会|录音机|mp3"
   ]
  },
  {
   "cell_type": "code",
   "execution_count": 77,
   "metadata": {
    "collapsed": false
   },
   "outputs": [
    {
     "data": {
      "text/html": [
       "<div>\n",
       "<style>\n",
       "    .dataframe thead tr:only-child th {\n",
       "        text-align: right;\n",
       "    }\n",
       "\n",
       "    .dataframe thead th {\n",
       "        text-align: left;\n",
       "    }\n",
       "\n",
       "    .dataframe tbody tr th {\n",
       "        vertical-align: top;\n",
       "    }\n",
       "</style>\n",
       "<table border=\"1\" class=\"dataframe\">\n",
       "  <thead>\n",
       "    <tr style=\"text-align: right;\">\n",
       "      <th></th>\n",
       "      <th>评论内容</th>\n",
       "      <th>点赞总数</th>\n",
       "    </tr>\n",
       "  </thead>\n",
       "  <tbody>\n",
       "    <tr>\n",
       "      <th>10285</th>\n",
       "      <td>云音乐的评论现在全是这样的高逼格用词：【记得高中那会就开始】 【又想起了我的大学时代】【那时候我的前女友也爱听】【小学到现在一直都在听】【从手机的播放列表里从来没删除过，还有mp3】 ......真希望以后能少看见点这样的词，我不排除你确实在表达心情，可我们的眼睛真看累了，咱能不能换个套路</td>\n",
       "      <td>61.0</td>\n",
       "    </tr>\n",
       "    <tr>\n",
       "      <th>11207</th>\n",
       "      <td>周杰伦演唱会上说了一句：接下来，我就要勾起你们青春的回忆，来了哦~泪飚</td>\n",
       "      <td>23.0</td>\n",
       "    </tr>\n",
       "    <tr>\n",
       "      <th>11269</th>\n",
       "      <td>演唱会杰伦必唱曲目，有幸听过一场现场《晴天》5.16南京站，杰伦现场歌迷点歌，是一对情侣，杰伦很八卦，男歌迷说“我顶你哦”杰伦也在台上傻笑，因为他就是我们的州青春，然后杰伦说，那就带来一首晴天吧，顿时泪奔</td>\n",
       "      <td>11.0</td>\n",
       "    </tr>\n",
       "    <tr>\n",
       "      <th>12004</th>\n",
       "      <td>我是在杰伦的一次演唱会（第一次看演唱会，其实是来做兼职检票的。）听到的这首歌。当时听到这首歌的时候，突然有一种很美好的感觉，但是又带一点伤感，觉得以前的时候没有勇敢过，放肆过，加上全场几万人的互动，有种想回到初中彻底的冲动一把。。想象着牵着她的手，静静地在操场上走~~</td>\n",
       "      <td>10.0</td>\n",
       "    </tr>\n",
       "    <tr>\n",
       "      <th>12068</th>\n",
       "      <td>后来在一次逛街中，妈妈答应给我买专辑，但只能买一张，当时我特别想买的专辑，一张是只认得这一首歌的周杰伦的《叶惠美》，一张是朴树的《生如夏花》，后来才知道这两个人的才华不分伯仲，我左手拿着《叶惠美》右手拿着《生如夏花》在音像店里犹豫了好长时间，最后我选择了《叶惠美》。</td>\n",
       "      <td>17.0</td>\n",
       "    </tr>\n",
       "  </tbody>\n",
       "</table>\n",
       "</div>"
      ],
      "text/plain": [
       "                                                                                                                                                    评论内容  \\\n",
       "10285  云音乐的评论现在全是这样的高逼格用词：【记得高中那会就开始】 【又想起了我的大学时代】【那时候我的前女友也爱听】【小学到现在一直都在听】【从手机的播放列表里从来没删除过，还有mp3】 ......真希望以后能少看见点这样的词，我不排除你确实在表达心情，可我们的眼睛真看累了，咱能不能换个套路   \n",
       "11207                                                                                                                周杰伦演唱会上说了一句：接下来，我就要勾起你们青春的回忆，来了哦~泪飚   \n",
       "11269                                             演唱会杰伦必唱曲目，有幸听过一场现场《晴天》5.16南京站，杰伦现场歌迷点歌，是一对情侣，杰伦很八卦，男歌迷说“我顶你哦”杰伦也在台上傻笑，因为他就是我们的州青春，然后杰伦说，那就带来一首晴天吧，顿时泪奔   \n",
       "12004             我是在杰伦的一次演唱会（第一次看演唱会，其实是来做兼职检票的。）听到的这首歌。当时听到这首歌的时候，突然有一种很美好的感觉，但是又带一点伤感，觉得以前的时候没有勇敢过，放肆过，加上全场几万人的互动，有种想回到初中彻底的冲动一把。。想象着牵着她的手，静静地在操场上走~~   \n",
       "12068              后来在一次逛街中，妈妈答应给我买专辑，但只能买一张，当时我特别想买的专辑，一张是只认得这一首歌的周杰伦的《叶惠美》，一张是朴树的《生如夏花》，后来才知道这两个人的才华不分伯仲，我左手拿着《叶惠美》右手拿着《生如夏花》在音像店里犹豫了好长时间，最后我选择了《叶惠美》。   \n",
       "\n",
       "       点赞总数  \n",
       "10285  61.0  \n",
       "11207  23.0  \n",
       "11269  11.0  \n",
       "12004  10.0  \n",
       "12068  17.0  "
      ]
     },
     "execution_count": 77,
     "metadata": {},
     "output_type": "execute_result"
    }
   ],
   "source": [
    "ye = zan[zan['评论内容'].str.contains('叶惠美|专辑|卡带|演唱会|音乐会|录音机|mp3')]\n",
    "ye[['评论内容','点赞总数']].head()"
   ]
  },
  {
   "cell_type": "code",
   "execution_count": 78,
   "metadata": {
    "collapsed": false
   },
   "outputs": [
    {
     "data": {
      "text/plain": [
       "晴天        32\n",
       "蒲公英的约定     5\n",
       "彩虹         4\n",
       "Name: 歌曲名, dtype: int64"
      ]
     },
     "execution_count": 78,
     "metadata": {},
     "output_type": "execute_result"
    }
   ],
   "source": [
    "ye['歌曲名'].value_counts()"
   ]
  }
 ],
 "metadata": {
  "kernelspec": {
   "display_name": "Python 3",
   "language": "python",
   "name": "python3"
  },
  "language_info": {
   "codemirror_mode": {
    "name": "ipython",
    "version": 3
   },
   "file_extension": ".py",
   "mimetype": "text/x-python",
   "name": "python",
   "nbconvert_exporter": "python",
   "pygments_lexer": "ipython3",
   "version": "3.6.0"
  },
  "latex_envs": {
   "LaTeX_envs_menu_present": true,
   "autocomplete": true,
   "bibliofile": "biblio.bib",
   "cite_by": "apalike",
   "current_citInitial": 1,
   "eqLabelWithNumbers": true,
   "eqNumInitial": 1,
   "hotkeys": {
    "equation": "Ctrl-E",
    "itemize": "Ctrl-I"
   },
   "labels_anchors": false,
   "latex_user_defs": false,
   "report_style_numbering": false,
   "user_envs_cfg": false
  },
  "toc": {
   "colors": {
    "hover_highlight": "#DAA520",
    "running_highlight": "#FF0000",
    "selected_highlight": "#FFD700"
   },
   "moveMenuLeft": true,
   "nav_menu": {
    "height": "120px",
    "width": "252px"
   },
   "navigate_menu": true,
   "number_sections": true,
   "sideBar": true,
   "threshold": 4,
   "toc_cell": false,
   "toc_position": {
    "height": "597px",
    "left": "0px",
    "right": "1305.78px",
    "top": "111px",
    "width": "212px"
   },
   "toc_section_display": "block",
   "toc_window_display": true,
   "widenNotebook": false
  }
 },
 "nbformat": 4,
 "nbformat_minor": 2
}
