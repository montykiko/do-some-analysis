{
 "cells": [
  {
   "cell_type": "code",
   "execution_count": 7,
   "metadata": {
    "ExecuteTime": {
     "end_time": "2018-04-03T06:48:38.794542Z",
     "start_time": "2018-04-03T06:48:38.658233Z"
    }
   },
   "outputs": [],
   "source": [
    "import pandas as pd\n",
    "import xlrd\n",
    "\n",
    "#获取sheetnames\n",
    "workbook = xlrd.open_workbook(r'D:/京东数据报告/窗帘sheet合并/曼联编码.xlsx')  \n",
    "sheet_names = workbook.sheet_names()\n",
    "\n",
    "#分类“帘”、“轨”列表\n",
    "lian = []\n",
    "gui = []\n",
    "for name in sheet_names:\n",
    "    if '帘' in name:\n",
    "        lian.append(name)\n",
    "    else:\n",
    "        gui.append(name)\n",
    "lian.remove('卷帘配件-CR')\n",
    "gui.append('卷帘配件-CR')\n",
    "\n",
    "#concat多个sheet的函数\n",
    "def concat_sheets(lst,name):\n",
    "    frame = pd.DataFrame()\n",
    "    list_ = []\n",
    "    for sheet in lst:\n",
    "        df = pd.read_excel(r'D:/京东数据报告/曼联编码.xlsx',sheet_name='%s'% sheet)\n",
    "        df.rename({'JD':'JD编码'},axis=1,inplace=True)\n",
    "        list_.append(df)\n",
    "    frame = pd.concat(list_,ignore_index=True) \n",
    "    frame = frame[['JD编码','产品颜色','JD售价 ']].copy()\n",
    "    frame.dropna(axis=0,how='all',inplace=True)\n",
    "    frame.to_excel('D:/京东数据报告/%s.xlsx'% name,index=False,encoding='gbk')\n",
    "    \n",
    "concat_sheets(lian,'帘')\n",
    "concat_sheets(gui,'轨')"
   ]
  }
 ],
 "metadata": {
  "kernelspec": {
   "display_name": "Python 3",
   "language": "python",
   "name": "python3"
  },
  "language_info": {
   "codemirror_mode": {
    "name": "ipython",
    "version": 3
   },
   "file_extension": ".py",
   "mimetype": "text/x-python",
   "name": "python",
   "nbconvert_exporter": "python",
   "pygments_lexer": "ipython3",
   "version": "3.6.4"
  },
  "toc": {
   "nav_menu": {},
   "number_sections": true,
   "sideBar": true,
   "skip_h1_title": false,
   "title_cell": "Table of Contents",
   "title_sidebar": "Contents",
   "toc_cell": false,
   "toc_position": {},
   "toc_section_display": true,
   "toc_window_display": false
  }
 },
 "nbformat": 4,
 "nbformat_minor": 2
}
