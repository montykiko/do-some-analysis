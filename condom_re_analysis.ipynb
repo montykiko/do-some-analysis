{
 "cells": [
  {
   "cell_type": "markdown",
   "metadata": {},
   "source": [
    "# 待处理：消费时间字段的处理，两位数年的数据处理？"
   ]
  },
  {
   "cell_type": "code",
   "execution_count": 190,
   "metadata": {
    "collapsed": true
   },
   "outputs": [],
   "source": [
    "import pandas as pd\n",
    "import numpy as np"
   ]
  },
  {
   "cell_type": "code",
   "execution_count": 191,
   "metadata": {
    "collapsed": false
   },
   "outputs": [
    {
     "name": "stderr",
     "output_type": "stream",
     "text": [
      "C:\\Users\\Kismet\\Anaconda3\\lib\\site-packages\\IPython\\core\\interactiveshell.py:2717: DtypeWarning: Columns (5,6,9) have mixed types. Specify dtype option on import or set low_memory=False.\n",
      "  interactivity=interactivity, compiler=compiler, result=result)\n"
     ]
    },
    {
     "data": {
      "text/html": [
       "<div>\n",
       "<style>\n",
       "    .dataframe thead tr:only-child th {\n",
       "        text-align: right;\n",
       "    }\n",
       "\n",
       "    .dataframe thead th {\n",
       "        text-align: left;\n",
       "    }\n",
       "\n",
       "    .dataframe tbody tr th {\n",
       "        vertical-align: top;\n",
       "    }\n",
       "</style>\n",
       "<table border=\"1\" class=\"dataframe\">\n",
       "  <thead>\n",
       "    <tr style=\"text-align: right;\">\n",
       "      <th></th>\n",
       "      <th>爬取时间(__time)</th>\n",
       "      <th>爬取链接(__url)</th>\n",
       "      <th>评价内容(commentInfo:content)</th>\n",
       "      <th>评价长度(commentInfo:contentlength)</th>\n",
       "      <th>评价时间(commentInfo:date)</th>\n",
       "      <th>消费时间(commentInfo:paydate)</th>\n",
       "      <th>评分(commentInfo:score)</th>\n",
       "      <th>会员等级(commentInfo:otherscore)</th>\n",
       "      <th>用户地区(commentInfo:tripType)</th>\n",
       "      <th>产品类型(commentInfo:roomType)</th>\n",
       "      <th>用户名(userInfo:name)</th>\n",
       "      <th>评论来自终端(userInfo:otherinfo)</th>\n",
       "      <th>平台id(goodsInfo:platform)</th>\n",
       "      <th>厂商、分类信息(goodsInfo:goodsid)</th>\n",
       "      <th>店名(goodsInfo:name)</th>\n",
       "      <th>关键词tag(keywordTag:containKeys)</th>\n",
       "      <th>情感tag(emotionTag:isTagged)</th>\n",
       "      <th>Unnamed: 17</th>\n",
       "    </tr>\n",
       "  </thead>\n",
       "  <tbody>\n",
       "    <tr>\n",
       "      <th>0</th>\n",
       "      <td>2017-06-05 06:23:15</td>\n",
       "      <td>https://club.jd.com/comment/productPageComment...</td>\n",
       "      <td>速度挺快，晚上试试，看看和冈本区别在哪</td>\n",
       "      <td>19.0</td>\n",
       "      <td>161008</td>\n",
       "      <td>2016-10-07 11:15:56</td>\n",
       "      <td>5</td>\n",
       "      <td>钻石会员</td>\n",
       "      <td>100.0</td>\n",
       "      <td>AiR润薄6只</td>\n",
       "      <td>vi</td>\n",
       "      <td>来自京东Android客户端</td>\n",
       "      <td>3</td>\n",
       "      <td>900000023</td>\n",
       "      <td>超薄Air</td>\n",
       "      <td>no</td>\n",
       "      <td>no</td>\n",
       "      <td>NaN</td>\n",
       "    </tr>\n",
       "    <tr>\n",
       "      <th>1</th>\n",
       "      <td>2017-06-05 05:38:02</td>\n",
       "      <td>https://club.jd.com/comment/productPageComment...</td>\n",
       "      <td>很好用 第二次购买了</td>\n",
       "      <td>10.0</td>\n",
       "      <td>170525</td>\n",
       "      <td>2017-05-24 21:32:56</td>\n",
       "      <td>5</td>\n",
       "      <td>金牌会员</td>\n",
       "      <td>100.0</td>\n",
       "      <td>AiR润薄10只</td>\n",
       "      <td>j5</td>\n",
       "      <td>来自京东Android客户端</td>\n",
       "      <td>3</td>\n",
       "      <td>900000023</td>\n",
       "      <td>超薄Air</td>\n",
       "      <td>no</td>\n",
       "      <td>no</td>\n",
       "      <td>NaN</td>\n",
       "    </tr>\n",
       "    <tr>\n",
       "      <th>2</th>\n",
       "      <td>2017-06-05 05:35:44</td>\n",
       "      <td>https://club.jd.com/comment/productPageComment...</td>\n",
       "      <td>好。</td>\n",
       "      <td>2.0</td>\n",
       "      <td>170604</td>\n",
       "      <td>2017-05-05 14:56:08</td>\n",
       "      <td>5</td>\n",
       "      <td>金牌会员</td>\n",
       "      <td>100.0</td>\n",
       "      <td>AiR润薄10只</td>\n",
       "      <td>jh</td>\n",
       "      <td>来自京东iPhone客户端</td>\n",
       "      <td>3</td>\n",
       "      <td>900000023</td>\n",
       "      <td>超薄Air</td>\n",
       "      <td>no</td>\n",
       "      <td>no</td>\n",
       "      <td>NaN</td>\n",
       "    </tr>\n",
       "    <tr>\n",
       "      <th>3</th>\n",
       "      <td>2017-06-05 05:35:44</td>\n",
       "      <td>https://club.jd.com/comment/productPageComment...</td>\n",
       "      <td>。。。。。。。。。。。。</td>\n",
       "      <td>12.0</td>\n",
       "      <td>170604</td>\n",
       "      <td>2017-03-15 01:58:13</td>\n",
       "      <td>5</td>\n",
       "      <td>金牌会员</td>\n",
       "      <td>100.0</td>\n",
       "      <td>AiR润薄10只</td>\n",
       "      <td>6D6E4E36</td>\n",
       "      <td>来自京东Android客户端</td>\n",
       "      <td>3</td>\n",
       "      <td>900000023</td>\n",
       "      <td>超薄Air</td>\n",
       "      <td>no</td>\n",
       "      <td>no</td>\n",
       "      <td>NaN</td>\n",
       "    </tr>\n",
       "    <tr>\n",
       "      <th>4</th>\n",
       "      <td>2017-06-05 05:35:44</td>\n",
       "      <td>https://club.jd.com/comment/productPageComment...</td>\n",
       "      <td>好</td>\n",
       "      <td>1.0</td>\n",
       "      <td>170604</td>\n",
       "      <td>2017-04-29 15:21:56</td>\n",
       "      <td>5</td>\n",
       "      <td>铜牌会员</td>\n",
       "      <td>100.0</td>\n",
       "      <td>AiR润薄10只</td>\n",
       "      <td>j4E86</td>\n",
       "      <td>来自京东Android客户端</td>\n",
       "      <td>3</td>\n",
       "      <td>900000023</td>\n",
       "      <td>超薄Air</td>\n",
       "      <td>no</td>\n",
       "      <td>no</td>\n",
       "      <td>NaN</td>\n",
       "    </tr>\n",
       "  </tbody>\n",
       "</table>\n",
       "</div>"
      ],
      "text/plain": [
       "          爬取时间(__time)                                        爬取链接(__url)  \\\n",
       "0  2017-06-05 06:23:15  https://club.jd.com/comment/productPageComment...   \n",
       "1  2017-06-05 05:38:02  https://club.jd.com/comment/productPageComment...   \n",
       "2  2017-06-05 05:35:44  https://club.jd.com/comment/productPageComment...   \n",
       "3  2017-06-05 05:35:44  https://club.jd.com/comment/productPageComment...   \n",
       "4  2017-06-05 05:35:44  https://club.jd.com/comment/productPageComment...   \n",
       "\n",
       "  评价内容(commentInfo:content)  评价长度(commentInfo:contentlength)  \\\n",
       "0       速度挺快，晚上试试，看看和冈本区别在哪                             19.0   \n",
       "1                很好用 第二次购买了                             10.0   \n",
       "2                        好。                              2.0   \n",
       "3              。。。。。。。。。。。。                             12.0   \n",
       "4                         好                              1.0   \n",
       "\n",
       "   评价时间(commentInfo:date) 消费时间(commentInfo:paydate) 评分(commentInfo:score)  \\\n",
       "0                  161008       2016-10-07 11:15:56                     5   \n",
       "1                  170525       2017-05-24 21:32:56                     5   \n",
       "2                  170604       2017-05-05 14:56:08                     5   \n",
       "3                  170604       2017-03-15 01:58:13                     5   \n",
       "4                  170604       2017-04-29 15:21:56                     5   \n",
       "\n",
       "  会员等级(commentInfo:otherscore)  用户地区(commentInfo:tripType)  \\\n",
       "0                         钻石会员                       100.0   \n",
       "1                         金牌会员                       100.0   \n",
       "2                         金牌会员                       100.0   \n",
       "3                         金牌会员                       100.0   \n",
       "4                         铜牌会员                       100.0   \n",
       "\n",
       "  产品类型(commentInfo:roomType) 用户名(userInfo:name) 评论来自终端(userInfo:otherinfo)  \\\n",
       "0                    AiR润薄6只                 vi             来自京东Android客户端   \n",
       "1                   AiR润薄10只                 j5             来自京东Android客户端   \n",
       "2                   AiR润薄10只                 jh              来自京东iPhone客户端   \n",
       "3                   AiR润薄10只           6D6E4E36             来自京东Android客户端   \n",
       "4                   AiR润薄10只              j4E86             来自京东Android客户端   \n",
       "\n",
       "   平台id(goodsInfo:platform)  厂商、分类信息(goodsInfo:goodsid) 店名(goodsInfo:name)  \\\n",
       "0                         3                   900000023              超薄Air   \n",
       "1                         3                   900000023              超薄Air   \n",
       "2                         3                   900000023              超薄Air   \n",
       "3                         3                   900000023              超薄Air   \n",
       "4                         3                   900000023              超薄Air   \n",
       "\n",
       "  关键词tag(keywordTag:containKeys) 情感tag(emotionTag:isTagged)  Unnamed: 17  \n",
       "0                             no                         no          NaN  \n",
       "1                             no                         no          NaN  \n",
       "2                             no                         no          NaN  \n",
       "3                             no                         no          NaN  \n",
       "4                             no                         no          NaN  "
      ]
     },
     "execution_count": 191,
     "metadata": {},
     "output_type": "execute_result"
    }
   ],
   "source": [
    "df = pd.read_table('condom.txt')\n",
    "df.head()"
   ]
  },
  {
   "cell_type": "markdown",
   "metadata": {},
   "source": [
    "# 字段格式规整"
   ]
  },
  {
   "cell_type": "code",
   "execution_count": 194,
   "metadata": {
    "collapsed": false
   },
   "outputs": [
    {
     "data": {
      "text/plain": [
       "Index(['爬取时间(__time)', '爬取链接(__url)', '评价内容(commentInfo:content)',\n",
       "       '评价长度(commentInfo:contentlength)', '评价时间(commentInfo:date)',\n",
       "       '消费时间(commentInfo:paydate)', '评分(commentInfo:score)',\n",
       "       '会员等级(commentInfo:otherscore)', '用户地区(commentInfo:tripType)',\n",
       "       '产品类型(commentInfo:roomType)', '用户名(userInfo:name)',\n",
       "       '评论来自终端(userInfo:otherinfo)', '平台id(goodsInfo:platform)',\n",
       "       '厂商、分类信息(goodsInfo:goodsid)', '店名(goodsInfo:name)',\n",
       "       '关键词tag(keywordTag:containKeys)', '情感tag(emotionTag:isTagged)',\n",
       "       'Unnamed: 17'],\n",
       "      dtype='object')"
      ]
     },
     "execution_count": 194,
     "metadata": {},
     "output_type": "execute_result"
    }
   ],
   "source": [
    "df.columns = list(map(str.strip,df.columns.values))\n",
    "df.columns"
   ]
  },
  {
   "cell_type": "markdown",
   "metadata": {},
   "source": [
    "# 去掉无关或无效字段"
   ]
  },
  {
   "cell_type": "code",
   "execution_count": 145,
   "metadata": {
    "collapsed": true
   },
   "outputs": [],
   "source": [
    "df.drop(['爬取时间(__time)','爬取链接(__url)','用户地区(commentInfo:tripType)',\n",
    "         '关键词tag(keywordTag:containKeys)','情感tag(emotionTag:isTagged)',\n",
    "         'Unnamed: 17'],axis = 1,inplace = True)"
   ]
  },
  {
   "cell_type": "code",
   "execution_count": 146,
   "metadata": {
    "collapsed": false
   },
   "outputs": [
    {
     "data": {
      "text/html": [
       "<div>\n",
       "<style>\n",
       "    .dataframe thead tr:only-child th {\n",
       "        text-align: right;\n",
       "    }\n",
       "\n",
       "    .dataframe thead th {\n",
       "        text-align: left;\n",
       "    }\n",
       "\n",
       "    .dataframe tbody tr th {\n",
       "        vertical-align: top;\n",
       "    }\n",
       "</style>\n",
       "<table border=\"1\" class=\"dataframe\">\n",
       "  <thead>\n",
       "    <tr style=\"text-align: right;\">\n",
       "      <th></th>\n",
       "      <th>评价内容(commentInfo:content)</th>\n",
       "      <th>评价长度(commentInfo:contentlength)</th>\n",
       "      <th>评价时间(commentInfo:date)</th>\n",
       "      <th>消费时间(commentInfo:paydate)</th>\n",
       "      <th>评分(commentInfo:score)</th>\n",
       "      <th>会员等级(commentInfo:otherscore)</th>\n",
       "      <th>产品类型(commentInfo:roomType)</th>\n",
       "      <th>用户名(userInfo:name)</th>\n",
       "      <th>评论来自终端(userInfo:otherinfo)</th>\n",
       "      <th>平台id(goodsInfo:platform)</th>\n",
       "      <th>厂商、分类信息(goodsInfo:goodsid)</th>\n",
       "      <th>店名(goodsInfo:name)</th>\n",
       "    </tr>\n",
       "  </thead>\n",
       "  <tbody>\n",
       "    <tr>\n",
       "      <th>0</th>\n",
       "      <td>速度挺快，晚上试试，看看和冈本区别在哪</td>\n",
       "      <td>19.0</td>\n",
       "      <td>161008</td>\n",
       "      <td>2016-10-07 11:15:56</td>\n",
       "      <td>5</td>\n",
       "      <td>钻石会员</td>\n",
       "      <td>AiR润薄6只</td>\n",
       "      <td>vi</td>\n",
       "      <td>来自京东Android客户端</td>\n",
       "      <td>3</td>\n",
       "      <td>900000023</td>\n",
       "      <td>超薄Air</td>\n",
       "    </tr>\n",
       "    <tr>\n",
       "      <th>1</th>\n",
       "      <td>很好用 第二次购买了</td>\n",
       "      <td>10.0</td>\n",
       "      <td>170525</td>\n",
       "      <td>2017-05-24 21:32:56</td>\n",
       "      <td>5</td>\n",
       "      <td>金牌会员</td>\n",
       "      <td>AiR润薄10只</td>\n",
       "      <td>j5</td>\n",
       "      <td>来自京东Android客户端</td>\n",
       "      <td>3</td>\n",
       "      <td>900000023</td>\n",
       "      <td>超薄Air</td>\n",
       "    </tr>\n",
       "    <tr>\n",
       "      <th>2</th>\n",
       "      <td>好。</td>\n",
       "      <td>2.0</td>\n",
       "      <td>170604</td>\n",
       "      <td>2017-05-05 14:56:08</td>\n",
       "      <td>5</td>\n",
       "      <td>金牌会员</td>\n",
       "      <td>AiR润薄10只</td>\n",
       "      <td>jh</td>\n",
       "      <td>来自京东iPhone客户端</td>\n",
       "      <td>3</td>\n",
       "      <td>900000023</td>\n",
       "      <td>超薄Air</td>\n",
       "    </tr>\n",
       "    <tr>\n",
       "      <th>3</th>\n",
       "      <td>。。。。。。。。。。。。</td>\n",
       "      <td>12.0</td>\n",
       "      <td>170604</td>\n",
       "      <td>2017-03-15 01:58:13</td>\n",
       "      <td>5</td>\n",
       "      <td>金牌会员</td>\n",
       "      <td>AiR润薄10只</td>\n",
       "      <td>6D6E4E36</td>\n",
       "      <td>来自京东Android客户端</td>\n",
       "      <td>3</td>\n",
       "      <td>900000023</td>\n",
       "      <td>超薄Air</td>\n",
       "    </tr>\n",
       "    <tr>\n",
       "      <th>4</th>\n",
       "      <td>好</td>\n",
       "      <td>1.0</td>\n",
       "      <td>170604</td>\n",
       "      <td>2017-04-29 15:21:56</td>\n",
       "      <td>5</td>\n",
       "      <td>铜牌会员</td>\n",
       "      <td>AiR润薄10只</td>\n",
       "      <td>j4E86</td>\n",
       "      <td>来自京东Android客户端</td>\n",
       "      <td>3</td>\n",
       "      <td>900000023</td>\n",
       "      <td>超薄Air</td>\n",
       "    </tr>\n",
       "  </tbody>\n",
       "</table>\n",
       "</div>"
      ],
      "text/plain": [
       "  评价内容(commentInfo:content)  评价长度(commentInfo:contentlength)  \\\n",
       "0       速度挺快，晚上试试，看看和冈本区别在哪                             19.0   \n",
       "1                很好用 第二次购买了                             10.0   \n",
       "2                        好。                              2.0   \n",
       "3              。。。。。。。。。。。。                             12.0   \n",
       "4                         好                              1.0   \n",
       "\n",
       "   评价时间(commentInfo:date) 消费时间(commentInfo:paydate) 评分(commentInfo:score)  \\\n",
       "0                  161008       2016-10-07 11:15:56                     5   \n",
       "1                  170525       2017-05-24 21:32:56                     5   \n",
       "2                  170604       2017-05-05 14:56:08                     5   \n",
       "3                  170604       2017-03-15 01:58:13                     5   \n",
       "4                  170604       2017-04-29 15:21:56                     5   \n",
       "\n",
       "  会员等级(commentInfo:otherscore) 产品类型(commentInfo:roomType) 用户名(userInfo:name)  \\\n",
       "0                         钻石会员                    AiR润薄6只                 vi   \n",
       "1                         金牌会员                   AiR润薄10只                 j5   \n",
       "2                         金牌会员                   AiR润薄10只                 jh   \n",
       "3                         金牌会员                   AiR润薄10只           6D6E4E36   \n",
       "4                         铜牌会员                   AiR润薄10只              j4E86   \n",
       "\n",
       "  评论来自终端(userInfo:otherinfo)  平台id(goodsInfo:platform)  \\\n",
       "0             来自京东Android客户端                         3   \n",
       "1             来自京东Android客户端                         3   \n",
       "2              来自京东iPhone客户端                         3   \n",
       "3             来自京东Android客户端                         3   \n",
       "4             来自京东Android客户端                         3   \n",
       "\n",
       "   厂商、分类信息(goodsInfo:goodsid) 店名(goodsInfo:name)  \n",
       "0                   900000023              超薄Air  \n",
       "1                   900000023              超薄Air  \n",
       "2                   900000023              超薄Air  \n",
       "3                   900000023              超薄Air  \n",
       "4                   900000023              超薄Air  "
      ]
     },
     "execution_count": 146,
     "metadata": {},
     "output_type": "execute_result"
    }
   ],
   "source": [
    "df.head()"
   ]
  },
  {
   "cell_type": "markdown",
   "metadata": {},
   "source": [
    "# 字段名称处理"
   ]
  },
  {
   "cell_type": "code",
   "execution_count": 147,
   "metadata": {
    "collapsed": false
   },
   "outputs": [
    {
     "data": {
      "text/plain": [
       "Index(['评价内容(commentInfo:content)', '评价长度(commentInfo:contentlength)',\n",
       "       '评价时间(commentInfo:date)', '消费时间(commentInfo:paydate)',\n",
       "       '评分(commentInfo:score)', '会员等级(commentInfo:otherscore)',\n",
       "       '产品类型(commentInfo:roomType)', '用户名(userInfo:name)',\n",
       "       '评论来自终端(userInfo:otherinfo)', '平台id(goodsInfo:platform)',\n",
       "       '厂商、分类信息(goodsInfo:goodsid)', '店名(goodsInfo:name)'],\n",
       "      dtype='object')"
      ]
     },
     "execution_count": 147,
     "metadata": {},
     "output_type": "execute_result"
    }
   ],
   "source": [
    "df.columns"
   ]
  },
  {
   "cell_type": "code",
   "execution_count": 148,
   "metadata": {
    "collapsed": false
   },
   "outputs": [],
   "source": [
    "old_names = list(df.columns) \n",
    "new_names = ['评价内容', '评价长度', '评价时间', '消费时间', '评分', '会员等级', '产品类型', '用户名', '终端', '平台', '厂商', '品类']\n",
    "df.rename(columns=dict(zip(old_names, new_names)), inplace=True)"
   ]
  },
  {
   "cell_type": "code",
   "execution_count": 149,
   "metadata": {
    "collapsed": false
   },
   "outputs": [
    {
     "data": {
      "text/plain": [
       "Index(['评价内容', '评价长度', '评价时间', '消费时间', '评分', '会员等级', '产品类型', '用户名', '终端', '平台',\n",
       "       '厂商', '品类'],\n",
       "      dtype='object')"
      ]
     },
     "execution_count": 149,
     "metadata": {},
     "output_type": "execute_result"
    }
   ],
   "source": [
    "df.columns"
   ]
  },
  {
   "cell_type": "markdown",
   "metadata": {},
   "source": [
    "# 区分平台"
   ]
  },
  {
   "cell_type": "markdown",
   "metadata": {},
   "source": [
    "```\n",
    "注：此数据集内数据爬取自不同的四个平台，字段信息获取情况不同（即并非每一个平台都具有全部的字段信息）\n",
    "对应情况如下：\n",
    "2        天猫\n",
    "3        京东\n",
    "13       一号店\n",
    "14       苏宁易购\n",
    "```"
   ]
  },
  {
   "cell_type": "code",
   "execution_count": 150,
   "metadata": {
    "collapsed": false
   },
   "outputs": [
    {
     "data": {
      "text/plain": [
       "天猫      33368\n",
       "京东      19646\n",
       "苏宁易购     3896\n",
       "一号店      2070\n",
       "Name: 平台, dtype: int64"
      ]
     },
     "execution_count": 150,
     "metadata": {},
     "output_type": "execute_result"
    }
   ],
   "source": [
    "num = [2,3,13,14]\n",
    "platform = ['天猫','京东','一号店','苏宁易购']\n",
    "df['平台'] = df['平台'].replace(num,platform)\n",
    "df['平台'].value_counts()"
   ]
  },
  {
   "cell_type": "markdown",
   "metadata": {},
   "source": [
    "# 对应厂商"
   ]
  },
  {
   "cell_type": "code",
   "execution_count": 151,
   "metadata": {
    "collapsed": false
   },
   "outputs": [
    {
     "data": {
      "text/plain": [
       "900000023     16208\n",
       "900000024     13438\n",
       "1100000027    12484\n",
       "1000000025    10974\n",
       "1000000026     5876\n",
       "Name: 厂商, dtype: int64"
      ]
     },
     "execution_count": 151,
     "metadata": {},
     "output_type": "execute_result"
    }
   ],
   "source": [
    "df['厂商'].value_counts()"
   ]
  },
  {
   "cell_type": "code",
   "execution_count": 152,
   "metadata": {
    "collapsed": false
   },
   "outputs": [
    {
     "data": {
      "text/plain": [
       "超薄Air         16208\n",
       "持久Performa    13438\n",
       "超薄003         12484\n",
       "零感Zero        10974\n",
       "持久LongLove     5876\n",
       "Name: 品类, dtype: int64"
      ]
     },
     "execution_count": 152,
     "metadata": {},
     "output_type": "execute_result"
    }
   ],
   "source": [
    "df['品类'].value_counts()"
   ]
  },
  {
   "cell_type": "code",
   "execution_count": 153,
   "metadata": {
    "collapsed": false
   },
   "outputs": [
    {
     "data": {
      "text/plain": [
       "杜蕾斯    29646\n",
       "杰士邦    16850\n",
       "冈本     12484\n",
       "Name: 厂商, dtype: int64"
      ]
     },
     "execution_count": 153,
     "metadata": {},
     "output_type": "execute_result"
    }
   ],
   "source": [
    "no = [900000023,900000024,1100000027,1000000025,1000000026]\n",
    "names = ['杜蕾斯','杜蕾斯','冈本','杰士邦','杰士邦']\n",
    "df['厂商'].replace(no,names,inplace = True)\n",
    "df['厂商'].value_counts()"
   ]
  },
  {
   "cell_type": "markdown",
   "metadata": {},
   "source": [
    "# 数据集split"
   ]
  },
  {
   "cell_type": "code",
   "execution_count": 154,
   "metadata": {
    "collapsed": true
   },
   "outputs": [],
   "source": [
    "tmall = df.loc[df['平台'] == '天猫']\n",
    "jdong = df.loc[df['平台'] == '京东']\n",
    "sning = df.loc[df['平台'] == '苏宁易购']\n",
    "yihao = df.loc[df['平台'] == '一号店']"
   ]
  },
  {
   "cell_type": "markdown",
   "metadata": {},
   "source": [
    "# 天猫"
   ]
  },
  {
   "cell_type": "code",
   "execution_count": 155,
   "metadata": {
    "collapsed": false
   },
   "outputs": [
    {
     "data": {
      "text/html": [
       "<div>\n",
       "<style>\n",
       "    .dataframe thead tr:only-child th {\n",
       "        text-align: right;\n",
       "    }\n",
       "\n",
       "    .dataframe thead th {\n",
       "        text-align: left;\n",
       "    }\n",
       "\n",
       "    .dataframe tbody tr th {\n",
       "        vertical-align: top;\n",
       "    }\n",
       "</style>\n",
       "<table border=\"1\" class=\"dataframe\">\n",
       "  <thead>\n",
       "    <tr style=\"text-align: right;\">\n",
       "      <th></th>\n",
       "      <th>评价内容</th>\n",
       "      <th>评价长度</th>\n",
       "      <th>评价时间</th>\n",
       "      <th>消费时间</th>\n",
       "      <th>评分</th>\n",
       "      <th>会员等级</th>\n",
       "      <th>产品类型</th>\n",
       "      <th>用户名</th>\n",
       "      <th>终端</th>\n",
       "      <th>平台</th>\n",
       "      <th>厂商</th>\n",
       "      <th>品类</th>\n",
       "    </tr>\n",
       "  </thead>\n",
       "  <tbody>\n",
       "    <tr>\n",
       "      <th>19646</th>\n",
       "      <td>春宵一刻值千金  打了两折的样子   还是觉得贵</td>\n",
       "      <td>24.0</td>\n",
       "      <td>161202</td>\n",
       "      <td>NaN</td>\n",
       "      <td>NaN</td>\n",
       "      <td>4</td>\n",
       "      <td>NaN</td>\n",
       "      <td>7AE054C8</td>\n",
       "      <td>NaN</td>\n",
       "      <td>天猫</td>\n",
       "      <td>杜蕾斯</td>\n",
       "      <td>超薄Air</td>\n",
       "    </tr>\n",
       "    <tr>\n",
       "      <th>19647</th>\n",
       "      <td>送的碗没什么用啊</td>\n",
       "      <td>8.0</td>\n",
       "      <td>161203</td>\n",
       "      <td>NaN</td>\n",
       "      <td>NaN</td>\n",
       "      <td>4</td>\n",
       "      <td>NaN</td>\n",
       "      <td>pa</td>\n",
       "      <td>NaN</td>\n",
       "      <td>天猫</td>\n",
       "      <td>杜蕾斯</td>\n",
       "      <td>超薄Air</td>\n",
       "    </tr>\n",
       "    <tr>\n",
       "      <th>19648</th>\n",
       "      <td>正品可信，卖家服务很好，送的球型盒子好可爱啊。</td>\n",
       "      <td>23.0</td>\n",
       "      <td>161204</td>\n",
       "      <td>NaN</td>\n",
       "      <td>NaN</td>\n",
       "      <td>3</td>\n",
       "      <td>NaN</td>\n",
       "      <td>ee</td>\n",
       "      <td>NaN</td>\n",
       "      <td>天猫</td>\n",
       "      <td>杜蕾斯</td>\n",
       "      <td>超薄Air</td>\n",
       "    </tr>\n",
       "    <tr>\n",
       "      <th>19649</th>\n",
       "      <td>用了再评</td>\n",
       "      <td>4.0</td>\n",
       "      <td>161204</td>\n",
       "      <td>NaN</td>\n",
       "      <td>NaN</td>\n",
       "      <td>2</td>\n",
       "      <td>NaN</td>\n",
       "      <td>g3</td>\n",
       "      <td>NaN</td>\n",
       "      <td>天猫</td>\n",
       "      <td>杜蕾斯</td>\n",
       "      <td>超薄Air</td>\n",
       "    </tr>\n",
       "    <tr>\n",
       "      <th>19650</th>\n",
       "      <td>很好</td>\n",
       "      <td>2.0</td>\n",
       "      <td>161205</td>\n",
       "      <td>NaN</td>\n",
       "      <td>NaN</td>\n",
       "      <td>3</td>\n",
       "      <td>NaN</td>\n",
       "      <td>4E9A52A1</td>\n",
       "      <td>NaN</td>\n",
       "      <td>天猫</td>\n",
       "      <td>杜蕾斯</td>\n",
       "      <td>超薄Air</td>\n",
       "    </tr>\n",
       "  </tbody>\n",
       "</table>\n",
       "</div>"
      ],
      "text/plain": [
       "                           评价内容  评价长度    评价时间 消费时间   评分 会员等级 产品类型       用户名  \\\n",
       "19646  春宵一刻值千金  打了两折的样子   还是觉得贵  24.0  161202  NaN  NaN    4  NaN  7AE054C8   \n",
       "19647                  送的碗没什么用啊   8.0  161203  NaN  NaN    4  NaN        pa   \n",
       "19648   正品可信，卖家服务很好，送的球型盒子好可爱啊。  23.0  161204  NaN  NaN    3  NaN        ee   \n",
       "19649                      用了再评   4.0  161204  NaN  NaN    2  NaN        g3   \n",
       "19650                        很好   2.0  161205  NaN  NaN    3  NaN  4E9A52A1   \n",
       "\n",
       "        终端  平台   厂商     品类  \n",
       "19646  NaN  天猫  杜蕾斯  超薄Air  \n",
       "19647  NaN  天猫  杜蕾斯  超薄Air  \n",
       "19648  NaN  天猫  杜蕾斯  超薄Air  \n",
       "19649  NaN  天猫  杜蕾斯  超薄Air  \n",
       "19650  NaN  天猫  杜蕾斯  超薄Air  "
      ]
     },
     "execution_count": 155,
     "metadata": {},
     "output_type": "execute_result"
    }
   ],
   "source": [
    "tmall.head()"
   ]
  },
  {
   "cell_type": "markdown",
   "metadata": {},
   "source": [
    "## 处理空字段"
   ]
  },
  {
   "cell_type": "code",
   "execution_count": 156,
   "metadata": {
    "collapsed": false
   },
   "outputs": [
    {
     "data": {
      "text/plain": [
       "True    33368\n",
       "Name: 消费时间, dtype: int64"
      ]
     },
     "execution_count": 156,
     "metadata": {},
     "output_type": "execute_result"
    }
   ],
   "source": [
    "tmall['消费时间'].isnull().value_counts()  #说明天猫数据没抓取到这个字段"
   ]
  },
  {
   "cell_type": "code",
   "execution_count": 157,
   "metadata": {
    "collapsed": false
   },
   "outputs": [
    {
     "data": {
      "text/plain": [
       "True    33368\n",
       "Name: 评分, dtype: int64"
      ]
     },
     "execution_count": 157,
     "metadata": {},
     "output_type": "execute_result"
    }
   ],
   "source": [
    "tmall['评分'].isnull().value_counts()"
   ]
  },
  {
   "cell_type": "code",
   "execution_count": 158,
   "metadata": {
    "collapsed": false
   },
   "outputs": [
    {
     "data": {
      "text/plain": [
       "True    33368\n",
       "Name: 产品类型, dtype: int64"
      ]
     },
     "execution_count": 158,
     "metadata": {},
     "output_type": "execute_result"
    }
   ],
   "source": [
    "tmall['产品类型'].isnull().value_counts()"
   ]
  },
  {
   "cell_type": "code",
   "execution_count": 159,
   "metadata": {
    "collapsed": false
   },
   "outputs": [
    {
     "data": {
      "text/plain": [
       "True    33368\n",
       "Name: 终端, dtype: int64"
      ]
     },
     "execution_count": 159,
     "metadata": {},
     "output_type": "execute_result"
    }
   ],
   "source": [
    "tmall['终端'].isnull().value_counts()"
   ]
  },
  {
   "cell_type": "markdown",
   "metadata": {},
   "source": [
    "以上四个字段都没有信息，去掉"
   ]
  },
  {
   "cell_type": "code",
   "execution_count": 160,
   "metadata": {
    "collapsed": false
   },
   "outputs": [
    {
     "name": "stderr",
     "output_type": "stream",
     "text": [
      "C:\\Users\\Kismet\\Anaconda3\\lib\\site-packages\\ipykernel\\__main__.py:1: SettingWithCopyWarning: \n",
      "A value is trying to be set on a copy of a slice from a DataFrame\n",
      "\n",
      "See the caveats in the documentation: http://pandas.pydata.org/pandas-docs/stable/indexing.html#indexing-view-versus-copy\n",
      "  if __name__ == '__main__':\n"
     ]
    }
   ],
   "source": [
    "tmall.drop(['消费时间','评分','产品类型','终端'],axis = 1,inplace=True)"
   ]
  },
  {
   "cell_type": "markdown",
   "metadata": {},
   "source": [
    "## 评价内容的处理"
   ]
  },
  {
   "cell_type": "markdown",
   "metadata": {},
   "source": [
    "### 处理缺失值"
   ]
  },
  {
   "cell_type": "code",
   "execution_count": 161,
   "metadata": {
    "collapsed": false
   },
   "outputs": [
    {
     "data": {
      "text/html": [
       "<div>\n",
       "<style>\n",
       "    .dataframe thead tr:only-child th {\n",
       "        text-align: right;\n",
       "    }\n",
       "\n",
       "    .dataframe thead th {\n",
       "        text-align: left;\n",
       "    }\n",
       "\n",
       "    .dataframe tbody tr th {\n",
       "        vertical-align: top;\n",
       "    }\n",
       "</style>\n",
       "<table border=\"1\" class=\"dataframe\">\n",
       "  <thead>\n",
       "    <tr style=\"text-align: right;\">\n",
       "      <th></th>\n",
       "      <th>评价内容</th>\n",
       "      <th>评价长度</th>\n",
       "      <th>评价时间</th>\n",
       "      <th>会员等级</th>\n",
       "      <th>用户名</th>\n",
       "      <th>平台</th>\n",
       "      <th>厂商</th>\n",
       "      <th>品类</th>\n",
       "    </tr>\n",
       "  </thead>\n",
       "  <tbody>\n",
       "    <tr>\n",
       "      <th>30789</th>\n",
       "      <td>NaN</td>\n",
       "      <td>1.0</td>\n",
       "      <td>170214</td>\n",
       "      <td>NaN</td>\n",
       "      <td>848B4E5F</td>\n",
       "      <td>天猫</td>\n",
       "      <td>杜蕾斯</td>\n",
       "      <td>持久Performa</td>\n",
       "    </tr>\n",
       "  </tbody>\n",
       "</table>\n",
       "</div>"
      ],
      "text/plain": [
       "      评价内容  评价长度    评价时间 会员等级       用户名  平台   厂商          品类\n",
       "30789  NaN   1.0  170214  NaN  848B4E5F  天猫  杜蕾斯  持久Performa"
      ]
     },
     "execution_count": 161,
     "metadata": {},
     "output_type": "execute_result"
    }
   ],
   "source": [
    "tmall.loc[tmall['评价内容'].isnull()]"
   ]
  },
  {
   "cell_type": "code",
   "execution_count": 162,
   "metadata": {
    "collapsed": false
   },
   "outputs": [],
   "source": [
    "tmall = tmall.loc[tmall['评价内容'].notnull()]"
   ]
  },
  {
   "cell_type": "markdown",
   "metadata": {},
   "source": [
    "### 处理非主观评价"
   ]
  },
  {
   "cell_type": "code",
   "execution_count": 163,
   "metadata": {
    "collapsed": false
   },
   "outputs": [
    {
     "data": {
      "text/html": [
       "<div>\n",
       "<style>\n",
       "    .dataframe thead tr:only-child th {\n",
       "        text-align: right;\n",
       "    }\n",
       "\n",
       "    .dataframe thead th {\n",
       "        text-align: left;\n",
       "    }\n",
       "\n",
       "    .dataframe tbody tr th {\n",
       "        vertical-align: top;\n",
       "    }\n",
       "</style>\n",
       "<table border=\"1\" class=\"dataframe\">\n",
       "  <thead>\n",
       "    <tr style=\"text-align: right;\">\n",
       "      <th></th>\n",
       "      <th>评价内容</th>\n",
       "      <th>评价长度</th>\n",
       "      <th>评价时间</th>\n",
       "      <th>会员等级</th>\n",
       "      <th>用户名</th>\n",
       "      <th>平台</th>\n",
       "      <th>厂商</th>\n",
       "      <th>品类</th>\n",
       "    </tr>\n",
       "  </thead>\n",
       "  <tbody>\n",
       "    <tr>\n",
       "      <th>30859</th>\n",
       "      <td>系统默认好评</td>\n",
       "      <td>6.0</td>\n",
       "      <td>170219</td>\n",
       "      <td>NaN</td>\n",
       "      <td>cu</td>\n",
       "      <td>天猫</td>\n",
       "      <td>杜蕾斯</td>\n",
       "      <td>持久Performa</td>\n",
       "    </tr>\n",
       "    <tr>\n",
       "      <th>42297</th>\n",
       "      <td>该用户默认好评！</td>\n",
       "      <td>8.0</td>\n",
       "      <td>170604</td>\n",
       "      <td>1</td>\n",
       "      <td>5F5268A6</td>\n",
       "      <td>天猫</td>\n",
       "      <td>杰士邦</td>\n",
       "      <td>零感Zero</td>\n",
       "    </tr>\n",
       "    <tr>\n",
       "      <th>46170</th>\n",
       "      <td>系统默认好评</td>\n",
       "      <td>6.0</td>\n",
       "      <td>170520</td>\n",
       "      <td>2</td>\n",
       "      <td>6C34771F</td>\n",
       "      <td>天猫</td>\n",
       "      <td>杰士邦</td>\n",
       "      <td>持久LongLove</td>\n",
       "    </tr>\n",
       "    <tr>\n",
       "      <th>49445</th>\n",
       "      <td>系统默认好评</td>\n",
       "      <td>6.0</td>\n",
       "      <td>161224</td>\n",
       "      <td>2</td>\n",
       "      <td>73A98</td>\n",
       "      <td>天猫</td>\n",
       "      <td>冈本</td>\n",
       "      <td>超薄003</td>\n",
       "    </tr>\n",
       "  </tbody>\n",
       "</table>\n",
       "</div>"
      ],
      "text/plain": [
       "           评价内容  评价长度    评价时间 会员等级       用户名  平台   厂商          品类\n",
       "30859    系统默认好评   6.0  170219  NaN        cu  天猫  杜蕾斯  持久Performa\n",
       "42297  该用户默认好评！   8.0  170604    1  5F5268A6  天猫  杰士邦      零感Zero\n",
       "46170    系统默认好评   6.0  170520    2  6C34771F  天猫  杰士邦  持久LongLove\n",
       "49445    系统默认好评   6.0  161224    2     73A98  天猫   冈本       超薄003"
      ]
     },
     "execution_count": 163,
     "metadata": {},
     "output_type": "execute_result"
    }
   ],
   "source": [
    "tmall[tmall['评价内容'].str.contains(r'系统默认好评|用户默认好评')]"
   ]
  },
  {
   "cell_type": "code",
   "execution_count": 165,
   "metadata": {
    "collapsed": true
   },
   "outputs": [],
   "source": [
    "tmall = tmall[~tmall['评价内容'].str.contains(r'系统默认好评|用户默认好评')]"
   ]
  },
  {
   "cell_type": "markdown",
   "metadata": {},
   "source": [
    "# 京东"
   ]
  },
  {
   "cell_type": "code",
   "execution_count": 41,
   "metadata": {
    "collapsed": false
   },
   "outputs": [
    {
     "data": {
      "text/html": [
       "<div>\n",
       "<style>\n",
       "    .dataframe thead tr:only-child th {\n",
       "        text-align: right;\n",
       "    }\n",
       "\n",
       "    .dataframe thead th {\n",
       "        text-align: left;\n",
       "    }\n",
       "\n",
       "    .dataframe tbody tr th {\n",
       "        vertical-align: top;\n",
       "    }\n",
       "</style>\n",
       "<table border=\"1\" class=\"dataframe\">\n",
       "  <thead>\n",
       "    <tr style=\"text-align: right;\">\n",
       "      <th></th>\n",
       "      <th>评价内容</th>\n",
       "      <th>评价长度</th>\n",
       "      <th>评价时间</th>\n",
       "      <th>消费时间</th>\n",
       "      <th>评分</th>\n",
       "      <th>会员等级</th>\n",
       "      <th>产品类型</th>\n",
       "      <th>用户名</th>\n",
       "      <th>终端</th>\n",
       "      <th>平台</th>\n",
       "      <th>厂商</th>\n",
       "      <th>品类</th>\n",
       "    </tr>\n",
       "  </thead>\n",
       "  <tbody>\n",
       "    <tr>\n",
       "      <th>0</th>\n",
       "      <td>速度挺快，晚上试试，看看和冈本区别在哪</td>\n",
       "      <td>19.0</td>\n",
       "      <td>161008</td>\n",
       "      <td>2016-10-07 11:15:56</td>\n",
       "      <td>5</td>\n",
       "      <td>钻石会员</td>\n",
       "      <td>AiR润薄6只</td>\n",
       "      <td>vi</td>\n",
       "      <td>来自京东Android客户端</td>\n",
       "      <td>京东</td>\n",
       "      <td>杜蕾斯</td>\n",
       "      <td>超薄Air</td>\n",
       "    </tr>\n",
       "    <tr>\n",
       "      <th>1</th>\n",
       "      <td>很好用 第二次购买了</td>\n",
       "      <td>10.0</td>\n",
       "      <td>170525</td>\n",
       "      <td>2017-05-24 21:32:56</td>\n",
       "      <td>5</td>\n",
       "      <td>金牌会员</td>\n",
       "      <td>AiR润薄10只</td>\n",
       "      <td>j5</td>\n",
       "      <td>来自京东Android客户端</td>\n",
       "      <td>京东</td>\n",
       "      <td>杜蕾斯</td>\n",
       "      <td>超薄Air</td>\n",
       "    </tr>\n",
       "    <tr>\n",
       "      <th>2</th>\n",
       "      <td>好。</td>\n",
       "      <td>2.0</td>\n",
       "      <td>170604</td>\n",
       "      <td>2017-05-05 14:56:08</td>\n",
       "      <td>5</td>\n",
       "      <td>金牌会员</td>\n",
       "      <td>AiR润薄10只</td>\n",
       "      <td>jh</td>\n",
       "      <td>来自京东iPhone客户端</td>\n",
       "      <td>京东</td>\n",
       "      <td>杜蕾斯</td>\n",
       "      <td>超薄Air</td>\n",
       "    </tr>\n",
       "    <tr>\n",
       "      <th>3</th>\n",
       "      <td>。。。。。。。。。。。。</td>\n",
       "      <td>12.0</td>\n",
       "      <td>170604</td>\n",
       "      <td>2017-03-15 01:58:13</td>\n",
       "      <td>5</td>\n",
       "      <td>金牌会员</td>\n",
       "      <td>AiR润薄10只</td>\n",
       "      <td>6D6E4E36</td>\n",
       "      <td>来自京东Android客户端</td>\n",
       "      <td>京东</td>\n",
       "      <td>杜蕾斯</td>\n",
       "      <td>超薄Air</td>\n",
       "    </tr>\n",
       "    <tr>\n",
       "      <th>4</th>\n",
       "      <td>好</td>\n",
       "      <td>1.0</td>\n",
       "      <td>170604</td>\n",
       "      <td>2017-04-29 15:21:56</td>\n",
       "      <td>5</td>\n",
       "      <td>铜牌会员</td>\n",
       "      <td>AiR润薄10只</td>\n",
       "      <td>j4E86</td>\n",
       "      <td>来自京东Android客户端</td>\n",
       "      <td>京东</td>\n",
       "      <td>杜蕾斯</td>\n",
       "      <td>超薄Air</td>\n",
       "    </tr>\n",
       "  </tbody>\n",
       "</table>\n",
       "</div>"
      ],
      "text/plain": [
       "                  评价内容  评价长度    评价时间                 消费时间 评分  会员等级      产品类型  \\\n",
       "0  速度挺快，晚上试试，看看和冈本区别在哪  19.0  161008  2016-10-07 11:15:56  5  钻石会员   AiR润薄6只   \n",
       "1           很好用 第二次购买了  10.0  170525  2017-05-24 21:32:56  5  金牌会员  AiR润薄10只   \n",
       "2                   好。   2.0  170604  2017-05-05 14:56:08  5  金牌会员  AiR润薄10只   \n",
       "3         。。。。。。。。。。。。  12.0  170604  2017-03-15 01:58:13  5  金牌会员  AiR润薄10只   \n",
       "4                    好   1.0  170604  2017-04-29 15:21:56  5  铜牌会员  AiR润薄10只   \n",
       "\n",
       "        用户名              终端  平台   厂商     品类  \n",
       "0        vi  来自京东Android客户端  京东  杜蕾斯  超薄Air  \n",
       "1        j5  来自京东Android客户端  京东  杜蕾斯  超薄Air  \n",
       "2        jh   来自京东iPhone客户端  京东  杜蕾斯  超薄Air  \n",
       "3  6D6E4E36  来自京东Android客户端  京东  杜蕾斯  超薄Air  \n",
       "4     j4E86  来自京东Android客户端  京东  杜蕾斯  超薄Air  "
      ]
     },
     "execution_count": 41,
     "metadata": {},
     "output_type": "execute_result"
    }
   ],
   "source": [
    "jdong.head()"
   ]
  },
  {
   "cell_type": "markdown",
   "metadata": {},
   "source": [
    "## 观察是否有非主观评价"
   ]
  },
  {
   "cell_type": "code",
   "execution_count": 171,
   "metadata": {
    "collapsed": false
   },
   "outputs": [
    {
     "data": {
      "text/html": [
       "<div>\n",
       "<style>\n",
       "    .dataframe thead tr:only-child th {\n",
       "        text-align: right;\n",
       "    }\n",
       "\n",
       "    .dataframe thead th {\n",
       "        text-align: left;\n",
       "    }\n",
       "\n",
       "    .dataframe tbody tr th {\n",
       "        vertical-align: top;\n",
       "    }\n",
       "</style>\n",
       "<table border=\"1\" class=\"dataframe\">\n",
       "  <thead>\n",
       "    <tr style=\"text-align: right;\">\n",
       "      <th></th>\n",
       "      <th>评价内容</th>\n",
       "      <th>评价长度</th>\n",
       "      <th>评价时间</th>\n",
       "      <th>消费时间</th>\n",
       "      <th>评分</th>\n",
       "      <th>会员等级</th>\n",
       "      <th>产品类型</th>\n",
       "      <th>用户名</th>\n",
       "      <th>终端</th>\n",
       "      <th>平台</th>\n",
       "      <th>厂商</th>\n",
       "      <th>品类</th>\n",
       "    </tr>\n",
       "  </thead>\n",
       "  <tbody>\n",
       "    <tr>\n",
       "      <th>3052</th>\n",
       "      <td>默认好评。</td>\n",
       "      <td>5.0</td>\n",
       "      <td>161024</td>\n",
       "      <td>2016-09-22 22:08:08</td>\n",
       "      <td>5</td>\n",
       "      <td>金牌会员</td>\n",
       "      <td>AiR润薄6只</td>\n",
       "      <td>3679C</td>\n",
       "      <td>来自京东iPhone客户端</td>\n",
       "      <td>京东</td>\n",
       "      <td>杜蕾斯</td>\n",
       "      <td>超薄Air</td>\n",
       "    </tr>\n",
       "    <tr>\n",
       "      <th>7742</th>\n",
       "      <td>还没有使用，默认好评</td>\n",
       "      <td>10.0</td>\n",
       "      <td>170603</td>\n",
       "      <td>2017-05-20 22:33:31</td>\n",
       "      <td>5</td>\n",
       "      <td>PLUS会员</td>\n",
       "      <td>持久装12只</td>\n",
       "      <td>522B732A</td>\n",
       "      <td>来自京东iPhone客户端</td>\n",
       "      <td>京东</td>\n",
       "      <td>杜蕾斯</td>\n",
       "      <td>持久Performa</td>\n",
       "    </tr>\n",
       "    <tr>\n",
       "      <th>14196</th>\n",
       "      <td>估计能用上两年，默认好评</td>\n",
       "      <td>12.0</td>\n",
       "      <td>170531</td>\n",
       "      <td>2017-04-15 14:02:34</td>\n",
       "      <td>5</td>\n",
       "      <td>钻石会员</td>\n",
       "      <td>优超特惠组合装52只</td>\n",
       "      <td>f0</td>\n",
       "      <td>来自京东Android客户端</td>\n",
       "      <td>京东</td>\n",
       "      <td>杰士邦</td>\n",
       "      <td>持久LongLove</td>\n",
       "    </tr>\n",
       "    <tr>\n",
       "      <th>19453</th>\n",
       "      <td>还没有使用，默认好评</td>\n",
       "      <td>10.0</td>\n",
       "      <td>170603</td>\n",
       "      <td>2017-05-20 22:33:31</td>\n",
       "      <td>5</td>\n",
       "      <td>PLUS会员</td>\n",
       "      <td>003透明质酸6片</td>\n",
       "      <td>522B732A</td>\n",
       "      <td>来自京东iPhone客户端</td>\n",
       "      <td>京东</td>\n",
       "      <td>冈本</td>\n",
       "      <td>超薄003</td>\n",
       "    </tr>\n",
       "  </tbody>\n",
       "</table>\n",
       "</div>"
      ],
      "text/plain": [
       "               评价内容  评价长度    评价时间                 消费时间 评分    会员等级        产品类型  \\\n",
       "3052          默认好评。   5.0  161024  2016-09-22 22:08:08  5    金牌会员     AiR润薄6只   \n",
       "7742     还没有使用，默认好评  10.0  170603  2017-05-20 22:33:31  5  PLUS会员      持久装12只   \n",
       "14196  估计能用上两年，默认好评  12.0  170531  2017-04-15 14:02:34  5    钻石会员  优超特惠组合装52只   \n",
       "19453    还没有使用，默认好评  10.0  170603  2017-05-20 22:33:31  5  PLUS会员   003透明质酸6片   \n",
       "\n",
       "            用户名              终端  平台   厂商          品类  \n",
       "3052      3679C   来自京东iPhone客户端  京东  杜蕾斯       超薄Air  \n",
       "7742   522B732A   来自京东iPhone客户端  京东  杜蕾斯  持久Performa  \n",
       "14196        f0  来自京东Android客户端  京东  杰士邦  持久LongLove  \n",
       "19453  522B732A   来自京东iPhone客户端  京东   冈本       超薄003  "
      ]
     },
     "execution_count": 171,
     "metadata": {},
     "output_type": "execute_result"
    }
   ],
   "source": [
    "jdong[jdong['评价内容'].str.contains(r'默认好评')]"
   ]
  },
  {
   "cell_type": "markdown",
   "metadata": {},
   "source": [
    "# 苏宁"
   ]
  },
  {
   "cell_type": "code",
   "execution_count": 47,
   "metadata": {
    "collapsed": false
   },
   "outputs": [
    {
     "data": {
      "text/html": [
       "<div>\n",
       "<style>\n",
       "    .dataframe thead tr:only-child th {\n",
       "        text-align: right;\n",
       "    }\n",
       "\n",
       "    .dataframe thead th {\n",
       "        text-align: left;\n",
       "    }\n",
       "\n",
       "    .dataframe tbody tr th {\n",
       "        vertical-align: top;\n",
       "    }\n",
       "</style>\n",
       "<table border=\"1\" class=\"dataframe\">\n",
       "  <thead>\n",
       "    <tr style=\"text-align: right;\">\n",
       "      <th></th>\n",
       "      <th>评价内容</th>\n",
       "      <th>评价长度</th>\n",
       "      <th>评价时间</th>\n",
       "      <th>消费时间</th>\n",
       "      <th>评分</th>\n",
       "      <th>会员等级</th>\n",
       "      <th>产品类型</th>\n",
       "      <th>用户名</th>\n",
       "      <th>终端</th>\n",
       "      <th>平台</th>\n",
       "      <th>厂商</th>\n",
       "      <th>品类</th>\n",
       "    </tr>\n",
       "  </thead>\n",
       "  <tbody>\n",
       "    <tr>\n",
       "      <th>53014</th>\n",
       "      <td>买家未及时做出评价，系统默认好评！</td>\n",
       "      <td>17.0</td>\n",
       "      <td>170106</td>\n",
       "      <td>NaN</td>\n",
       "      <td>5</td>\n",
       "      <td>NaN</td>\n",
       "      <td>1</td>\n",
       "      <td>13989</td>\n",
       "      <td>PC</td>\n",
       "      <td>苏宁易购</td>\n",
       "      <td>冈本</td>\n",
       "      <td>超薄003</td>\n",
       "    </tr>\n",
       "    <tr>\n",
       "      <th>53015</th>\n",
       "      <td>买家未及时做出评价，系统默认好评！</td>\n",
       "      <td>17.0</td>\n",
       "      <td>170210</td>\n",
       "      <td>NaN</td>\n",
       "      <td>5</td>\n",
       "      <td>V2</td>\n",
       "      <td>1</td>\n",
       "      <td>18265</td>\n",
       "      <td>PC</td>\n",
       "      <td>苏宁易购</td>\n",
       "      <td>冈本</td>\n",
       "      <td>超薄003</td>\n",
       "    </tr>\n",
       "    <tr>\n",
       "      <th>53016</th>\n",
       "      <td>买家未及时做出评价，系统默认好评！</td>\n",
       "      <td>17.0</td>\n",
       "      <td>170211</td>\n",
       "      <td>NaN</td>\n",
       "      <td>5</td>\n",
       "      <td>V3</td>\n",
       "      <td>1</td>\n",
       "      <td>8@q.com</td>\n",
       "      <td>PC</td>\n",
       "      <td>苏宁易购</td>\n",
       "      <td>冈本</td>\n",
       "      <td>超薄003</td>\n",
       "    </tr>\n",
       "    <tr>\n",
       "      <th>53017</th>\n",
       "      <td>买家未及时做出评价，系统默认好评！</td>\n",
       "      <td>17.0</td>\n",
       "      <td>170222</td>\n",
       "      <td>NaN</td>\n",
       "      <td>5</td>\n",
       "      <td>V3</td>\n",
       "      <td>1</td>\n",
       "      <td>b@1.com</td>\n",
       "      <td>PC</td>\n",
       "      <td>苏宁易购</td>\n",
       "      <td>冈本</td>\n",
       "      <td>超薄003</td>\n",
       "    </tr>\n",
       "    <tr>\n",
       "      <th>53018</th>\n",
       "      <td>买家未及时做出评价，系统默认好评！</td>\n",
       "      <td>17.0</td>\n",
       "      <td>170223</td>\n",
       "      <td>NaN</td>\n",
       "      <td>5</td>\n",
       "      <td>V1</td>\n",
       "      <td>1</td>\n",
       "      <td>18033</td>\n",
       "      <td>PC</td>\n",
       "      <td>苏宁易购</td>\n",
       "      <td>冈本</td>\n",
       "      <td>超薄003</td>\n",
       "    </tr>\n",
       "  </tbody>\n",
       "</table>\n",
       "</div>"
      ],
      "text/plain": [
       "                    评价内容  评价长度    评价时间 消费时间 评分 会员等级 产品类型      用户名  终端    平台  \\\n",
       "53014  买家未及时做出评价，系统默认好评！  17.0  170106  NaN  5  NaN    1    13989  PC  苏宁易购   \n",
       "53015  买家未及时做出评价，系统默认好评！  17.0  170210  NaN  5   V2    1    18265  PC  苏宁易购   \n",
       "53016  买家未及时做出评价，系统默认好评！  17.0  170211  NaN  5   V3    1  8@q.com  PC  苏宁易购   \n",
       "53017  买家未及时做出评价，系统默认好评！  17.0  170222  NaN  5   V3    1  b@1.com  PC  苏宁易购   \n",
       "53018  买家未及时做出评价，系统默认好评！  17.0  170223  NaN  5   V1    1    18033  PC  苏宁易购   \n",
       "\n",
       "       厂商     品类  \n",
       "53014  冈本  超薄003  \n",
       "53015  冈本  超薄003  \n",
       "53016  冈本  超薄003  \n",
       "53017  冈本  超薄003  \n",
       "53018  冈本  超薄003  "
      ]
     },
     "execution_count": 47,
     "metadata": {},
     "output_type": "execute_result"
    }
   ],
   "source": [
    "sning.head()"
   ]
  },
  {
   "cell_type": "code",
   "execution_count": 46,
   "metadata": {
    "collapsed": false
   },
   "outputs": [
    {
     "data": {
      "text/plain": [
       "True    3896\n",
       "Name: 消费时间, dtype: int64"
      ]
     },
     "execution_count": 46,
     "metadata": {},
     "output_type": "execute_result"
    }
   ],
   "source": [
    "sning['消费时间'].isnull().value_counts()"
   ]
  },
  {
   "cell_type": "code",
   "execution_count": 48,
   "metadata": {
    "collapsed": false
   },
   "outputs": [
    {
     "data": {
      "text/plain": [
       "False    3548\n",
       "True      348\n",
       "Name: 会员等级, dtype: int64"
      ]
     },
     "execution_count": 48,
     "metadata": {},
     "output_type": "execute_result"
    }
   ],
   "source": [
    "sning['会员等级'].isnull().value_counts()   #有缺失值"
   ]
  },
  {
   "cell_type": "markdown",
   "metadata": {},
   "source": [
    "## 处理非主观评价"
   ]
  },
  {
   "cell_type": "code",
   "execution_count": 178,
   "metadata": {
    "collapsed": false
   },
   "outputs": [
    {
     "data": {
      "text/html": [
       "<div>\n",
       "<style>\n",
       "    .dataframe thead tr:only-child th {\n",
       "        text-align: right;\n",
       "    }\n",
       "\n",
       "    .dataframe thead th {\n",
       "        text-align: left;\n",
       "    }\n",
       "\n",
       "    .dataframe tbody tr th {\n",
       "        vertical-align: top;\n",
       "    }\n",
       "</style>\n",
       "<table border=\"1\" class=\"dataframe\">\n",
       "  <thead>\n",
       "    <tr style=\"text-align: right;\">\n",
       "      <th></th>\n",
       "      <th>评价内容</th>\n",
       "      <th>评价长度</th>\n",
       "      <th>评价时间</th>\n",
       "      <th>消费时间</th>\n",
       "      <th>评分</th>\n",
       "      <th>会员等级</th>\n",
       "      <th>产品类型</th>\n",
       "      <th>用户名</th>\n",
       "      <th>终端</th>\n",
       "      <th>平台</th>\n",
       "      <th>厂商</th>\n",
       "      <th>品类</th>\n",
       "    </tr>\n",
       "  </thead>\n",
       "  <tbody>\n",
       "    <tr>\n",
       "      <th>53014</th>\n",
       "      <td>买家未及时做出评价，系统默认好评！</td>\n",
       "      <td>17.0</td>\n",
       "      <td>170106</td>\n",
       "      <td>NaN</td>\n",
       "      <td>5</td>\n",
       "      <td>NaN</td>\n",
       "      <td>1</td>\n",
       "      <td>13989</td>\n",
       "      <td>PC</td>\n",
       "      <td>苏宁易购</td>\n",
       "      <td>冈本</td>\n",
       "      <td>超薄003</td>\n",
       "    </tr>\n",
       "    <tr>\n",
       "      <th>53015</th>\n",
       "      <td>买家未及时做出评价，系统默认好评！</td>\n",
       "      <td>17.0</td>\n",
       "      <td>170210</td>\n",
       "      <td>NaN</td>\n",
       "      <td>5</td>\n",
       "      <td>V2</td>\n",
       "      <td>1</td>\n",
       "      <td>18265</td>\n",
       "      <td>PC</td>\n",
       "      <td>苏宁易购</td>\n",
       "      <td>冈本</td>\n",
       "      <td>超薄003</td>\n",
       "    </tr>\n",
       "    <tr>\n",
       "      <th>53016</th>\n",
       "      <td>买家未及时做出评价，系统默认好评！</td>\n",
       "      <td>17.0</td>\n",
       "      <td>170211</td>\n",
       "      <td>NaN</td>\n",
       "      <td>5</td>\n",
       "      <td>V3</td>\n",
       "      <td>1</td>\n",
       "      <td>8@q.com</td>\n",
       "      <td>PC</td>\n",
       "      <td>苏宁易购</td>\n",
       "      <td>冈本</td>\n",
       "      <td>超薄003</td>\n",
       "    </tr>\n",
       "    <tr>\n",
       "      <th>53017</th>\n",
       "      <td>买家未及时做出评价，系统默认好评！</td>\n",
       "      <td>17.0</td>\n",
       "      <td>170222</td>\n",
       "      <td>NaN</td>\n",
       "      <td>5</td>\n",
       "      <td>V3</td>\n",
       "      <td>1</td>\n",
       "      <td>b@1.com</td>\n",
       "      <td>PC</td>\n",
       "      <td>苏宁易购</td>\n",
       "      <td>冈本</td>\n",
       "      <td>超薄003</td>\n",
       "    </tr>\n",
       "    <tr>\n",
       "      <th>53018</th>\n",
       "      <td>买家未及时做出评价，系统默认好评！</td>\n",
       "      <td>17.0</td>\n",
       "      <td>170223</td>\n",
       "      <td>NaN</td>\n",
       "      <td>5</td>\n",
       "      <td>V1</td>\n",
       "      <td>1</td>\n",
       "      <td>18033</td>\n",
       "      <td>PC</td>\n",
       "      <td>苏宁易购</td>\n",
       "      <td>冈本</td>\n",
       "      <td>超薄003</td>\n",
       "    </tr>\n",
       "  </tbody>\n",
       "</table>\n",
       "</div>"
      ],
      "text/plain": [
       "                    评价内容  评价长度    评价时间 消费时间 评分 会员等级 产品类型      用户名  终端    平台  \\\n",
       "53014  买家未及时做出评价，系统默认好评！  17.0  170106  NaN  5  NaN    1    13989  PC  苏宁易购   \n",
       "53015  买家未及时做出评价，系统默认好评！  17.0  170210  NaN  5   V2    1    18265  PC  苏宁易购   \n",
       "53016  买家未及时做出评价，系统默认好评！  17.0  170211  NaN  5   V3    1  8@q.com  PC  苏宁易购   \n",
       "53017  买家未及时做出评价，系统默认好评！  17.0  170222  NaN  5   V3    1  b@1.com  PC  苏宁易购   \n",
       "53018  买家未及时做出评价，系统默认好评！  17.0  170223  NaN  5   V1    1    18033  PC  苏宁易购   \n",
       "\n",
       "       厂商     品类  \n",
       "53014  冈本  超薄003  \n",
       "53015  冈本  超薄003  \n",
       "53016  冈本  超薄003  \n",
       "53017  冈本  超薄003  \n",
       "53018  冈本  超薄003  "
      ]
     },
     "execution_count": 178,
     "metadata": {},
     "output_type": "execute_result"
    }
   ],
   "source": [
    "sning[sning['评价内容'].str.contains(r'系统默认好评')].head()"
   ]
  },
  {
   "cell_type": "code",
   "execution_count": 179,
   "metadata": {
    "collapsed": true
   },
   "outputs": [],
   "source": [
    "sning = sning[~sning['评价内容'].str.contains(r'系统默认好评')]"
   ]
  },
  {
   "cell_type": "markdown",
   "metadata": {},
   "source": [
    "# 一号店"
   ]
  },
  {
   "cell_type": "code",
   "execution_count": 180,
   "metadata": {
    "collapsed": false
   },
   "outputs": [
    {
     "data": {
      "text/html": [
       "<div>\n",
       "<style>\n",
       "    .dataframe thead tr:only-child th {\n",
       "        text-align: right;\n",
       "    }\n",
       "\n",
       "    .dataframe thead th {\n",
       "        text-align: left;\n",
       "    }\n",
       "\n",
       "    .dataframe tbody tr th {\n",
       "        vertical-align: top;\n",
       "    }\n",
       "</style>\n",
       "<table border=\"1\" class=\"dataframe\">\n",
       "  <thead>\n",
       "    <tr style=\"text-align: right;\">\n",
       "      <th></th>\n",
       "      <th>评价内容</th>\n",
       "      <th>评价长度</th>\n",
       "      <th>评价时间</th>\n",
       "      <th>消费时间</th>\n",
       "      <th>评分</th>\n",
       "      <th>会员等级</th>\n",
       "      <th>产品类型</th>\n",
       "      <th>用户名</th>\n",
       "      <th>终端</th>\n",
       "      <th>平台</th>\n",
       "      <th>厂商</th>\n",
       "      <th>品类</th>\n",
       "    </tr>\n",
       "  </thead>\n",
       "  <tbody>\n",
       "    <tr>\n",
       "      <th>56910</th>\n",
       "      <td>NaN</td>\n",
       "      <td>NaN</td>\n",
       "      <td>150509</td>\n",
       "      <td>NaN</td>\n",
       "      <td>star s5</td>\n",
       "      <td>NaN</td>\n",
       "      <td>NaN</td>\n",
       "      <td>vik</td>\n",
       "      <td>来自手机</td>\n",
       "      <td>一号店</td>\n",
       "      <td>杜蕾斯</td>\n",
       "      <td>超薄Air</td>\n",
       "    </tr>\n",
       "    <tr>\n",
       "      <th>56911</th>\n",
       "      <td>好。。。。。</td>\n",
       "      <td>6.0</td>\n",
       "      <td>150428</td>\n",
       "      <td>NaN</td>\n",
       "      <td>star s5</td>\n",
       "      <td>NaN</td>\n",
       "      <td>NaN</td>\n",
       "      <td>156</td>\n",
       "      <td>来自手机</td>\n",
       "      <td>一号店</td>\n",
       "      <td>杜蕾斯</td>\n",
       "      <td>超薄Air</td>\n",
       "    </tr>\n",
       "    <tr>\n",
       "      <th>56912</th>\n",
       "      <td>NaN</td>\n",
       "      <td>NaN</td>\n",
       "      <td>150505</td>\n",
       "      <td>NaN</td>\n",
       "      <td>star s5</td>\n",
       "      <td>NaN</td>\n",
       "      <td>NaN</td>\n",
       "      <td>sar</td>\n",
       "      <td>来自手机</td>\n",
       "      <td>一号店</td>\n",
       "      <td>杜蕾斯</td>\n",
       "      <td>超薄Air</td>\n",
       "    </tr>\n",
       "    <tr>\n",
       "      <th>56913</th>\n",
       "      <td>NaN</td>\n",
       "      <td>NaN</td>\n",
       "      <td>150512</td>\n",
       "      <td>NaN</td>\n",
       "      <td>star s5</td>\n",
       "      <td>NaN</td>\n",
       "      <td>NaN</td>\n",
       "      <td>5B875B9D</td>\n",
       "      <td>来自手机</td>\n",
       "      <td>一号店</td>\n",
       "      <td>杜蕾斯</td>\n",
       "      <td>超薄Air</td>\n",
       "    </tr>\n",
       "    <tr>\n",
       "      <th>56914</th>\n",
       "      <td>挺好的。。</td>\n",
       "      <td>5.0</td>\n",
       "      <td>150429</td>\n",
       "      <td>NaN</td>\n",
       "      <td>star s5</td>\n",
       "      <td>NaN</td>\n",
       "      <td>NaN</td>\n",
       "      <td>90ED5029</td>\n",
       "      <td>NaN</td>\n",
       "      <td>一号店</td>\n",
       "      <td>杜蕾斯</td>\n",
       "      <td>超薄Air</td>\n",
       "    </tr>\n",
       "  </tbody>\n",
       "</table>\n",
       "</div>"
      ],
      "text/plain": [
       "         评价内容  评价长度    评价时间 消费时间       评分 会员等级 产品类型       用户名    终端   平台   厂商  \\\n",
       "56910     NaN   NaN  150509  NaN  star s5  NaN  NaN       vik  来自手机  一号店  杜蕾斯   \n",
       "56911  好。。。。。   6.0  150428  NaN  star s5  NaN  NaN       156  来自手机  一号店  杜蕾斯   \n",
       "56912     NaN   NaN  150505  NaN  star s5  NaN  NaN       sar  来自手机  一号店  杜蕾斯   \n",
       "56913     NaN   NaN  150512  NaN  star s5  NaN  NaN  5B875B9D  来自手机  一号店  杜蕾斯   \n",
       "56914   挺好的。。   5.0  150429  NaN  star s5  NaN  NaN  90ED5029   NaN  一号店  杜蕾斯   \n",
       "\n",
       "          品类  \n",
       "56910  超薄Air  \n",
       "56911  超薄Air  \n",
       "56912  超薄Air  \n",
       "56913  超薄Air  \n",
       "56914  超薄Air  "
      ]
     },
     "execution_count": 180,
     "metadata": {},
     "output_type": "execute_result"
    }
   ],
   "source": [
    "yihao.head()"
   ]
  },
  {
   "cell_type": "code",
   "execution_count": 50,
   "metadata": {
    "collapsed": false
   },
   "outputs": [
    {
     "data": {
      "text/plain": [
       "True    2070\n",
       "Name: 消费时间, dtype: int64"
      ]
     },
     "execution_count": 50,
     "metadata": {},
     "output_type": "execute_result"
    }
   ],
   "source": [
    "yihao['消费时间'].isnull().value_counts()"
   ]
  },
  {
   "cell_type": "code",
   "execution_count": 51,
   "metadata": {
    "collapsed": false
   },
   "outputs": [
    {
     "data": {
      "text/plain": [
       "True    2070\n",
       "Name: 会员等级, dtype: int64"
      ]
     },
     "execution_count": 51,
     "metadata": {},
     "output_type": "execute_result"
    }
   ],
   "source": [
    "yihao['会员等级'].isnull().value_counts()"
   ]
  },
  {
   "cell_type": "code",
   "execution_count": 52,
   "metadata": {
    "collapsed": false
   },
   "outputs": [
    {
     "data": {
      "text/plain": [
       "True    2070\n",
       "Name: 产品类型, dtype: int64"
      ]
     },
     "execution_count": 52,
     "metadata": {},
     "output_type": "execute_result"
    }
   ],
   "source": [
    "yihao['产品类型'].isnull().value_counts()"
   ]
  },
  {
   "cell_type": "code",
   "execution_count": 182,
   "metadata": {
    "collapsed": false
   },
   "outputs": [
    {
     "data": {
      "text/html": [
       "<div>\n",
       "<style>\n",
       "    .dataframe thead tr:only-child th {\n",
       "        text-align: right;\n",
       "    }\n",
       "\n",
       "    .dataframe thead th {\n",
       "        text-align: left;\n",
       "    }\n",
       "\n",
       "    .dataframe tbody tr th {\n",
       "        vertical-align: top;\n",
       "    }\n",
       "</style>\n",
       "<table border=\"1\" class=\"dataframe\">\n",
       "  <thead>\n",
       "    <tr style=\"text-align: right;\">\n",
       "      <th></th>\n",
       "      <th>评价内容</th>\n",
       "      <th>评价长度</th>\n",
       "      <th>评价时间</th>\n",
       "      <th>评分</th>\n",
       "      <th>用户名</th>\n",
       "      <th>终端</th>\n",
       "      <th>平台</th>\n",
       "      <th>厂商</th>\n",
       "      <th>品类</th>\n",
       "    </tr>\n",
       "  </thead>\n",
       "  <tbody>\n",
       "    <tr>\n",
       "      <th>56910</th>\n",
       "      <td>NaN</td>\n",
       "      <td>NaN</td>\n",
       "      <td>150509</td>\n",
       "      <td>star s5</td>\n",
       "      <td>vik</td>\n",
       "      <td>来自手机</td>\n",
       "      <td>一号店</td>\n",
       "      <td>杜蕾斯</td>\n",
       "      <td>超薄Air</td>\n",
       "    </tr>\n",
       "    <tr>\n",
       "      <th>56911</th>\n",
       "      <td>好。。。。。</td>\n",
       "      <td>6.0</td>\n",
       "      <td>150428</td>\n",
       "      <td>star s5</td>\n",
       "      <td>156</td>\n",
       "      <td>来自手机</td>\n",
       "      <td>一号店</td>\n",
       "      <td>杜蕾斯</td>\n",
       "      <td>超薄Air</td>\n",
       "    </tr>\n",
       "    <tr>\n",
       "      <th>56912</th>\n",
       "      <td>NaN</td>\n",
       "      <td>NaN</td>\n",
       "      <td>150505</td>\n",
       "      <td>star s5</td>\n",
       "      <td>sar</td>\n",
       "      <td>来自手机</td>\n",
       "      <td>一号店</td>\n",
       "      <td>杜蕾斯</td>\n",
       "      <td>超薄Air</td>\n",
       "    </tr>\n",
       "    <tr>\n",
       "      <th>56913</th>\n",
       "      <td>NaN</td>\n",
       "      <td>NaN</td>\n",
       "      <td>150512</td>\n",
       "      <td>star s5</td>\n",
       "      <td>5B875B9D</td>\n",
       "      <td>来自手机</td>\n",
       "      <td>一号店</td>\n",
       "      <td>杜蕾斯</td>\n",
       "      <td>超薄Air</td>\n",
       "    </tr>\n",
       "    <tr>\n",
       "      <th>56914</th>\n",
       "      <td>挺好的。。</td>\n",
       "      <td>5.0</td>\n",
       "      <td>150429</td>\n",
       "      <td>star s5</td>\n",
       "      <td>90ED5029</td>\n",
       "      <td>NaN</td>\n",
       "      <td>一号店</td>\n",
       "      <td>杜蕾斯</td>\n",
       "      <td>超薄Air</td>\n",
       "    </tr>\n",
       "  </tbody>\n",
       "</table>\n",
       "</div>"
      ],
      "text/plain": [
       "         评价内容  评价长度    评价时间       评分       用户名    终端   平台   厂商     品类\n",
       "56910     NaN   NaN  150509  star s5       vik  来自手机  一号店  杜蕾斯  超薄Air\n",
       "56911  好。。。。。   6.0  150428  star s5       156  来自手机  一号店  杜蕾斯  超薄Air\n",
       "56912     NaN   NaN  150505  star s5       sar  来自手机  一号店  杜蕾斯  超薄Air\n",
       "56913     NaN   NaN  150512  star s5  5B875B9D  来自手机  一号店  杜蕾斯  超薄Air\n",
       "56914   挺好的。。   5.0  150429  star s5  90ED5029   NaN  一号店  杜蕾斯  超薄Air"
      ]
     },
     "execution_count": 182,
     "metadata": {},
     "output_type": "execute_result"
    }
   ],
   "source": [
    "yihao = yihao[['评价内容','评价长度','评价时间','评分','用户名','终端','平台','厂商','品类']]\n",
    "yihao.head()"
   ]
  },
  {
   "cell_type": "markdown",
   "metadata": {},
   "source": [
    "## 去掉评价为空的数据"
   ]
  },
  {
   "cell_type": "code",
   "execution_count": 187,
   "metadata": {
    "collapsed": false
   },
   "outputs": [
    {
     "data": {
      "text/html": [
       "<div>\n",
       "<style>\n",
       "    .dataframe thead tr:only-child th {\n",
       "        text-align: right;\n",
       "    }\n",
       "\n",
       "    .dataframe thead th {\n",
       "        text-align: left;\n",
       "    }\n",
       "\n",
       "    .dataframe tbody tr th {\n",
       "        vertical-align: top;\n",
       "    }\n",
       "</style>\n",
       "<table border=\"1\" class=\"dataframe\">\n",
       "  <thead>\n",
       "    <tr style=\"text-align: right;\">\n",
       "      <th></th>\n",
       "      <th>评价内容</th>\n",
       "      <th>评价长度</th>\n",
       "      <th>评价时间</th>\n",
       "      <th>评分</th>\n",
       "      <th>用户名</th>\n",
       "      <th>终端</th>\n",
       "      <th>平台</th>\n",
       "      <th>厂商</th>\n",
       "      <th>品类</th>\n",
       "    </tr>\n",
       "  </thead>\n",
       "  <tbody>\n",
       "    <tr>\n",
       "      <th>56911</th>\n",
       "      <td>好。。。。。</td>\n",
       "      <td>6.0</td>\n",
       "      <td>150428</td>\n",
       "      <td>star s5</td>\n",
       "      <td>156</td>\n",
       "      <td>来自手机</td>\n",
       "      <td>一号店</td>\n",
       "      <td>杜蕾斯</td>\n",
       "      <td>超薄Air</td>\n",
       "    </tr>\n",
       "    <tr>\n",
       "      <th>56914</th>\n",
       "      <td>挺好的。。</td>\n",
       "      <td>5.0</td>\n",
       "      <td>150429</td>\n",
       "      <td>star s5</td>\n",
       "      <td>90ED5029</td>\n",
       "      <td>NaN</td>\n",
       "      <td>一号店</td>\n",
       "      <td>杜蕾斯</td>\n",
       "      <td>超薄Air</td>\n",
       "    </tr>\n",
       "    <tr>\n",
       "      <th>56917</th>\n",
       "      <td>收到货了，好评</td>\n",
       "      <td>7.0</td>\n",
       "      <td>150426</td>\n",
       "      <td>star s5</td>\n",
       "      <td>pau</td>\n",
       "      <td>来自手机</td>\n",
       "      <td>一号店</td>\n",
       "      <td>杜蕾斯</td>\n",
       "      <td>超薄Air</td>\n",
       "    </tr>\n",
       "    <tr>\n",
       "      <th>56923</th>\n",
       "      <td>效果很好很薄 很喜欢 小贵</td>\n",
       "      <td>13.0</td>\n",
       "      <td>150507</td>\n",
       "      <td>star s5</td>\n",
       "      <td>59278C46</td>\n",
       "      <td>NaN</td>\n",
       "      <td>一号店</td>\n",
       "      <td>杜蕾斯</td>\n",
       "      <td>超薄Air</td>\n",
       "    </tr>\n",
       "    <tr>\n",
       "      <th>56927</th>\n",
       "      <td>的确很薄</td>\n",
       "      <td>4.0</td>\n",
       "      <td>150527</td>\n",
       "      <td>star s5</td>\n",
       "      <td>834668D88C37</td>\n",
       "      <td>NaN</td>\n",
       "      <td>一号店</td>\n",
       "      <td>杜蕾斯</td>\n",
       "      <td>超薄Air</td>\n",
       "    </tr>\n",
       "  </tbody>\n",
       "</table>\n",
       "</div>"
      ],
      "text/plain": [
       "                评价内容  评价长度    评价时间       评分           用户名    终端   平台   厂商  \\\n",
       "56911         好。。。。。   6.0  150428  star s5           156  来自手机  一号店  杜蕾斯   \n",
       "56914          挺好的。。   5.0  150429  star s5      90ED5029   NaN  一号店  杜蕾斯   \n",
       "56917        收到货了，好评   7.0  150426  star s5           pau  来自手机  一号店  杜蕾斯   \n",
       "56923  效果很好很薄 很喜欢 小贵  13.0  150507  star s5      59278C46   NaN  一号店  杜蕾斯   \n",
       "56927           的确很薄   4.0  150527  star s5  834668D88C37   NaN  一号店  杜蕾斯   \n",
       "\n",
       "          品类  \n",
       "56911  超薄Air  \n",
       "56914  超薄Air  \n",
       "56917  超薄Air  \n",
       "56923  超薄Air  \n",
       "56927  超薄Air  "
      ]
     },
     "execution_count": 187,
     "metadata": {},
     "output_type": "execute_result"
    }
   ],
   "source": [
    "yihao = yihao[yihao['评价内容'].notnull()]\n",
    "yihao.head()"
   ]
  },
  {
   "cell_type": "code",
   "execution_count": 188,
   "metadata": {
    "collapsed": false
   },
   "outputs": [
    {
     "data": {
      "text/plain": [
       "star s5    902\n",
       "star s4     22\n",
       "star s1     13\n",
       "star s3      8\n",
       "star s2      5\n",
       "typeNum      2\n",
       "Name: 评分, dtype: int64"
      ]
     },
     "execution_count": 188,
     "metadata": {},
     "output_type": "execute_result"
    }
   ],
   "source": [
    "yihao['评分'].value_counts()"
   ]
  }
 ],
 "metadata": {
  "kernelspec": {
   "display_name": "Python 3",
   "language": "python",
   "name": "python3"
  },
  "language_info": {
   "codemirror_mode": {
    "name": "ipython",
    "version": 3
   },
   "file_extension": ".py",
   "mimetype": "text/x-python",
   "name": "python",
   "nbconvert_exporter": "python",
   "pygments_lexer": "ipython3",
   "version": "3.6.0"
  },
  "latex_envs": {
   "LaTeX_envs_menu_present": true,
   "autocomplete": true,
   "bibliofile": "biblio.bib",
   "cite_by": "apalike",
   "current_citInitial": 1,
   "eqLabelWithNumbers": true,
   "eqNumInitial": 1,
   "hotkeys": {
    "equation": "Ctrl-E",
    "itemize": "Ctrl-I"
   },
   "labels_anchors": false,
   "latex_user_defs": false,
   "report_style_numbering": false,
   "user_envs_cfg": false
  },
  "toc": {
   "colors": {
    "hover_highlight": "#DAA520",
    "running_highlight": "#FF0000",
    "selected_highlight": "#FFD700"
   },
   "moveMenuLeft": true,
   "nav_menu": {
    "height": "353px",
    "width": "252px"
   },
   "navigate_menu": true,
   "number_sections": true,
   "sideBar": true,
   "threshold": 4,
   "toc_cell": false,
   "toc_position": {
    "height": "532px",
    "left": "0px",
    "right": "1154px",
    "top": "106px",
    "width": "212px"
   },
   "toc_section_display": "block",
   "toc_window_display": true,
   "widenNotebook": false
  }
 },
 "nbformat": 4,
 "nbformat_minor": 2
}
