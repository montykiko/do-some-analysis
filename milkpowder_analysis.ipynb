{
 "cells": [
  {
   "cell_type": "code",
   "execution_count": 124,
   "metadata": {
    "collapsed": true
   },
   "outputs": [],
   "source": [
    "import pandas as pd\n",
    "import numpy as np\n",
    "from datetime import datetime\n",
    "from pandas import Series,DataFrame\n",
    "import matplotlib as mpl\n",
    "mpl.rcParams['font.sans-serif'] = ['SimHei']\n",
    "import matplotlib.pyplot as plt\n",
    "%matplotlib inline"
   ]
  },
  {
   "cell_type": "markdown",
   "metadata": {},
   "source": [
    "# 读入数据集"
   ]
  },
  {
   "cell_type": "code",
   "execution_count": 3,
   "metadata": {
    "collapsed": false
   },
   "outputs": [
    {
     "name": "stderr",
     "output_type": "stream",
     "text": [
      "C:\\Users\\Kismet\\Anaconda3\\lib\\site-packages\\IPython\\core\\interactiveshell.py:2717: DtypeWarning: Columns (9) have mixed types. Specify dtype option on import or set low_memory=False.\n",
      "  interactivity=interactivity, compiler=compiler, result=result)\n"
     ]
    }
   ],
   "source": [
    "df = pd.read_table('milkpowder_result.txt')"
   ]
  },
  {
   "cell_type": "code",
   "execution_count": 4,
   "metadata": {
    "collapsed": false
   },
   "outputs": [
    {
     "data": {
      "text/plain": [
       "(1564830, 22)"
      ]
     },
     "execution_count": 4,
     "metadata": {},
     "output_type": "execute_result"
    }
   ],
   "source": [
    "df.shape"
   ]
  },
  {
   "cell_type": "code",
   "execution_count": 5,
   "metadata": {
    "collapsed": false
   },
   "outputs": [
    {
     "name": "stdout",
     "output_type": "stream",
     "text": [
      "<class 'pandas.core.frame.DataFrame'>\n",
      "RangeIndex: 1564830 entries, 0 to 1564829\n",
      "Data columns (total 22 columns):\n",
      "爬取时间(__time)              1564830 non-null object\n",
      "爬取链接(__url)               1564830 non-null object\n",
      "评价时间(create_time)         1564830 non-null object\n",
      "评分(score)                 1564830 non-null int64\n",
      "评价内容(rateContent)         1564830 non-null object\n",
      "用户地区(userProvince)        1065439 non-null object\n",
      "评论来自终端(userClientShow)    823828 non-null object\n",
      "会员等级(userLevelName)       1564830 non-null object\n",
      "评价者(author)               1564830 non-null object\n",
      "产品类型(productColor)        1416318 non-null object\n",
      "用户id(id)                  1564830 non-null int64\n",
      "消费时间(referenceTime)       1564830 non-null object\n",
      "品牌                        1564830 non-null object\n",
      "关键词                       1564830 non-null object\n",
      "polarity                  1564830 non-null float64\n",
      "magnitude                 1564830 non-null float64\n",
      "惊喜                        1564830 non-null float64\n",
      "喜爱                        1564830 non-null float64\n",
      "兴奋                        1564830 non-null float64\n",
      "厌恶                        1564830 non-null float64\n",
      "失望                        1564830 non-null float64\n",
      "愤怒                        1564830 non-null float64\n",
      "dtypes: float64(8), int64(2), object(12)\n",
      "memory usage: 262.7+ MB\n"
     ]
    }
   ],
   "source": [
    "df.info()"
   ]
  },
  {
   "cell_type": "code",
   "execution_count": 6,
   "metadata": {
    "collapsed": false
   },
   "outputs": [
    {
     "data": {
      "text/html": [
       "<div>\n",
       "<style>\n",
       "    .dataframe thead tr:only-child th {\n",
       "        text-align: right;\n",
       "    }\n",
       "\n",
       "    .dataframe thead th {\n",
       "        text-align: left;\n",
       "    }\n",
       "\n",
       "    .dataframe tbody tr th {\n",
       "        vertical-align: top;\n",
       "    }\n",
       "</style>\n",
       "<table border=\"1\" class=\"dataframe\">\n",
       "  <thead>\n",
       "    <tr style=\"text-align: right;\">\n",
       "      <th></th>\n",
       "      <th>0</th>\n",
       "    </tr>\n",
       "  </thead>\n",
       "  <tbody>\n",
       "    <tr>\n",
       "      <th>爬取时间(__time)</th>\n",
       "      <td>2017/3/4 20:08</td>\n",
       "    </tr>\n",
       "    <tr>\n",
       "      <th>爬取链接(__url)</th>\n",
       "      <td>https://club.jd.com/comment/productPageComment...</td>\n",
       "    </tr>\n",
       "    <tr>\n",
       "      <th>评价时间(create_time)</th>\n",
       "      <td>2017/3/4 19:48</td>\n",
       "    </tr>\n",
       "    <tr>\n",
       "      <th>评分(score)</th>\n",
       "      <td>5</td>\n",
       "    </tr>\n",
       "    <tr>\n",
       "      <th>评价内容(rateContent)</th>\n",
       "      <td>宝宝在月子中心就用这个品牌的奶粉，现在13个月了，已经用3段的啦。非常满意的产品。宝宝现在有...</td>\n",
       "    </tr>\n",
       "    <tr>\n",
       "      <th>用户地区(userProvince)</th>\n",
       "      <td>上海</td>\n",
       "    </tr>\n",
       "    <tr>\n",
       "      <th>评论来自终端(userClientShow)</th>\n",
       "      <td>NaN</td>\n",
       "    </tr>\n",
       "    <tr>\n",
       "      <th>会员等级(userLevelName)</th>\n",
       "      <td>金牌会员</td>\n",
       "    </tr>\n",
       "    <tr>\n",
       "      <th>评价者(author)</th>\n",
       "      <td>j***0</td>\n",
       "    </tr>\n",
       "    <tr>\n",
       "      <th>产品类型(productColor)</th>\n",
       "      <td>金装3段1200克三联装</td>\n",
       "    </tr>\n",
       "    <tr>\n",
       "      <th>用户id(id)</th>\n",
       "      <td>10182323425</td>\n",
       "    </tr>\n",
       "    <tr>\n",
       "      <th>消费时间(referenceTime)</th>\n",
       "      <td>2017/3/2 15:00</td>\n",
       "    </tr>\n",
       "    <tr>\n",
       "      <th>品牌</th>\n",
       "      <td>惠氏--三段</td>\n",
       "    </tr>\n",
       "    <tr>\n",
       "      <th>关键词</th>\n",
       "      <td>品牌</td>\n",
       "    </tr>\n",
       "    <tr>\n",
       "      <th>polarity</th>\n",
       "      <td>74.792</td>\n",
       "    </tr>\n",
       "    <tr>\n",
       "      <th>magnitude</th>\n",
       "      <td>0.131</td>\n",
       "    </tr>\n",
       "    <tr>\n",
       "      <th>惊喜</th>\n",
       "      <td>0.144349</td>\n",
       "    </tr>\n",
       "    <tr>\n",
       "      <th>喜爱</th>\n",
       "      <td>0.603571</td>\n",
       "    </tr>\n",
       "    <tr>\n",
       "      <th>兴奋</th>\n",
       "      <td>0</td>\n",
       "    </tr>\n",
       "    <tr>\n",
       "      <th>厌恶</th>\n",
       "      <td>0.111167</td>\n",
       "    </tr>\n",
       "    <tr>\n",
       "      <th>失望</th>\n",
       "      <td>0</td>\n",
       "    </tr>\n",
       "    <tr>\n",
       "      <th>愤怒</th>\n",
       "      <td>0.140913</td>\n",
       "    </tr>\n",
       "  </tbody>\n",
       "</table>\n",
       "</div>"
      ],
      "text/plain": [
       "                                                                        0\n",
       "爬取时间(__time)                                               2017/3/4 20:08\n",
       "爬取链接(__url)             https://club.jd.com/comment/productPageComment...\n",
       "评价时间(create_time)                                          2017/3/4 19:48\n",
       "评分(score)                                                               5\n",
       "评价内容(rateContent)       宝宝在月子中心就用这个品牌的奶粉，现在13个月了，已经用3段的啦。非常满意的产品。宝宝现在有...\n",
       "用户地区(userProvince)                                                     上海\n",
       "评论来自终端(userClientShow)                                                NaN\n",
       "会员等级(userLevelName)                                                  金牌会员\n",
       "评价者(author)                                                         j***0\n",
       "产品类型(productColor)                                           金装3段1200克三联装\n",
       "用户id(id)                                                      10182323425\n",
       "消费时间(referenceTime)                                        2017/3/2 15:00\n",
       "品牌                                                                 惠氏--三段\n",
       "关键词                                                                    品牌\n",
       "polarity                                                           74.792\n",
       "magnitude                                                           0.131\n",
       "惊喜                                                               0.144349\n",
       "喜爱                                                               0.603571\n",
       "兴奋                                                                      0\n",
       "厌恶                                                               0.111167\n",
       "失望                                                                      0\n",
       "愤怒                                                               0.140913"
      ]
     },
     "execution_count": 6,
     "metadata": {},
     "output_type": "execute_result"
    }
   ],
   "source": [
    "df.head(1).T"
   ]
  },
  {
   "cell_type": "markdown",
   "metadata": {},
   "source": [
    "# 数据处理"
   ]
  },
  {
   "cell_type": "markdown",
   "metadata": {},
   "source": [
    "## 去除不相关字段"
   ]
  },
  {
   "cell_type": "code",
   "execution_count": 8,
   "metadata": {
    "collapsed": true
   },
   "outputs": [],
   "source": [
    "df.drop(['爬取时间(__time)','爬取链接(__url)','评价者(author)'],axis = 1,inplace = True)"
   ]
  },
  {
   "cell_type": "code",
   "execution_count": 14,
   "metadata": {
    "collapsed": false
   },
   "outputs": [
    {
     "data": {
      "text/plain": [
       "Index(['评价时间(create_time)', '评分(score)', '评价内容(rateContent)',\n",
       "       '用户地区(userProvince)', '评论来自终端(userClientShow)', '会员等级(userLevelName)',\n",
       "       '产品类型(productColor)', '用户id(id)', '消费时间(referenceTime)', '品牌', '关键词',\n",
       "       'polarity', 'magnitude', '惊喜', '喜爱', '兴奋', '厌恶', '失望', '愤怒'],\n",
       "      dtype='object')"
      ]
     },
     "execution_count": 14,
     "metadata": {},
     "output_type": "execute_result"
    }
   ],
   "source": [
    "df.columns"
   ]
  },
  {
   "cell_type": "markdown",
   "metadata": {},
   "source": [
    "## 缺失值处理"
   ]
  },
  {
   "cell_type": "code",
   "execution_count": 17,
   "metadata": {
    "collapsed": false
   },
   "outputs": [
    {
     "data": {
      "text/plain": [
       "{'magnitude': 0,\n",
       " 'polarity': 0,\n",
       " '产品类型(productColor)': 148512,\n",
       " '会员等级(userLevelName)': 0,\n",
       " '关键词': 0,\n",
       " '兴奋': 0,\n",
       " '厌恶': 0,\n",
       " '品牌': 0,\n",
       " '喜爱': 0,\n",
       " '失望': 0,\n",
       " '惊喜': 0,\n",
       " '愤怒': 0,\n",
       " '消费时间(referenceTime)': 0,\n",
       " '用户id(id)': 0,\n",
       " '用户地区(userProvince)': 499391,\n",
       " '评价内容(rateContent)': 0,\n",
       " '评价时间(create_time)': 0,\n",
       " '评分(score)': 0,\n",
       " '评论来自终端(userClientShow)': 741002}"
      ]
     },
     "execution_count": 17,
     "metadata": {},
     "output_type": "execute_result"
    }
   ],
   "source": [
    "cols = list(df.columns)\n",
    "missing = list(map(lambda i:df[i].isnull().sum(),cols))\n",
    "missing_dict = dict(zip(cols,missing))\n",
    "missing_dict"
   ]
  },
  {
   "cell_type": "code",
   "execution_count": 18,
   "metadata": {
    "collapsed": false
   },
   "outputs": [
    {
     "data": {
      "text/plain": [
       "[0, 0, 0, 0, 0, 0, 0, 0, 0, 0, 0, 0, 0, 0, 0, 0, 0, 0, 0]"
      ]
     },
     "execution_count": 18,
     "metadata": {},
     "output_type": "execute_result"
    }
   ],
   "source": [
    "df = df.fillna({'用户地区(userProvince)':'unknown_place',\n",
    "          '评论来自终端(userClientShow)':'unknown_client',\n",
    "          '产品类型(productColor)':'unknown_type'})\n",
    "[df[i].isnull().sum() for i in cols]    #表明替换成功"
   ]
  },
  {
   "cell_type": "markdown",
   "metadata": {},
   "source": [
    "## 重复值处理"
   ]
  },
  {
   "cell_type": "code",
   "execution_count": 19,
   "metadata": {
    "collapsed": false
   },
   "outputs": [
    {
     "data": {
      "text/plain": [
       "False    1081851\n",
       "True      482979\n",
       "dtype: int64"
      ]
     },
     "execution_count": 19,
     "metadata": {},
     "output_type": "execute_result"
    }
   ],
   "source": [
    "df.duplicated(['用户id(id)','消费时间(referenceTime)']).value_counts()"
   ]
  },
  {
   "cell_type": "code",
   "execution_count": 21,
   "metadata": {
    "collapsed": false
   },
   "outputs": [
    {
     "data": {
      "text/plain": [
       "(1081851, 19)"
      ]
     },
     "execution_count": 21,
     "metadata": {},
     "output_type": "execute_result"
    }
   ],
   "source": [
    "df.drop_duplicates(['用户id(id)','消费时间(referenceTime)'],inplace = True)\n",
    "df.shape"
   ]
  },
  {
   "cell_type": "markdown",
   "metadata": {},
   "source": [
    "## 异常值检查与处理"
   ]
  },
  {
   "cell_type": "markdown",
   "metadata": {},
   "source": [
    "### 用户地区"
   ]
  },
  {
   "cell_type": "code",
   "execution_count": 69,
   "metadata": {
    "collapsed": false
   },
   "outputs": [
    {
     "data": {
      "text/plain": [
       "unknown_place    334426\n",
       "北京               131008\n",
       "广东               125053\n",
       "江苏                62290\n",
       "上海                49777\n",
       "四川                39483\n",
       "山东                35338\n",
       "湖北                26505\n",
       "浙江                25685\n",
       "河北                24683\n",
       "Name: 用户地区(userProvince), dtype: int64"
      ]
     },
     "execution_count": 69,
     "metadata": {},
     "output_type": "execute_result"
    }
   ],
   "source": [
    "df['用户地区(userProvince)'].value_counts().head(10)"
   ]
  },
  {
   "cell_type": "code",
   "execution_count": 24,
   "metadata": {
    "collapsed": false
   },
   "outputs": [
    {
     "data": {
      "text/html": [
       "<div>\n",
       "<style>\n",
       "    .dataframe thead tr:only-child th {\n",
       "        text-align: right;\n",
       "    }\n",
       "\n",
       "    .dataframe thead th {\n",
       "        text-align: left;\n",
       "    }\n",
       "\n",
       "    .dataframe tbody tr th {\n",
       "        vertical-align: top;\n",
       "    }\n",
       "</style>\n",
       "<table border=\"1\" class=\"dataframe\">\n",
       "  <thead>\n",
       "    <tr style=\"text-align: right;\">\n",
       "      <th></th>\n",
       "      <th>评价时间(create_time)</th>\n",
       "      <th>评分(score)</th>\n",
       "      <th>评价内容(rateContent)</th>\n",
       "      <th>用户地区(userProvince)</th>\n",
       "      <th>评论来自终端(userClientShow)</th>\n",
       "      <th>会员等级(userLevelName)</th>\n",
       "      <th>产品类型(productColor)</th>\n",
       "      <th>用户id(id)</th>\n",
       "      <th>消费时间(referenceTime)</th>\n",
       "      <th>品牌</th>\n",
       "      <th>关键词</th>\n",
       "      <th>polarity</th>\n",
       "      <th>magnitude</th>\n",
       "      <th>惊喜</th>\n",
       "      <th>喜爱</th>\n",
       "      <th>兴奋</th>\n",
       "      <th>厌恶</th>\n",
       "      <th>失望</th>\n",
       "      <th>愤怒</th>\n",
       "    </tr>\n",
       "  </thead>\n",
       "  <tbody>\n",
       "    <tr>\n",
       "      <th>249939</th>\n",
       "      <td>2014/8/17 5:17</td>\n",
       "      <td>5</td>\n",
       "      <td>大品牌~不错</td>\n",
       "      <td>野徐镇</td>\n",
       "      <td>unknown_client</td>\n",
       "      <td>铜牌会员</td>\n",
       "      <td>900g 桶装</td>\n",
       "      <td>399091079</td>\n",
       "      <td>2014/8/4 23:54</td>\n",
       "      <td>惠氏--三段</td>\n",
       "      <td>品牌</td>\n",
       "      <td>69.020</td>\n",
       "      <td>0.100</td>\n",
       "      <td>0.252613</td>\n",
       "      <td>0.437587</td>\n",
       "      <td>0.000000</td>\n",
       "      <td>0.140649</td>\n",
       "      <td>0.000000</td>\n",
       "      <td>0.169151</td>\n",
       "    </tr>\n",
       "    <tr>\n",
       "      <th>288884</th>\n",
       "      <td>2014/3/5 3:25</td>\n",
       "      <td>5</td>\n",
       "      <td>质量放心宝宝喜欢喝</td>\n",
       "      <td>京泰路街道</td>\n",
       "      <td>unknown_client</td>\n",
       "      <td>铜牌会员</td>\n",
       "      <td>900g 桶装</td>\n",
       "      <td>288110827</td>\n",
       "      <td>2014/2/18 15:56</td>\n",
       "      <td>惠氏--三段</td>\n",
       "      <td>质量</td>\n",
       "      <td>86.766</td>\n",
       "      <td>0.473</td>\n",
       "      <td>0.393918</td>\n",
       "      <td>0.473742</td>\n",
       "      <td>0.000000</td>\n",
       "      <td>0.085359</td>\n",
       "      <td>0.000000</td>\n",
       "      <td>0.046981</td>\n",
       "    </tr>\n",
       "    <tr>\n",
       "      <th>925925</th>\n",
       "      <td>2015/7/14 8:50</td>\n",
       "      <td>5</td>\n",
       "      <td>质量还不错使用中</td>\n",
       "      <td>县城内</td>\n",
       "      <td>来自京东Android客户端</td>\n",
       "      <td>银牌会员</td>\n",
       "      <td>3段900g</td>\n",
       "      <td>845039446</td>\n",
       "      <td>2015/7/12 16:23</td>\n",
       "      <td>雅培--三段</td>\n",
       "      <td>质量</td>\n",
       "      <td>69.747</td>\n",
       "      <td>0.127</td>\n",
       "      <td>0.599127</td>\n",
       "      <td>0.098343</td>\n",
       "      <td>0.000000</td>\n",
       "      <td>0.078355</td>\n",
       "      <td>0.000000</td>\n",
       "      <td>0.224175</td>\n",
       "    </tr>\n",
       "    <tr>\n",
       "      <th>955695</th>\n",
       "      <td>2015/4/19 21:33</td>\n",
       "      <td>5</td>\n",
       "      <td>第三次买了，很划算的</td>\n",
       "      <td>县城内</td>\n",
       "      <td>unknown_client</td>\n",
       "      <td>银牌会员</td>\n",
       "      <td>3段900g</td>\n",
       "      <td>666785074</td>\n",
       "      <td>2015/4/18 5:53</td>\n",
       "      <td>雅培--三段</td>\n",
       "      <td>划算</td>\n",
       "      <td>75.865</td>\n",
       "      <td>0.186</td>\n",
       "      <td>0.438500</td>\n",
       "      <td>0.320150</td>\n",
       "      <td>0.000000</td>\n",
       "      <td>0.128640</td>\n",
       "      <td>0.000000</td>\n",
       "      <td>0.112710</td>\n",
       "    </tr>\n",
       "    <tr>\n",
       "      <th>961599</th>\n",
       "      <td>2015/3/24 23:42</td>\n",
       "      <td>5</td>\n",
       "      <td>大品牌信赖，更信赖京东的送货速度和送货人员</td>\n",
       "      <td>县城内</td>\n",
       "      <td>unknown_client</td>\n",
       "      <td>银牌会员</td>\n",
       "      <td>3段400g</td>\n",
       "      <td>621857798</td>\n",
       "      <td>2015/3/23 2:00</td>\n",
       "      <td>雅培--三段</td>\n",
       "      <td>品牌</td>\n",
       "      <td>69.000</td>\n",
       "      <td>0.700</td>\n",
       "      <td>0.000000</td>\n",
       "      <td>0.690000</td>\n",
       "      <td>0.000000</td>\n",
       "      <td>0.163370</td>\n",
       "      <td>0.000000</td>\n",
       "      <td>0.146630</td>\n",
       "    </tr>\n",
       "    <tr>\n",
       "      <th>961600</th>\n",
       "      <td>2015/3/24 23:41</td>\n",
       "      <td>5</td>\n",
       "      <td>正品行货，价格便宜，送货速度快</td>\n",
       "      <td>县城内</td>\n",
       "      <td>unknown_client</td>\n",
       "      <td>银牌会员</td>\n",
       "      <td>3段900g</td>\n",
       "      <td>621857513</td>\n",
       "      <td>2015/3/23 6:37</td>\n",
       "      <td>雅培--三段</td>\n",
       "      <td>价格</td>\n",
       "      <td>86.767</td>\n",
       "      <td>0.441</td>\n",
       "      <td>0.000000</td>\n",
       "      <td>0.867670</td>\n",
       "      <td>0.000000</td>\n",
       "      <td>0.000000</td>\n",
       "      <td>0.104144</td>\n",
       "      <td>0.028186</td>\n",
       "    </tr>\n",
       "    <tr>\n",
       "      <th>999110</th>\n",
       "      <td>2014/9/8 13:28</td>\n",
       "      <td>5</td>\n",
       "      <td>包装完好，没有碰撞的痕迹</td>\n",
       "      <td>凤凰街道</td>\n",
       "      <td>unknown_client</td>\n",
       "      <td>铜牌会员</td>\n",
       "      <td>新包装3段900克</td>\n",
       "      <td>416532800</td>\n",
       "      <td>2014/8/20 17:44</td>\n",
       "      <td>雅培--三段</td>\n",
       "      <td>包装</td>\n",
       "      <td>63.845</td>\n",
       "      <td>0.377</td>\n",
       "      <td>0.363916</td>\n",
       "      <td>0.000000</td>\n",
       "      <td>0.274533</td>\n",
       "      <td>0.000000</td>\n",
       "      <td>0.195960</td>\n",
       "      <td>0.165590</td>\n",
       "    </tr>\n",
       "  </tbody>\n",
       "</table>\n",
       "</div>"
      ],
      "text/plain": [
       "       评价时间(create_time)  评分(score)      评价内容(rateContent) 用户地区(userProvince)  \\\n",
       "249939    2014/8/17 5:17          5                 大品牌~不错                野徐镇   \n",
       "288884     2014/3/5 3:25          5              质量放心宝宝喜欢喝              京泰路街道   \n",
       "925925    2015/7/14 8:50          5               质量还不错使用中                县城内   \n",
       "955695   2015/4/19 21:33          5             第三次买了，很划算的                县城内   \n",
       "961599   2015/3/24 23:42          5  大品牌信赖，更信赖京东的送货速度和送货人员                县城内   \n",
       "961600   2015/3/24 23:41          5        正品行货，价格便宜，送货速度快                县城内   \n",
       "999110    2014/9/8 13:28          5           包装完好，没有碰撞的痕迹               凤凰街道   \n",
       "\n",
       "       评论来自终端(userClientShow) 会员等级(userLevelName) 产品类型(productColor)  \\\n",
       "249939         unknown_client                铜牌会员            900g 桶装   \n",
       "288884         unknown_client                铜牌会员            900g 桶装   \n",
       "925925         来自京东Android客户端                银牌会员             3段900g   \n",
       "955695         unknown_client                银牌会员             3段900g   \n",
       "961599         unknown_client                银牌会员             3段400g   \n",
       "961600         unknown_client                银牌会员             3段900g   \n",
       "999110         unknown_client                铜牌会员          新包装3段900克   \n",
       "\n",
       "         用户id(id) 消费时间(referenceTime)      品牌 关键词  polarity  magnitude  \\\n",
       "249939  399091079      2014/8/4 23:54  惠氏--三段  品牌    69.020      0.100   \n",
       "288884  288110827     2014/2/18 15:56  惠氏--三段  质量    86.766      0.473   \n",
       "925925  845039446     2015/7/12 16:23  雅培--三段  质量    69.747      0.127   \n",
       "955695  666785074      2015/4/18 5:53  雅培--三段  划算    75.865      0.186   \n",
       "961599  621857798      2015/3/23 2:00  雅培--三段  品牌    69.000      0.700   \n",
       "961600  621857513      2015/3/23 6:37  雅培--三段  价格    86.767      0.441   \n",
       "999110  416532800     2014/8/20 17:44  雅培--三段  包装    63.845      0.377   \n",
       "\n",
       "              惊喜        喜爱        兴奋        厌恶        失望        愤怒  \n",
       "249939  0.252613  0.437587  0.000000  0.140649  0.000000  0.169151  \n",
       "288884  0.393918  0.473742  0.000000  0.085359  0.000000  0.046981  \n",
       "925925  0.599127  0.098343  0.000000  0.078355  0.000000  0.224175  \n",
       "955695  0.438500  0.320150  0.000000  0.128640  0.000000  0.112710  \n",
       "961599  0.000000  0.690000  0.000000  0.163370  0.000000  0.146630  \n",
       "961600  0.000000  0.867670  0.000000  0.000000  0.104144  0.028186  \n",
       "999110  0.363916  0.000000  0.274533  0.000000  0.195960  0.165590  "
      ]
     },
     "execution_count": 24,
     "metadata": {},
     "output_type": "execute_result"
    }
   ],
   "source": [
    "df[df['用户地区(userProvince)'].isin(['县城内','野徐镇','凤凰街道','京泰路街道'])]"
   ]
  },
  {
   "cell_type": "code",
   "execution_count": 25,
   "metadata": {
    "collapsed": false
   },
   "outputs": [
    {
     "data": {
      "text/plain": [
       "unknown_place    334426\n",
       "北京               131008\n",
       "广东               125053\n",
       "江苏                62290\n",
       "上海                49777\n",
       "四川                39483\n",
       "山东                35338\n",
       "湖北                26505\n",
       "浙江                25685\n",
       "河北                24683\n",
       "河南                22145\n",
       "安徽                21083\n",
       "天津                20830\n",
       "福建                20465\n",
       "辽宁                17851\n",
       "陕西                16826\n",
       "湖南                13998\n",
       "广西                12416\n",
       "重庆                11582\n",
       "江西                 9629\n",
       "山西                 9565\n",
       "云南                 7443\n",
       "黑龙江                6516\n",
       "吉林                 5700\n",
       "海南                 5153\n",
       "贵州                 4652\n",
       "内蒙古                4617\n",
       "甘肃                 4485\n",
       "新疆                 4247\n",
       "宁夏                 2765\n",
       "青海                 2610\n",
       "西藏                 2480\n",
       "台湾                  242\n",
       "钓鱼岛                 151\n",
       "香港                  127\n",
       "澳门                   18\n",
       "Name: 用户地区(userProvince), dtype: int64"
      ]
     },
     "execution_count": 25,
     "metadata": {},
     "output_type": "execute_result"
    }
   ],
   "source": [
    "df = df[~df['用户地区(userProvince)'].isin(['县城内','野徐镇','凤凰街道','京泰路街道'])]\n",
    "df['用户地区(userProvince)'].value_counts()"
   ]
  },
  {
   "cell_type": "markdown",
   "metadata": {},
   "source": [
    "### 评论终端"
   ]
  },
  {
   "cell_type": "code",
   "execution_count": 27,
   "metadata": {
    "collapsed": false
   },
   "outputs": [
    {
     "data": {
      "text/plain": [
       "unknown_client    473471\n",
       "来自京东Android客户端    415144\n",
       "来自京东iPhone客户端     164419\n",
       "来自微信购物             16500\n",
       "来自京东iPad客户端         9719\n",
       "来自手机QQ购物            2586\n",
       "来自京东Symbian客户端         5\n",
       "Name: 评论来自终端(userClientShow), dtype: int64"
      ]
     },
     "execution_count": 27,
     "metadata": {},
     "output_type": "execute_result"
    }
   ],
   "source": [
    "df['评论来自终端(userClientShow)'].value_counts()"
   ]
  },
  {
   "cell_type": "markdown",
   "metadata": {},
   "source": [
    "unknown_client 有可能是PC端"
   ]
  },
  {
   "cell_type": "markdown",
   "metadata": {},
   "source": [
    "### 品牌与产品类型"
   ]
  },
  {
   "cell_type": "code",
   "execution_count": 28,
   "metadata": {
    "collapsed": false
   },
   "outputs": [
    {
     "data": {
      "text/plain": [
       "美素--三段    273941\n",
       "惠氏--三段    206075\n",
       "优诺能       140251\n",
       "雅培--三段    139364\n",
       "惠氏--1段     68521\n",
       "惠氏--二段     62773\n",
       "美素1段       61198\n",
       "惠氏--四段     49188\n",
       "雅培--四段     45306\n",
       "美素--四段     35227\n",
       "Name: 品牌, dtype: int64"
      ]
     },
     "execution_count": 28,
     "metadata": {},
     "output_type": "execute_result"
    }
   ],
   "source": [
    "df['品牌'].value_counts()"
   ]
  },
  {
   "cell_type": "code",
   "execution_count": 32,
   "metadata": {
    "collapsed": true
   },
   "outputs": [],
   "source": [
    "df['品牌'].replace(['惠氏--1段','美素1段'],['惠氏--一段','美素--一段'],inplace = True)"
   ]
  },
  {
   "cell_type": "code",
   "execution_count": 33,
   "metadata": {
    "collapsed": false
   },
   "outputs": [
    {
     "data": {
      "text/plain": [
       "美素--三段    273941\n",
       "惠氏--三段    206075\n",
       "优诺能       140251\n",
       "雅培--三段    139364\n",
       "惠氏--一段     68521\n",
       "惠氏--二段     62773\n",
       "美素--一段     61198\n",
       "惠氏--四段     49188\n",
       "雅培--四段     45306\n",
       "美素--四段     35227\n",
       "Name: 品牌, dtype: int64"
      ]
     },
     "execution_count": 33,
     "metadata": {},
     "output_type": "execute_result"
    }
   ],
   "source": [
    "df['品牌'].value_counts()"
   ]
  },
  {
   "cell_type": "code",
   "execution_count": 37,
   "metadata": {
    "collapsed": false
   },
   "outputs": [],
   "source": [
    "pure = df['品牌'].str.findall(r'美素|惠氏|优诺能|雅培').str[0]\n",
    "df.insert(10,'品牌商',pure)"
   ]
  },
  {
   "cell_type": "code",
   "execution_count": 38,
   "metadata": {
    "collapsed": false
   },
   "outputs": [
    {
     "data": {
      "text/html": [
       "<div>\n",
       "<style>\n",
       "    .dataframe thead tr:only-child th {\n",
       "        text-align: right;\n",
       "    }\n",
       "\n",
       "    .dataframe thead th {\n",
       "        text-align: left;\n",
       "    }\n",
       "\n",
       "    .dataframe tbody tr th {\n",
       "        vertical-align: top;\n",
       "    }\n",
       "</style>\n",
       "<table border=\"1\" class=\"dataframe\">\n",
       "  <thead>\n",
       "    <tr style=\"text-align: right;\">\n",
       "      <th></th>\n",
       "      <th>评价时间(create_time)</th>\n",
       "      <th>评分(score)</th>\n",
       "      <th>评价内容(rateContent)</th>\n",
       "      <th>用户地区(userProvince)</th>\n",
       "      <th>评论来自终端(userClientShow)</th>\n",
       "      <th>会员等级(userLevelName)</th>\n",
       "      <th>产品类型(productColor)</th>\n",
       "      <th>用户id(id)</th>\n",
       "      <th>消费时间(referenceTime)</th>\n",
       "      <th>品牌</th>\n",
       "      <th>品牌商</th>\n",
       "      <th>关键词</th>\n",
       "      <th>polarity</th>\n",
       "      <th>magnitude</th>\n",
       "      <th>惊喜</th>\n",
       "      <th>喜爱</th>\n",
       "      <th>兴奋</th>\n",
       "      <th>厌恶</th>\n",
       "      <th>失望</th>\n",
       "      <th>愤怒</th>\n",
       "    </tr>\n",
       "  </thead>\n",
       "  <tbody>\n",
       "    <tr>\n",
       "      <th>0</th>\n",
       "      <td>2017/3/4 19:48</td>\n",
       "      <td>5</td>\n",
       "      <td>宝宝在月子中心就用这个品牌的奶粉，现在13个月了，已经用3段的啦。非常满意的产品。宝宝现在有...</td>\n",
       "      <td>上海</td>\n",
       "      <td>unknown_client</td>\n",
       "      <td>金牌会员</td>\n",
       "      <td>金装3段1200克三联装</td>\n",
       "      <td>10182323425</td>\n",
       "      <td>2017/3/2 15:00</td>\n",
       "      <td>惠氏--三段</td>\n",
       "      <td>惠氏</td>\n",
       "      <td>品牌</td>\n",
       "      <td>74.792</td>\n",
       "      <td>0.131</td>\n",
       "      <td>0.144349</td>\n",
       "      <td>0.603571</td>\n",
       "      <td>0.000000</td>\n",
       "      <td>0.111167</td>\n",
       "      <td>0.0</td>\n",
       "      <td>0.140913</td>\n",
       "    </tr>\n",
       "    <tr>\n",
       "      <th>3</th>\n",
       "      <td>2017/3/4 19:39</td>\n",
       "      <td>5</td>\n",
       "      <td>一直买 这个 越来越贵了</td>\n",
       "      <td>unknown_place</td>\n",
       "      <td>unknown_client</td>\n",
       "      <td>银牌会员</td>\n",
       "      <td>金装3段1200克三联装</td>\n",
       "      <td>10182297636</td>\n",
       "      <td>2017/2/22 20:15</td>\n",
       "      <td>惠氏--三段</td>\n",
       "      <td>惠氏</td>\n",
       "      <td>贵</td>\n",
       "      <td>6.250</td>\n",
       "      <td>1.000</td>\n",
       "      <td>0.037375</td>\n",
       "      <td>0.000000</td>\n",
       "      <td>0.025125</td>\n",
       "      <td>0.194062</td>\n",
       "      <td>0.0</td>\n",
       "      <td>0.743437</td>\n",
       "    </tr>\n",
       "  </tbody>\n",
       "</table>\n",
       "</div>"
      ],
      "text/plain": [
       "  评价时间(create_time)  评分(score)  \\\n",
       "0    2017/3/4 19:48          5   \n",
       "3    2017/3/4 19:39          5   \n",
       "\n",
       "                                   评价内容(rateContent) 用户地区(userProvince)  \\\n",
       "0  宝宝在月子中心就用这个品牌的奶粉，现在13个月了，已经用3段的啦。非常满意的产品。宝宝现在有...                 上海   \n",
       "3                                       一直买 这个 越来越贵了      unknown_place   \n",
       "\n",
       "  评论来自终端(userClientShow) 会员等级(userLevelName) 产品类型(productColor)     用户id(id)  \\\n",
       "0         unknown_client                金牌会员       金装3段1200克三联装  10182323425   \n",
       "3         unknown_client                银牌会员       金装3段1200克三联装  10182297636   \n",
       "\n",
       "  消费时间(referenceTime)      品牌 品牌商 关键词  polarity  magnitude        惊喜  \\\n",
       "0      2017/3/2 15:00  惠氏--三段  惠氏  品牌    74.792      0.131  0.144349   \n",
       "3     2017/2/22 20:15  惠氏--三段  惠氏   贵     6.250      1.000  0.037375   \n",
       "\n",
       "         喜爱        兴奋        厌恶   失望        愤怒  \n",
       "0  0.603571  0.000000  0.111167  0.0  0.140913  \n",
       "3  0.000000  0.025125  0.194062  0.0  0.743437  "
      ]
     },
     "execution_count": 38,
     "metadata": {},
     "output_type": "execute_result"
    }
   ],
   "source": [
    "df.head(2)"
   ]
  },
  {
   "cell_type": "code",
   "execution_count": 43,
   "metadata": {
    "collapsed": false
   },
   "outputs": [
    {
     "data": {
      "text/plain": [
       "惠氏     386557\n",
       "美素     370366\n",
       "雅培     184670\n",
       "优诺能    140251\n",
       "Name: 品牌商, dtype: int64"
      ]
     },
     "execution_count": 43,
     "metadata": {},
     "output_type": "execute_result"
    }
   ],
   "source": [
    "df['品牌商'].value_counts()"
   ]
  },
  {
   "cell_type": "markdown",
   "metadata": {},
   "source": [
    "### 关键词"
   ]
  },
  {
   "cell_type": "code",
   "execution_count": 40,
   "metadata": {
    "collapsed": false
   },
   "outputs": [
    {
     "data": {
      "text/html": [
       "<div>\n",
       "<style>\n",
       "    .dataframe thead tr:only-child th {\n",
       "        text-align: right;\n",
       "    }\n",
       "\n",
       "    .dataframe thead th {\n",
       "        text-align: left;\n",
       "    }\n",
       "\n",
       "    .dataframe tbody tr th {\n",
       "        vertical-align: top;\n",
       "    }\n",
       "</style>\n",
       "<table border=\"1\" class=\"dataframe\">\n",
       "  <thead>\n",
       "    <tr style=\"text-align: right;\">\n",
       "      <th></th>\n",
       "      <th>关键词</th>\n",
       "    </tr>\n",
       "  </thead>\n",
       "  <tbody>\n",
       "    <tr>\n",
       "      <th>价格</th>\n",
       "      <td>197680</td>\n",
       "    </tr>\n",
       "    <tr>\n",
       "      <th>质量</th>\n",
       "      <td>166475</td>\n",
       "    </tr>\n",
       "    <tr>\n",
       "      <th>便宜</th>\n",
       "      <td>108822</td>\n",
       "    </tr>\n",
       "    <tr>\n",
       "      <th>品牌</th>\n",
       "      <td>96820</td>\n",
       "    </tr>\n",
       "    <tr>\n",
       "      <th>快递</th>\n",
       "      <td>67812</td>\n",
       "    </tr>\n",
       "    <tr>\n",
       "      <th>物流</th>\n",
       "      <td>66298</td>\n",
       "    </tr>\n",
       "    <tr>\n",
       "      <th>包装</th>\n",
       "      <td>52947</td>\n",
       "    </tr>\n",
       "    <tr>\n",
       "      <th>实惠</th>\n",
       "      <td>44082</td>\n",
       "    </tr>\n",
       "    <tr>\n",
       "      <th>味道</th>\n",
       "      <td>42278</td>\n",
       "    </tr>\n",
       "    <tr>\n",
       "      <th>服务</th>\n",
       "      <td>36074</td>\n",
       "    </tr>\n",
       "    <tr>\n",
       "      <th>划算</th>\n",
       "      <td>27964</td>\n",
       "    </tr>\n",
       "    <tr>\n",
       "      <th>品质</th>\n",
       "      <td>24608</td>\n",
       "    </tr>\n",
       "    <tr>\n",
       "      <th>性价比</th>\n",
       "      <td>20953</td>\n",
       "    </tr>\n",
       "    <tr>\n",
       "      <th>配方</th>\n",
       "      <td>17201</td>\n",
       "    </tr>\n",
       "    <tr>\n",
       "      <th>生产日期</th>\n",
       "      <td>16718</td>\n",
       "    </tr>\n",
       "    <tr>\n",
       "      <th>贵</th>\n",
       "      <td>16177</td>\n",
       "    </tr>\n",
       "    <tr>\n",
       "      <th>口味</th>\n",
       "      <td>15679</td>\n",
       "    </tr>\n",
       "    <tr>\n",
       "      <th>营养</th>\n",
       "      <td>12511</td>\n",
       "    </tr>\n",
       "    <tr>\n",
       "      <th>价钱</th>\n",
       "      <td>9306</td>\n",
       "    </tr>\n",
       "    <tr>\n",
       "      <th>口感</th>\n",
       "      <td>8299</td>\n",
       "    </tr>\n",
       "    <tr>\n",
       "      <th>香味</th>\n",
       "      <td>5764</td>\n",
       "    </tr>\n",
       "    <tr>\n",
       "      <th>促销</th>\n",
       "      <td>4317</td>\n",
       "    </tr>\n",
       "    <tr>\n",
       "      <th>假货</th>\n",
       "      <td>4071</td>\n",
       "    </tr>\n",
       "    <tr>\n",
       "      <th>客服</th>\n",
       "      <td>3940</td>\n",
       "    </tr>\n",
       "    <tr>\n",
       "      <th>保质期</th>\n",
       "      <td>2935</td>\n",
       "    </tr>\n",
       "    <tr>\n",
       "      <th>订单</th>\n",
       "      <td>2380</td>\n",
       "    </tr>\n",
       "    <tr>\n",
       "      <th>奶源</th>\n",
       "      <td>1867</td>\n",
       "    </tr>\n",
       "    <tr>\n",
       "      <th>过期</th>\n",
       "      <td>1565</td>\n",
       "    </tr>\n",
       "    <tr>\n",
       "      <th>断货</th>\n",
       "      <td>1461</td>\n",
       "    </tr>\n",
       "    <tr>\n",
       "      <th>售后</th>\n",
       "      <td>1079</td>\n",
       "    </tr>\n",
       "    <tr>\n",
       "      <th>产地</th>\n",
       "      <td>798</td>\n",
       "    </tr>\n",
       "    <tr>\n",
       "      <th>成分</th>\n",
       "      <td>592</td>\n",
       "    </tr>\n",
       "    <tr>\n",
       "      <th>正货</th>\n",
       "      <td>558</td>\n",
       "    </tr>\n",
       "    <tr>\n",
       "      <th>有效期</th>\n",
       "      <td>447</td>\n",
       "    </tr>\n",
       "    <tr>\n",
       "      <th>溶解性</th>\n",
       "      <td>388</td>\n",
       "    </tr>\n",
       "    <tr>\n",
       "      <th>库存</th>\n",
       "      <td>365</td>\n",
       "    </tr>\n",
       "    <tr>\n",
       "      <th>补货</th>\n",
       "      <td>233</td>\n",
       "    </tr>\n",
       "    <tr>\n",
       "      <th>添加剂</th>\n",
       "      <td>214</td>\n",
       "    </tr>\n",
       "    <tr>\n",
       "      <th>益生菌</th>\n",
       "      <td>104</td>\n",
       "    </tr>\n",
       "    <tr>\n",
       "      <th>维生素</th>\n",
       "      <td>51</td>\n",
       "    </tr>\n",
       "    <tr>\n",
       "      <th>矿物质</th>\n",
       "      <td>11</td>\n",
       "    </tr>\n",
       "  </tbody>\n",
       "</table>\n",
       "</div>"
      ],
      "text/plain": [
       "         关键词\n",
       "价格    197680\n",
       "质量    166475\n",
       "便宜    108822\n",
       "品牌     96820\n",
       "快递     67812\n",
       "物流     66298\n",
       "包装     52947\n",
       "实惠     44082\n",
       "味道     42278\n",
       "服务     36074\n",
       "划算     27964\n",
       "品质     24608\n",
       "性价比    20953\n",
       "配方     17201\n",
       "生产日期   16718\n",
       "贵      16177\n",
       "口味     15679\n",
       "营养     12511\n",
       "价钱      9306\n",
       "口感      8299\n",
       "香味      5764\n",
       "促销      4317\n",
       "假货      4071\n",
       "客服      3940\n",
       "保质期     2935\n",
       "订单      2380\n",
       "奶源      1867\n",
       "过期      1565\n",
       "断货      1461\n",
       "售后      1079\n",
       "产地       798\n",
       "成分       592\n",
       "正货       558\n",
       "有效期      447\n",
       "溶解性      388\n",
       "库存       365\n",
       "补货       233\n",
       "添加剂      214\n",
       "益生菌      104\n",
       "维生素       51\n",
       "矿物质       11"
      ]
     },
     "execution_count": 40,
     "metadata": {},
     "output_type": "execute_result"
    }
   ],
   "source": [
    "pd.DataFrame(df['关键词'].value_counts())"
   ]
  },
  {
   "cell_type": "markdown",
   "metadata": {},
   "source": [
    "#### 做近义词替换处理"
   ]
  },
  {
   "cell_type": "markdown",
   "metadata": {},
   "source": [
    "```\n",
    "观察同样发现有同义词可以进行合并，比如： 价钱-价格，便宜／划算-实惠，快递-物流，质量-品质，成分-配方，有效期-保质期（假定以-右边的为准确描述）\n",
    "需要留意的是有些词虽然描述的是同一对象，但感情倾向或色彩不同，不能合并，比如：断货、补货、库存；生产日期、过期；还有容易混淆的概念：奶源（指奶粉的主要原材料的产地）和产地（指在哪里生产加工的）\n",
    "```"
   ]
  },
  {
   "cell_type": "code",
   "execution_count": 41,
   "metadata": {
    "collapsed": true
   },
   "outputs": [],
   "source": [
    "df['关键词'].replace(['价钱','便宜','划算','快递','质量','成分','有效期'],['价格','实惠','实惠','物流','品质','配方','保质期'],inplace=True)"
   ]
  },
  {
   "cell_type": "markdown",
   "metadata": {},
   "source": [
    "#### 关键词计数"
   ]
  },
  {
   "cell_type": "code",
   "execution_count": 44,
   "metadata": {
    "collapsed": false
   },
   "outputs": [
    {
     "data": {
      "text/html": [
       "<div>\n",
       "<style>\n",
       "    .dataframe thead tr:only-child th {\n",
       "        text-align: right;\n",
       "    }\n",
       "\n",
       "    .dataframe thead th {\n",
       "        text-align: left;\n",
       "    }\n",
       "\n",
       "    .dataframe tbody tr th {\n",
       "        vertical-align: top;\n",
       "    }\n",
       "</style>\n",
       "<table border=\"1\" class=\"dataframe\">\n",
       "  <thead>\n",
       "    <tr style=\"text-align: right;\">\n",
       "      <th></th>\n",
       "      <th>关键词</th>\n",
       "    </tr>\n",
       "  </thead>\n",
       "  <tbody>\n",
       "    <tr>\n",
       "      <th>价格</th>\n",
       "      <td>206986</td>\n",
       "    </tr>\n",
       "    <tr>\n",
       "      <th>品质</th>\n",
       "      <td>191083</td>\n",
       "    </tr>\n",
       "    <tr>\n",
       "      <th>实惠</th>\n",
       "      <td>180868</td>\n",
       "    </tr>\n",
       "    <tr>\n",
       "      <th>物流</th>\n",
       "      <td>134110</td>\n",
       "    </tr>\n",
       "    <tr>\n",
       "      <th>品牌</th>\n",
       "      <td>96820</td>\n",
       "    </tr>\n",
       "    <tr>\n",
       "      <th>包装</th>\n",
       "      <td>52947</td>\n",
       "    </tr>\n",
       "    <tr>\n",
       "      <th>味道</th>\n",
       "      <td>42278</td>\n",
       "    </tr>\n",
       "    <tr>\n",
       "      <th>服务</th>\n",
       "      <td>36074</td>\n",
       "    </tr>\n",
       "    <tr>\n",
       "      <th>性价比</th>\n",
       "      <td>20953</td>\n",
       "    </tr>\n",
       "    <tr>\n",
       "      <th>配方</th>\n",
       "      <td>17793</td>\n",
       "    </tr>\n",
       "    <tr>\n",
       "      <th>生产日期</th>\n",
       "      <td>16718</td>\n",
       "    </tr>\n",
       "    <tr>\n",
       "      <th>贵</th>\n",
       "      <td>16177</td>\n",
       "    </tr>\n",
       "    <tr>\n",
       "      <th>口味</th>\n",
       "      <td>15679</td>\n",
       "    </tr>\n",
       "    <tr>\n",
       "      <th>营养</th>\n",
       "      <td>12511</td>\n",
       "    </tr>\n",
       "    <tr>\n",
       "      <th>口感</th>\n",
       "      <td>8299</td>\n",
       "    </tr>\n",
       "    <tr>\n",
       "      <th>香味</th>\n",
       "      <td>5764</td>\n",
       "    </tr>\n",
       "    <tr>\n",
       "      <th>促销</th>\n",
       "      <td>4317</td>\n",
       "    </tr>\n",
       "    <tr>\n",
       "      <th>假货</th>\n",
       "      <td>4071</td>\n",
       "    </tr>\n",
       "    <tr>\n",
       "      <th>客服</th>\n",
       "      <td>3940</td>\n",
       "    </tr>\n",
       "    <tr>\n",
       "      <th>保质期</th>\n",
       "      <td>3382</td>\n",
       "    </tr>\n",
       "    <tr>\n",
       "      <th>订单</th>\n",
       "      <td>2380</td>\n",
       "    </tr>\n",
       "    <tr>\n",
       "      <th>奶源</th>\n",
       "      <td>1867</td>\n",
       "    </tr>\n",
       "    <tr>\n",
       "      <th>过期</th>\n",
       "      <td>1565</td>\n",
       "    </tr>\n",
       "    <tr>\n",
       "      <th>断货</th>\n",
       "      <td>1461</td>\n",
       "    </tr>\n",
       "    <tr>\n",
       "      <th>售后</th>\n",
       "      <td>1079</td>\n",
       "    </tr>\n",
       "    <tr>\n",
       "      <th>产地</th>\n",
       "      <td>798</td>\n",
       "    </tr>\n",
       "    <tr>\n",
       "      <th>正货</th>\n",
       "      <td>558</td>\n",
       "    </tr>\n",
       "    <tr>\n",
       "      <th>溶解性</th>\n",
       "      <td>388</td>\n",
       "    </tr>\n",
       "    <tr>\n",
       "      <th>库存</th>\n",
       "      <td>365</td>\n",
       "    </tr>\n",
       "    <tr>\n",
       "      <th>补货</th>\n",
       "      <td>233</td>\n",
       "    </tr>\n",
       "    <tr>\n",
       "      <th>添加剂</th>\n",
       "      <td>214</td>\n",
       "    </tr>\n",
       "    <tr>\n",
       "      <th>益生菌</th>\n",
       "      <td>104</td>\n",
       "    </tr>\n",
       "    <tr>\n",
       "      <th>维生素</th>\n",
       "      <td>51</td>\n",
       "    </tr>\n",
       "    <tr>\n",
       "      <th>矿物质</th>\n",
       "      <td>11</td>\n",
       "    </tr>\n",
       "  </tbody>\n",
       "</table>\n",
       "</div>"
      ],
      "text/plain": [
       "         关键词\n",
       "价格    206986\n",
       "品质    191083\n",
       "实惠    180868\n",
       "物流    134110\n",
       "品牌     96820\n",
       "包装     52947\n",
       "味道     42278\n",
       "服务     36074\n",
       "性价比    20953\n",
       "配方     17793\n",
       "生产日期   16718\n",
       "贵      16177\n",
       "口味     15679\n",
       "营养     12511\n",
       "口感      8299\n",
       "香味      5764\n",
       "促销      4317\n",
       "假货      4071\n",
       "客服      3940\n",
       "保质期     3382\n",
       "订单      2380\n",
       "奶源      1867\n",
       "过期      1565\n",
       "断货      1461\n",
       "售后      1079\n",
       "产地       798\n",
       "正货       558\n",
       "溶解性      388\n",
       "库存       365\n",
       "补货       233\n",
       "添加剂      214\n",
       "益生菌      104\n",
       "维生素       51\n",
       "矿物质       11"
      ]
     },
     "execution_count": 44,
     "metadata": {},
     "output_type": "execute_result"
    }
   ],
   "source": [
    "pd.DataFrame(df['关键词'].value_counts())"
   ]
  },
  {
   "cell_type": "markdown",
   "metadata": {},
   "source": [
    "## 评分"
   ]
  },
  {
   "cell_type": "code",
   "execution_count": 45,
   "metadata": {
    "collapsed": false
   },
   "outputs": [
    {
     "data": {
      "text/plain": [
       "5    1009193\n",
       "4      45588\n",
       "1      11695\n",
       "3      11566\n",
       "2       3802\n",
       "Name: 评分(score), dtype: int64"
      ]
     },
     "execution_count": 45,
     "metadata": {},
     "output_type": "execute_result"
    }
   ],
   "source": [
    "df['评分(score)'].value_counts()"
   ]
  },
  {
   "cell_type": "code",
   "execution_count": 46,
   "metadata": {
    "collapsed": false
   },
   "outputs": [
    {
     "data": {
      "text/html": [
       "<div>\n",
       "<style>\n",
       "    .dataframe thead tr:only-child th {\n",
       "        text-align: right;\n",
       "    }\n",
       "\n",
       "    .dataframe thead th {\n",
       "        text-align: left;\n",
       "    }\n",
       "\n",
       "    .dataframe tbody tr th {\n",
       "        vertical-align: top;\n",
       "    }\n",
       "</style>\n",
       "<table border=\"1\" class=\"dataframe\">\n",
       "  <thead>\n",
       "    <tr style=\"text-align: right;\">\n",
       "      <th></th>\n",
       "      <th>评分(score)</th>\n",
       "      <th>slabel</th>\n",
       "    </tr>\n",
       "  </thead>\n",
       "  <tbody>\n",
       "    <tr>\n",
       "      <th>289</th>\n",
       "      <td>5</td>\n",
       "      <td>H</td>\n",
       "    </tr>\n",
       "    <tr>\n",
       "      <th>290</th>\n",
       "      <td>5</td>\n",
       "      <td>H</td>\n",
       "    </tr>\n",
       "    <tr>\n",
       "      <th>291</th>\n",
       "      <td>5</td>\n",
       "      <td>H</td>\n",
       "    </tr>\n",
       "    <tr>\n",
       "      <th>292</th>\n",
       "      <td>5</td>\n",
       "      <td>H</td>\n",
       "    </tr>\n",
       "    <tr>\n",
       "      <th>293</th>\n",
       "      <td>3</td>\n",
       "      <td>M</td>\n",
       "    </tr>\n",
       "    <tr>\n",
       "      <th>294</th>\n",
       "      <td>5</td>\n",
       "      <td>H</td>\n",
       "    </tr>\n",
       "    <tr>\n",
       "      <th>295</th>\n",
       "      <td>5</td>\n",
       "      <td>H</td>\n",
       "    </tr>\n",
       "    <tr>\n",
       "      <th>296</th>\n",
       "      <td>5</td>\n",
       "      <td>H</td>\n",
       "    </tr>\n",
       "    <tr>\n",
       "      <th>297</th>\n",
       "      <td>1</td>\n",
       "      <td>L</td>\n",
       "    </tr>\n",
       "    <tr>\n",
       "      <th>298</th>\n",
       "      <td>5</td>\n",
       "      <td>H</td>\n",
       "    </tr>\n",
       "    <tr>\n",
       "      <th>299</th>\n",
       "      <td>5</td>\n",
       "      <td>H</td>\n",
       "    </tr>\n",
       "    <tr>\n",
       "      <th>300</th>\n",
       "      <td>5</td>\n",
       "      <td>H</td>\n",
       "    </tr>\n",
       "    <tr>\n",
       "      <th>301</th>\n",
       "      <td>5</td>\n",
       "      <td>H</td>\n",
       "    </tr>\n",
       "    <tr>\n",
       "      <th>302</th>\n",
       "      <td>5</td>\n",
       "      <td>H</td>\n",
       "    </tr>\n",
       "    <tr>\n",
       "      <th>303</th>\n",
       "      <td>5</td>\n",
       "      <td>H</td>\n",
       "    </tr>\n",
       "  </tbody>\n",
       "</table>\n",
       "</div>"
      ],
      "text/plain": [
       "     评分(score) slabel\n",
       "289          5      H\n",
       "290          5      H\n",
       "291          5      H\n",
       "292          5      H\n",
       "293          3      M\n",
       "294          5      H\n",
       "295          5      H\n",
       "296          5      H\n",
       "297          1      L\n",
       "298          5      H\n",
       "299          5      H\n",
       "300          5      H\n",
       "301          5      H\n",
       "302          5      H\n",
       "303          5      H"
      ]
     },
     "execution_count": 46,
     "metadata": {},
     "output_type": "execute_result"
    }
   ],
   "source": [
    "#Low(L):1分、2分；Medium(M):3分、4分；High(H):5分\n",
    "df.loc[df['评分(score)']<=2,'slabel']='L'\n",
    "df.loc[(df['评分(score)']>2) & (df['评分(score)']<5),'slabel']='M'\n",
    "df.loc[df['评分(score)']==5,'slabel']='H'\n",
    "df.loc[:,['评分(score)','slabel']][210:225]"
   ]
  },
  {
   "cell_type": "markdown",
   "metadata": {},
   "source": [
    "## 会员等级"
   ]
  },
  {
   "cell_type": "code",
   "execution_count": 47,
   "metadata": {
    "collapsed": false
   },
   "outputs": [
    {
     "data": {
      "text/plain": [
       "钻石会员          352544\n",
       "金牌会员          257049\n",
       "银牌会员          191505\n",
       "铜牌会员          169241\n",
       "PLUS会员         96339\n",
       "PLUS会员[试用]     11955\n",
       "企业会员            3154\n",
       "注册会员              55\n",
       "VIP会员              2\n",
       "Name: 会员等级(userLevelName), dtype: int64"
      ]
     },
     "execution_count": 47,
     "metadata": {},
     "output_type": "execute_result"
    }
   ],
   "source": [
    "df['会员等级(userLevelName)'].value_counts()  "
   ]
  },
  {
   "cell_type": "markdown",
   "metadata": {},
   "source": [
    "## 消费时间和评论时间的处理"
   ]
  },
  {
   "cell_type": "code",
   "execution_count": 68,
   "metadata": {
    "collapsed": false
   },
   "outputs": [],
   "source": [
    "df['评价时间(create_time)'] = pd.to_datetime(df['评价时间(create_time)'])\n",
    "df['消费时间(referenceTime)'] = pd.to_datetime(df['消费时间(referenceTime)'])"
   ]
  },
  {
   "cell_type": "code",
   "execution_count": 109,
   "metadata": {
    "collapsed": false
   },
   "outputs": [],
   "source": [
    "df['评价日期'] = pd.to_datetime(df['评价时间(create_time)'], unit='ms').dt.strftime('%Y-%m-%d')\n",
    "df['消费日期'] = pd.to_datetime(df['消费时间(referenceTime)'], unit='ms').dt.strftime('%Y-%m-%d')"
   ]
  },
  {
   "cell_type": "code",
   "execution_count": 110,
   "metadata": {
    "collapsed": false
   },
   "outputs": [
    {
     "data": {
      "text/plain": [
       "Index(['评价时间(create_time)', '评分(score)', '评价内容(rateContent)',\n",
       "       '用户地区(userProvince)', '评论来自终端(userClientShow)', '会员等级(userLevelName)',\n",
       "       '产品类型(productColor)', '用户id(id)', '消费时间(referenceTime)', '品牌', '品牌商',\n",
       "       '关键词', 'polarity', 'magnitude', '惊喜', '喜爱', '兴奋', '厌恶', '失望', '愤怒',\n",
       "       'slabel', 'plabel', 'mlabel', '评价日期', '消费日期'],\n",
       "      dtype='object')"
      ]
     },
     "execution_count": 110,
     "metadata": {},
     "output_type": "execute_result"
    }
   ],
   "source": [
    "df.columns"
   ]
  },
  {
   "cell_type": "markdown",
   "metadata": {},
   "source": [
    "# 数据分析"
   ]
  },
  {
   "cell_type": "markdown",
   "metadata": {},
   "source": [
    "## 品牌商&关键词频次"
   ]
  },
  {
   "cell_type": "code",
   "execution_count": 84,
   "metadata": {
    "collapsed": false
   },
   "outputs": [
    {
     "data": {
      "text/html": [
       "<div>\n",
       "<style>\n",
       "    .dataframe thead tr:only-child th {\n",
       "        text-align: right;\n",
       "    }\n",
       "\n",
       "    .dataframe thead th {\n",
       "        text-align: left;\n",
       "    }\n",
       "\n",
       "    .dataframe tbody tr th {\n",
       "        vertical-align: top;\n",
       "    }\n",
       "</style>\n",
       "<table border=\"1\" class=\"dataframe\">\n",
       "  <thead>\n",
       "    <tr style=\"text-align: right;\">\n",
       "      <th>品牌商</th>\n",
       "      <th>优诺能</th>\n",
       "      <th>惠氏</th>\n",
       "      <th>美素</th>\n",
       "      <th>雅培</th>\n",
       "    </tr>\n",
       "    <tr>\n",
       "      <th>关键词</th>\n",
       "      <th></th>\n",
       "      <th></th>\n",
       "      <th></th>\n",
       "      <th></th>\n",
       "    </tr>\n",
       "  </thead>\n",
       "  <tbody>\n",
       "    <tr>\n",
       "      <th>产地</th>\n",
       "      <td>61</td>\n",
       "      <td>139</td>\n",
       "      <td>95</td>\n",
       "      <td>503</td>\n",
       "    </tr>\n",
       "    <tr>\n",
       "      <th>价格</th>\n",
       "      <td>21862</td>\n",
       "      <td>78127</td>\n",
       "      <td>67772</td>\n",
       "      <td>39225</td>\n",
       "    </tr>\n",
       "    <tr>\n",
       "      <th>促销</th>\n",
       "      <td>547</td>\n",
       "      <td>1521</td>\n",
       "      <td>1387</td>\n",
       "      <td>862</td>\n",
       "    </tr>\n",
       "    <tr>\n",
       "      <th>保质期</th>\n",
       "      <td>995</td>\n",
       "      <td>646</td>\n",
       "      <td>1165</td>\n",
       "      <td>576</td>\n",
       "    </tr>\n",
       "    <tr>\n",
       "      <th>假货</th>\n",
       "      <td>734</td>\n",
       "      <td>1093</td>\n",
       "      <td>1560</td>\n",
       "      <td>684</td>\n",
       "    </tr>\n",
       "  </tbody>\n",
       "</table>\n",
       "</div>"
      ],
      "text/plain": [
       "品牌商    优诺能     惠氏     美素     雅培\n",
       "关键词                            \n",
       "产地      61    139     95    503\n",
       "价格   21862  78127  67772  39225\n",
       "促销     547   1521   1387    862\n",
       "保质期    995    646   1165    576\n",
       "假货     734   1093   1560    684"
      ]
     },
     "execution_count": 84,
     "metadata": {},
     "output_type": "execute_result"
    }
   ],
   "source": [
    "key_brand = df.groupby(['关键词','品牌商']).size().unstack().fillna(0)\n",
    "key_brand.head()"
   ]
  },
  {
   "cell_type": "code",
   "execution_count": 82,
   "metadata": {
    "collapsed": false
   },
   "outputs": [
    {
     "data": {
      "text/plain": [
       "<matplotlib.axes._subplots.AxesSubplot at 0x17104421cf8>"
      ]
     },
     "execution_count": 82,
     "metadata": {},
     "output_type": "execute_result"
    },
    {
     "data": {
      "image/png": "[encoded data removed]",
      "text/plain": [
       "<matplotlib.figure.Figure at 0x17109db66d8>"
      ]
     },
     "metadata": {},
     "output_type": "display_data"
    }
   ],
   "source": [
    "key_brand.plot(kind = 'bar',figsize = (20,5))\n",
    "ylabel"
   ]
  },
  {
   "cell_type": "markdown",
   "metadata": {},
   "source": [
    "## 会员等级&关键词频次"
   ]
  },
  {
   "cell_type": "code",
   "execution_count": 85,
   "metadata": {
    "collapsed": false
   },
   "outputs": [
    {
     "data": {
      "text/html": [
       "<div>\n",
       "<style>\n",
       "    .dataframe thead tr:only-child th {\n",
       "        text-align: right;\n",
       "    }\n",
       "\n",
       "    .dataframe thead th {\n",
       "        text-align: left;\n",
       "    }\n",
       "\n",
       "    .dataframe tbody tr th {\n",
       "        vertical-align: top;\n",
       "    }\n",
       "</style>\n",
       "<table border=\"1\" class=\"dataframe\">\n",
       "  <thead>\n",
       "    <tr style=\"text-align: right;\">\n",
       "      <th>会员等级(userLevelName)</th>\n",
       "      <th>PLUS会员</th>\n",
       "      <th>PLUS会员[试用]</th>\n",
       "      <th>VIP会员</th>\n",
       "      <th>企业会员</th>\n",
       "      <th>注册会员</th>\n",
       "      <th>金牌会员</th>\n",
       "      <th>钻石会员</th>\n",
       "      <th>铜牌会员</th>\n",
       "      <th>银牌会员</th>\n",
       "    </tr>\n",
       "    <tr>\n",
       "      <th>关键词</th>\n",
       "      <th></th>\n",
       "      <th></th>\n",
       "      <th></th>\n",
       "      <th></th>\n",
       "      <th></th>\n",
       "      <th></th>\n",
       "      <th></th>\n",
       "      <th></th>\n",
       "      <th></th>\n",
       "    </tr>\n",
       "  </thead>\n",
       "  <tbody>\n",
       "    <tr>\n",
       "      <th>产地</th>\n",
       "      <td>68.0</td>\n",
       "      <td>11.0</td>\n",
       "      <td>0.0</td>\n",
       "      <td>1.0</td>\n",
       "      <td>0.0</td>\n",
       "      <td>230.0</td>\n",
       "      <td>352.0</td>\n",
       "      <td>40.0</td>\n",
       "      <td>96.0</td>\n",
       "    </tr>\n",
       "    <tr>\n",
       "      <th>价格</th>\n",
       "      <td>20372.0</td>\n",
       "      <td>2306.0</td>\n",
       "      <td>1.0</td>\n",
       "      <td>641.0</td>\n",
       "      <td>2.0</td>\n",
       "      <td>49831.0</td>\n",
       "      <td>74253.0</td>\n",
       "      <td>28033.0</td>\n",
       "      <td>31547.0</td>\n",
       "    </tr>\n",
       "    <tr>\n",
       "      <th>促销</th>\n",
       "      <td>367.0</td>\n",
       "      <td>53.0</td>\n",
       "      <td>0.0</td>\n",
       "      <td>18.0</td>\n",
       "      <td>0.0</td>\n",
       "      <td>980.0</td>\n",
       "      <td>1826.0</td>\n",
       "      <td>470.0</td>\n",
       "      <td>603.0</td>\n",
       "    </tr>\n",
       "    <tr>\n",
       "      <th>保质期</th>\n",
       "      <td>282.0</td>\n",
       "      <td>51.0</td>\n",
       "      <td>0.0</td>\n",
       "      <td>9.0</td>\n",
       "      <td>0.0</td>\n",
       "      <td>926.0</td>\n",
       "      <td>1350.0</td>\n",
       "      <td>230.0</td>\n",
       "      <td>534.0</td>\n",
       "    </tr>\n",
       "    <tr>\n",
       "      <th>假货</th>\n",
       "      <td>314.0</td>\n",
       "      <td>84.0</td>\n",
       "      <td>0.0</td>\n",
       "      <td>15.0</td>\n",
       "      <td>0.0</td>\n",
       "      <td>1206.0</td>\n",
       "      <td>1239.0</td>\n",
       "      <td>398.0</td>\n",
       "      <td>815.0</td>\n",
       "    </tr>\n",
       "  </tbody>\n",
       "</table>\n",
       "</div>"
      ],
      "text/plain": [
       "会员等级(userLevelName)   PLUS会员  PLUS会员[试用]  VIP会员   企业会员  注册会员     金牌会员  \\\n",
       "关键词                                                                     \n",
       "产地                      68.0        11.0    0.0    1.0   0.0    230.0   \n",
       "价格                   20372.0      2306.0    1.0  641.0   2.0  49831.0   \n",
       "促销                     367.0        53.0    0.0   18.0   0.0    980.0   \n",
       "保质期                    282.0        51.0    0.0    9.0   0.0    926.0   \n",
       "假货                     314.0        84.0    0.0   15.0   0.0   1206.0   \n",
       "\n",
       "会员等级(userLevelName)     钻石会员     铜牌会员     银牌会员  \n",
       "关键词                                             \n",
       "产地                     352.0     40.0     96.0  \n",
       "价格                   74253.0  28033.0  31547.0  \n",
       "促销                    1826.0    470.0    603.0  \n",
       "保质期                   1350.0    230.0    534.0  \n",
       "假货                    1239.0    398.0    815.0  "
      ]
     },
     "execution_count": 85,
     "metadata": {},
     "output_type": "execute_result"
    }
   ],
   "source": [
    "key_class= df.groupby(['关键词','会员等级(userLevelName)']).size().unstack().fillna(0)\n",
    "key_class.head()"
   ]
  },
  {
   "cell_type": "code",
   "execution_count": 86,
   "metadata": {
    "collapsed": false
   },
   "outputs": [
    {
     "data": {
      "text/plain": [
       "<matplotlib.axes._subplots.AxesSubplot at 0x1710481def0>"
      ]
     },
     "execution_count": 86,
     "metadata": {},
     "output_type": "execute_result"
    },
    {
     "data": {
      "image/png": "[encoded data removed]",
      "text/plain": [
       "<matplotlib.figure.Figure at 0x17103e707b8>"
      ]
     },
     "metadata": {},
     "output_type": "display_data"
    }
   ],
   "source": [
    "key_class.plot(kind = 'bar',figsize = (20,5))"
   ]
  },
  {
   "cell_type": "markdown",
   "metadata": {},
   "source": [
    "## 关键词 & polarity&magnitude"
   ]
  },
  {
   "cell_type": "code",
   "execution_count": 99,
   "metadata": {
    "collapsed": false
   },
   "outputs": [
    {
     "data": {
      "text/html": [
       "<div>\n",
       "<style>\n",
       "    .dataframe thead tr:only-child th {\n",
       "        text-align: right;\n",
       "    }\n",
       "\n",
       "    .dataframe thead th {\n",
       "        text-align: left;\n",
       "    }\n",
       "\n",
       "    .dataframe tbody tr th {\n",
       "        vertical-align: top;\n",
       "    }\n",
       "</style>\n",
       "<table border=\"1\" class=\"dataframe\">\n",
       "  <thead>\n",
       "    <tr style=\"text-align: right;\">\n",
       "      <th></th>\n",
       "      <th>polarity</th>\n",
       "    </tr>\n",
       "    <tr>\n",
       "      <th>关键词</th>\n",
       "      <th></th>\n",
       "    </tr>\n",
       "  </thead>\n",
       "  <tbody>\n",
       "    <tr>\n",
       "      <th>服务</th>\n",
       "      <td>81.352600</td>\n",
       "    </tr>\n",
       "    <tr>\n",
       "      <th>营养</th>\n",
       "      <td>80.197919</td>\n",
       "    </tr>\n",
       "    <tr>\n",
       "      <th>实惠</th>\n",
       "      <td>77.572993</td>\n",
       "    </tr>\n",
       "    <tr>\n",
       "      <th>香味</th>\n",
       "      <td>77.097756</td>\n",
       "    </tr>\n",
       "    <tr>\n",
       "      <th>味道</th>\n",
       "      <td>76.575112</td>\n",
       "    </tr>\n",
       "  </tbody>\n",
       "</table>\n",
       "</div>"
      ],
      "text/plain": [
       "      polarity\n",
       "关键词           \n",
       "服务   81.352600\n",
       "营养   80.197919\n",
       "实惠   77.572993\n",
       "香味   77.097756\n",
       "味道   76.575112"
      ]
     },
     "execution_count": 99,
     "metadata": {},
     "output_type": "execute_result"
    }
   ],
   "source": [
    "key_po= df.groupby(['关键词'])\n",
    "pola = pd.DataFrame(key_po['polarity'].mean())\n",
    "pola = pola.sort_values(by = 'polarity',ascending = False)\n",
    "pola.head()"
   ]
  },
  {
   "cell_type": "code",
   "execution_count": 100,
   "metadata": {
    "collapsed": false
   },
   "outputs": [
    {
     "data": {
      "text/plain": [
       "<matplotlib.axes._subplots.AxesSubplot at 0x171153de048>"
      ]
     },
     "execution_count": 100,
     "metadata": {},
     "output_type": "execute_result"
    },
    {
     "data": {
      "image/png": "[encoded data removed]",
      "text/plain": [
       "<matplotlib.figure.Figure at 0x171154a5278>"
      ]
     },
     "metadata": {},
     "output_type": "display_data"
    }
   ],
   "source": [
    "pola.plot(kind = 'bar',figsize = (20,5))"
   ]
  },
  {
   "cell_type": "code",
   "execution_count": 58,
   "metadata": {
    "collapsed": true
   },
   "outputs": [],
   "source": [
    "df.loc[df['polarity']>85,'plabel']='高度正面'\n",
    "df.loc[(df['polarity']<=85) & (df['polarity']>=60),'plabel']='中等'\n",
    "df.loc[df['polarity']<60,'plabel']='负面'"
   ]
  },
  {
   "cell_type": "code",
   "execution_count": 59,
   "metadata": {
    "collapsed": true
   },
   "outputs": [],
   "source": [
    "df.loc[df['magnitude']>0.85,'mlabel']='非常强烈'\n",
    "df.loc[(df['magnitude']<=0.85) & (df['magnitude']>=0.5),'mlabel']='一般'\n",
    "df.loc[df['magnitude']<0.5,'mlabel']='相对无感'"
   ]
  },
  {
   "cell_type": "code",
   "execution_count": 60,
   "metadata": {
    "collapsed": false
   },
   "outputs": [
    {
     "data": {
      "text/html": [
       "<div>\n",
       "<style>\n",
       "    .dataframe thead tr:only-child th {\n",
       "        text-align: right;\n",
       "    }\n",
       "\n",
       "    .dataframe thead th {\n",
       "        text-align: left;\n",
       "    }\n",
       "\n",
       "    .dataframe tbody tr th {\n",
       "        vertical-align: top;\n",
       "    }\n",
       "</style>\n",
       "<table border=\"1\" class=\"dataframe\">\n",
       "  <thead>\n",
       "    <tr style=\"text-align: right;\">\n",
       "      <th></th>\n",
       "      <th>关键词</th>\n",
       "      <th>polarity</th>\n",
       "      <th>plabel</th>\n",
       "      <th>magnitude</th>\n",
       "      <th>mlabel</th>\n",
       "    </tr>\n",
       "  </thead>\n",
       "  <tbody>\n",
       "    <tr>\n",
       "      <th>0</th>\n",
       "      <td>品牌</td>\n",
       "      <td>74.792</td>\n",
       "      <td>中等</td>\n",
       "      <td>0.131</td>\n",
       "      <td>相对无感</td>\n",
       "    </tr>\n",
       "    <tr>\n",
       "      <th>3</th>\n",
       "      <td>贵</td>\n",
       "      <td>6.250</td>\n",
       "      <td>负面</td>\n",
       "      <td>1.000</td>\n",
       "      <td>非常强烈</td>\n",
       "    </tr>\n",
       "    <tr>\n",
       "      <th>4</th>\n",
       "      <td>品质</td>\n",
       "      <td>82.204</td>\n",
       "      <td>中等</td>\n",
       "      <td>0.265</td>\n",
       "      <td>相对无感</td>\n",
       "    </tr>\n",
       "    <tr>\n",
       "      <th>6</th>\n",
       "      <td>实惠</td>\n",
       "      <td>65.708</td>\n",
       "      <td>中等</td>\n",
       "      <td>0.412</td>\n",
       "      <td>相对无感</td>\n",
       "    </tr>\n",
       "    <tr>\n",
       "      <th>8</th>\n",
       "      <td>品质</td>\n",
       "      <td>66.515</td>\n",
       "      <td>中等</td>\n",
       "      <td>0.483</td>\n",
       "      <td>相对无感</td>\n",
       "    </tr>\n",
       "  </tbody>\n",
       "</table>\n",
       "</div>"
      ],
      "text/plain": [
       "  关键词  polarity plabel  magnitude mlabel\n",
       "0  品牌    74.792     中等      0.131   相对无感\n",
       "3   贵     6.250     负面      1.000   非常强烈\n",
       "4  品质    82.204     中等      0.265   相对无感\n",
       "6  实惠    65.708     中等      0.412   相对无感\n",
       "8  品质    66.515     中等      0.483   相对无感"
      ]
     },
     "execution_count": 60,
     "metadata": {},
     "output_type": "execute_result"
    }
   ],
   "source": [
    "df.loc[:,['关键词','polarity','plabel','magnitude','mlabel']].head()"
   ]
  },
  {
   "cell_type": "code",
   "execution_count": 62,
   "metadata": {
    "collapsed": false
   },
   "outputs": [
    {
     "data": {
      "text/plain": [
       "中等      520588\n",
       "高度正面    352314\n",
       "负面      208942\n",
       "Name: plabel, dtype: int64"
      ]
     },
     "execution_count": 62,
     "metadata": {},
     "output_type": "execute_result"
    }
   ],
   "source": [
    "df['plabel'].value_counts()"
   ]
  },
  {
   "cell_type": "code",
   "execution_count": 63,
   "metadata": {
    "collapsed": false
   },
   "outputs": [
    {
     "data": {
      "text/plain": [
       "相对无感    833971\n",
       "一般      210054\n",
       "非常强烈     37819\n",
       "Name: mlabel, dtype: int64"
      ]
     },
     "execution_count": 63,
     "metadata": {},
     "output_type": "execute_result"
    }
   ],
   "source": [
    "df['mlabel'].value_counts()"
   ]
  },
  {
   "cell_type": "markdown",
   "metadata": {},
   "source": [
    "## polarity随评论时间的变化"
   ]
  },
  {
   "cell_type": "code",
   "execution_count": 138,
   "metadata": {
    "collapsed": false
   },
   "outputs": [
    {
     "data": {
      "text/html": [
       "<div>\n",
       "<style>\n",
       "    .dataframe thead tr:only-child th {\n",
       "        text-align: right;\n",
       "    }\n",
       "\n",
       "    .dataframe thead th {\n",
       "        text-align: left;\n",
       "    }\n",
       "\n",
       "    .dataframe tbody tr th {\n",
       "        vertical-align: top;\n",
       "    }\n",
       "</style>\n",
       "<table border=\"1\" class=\"dataframe\">\n",
       "  <thead>\n",
       "    <tr style=\"text-align: right;\">\n",
       "      <th>品牌商</th>\n",
       "      <th>优诺能</th>\n",
       "      <th>惠氏</th>\n",
       "      <th>美素</th>\n",
       "      <th>雅培</th>\n",
       "    </tr>\n",
       "    <tr>\n",
       "      <th>评价日期</th>\n",
       "      <th></th>\n",
       "      <th></th>\n",
       "      <th></th>\n",
       "      <th></th>\n",
       "    </tr>\n",
       "  </thead>\n",
       "  <tbody>\n",
       "    <tr>\n",
       "      <th>2010-07-06</th>\n",
       "      <td>NaN</td>\n",
       "      <td>NaN</td>\n",
       "      <td>NaN</td>\n",
       "      <td>85.6890</td>\n",
       "    </tr>\n",
       "    <tr>\n",
       "      <th>2010-07-08</th>\n",
       "      <td>NaN</td>\n",
       "      <td>NaN</td>\n",
       "      <td>NaN</td>\n",
       "      <td>78.5255</td>\n",
       "    </tr>\n",
       "    <tr>\n",
       "      <th>2010-07-12</th>\n",
       "      <td>NaN</td>\n",
       "      <td>NaN</td>\n",
       "      <td>NaN</td>\n",
       "      <td>90.0000</td>\n",
       "    </tr>\n",
       "    <tr>\n",
       "      <th>2010-07-15</th>\n",
       "      <td>NaN</td>\n",
       "      <td>NaN</td>\n",
       "      <td>NaN</td>\n",
       "      <td>29.8230</td>\n",
       "    </tr>\n",
       "    <tr>\n",
       "      <th>2010-07-16</th>\n",
       "      <td>NaN</td>\n",
       "      <td>NaN</td>\n",
       "      <td>NaN</td>\n",
       "      <td>30.3100</td>\n",
       "    </tr>\n",
       "  </tbody>\n",
       "</table>\n",
       "</div>"
      ],
      "text/plain": [
       "品牌商         优诺能  惠氏  美素       雅培\n",
       "评价日期                            \n",
       "2010-07-06  NaN NaN NaN  85.6890\n",
       "2010-07-08  NaN NaN NaN  78.5255\n",
       "2010-07-12  NaN NaN NaN  90.0000\n",
       "2010-07-15  NaN NaN NaN  29.8230\n",
       "2010-07-16  NaN NaN NaN  30.3100"
      ]
     },
     "execution_count": 138,
     "metadata": {},
     "output_type": "execute_result"
    }
   ],
   "source": [
    "date_po = df.pivot_table('polarity',index = '评价日期',columns = '品牌商',aggfunc = 'mean')\n",
    "date_po.head()"
   ]
  },
  {
   "cell_type": "code",
   "execution_count": 142,
   "metadata": {
    "collapsed": false
   },
   "outputs": [
    {
     "data": {
      "text/plain": [
       "<matplotlib.figure.Figure at 0x1714755eb70>"
      ]
     },
     "metadata": {},
     "output_type": "display_data"
    }
   ],
   "source": [
    "fig = plt.figure()"
   ]
  },
  {
   "cell_type": "code",
   "execution_count": 157,
   "metadata": {
    "collapsed": false
   },
   "outputs": [
    {
     "data": {
      "text/plain": [
       "<matplotlib.axes._subplots.AxesSubplot at 0x1714ea9a128>"
      ]
     },
     "execution_count": 157,
     "metadata": {},
     "output_type": "execute_result"
    },
    {
     "data": {
      "image/png": "[encoded data removed]",
      "text/plain": [
       "<matplotlib.figure.Figure at 0x1714bcfa780>"
      ]
     },
     "metadata": {},
     "output_type": "display_data"
    }
   ],
   "source": [
    "fig,axes = plt.subplots(2,2,figsize = (15,10))\n",
    "date_po['优诺能'].plot(ax = axes[0][0],color = 'b',alpha = 0.7,title = '优诺能polarity变化')\n",
    "date_po['惠氏'].plot(ax = axes[0][1],color = 'k',alpha = 0.5,title = '惠氏polarity变化')\n",
    "date_po['美素'].plot(ax = axes[1][0],color ='g',alpha = 0.7,title = '美素polarity变化')\n",
    "date_po['雅培'].plot(ax = axes[1][1],title = '雅培polarity变化')"
   ]
  },
  {
   "cell_type": "code",
   "execution_count": 158,
   "metadata": {
    "collapsed": true
   },
   "outputs": [],
   "source": [
    "df['评价月份'] = pd.to_datetime(df['评价时间(create_time)'], unit='ms').dt.strftime('%Y-%m')"
   ]
  },
  {
   "cell_type": "code",
   "execution_count": 159,
   "metadata": {
    "collapsed": false
   },
   "outputs": [
    {
     "data": {
      "text/html": [
       "<div>\n",
       "<style>\n",
       "    .dataframe thead tr:only-child th {\n",
       "        text-align: right;\n",
       "    }\n",
       "\n",
       "    .dataframe thead th {\n",
       "        text-align: left;\n",
       "    }\n",
       "\n",
       "    .dataframe tbody tr th {\n",
       "        vertical-align: top;\n",
       "    }\n",
       "</style>\n",
       "<table border=\"1\" class=\"dataframe\">\n",
       "  <thead>\n",
       "    <tr style=\"text-align: right;\">\n",
       "      <th>品牌商</th>\n",
       "      <th>优诺能</th>\n",
       "      <th>惠氏</th>\n",
       "      <th>美素</th>\n",
       "      <th>雅培</th>\n",
       "    </tr>\n",
       "    <tr>\n",
       "      <th>评价月份</th>\n",
       "      <th></th>\n",
       "      <th></th>\n",
       "      <th></th>\n",
       "      <th></th>\n",
       "    </tr>\n",
       "  </thead>\n",
       "  <tbody>\n",
       "    <tr>\n",
       "      <th>2010-07</th>\n",
       "      <td>NaN</td>\n",
       "      <td>NaN</td>\n",
       "      <td>NaN</td>\n",
       "      <td>62.979533</td>\n",
       "    </tr>\n",
       "    <tr>\n",
       "      <th>2010-08</th>\n",
       "      <td>NaN</td>\n",
       "      <td>NaN</td>\n",
       "      <td>NaN</td>\n",
       "      <td>68.630950</td>\n",
       "    </tr>\n",
       "    <tr>\n",
       "      <th>2010-09</th>\n",
       "      <td>NaN</td>\n",
       "      <td>NaN</td>\n",
       "      <td>NaN</td>\n",
       "      <td>67.421583</td>\n",
       "    </tr>\n",
       "    <tr>\n",
       "      <th>2010-10</th>\n",
       "      <td>NaN</td>\n",
       "      <td>NaN</td>\n",
       "      <td>NaN</td>\n",
       "      <td>73.981231</td>\n",
       "    </tr>\n",
       "    <tr>\n",
       "      <th>2010-11</th>\n",
       "      <td>NaN</td>\n",
       "      <td>NaN</td>\n",
       "      <td>NaN</td>\n",
       "      <td>75.401429</td>\n",
       "    </tr>\n",
       "  </tbody>\n",
       "</table>\n",
       "</div>"
      ],
      "text/plain": [
       "品牌商      优诺能  惠氏  美素         雅培\n",
       "评价月份                           \n",
       "2010-07  NaN NaN NaN  62.979533\n",
       "2010-08  NaN NaN NaN  68.630950\n",
       "2010-09  NaN NaN NaN  67.421583\n",
       "2010-10  NaN NaN NaN  73.981231\n",
       "2010-11  NaN NaN NaN  75.401429"
      ]
     },
     "execution_count": 159,
     "metadata": {},
     "output_type": "execute_result"
    }
   ],
   "source": [
    "month_po = df.pivot_table('polarity',index = '评价月份',columns = '品牌商',aggfunc = 'mean')\n",
    "month_po.head()"
   ]
  },
  {
   "cell_type": "code",
   "execution_count": 160,
   "metadata": {
    "collapsed": false
   },
   "outputs": [
    {
     "data": {
      "text/plain": [
       "<matplotlib.axes._subplots.AxesSubplot at 0x1714f876278>"
      ]
     },
     "execution_count": 160,
     "metadata": {},
     "output_type": "execute_result"
    },
    {
     "data": {
      "image/png": "[encoded data removed]",
      "text/plain": [
       "<matplotlib.figure.Figure at 0x1715354c358>"
      ]
     },
     "metadata": {},
     "output_type": "display_data"
    }
   ],
   "source": [
    "fig,axes = plt.subplots(2,2,figsize = (15,10))\n",
    "month_po['优诺能'].plot(ax = axes[0][0],color = 'b',alpha = 0.7,title = '优诺能polarity变化')\n",
    "month_po['惠氏'].plot(ax = axes[0][1],color = 'k',alpha = 0.5,title = '惠氏polarity变化')\n",
    "month_po['美素'].plot(ax = axes[1][0],color ='g',alpha = 0.7,title = '美素polarity变化')\n",
    "month_po['雅培'].plot(ax = axes[1][1],title = '雅培polarity变化')"
   ]
  },
  {
   "cell_type": "markdown",
   "metadata": {},
   "source": [
    "## 具体评论观察"
   ]
  },
  {
   "cell_type": "code",
   "execution_count": 101,
   "metadata": {
    "collapsed": false
   },
   "outputs": [
    {
     "data": {
      "text/html": [
       "<div>\n",
       "<style>\n",
       "    .dataframe thead tr:only-child th {\n",
       "        text-align: right;\n",
       "    }\n",
       "\n",
       "    .dataframe thead th {\n",
       "        text-align: left;\n",
       "    }\n",
       "\n",
       "    .dataframe tbody tr th {\n",
       "        vertical-align: top;\n",
       "    }\n",
       "</style>\n",
       "<table border=\"1\" class=\"dataframe\">\n",
       "  <thead>\n",
       "    <tr style=\"text-align: right;\">\n",
       "      <th></th>\n",
       "      <th>评价时间(create_time)</th>\n",
       "      <th>评分(score)</th>\n",
       "      <th>评价内容(rateContent)</th>\n",
       "      <th>用户地区(userProvince)</th>\n",
       "      <th>评论来自终端(userClientShow)</th>\n",
       "      <th>会员等级(userLevelName)</th>\n",
       "      <th>产品类型(productColor)</th>\n",
       "      <th>用户id(id)</th>\n",
       "      <th>消费时间(referenceTime)</th>\n",
       "      <th>品牌</th>\n",
       "      <th>...</th>\n",
       "      <th>magnitude</th>\n",
       "      <th>惊喜</th>\n",
       "      <th>喜爱</th>\n",
       "      <th>兴奋</th>\n",
       "      <th>厌恶</th>\n",
       "      <th>失望</th>\n",
       "      <th>愤怒</th>\n",
       "      <th>slabel</th>\n",
       "      <th>plabel</th>\n",
       "      <th>mlabel</th>\n",
       "    </tr>\n",
       "  </thead>\n",
       "  <tbody>\n",
       "    <tr>\n",
       "      <th>3</th>\n",
       "      <td>2017-03-04 19:39:00</td>\n",
       "      <td>5</td>\n",
       "      <td>一直买 这个 越来越贵了</td>\n",
       "      <td>unknown_place</td>\n",
       "      <td>unknown_client</td>\n",
       "      <td>银牌会员</td>\n",
       "      <td>金装3段1200克三联装</td>\n",
       "      <td>10182297636</td>\n",
       "      <td>2017-02-22 20:15:00</td>\n",
       "      <td>惠氏--三段</td>\n",
       "      <td>...</td>\n",
       "      <td>1.000</td>\n",
       "      <td>0.037375</td>\n",
       "      <td>0.00000</td>\n",
       "      <td>0.025125</td>\n",
       "      <td>0.194062</td>\n",
       "      <td>0.0</td>\n",
       "      <td>0.743437</td>\n",
       "      <td>H</td>\n",
       "      <td>负面</td>\n",
       "      <td>非常强烈</td>\n",
       "    </tr>\n",
       "    <tr>\n",
       "      <th>86</th>\n",
       "      <td>2017-03-03 17:47:00</td>\n",
       "      <td>3</td>\n",
       "      <td>奶粉是好，就是总断货，而且升级版的太贵，换美素佳尔了</td>\n",
       "      <td>河北</td>\n",
       "      <td>来自微信购物</td>\n",
       "      <td>金牌会员</td>\n",
       "      <td>金装3段900克罐装</td>\n",
       "      <td>10179109508</td>\n",
       "      <td>2017-02-08 12:50:00</td>\n",
       "      <td>惠氏--三段</td>\n",
       "      <td>...</td>\n",
       "      <td>0.652</td>\n",
       "      <td>0.080960</td>\n",
       "      <td>0.08096</td>\n",
       "      <td>0.000000</td>\n",
       "      <td>0.465134</td>\n",
       "      <td>0.0</td>\n",
       "      <td>0.372946</td>\n",
       "      <td>M</td>\n",
       "      <td>负面</td>\n",
       "      <td>一般</td>\n",
       "    </tr>\n",
       "  </tbody>\n",
       "</table>\n",
       "<p>2 rows × 23 columns</p>\n",
       "</div>"
      ],
      "text/plain": [
       "     评价时间(create_time)  评分(score)           评价内容(rateContent)  \\\n",
       "3  2017-03-04 19:39:00          5                一直买 这个 越来越贵了   \n",
       "86 2017-03-03 17:47:00          3  奶粉是好，就是总断货，而且升级版的太贵，换美素佳尔了   \n",
       "\n",
       "   用户地区(userProvince) 评论来自终端(userClientShow) 会员等级(userLevelName)  \\\n",
       "3       unknown_place         unknown_client                银牌会员   \n",
       "86                 河北                 来自微信购物                金牌会员   \n",
       "\n",
       "   产品类型(productColor)     用户id(id) 消费时间(referenceTime)      品牌   ...    \\\n",
       "3        金装3段1200克三联装  10182297636 2017-02-22 20:15:00  惠氏--三段   ...     \n",
       "86         金装3段900克罐装  10179109508 2017-02-08 12:50:00  惠氏--三段   ...     \n",
       "\n",
       "   magnitude        惊喜       喜爱        兴奋        厌恶   失望        愤怒  slabel  \\\n",
       "3      1.000  0.037375  0.00000  0.025125  0.194062  0.0  0.743437       H   \n",
       "86     0.652  0.080960  0.08096  0.000000  0.465134  0.0  0.372946       M   \n",
       "\n",
       "    plabel  mlabel  \n",
       "3       负面    非常强烈  \n",
       "86      负面      一般  \n",
       "\n",
       "[2 rows x 23 columns]"
      ]
     },
     "execution_count": 101,
     "metadata": {},
     "output_type": "execute_result"
    }
   ],
   "source": [
    "df.loc[df['关键词']=='贵'].head(2)"
   ]
  },
  {
   "cell_type": "code",
   "execution_count": 103,
   "metadata": {
    "collapsed": false
   },
   "outputs": [
    {
     "data": {
      "text/plain": [
       "品牌商                                          惠氏\n",
       "评价内容(rateContent)    奶粉是好，就是总断货，而且升级版的太贵，换美素佳尔了\n",
       "关键词                                           贵\n",
       "惊喜                                      0.08096\n",
       "喜爱                                      0.08096\n",
       "兴奋                                            0\n",
       "厌恶                                     0.465134\n",
       "失望                                            0\n",
       "愤怒                                     0.372946\n",
       "Name: 86, dtype: object"
      ]
     },
     "execution_count": 103,
     "metadata": {},
     "output_type": "execute_result"
    }
   ],
   "source": [
    "df.loc[86][['品牌商','评价内容(rateContent)','关键词','惊喜','喜爱','兴奋','厌恶','失望','愤怒']]"
   ]
  },
  {
   "cell_type": "code",
   "execution_count": 106,
   "metadata": {
    "collapsed": false
   },
   "outputs": [
    {
     "data": {
      "image/png": "[encoded data removed]",
      "text/plain": [
       "<matplotlib.figure.Figure at 0x171160a32e8>"
      ]
     },
     "metadata": {},
     "output_type": "display_data"
    }
   ],
   "source": [
    "labels = np.array(['惊喜','喜爱','兴奋','厌恶','失望','愤怒'])\n",
    "dataLenth = 6\n",
    "data = np.array([0.08096,0.08096,0,0.465134,0,0.372946])  \n",
    "angles = np.linspace(0, 2*np.pi, dataLenth, endpoint=False)\n",
    "data = np.concatenate((data, [data[0]])) # 闭合\n",
    "angles = np.concatenate((angles, [angles[0]])) # 闭合\n",
    "\n",
    "fig = plt.figure()\n",
    "ax = fig.add_subplot(111, polar=True)# polar参数！！\n",
    "ax.plot(angles, data, 'bo-', linewidth=2)# 画线\n",
    "ax.fill(angles, data, facecolor='r', alpha=0.25)# 填充\n",
    "ax.set_thetagrids(angles * 180/np.pi, labels, fontproperties=\"SimHei\")\n",
    "ax.set_title(\"用户xx细节情绪分布情况\",va='bottom', fontproperties=\"SimHei\")\n",
    "ax.set_rlim(0,0.5)\n",
    "ax.grid(True)\n",
    "plt.show()"
   ]
  },
  {
   "cell_type": "code",
   "execution_count": null,
   "metadata": {
    "collapsed": true
   },
   "outputs": [],
   "source": []
  }
 ],
 "metadata": {
  "kernelspec": {
   "display_name": "Python 3",
   "language": "python",
   "name": "python3"
  },
  "language_info": {
   "codemirror_mode": {
    "name": "ipython",
    "version": 3
   },
   "file_extension": ".py",
   "mimetype": "text/x-python",
   "name": "python",
   "nbconvert_exporter": "python",
   "pygments_lexer": "ipython3",
   "version": "3.6.0"
  },
  "latex_envs": {
   "LaTeX_envs_menu_present": true,
   "autocomplete": true,
   "bibliofile": "biblio.bib",
   "cite_by": "apalike",
   "current_citInitial": 1,
   "eqLabelWithNumbers": true,
   "eqNumInitial": 1,
   "hotkeys": {
    "equation": "Ctrl-E",
    "itemize": "Ctrl-I"
   },
   "labels_anchors": false,
   "latex_user_defs": false,
   "report_style_numbering": false,
   "user_envs_cfg": false
  },
  "toc": {
   "colors": {
    "hover_highlight": "#DAA520",
    "running_highlight": "#FF0000",
    "selected_highlight": "#FFD700"
   },
   "moveMenuLeft": true,
   "nav_menu": {
    "height": "409px",
    "width": "252px"
   },
   "navigate_menu": true,
   "number_sections": true,
   "sideBar": true,
   "threshold": 4,
   "toc_cell": false,
   "toc_position": {
    "height": "573px",
    "left": "0px",
    "right": "1288px",
    "top": "111px",
    "width": "212px"
   },
   "toc_section_display": "block",
   "toc_window_display": true,
   "widenNotebook": false
  }
 },
 "nbformat": 4,
 "nbformat_minor": 2
}
