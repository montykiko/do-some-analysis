{
 "cells": [
  {
   "cell_type": "markdown",
   "metadata": {
    "toc": "true"
   },
   "source": [
    "<h1>Table of Contents<span class=\"tocSkip\"></span></h1>\n",
    "<div class=\"toc\"><ul class=\"toc-item\"><li><span><a href=\"#Table-of-Contents\" data-toc-modified-id=\"Table-of-Contents-1\"><span class=\"toc-item-num\">1&nbsp;&nbsp;</span>Table of Contents</a></span></li><li><span><a href=\"#读入数据集\" data-toc-modified-id=\"读入数据集-2\"><span class=\"toc-item-num\">2&nbsp;&nbsp;</span>读入数据集</a></span><ul class=\"toc-item\"><li><span><a href=\"#读入txt格式的数据集\" data-toc-modified-id=\"读入txt格式的数据集-2.1\"><span class=\"toc-item-num\">2.1&nbsp;&nbsp;</span>读入txt格式的数据集</a></span></li><li><span><a href=\"#观察数据集的基本信息\" data-toc-modified-id=\"观察数据集的基本信息-2.2\"><span class=\"toc-item-num\">2.2&nbsp;&nbsp;</span>观察数据集的基本信息</a></span></li></ul></li><li><span><a href=\"#数据处理\" data-toc-modified-id=\"数据处理-3\"><span class=\"toc-item-num\">3&nbsp;&nbsp;</span>数据处理</a></span><ul class=\"toc-item\"><li><span><a href=\"#去除不相关的字段\" data-toc-modified-id=\"去除不相关的字段-3.1\"><span class=\"toc-item-num\">3.1&nbsp;&nbsp;</span>去除不相关的字段</a></span></li><li><span><a href=\"#(修改)缺失值处理\" data-toc-modified-id=\"(修改)缺失值处理-3.2\"><span class=\"toc-item-num\">3.2&nbsp;&nbsp;</span><strong>(修改)缺失值处理</strong></a></span></li><li><span><a href=\"#(修改)重复值处理\" data-toc-modified-id=\"(修改)重复值处理-3.3\"><span class=\"toc-item-num\">3.3&nbsp;&nbsp;</span><strong>(修改)重复值处理</strong></a></span></li><li><span><a href=\"#异常值检查与处理\" data-toc-modified-id=\"异常值检查与处理-3.4\"><span class=\"toc-item-num\">3.4&nbsp;&nbsp;</span>异常值检查与处理</a></span><ul class=\"toc-item\"><li><span><a href=\"#(修改)用户地区(userProvince)\" data-toc-modified-id=\"(修改)用户地区(userProvince)-3.4.1\"><span class=\"toc-item-num\">3.4.1&nbsp;&nbsp;</span><strong>(修改)用户地区(userProvince)</strong></a></span></li><li><span><a href=\"#评论来自终端(userClientShow)\" data-toc-modified-id=\"评论来自终端(userClientShow)-3.4.2\"><span class=\"toc-item-num\">3.4.2&nbsp;&nbsp;</span>评论来自终端(userClientShow)</a></span></li><li><span><a href=\"#(修改)品牌与产品类型\" data-toc-modified-id=\"(修改)品牌与产品类型-3.4.3\"><span class=\"toc-item-num\">3.4.3&nbsp;&nbsp;</span><strong>(修改)品牌与产品类型</strong></a></span></li><li><span><a href=\"#关键词\" data-toc-modified-id=\"关键词-3.4.4\"><span class=\"toc-item-num\">3.4.4&nbsp;&nbsp;</span>关键词</a></span></li><li><span><a href=\"#评分(score）\" data-toc-modified-id=\"评分(score）-3.4.5\"><span class=\"toc-item-num\">3.4.5&nbsp;&nbsp;</span>评分(score）</a></span></li><li><span><a href=\"#会员等级(userLevelName)\" data-toc-modified-id=\"会员等级(userLevelName)-3.4.6\"><span class=\"toc-item-num\">3.4.6&nbsp;&nbsp;</span>会员等级(userLevelName)</a></span></li></ul></li></ul></li><li><span><a href=\"#数据分析(结合Tableau）\" data-toc-modified-id=\"数据分析(结合Tableau）-4\"><span class=\"toc-item-num\">4&nbsp;&nbsp;</span>数据分析(结合Tableau）</a></span><ul class=\"toc-item\"><li><span><a href=\"#从关键词入手\" data-toc-modified-id=\"从关键词入手-4.1\"><span class=\"toc-item-num\">4.1&nbsp;&nbsp;</span>从关键词入手</a></span><ul class=\"toc-item\"><li><span><a href=\"#(修改)品牌&amp;关键词\" data-toc-modified-id=\"(修改)品牌&amp;关键词-4.1.1\"><span class=\"toc-item-num\">4.1.1&nbsp;&nbsp;</span><strong>(修改)品牌&amp;关键词</strong></a></span></li><li><span><a href=\"#会员等级(userLevelName)&amp;关键词\" data-toc-modified-id=\"会员等级(userLevelName)&amp;关键词-4.1.2\"><span class=\"toc-item-num\">4.1.2&nbsp;&nbsp;</span>会员等级(userLevelName)&amp;关键词</a></span></li><li><span><a href=\"#评分(score)&amp;关键词\" data-toc-modified-id=\"评分(score)&amp;关键词-4.1.3\"><span class=\"toc-item-num\">4.1.3&nbsp;&nbsp;</span>评分(score)&amp;关键词</a></span></li></ul></li><li><span><a href=\"#从情绪入手\" data-toc-modified-id=\"从情绪入手-4.2\"><span class=\"toc-item-num\">4.2&nbsp;&nbsp;</span>从情绪入手</a></span><ul class=\"toc-item\"><li><span><a href=\"#关键词&amp;polarity&amp;magnitude\" data-toc-modified-id=\"关键词&amp;polarity&amp;magnitude-4.2.1\"><span class=\"toc-item-num\">4.2.1&nbsp;&nbsp;</span>关键词&amp;polarity&amp;magnitude</a></span></li><li><span><a href=\"#从情绪预测品牌忠诚度\" data-toc-modified-id=\"从情绪预测品牌忠诚度-4.2.2\"><span class=\"toc-item-num\">4.2.2&nbsp;&nbsp;</span>从情绪预测品牌忠诚度</a></span></li><li><span><a href=\"#(修改)在时间跨度上看情感动向\" data-toc-modified-id=\"(修改)在时间跨度上看情感动向-4.2.3\"><span class=\"toc-item-num\">4.2.3&nbsp;&nbsp;</span><strong>(修改)在时间跨度上看情感动向</strong></a></span></li></ul></li></ul></li><li><span><a href=\"#一些结论\" data-toc-modified-id=\"一些结论-5\"><span class=\"toc-item-num\">5&nbsp;&nbsp;</span>一些结论</a></span></li></ul></div>"
   ]
  },
  {
   "cell_type": "markdown",
   "metadata": {},
   "source": [
    "# 读入数据集"
   ]
  },
  {
   "cell_type": "markdown",
   "metadata": {},
   "source": [
    "## 读入txt格式的数据集"
   ]
  },
  {
   "cell_type": "code",
   "execution_count": 1,
   "metadata": {},
   "outputs": [],
   "source": [
    "import pandas as pd\n",
    "import numpy as np"
   ]
  },
  {
   "cell_type": "code",
   "execution_count": 2,
   "metadata": {},
   "outputs": [
    {
     "name": "stderr",
     "output_type": "stream",
     "text": [
      "/Users/xueji/anaconda/envs/ipykernel_py3/lib/python3.6/site-packages/IPython/core/interactiveshell.py:2717: DtypeWarning: Columns (9) have mixed types. Specify dtype option on import or set low_memory=False.\n",
      "  interactivity=interactivity, compiler=compiler, result=result)\n"
     ]
    }
   ],
   "source": [
    "df1 = pd.read_table('keywords_results_all--奶粉_meta.txt')"
   ]
  },
  {
   "cell_type": "markdown",
   "metadata": {},
   "source": [
    "## 观察数据集的基本信息"
   ]
  },
  {
   "cell_type": "code",
   "execution_count": 3,
   "metadata": {},
   "outputs": [
    {
     "data": {
      "text/plain": [
       "(1564830, 22)"
      ]
     },
     "execution_count": 3,
     "metadata": {},
     "output_type": "execute_result"
    }
   ],
   "source": [
    "#共1564830条记录，22个字段\n",
    "df1.shape"
   ]
  },
  {
   "cell_type": "code",
   "execution_count": 4,
   "metadata": {},
   "outputs": [
    {
     "name": "stdout",
     "output_type": "stream",
     "text": [
      "<class 'pandas.core.frame.DataFrame'>\n",
      "RangeIndex: 1564830 entries, 0 to 1564829\n",
      "Data columns (total 22 columns):\n",
      "爬取时间(__time)              1564830 non-null object\n",
      "爬取链接(__url)               1564830 non-null object\n",
      "评价时间(create_time)         1564830 non-null object\n",
      "评分(score)                 1564830 non-null int64\n",
      "评价内容(rateContent)         1564830 non-null object\n",
      "用户地区(userProvince)        1065439 non-null object\n",
      "评论来自终端(userClientShow)    823828 non-null object\n",
      "会员等级(userLevelName)       1564830 non-null object\n",
      "评价者(author)               1564830 non-null object\n",
      "产品类型(productColor)        1416318 non-null object\n",
      "用户id(id)                  1564830 non-null int64\n",
      "消费时间(referenceTime)       1564830 non-null object\n",
      "品牌                        1564830 non-null object\n",
      "关键词                       1564830 non-null object\n",
      "polarity                  1564830 non-null float64\n",
      "magnitude                 1564830 non-null float64\n",
      "惊喜                        1564830 non-null float64\n",
      "喜爱                        1564830 non-null float64\n",
      "兴奋                        1564830 non-null float64\n",
      "厌恶                        1564830 non-null float64\n",
      "失望                        1564830 non-null float64\n",
      "愤怒                        1564830 non-null float64\n",
      "dtypes: float64(8), int64(2), object(12)\n",
      "memory usage: 262.7+ MB\n"
     ]
    }
   ],
   "source": [
    "df1.info()"
   ]
  },
  {
   "cell_type": "code",
   "execution_count": 5,
   "metadata": {},
   "outputs": [
    {
     "data": {
      "text/html": [
       "<div>\n",
       "<table border=\"1\" class=\"dataframe\">\n",
       "  <thead>\n",
       "    <tr style=\"text-align: right;\">\n",
       "      <th></th>\n",
       "      <th>0</th>\n",
       "    </tr>\n",
       "  </thead>\n",
       "  <tbody>\n",
       "    <tr>\n",
       "      <th>爬取时间(__time)</th>\n",
       "      <td>2017/3/4 20:08</td>\n",
       "    </tr>\n",
       "    <tr>\n",
       "      <th>爬取链接(__url)</th>\n",
       "      <td>https://club.jd.com/comment/productPageComment...</td>\n",
       "    </tr>\n",
       "    <tr>\n",
       "      <th>评价时间(create_time)</th>\n",
       "      <td>2017/3/4 19:48</td>\n",
       "    </tr>\n",
       "    <tr>\n",
       "      <th>评分(score)</th>\n",
       "      <td>5</td>\n",
       "    </tr>\n",
       "    <tr>\n",
       "      <th>评价内容(rateContent)</th>\n",
       "      <td>宝宝在月子中心就用这个品牌的奶粉，现在13个月了，已经用3段的啦。非常满意的产品。宝宝现在有...</td>\n",
       "    </tr>\n",
       "    <tr>\n",
       "      <th>用户地区(userProvince)</th>\n",
       "      <td>上海</td>\n",
       "    </tr>\n",
       "    <tr>\n",
       "      <th>评论来自终端(userClientShow)</th>\n",
       "      <td>NaN</td>\n",
       "    </tr>\n",
       "    <tr>\n",
       "      <th>会员等级(userLevelName)</th>\n",
       "      <td>金牌会员</td>\n",
       "    </tr>\n",
       "    <tr>\n",
       "      <th>评价者(author)</th>\n",
       "      <td>j***0</td>\n",
       "    </tr>\n",
       "    <tr>\n",
       "      <th>产品类型(productColor)</th>\n",
       "      <td>金装3段1200克三联装</td>\n",
       "    </tr>\n",
       "    <tr>\n",
       "      <th>用户id(id)</th>\n",
       "      <td>10182323425</td>\n",
       "    </tr>\n",
       "    <tr>\n",
       "      <th>消费时间(referenceTime)</th>\n",
       "      <td>2017/3/2 15:00</td>\n",
       "    </tr>\n",
       "    <tr>\n",
       "      <th>品牌</th>\n",
       "      <td>惠氏--三段</td>\n",
       "    </tr>\n",
       "    <tr>\n",
       "      <th>关键词</th>\n",
       "      <td>品牌</td>\n",
       "    </tr>\n",
       "    <tr>\n",
       "      <th>polarity</th>\n",
       "      <td>74.792</td>\n",
       "    </tr>\n",
       "    <tr>\n",
       "      <th>magnitude</th>\n",
       "      <td>0.131</td>\n",
       "    </tr>\n",
       "    <tr>\n",
       "      <th>惊喜</th>\n",
       "      <td>0.144349</td>\n",
       "    </tr>\n",
       "    <tr>\n",
       "      <th>喜爱</th>\n",
       "      <td>0.603571</td>\n",
       "    </tr>\n",
       "    <tr>\n",
       "      <th>兴奋</th>\n",
       "      <td>0</td>\n",
       "    </tr>\n",
       "    <tr>\n",
       "      <th>厌恶</th>\n",
       "      <td>0.111167</td>\n",
       "    </tr>\n",
       "    <tr>\n",
       "      <th>失望</th>\n",
       "      <td>0</td>\n",
       "    </tr>\n",
       "    <tr>\n",
       "      <th>愤怒</th>\n",
       "      <td>0.140913</td>\n",
       "    </tr>\n",
       "  </tbody>\n",
       "</table>\n",
       "</div>"
      ],
      "text/plain": [
       "                                                                        0\n",
       "爬取时间(__time)                                               2017/3/4 20:08\n",
       "爬取链接(__url)             https://club.jd.com/comment/productPageComment...\n",
       "评价时间(create_time)                                          2017/3/4 19:48\n",
       "评分(score)                                                               5\n",
       "评价内容(rateContent)       宝宝在月子中心就用这个品牌的奶粉，现在13个月了，已经用3段的啦。非常满意的产品。宝宝现在有...\n",
       "用户地区(userProvince)                                                     上海\n",
       "评论来自终端(userClientShow)                                                NaN\n",
       "会员等级(userLevelName)                                                  金牌会员\n",
       "评价者(author)                                                         j***0\n",
       "产品类型(productColor)                                           金装3段1200克三联装\n",
       "用户id(id)                                                      10182323425\n",
       "消费时间(referenceTime)                                        2017/3/2 15:00\n",
       "品牌                                                                 惠氏--三段\n",
       "关键词                                                                    品牌\n",
       "polarity                                                           74.792\n",
       "magnitude                                                           0.131\n",
       "惊喜                                                               0.144349\n",
       "喜爱                                                               0.603571\n",
       "兴奋                                                                      0\n",
       "厌恶                                                               0.111167\n",
       "失望                                                                      0\n",
       "愤怒                                                               0.140913"
      ]
     },
     "execution_count": 5,
     "metadata": {},
     "output_type": "execute_result"
    }
   ],
   "source": [
    "df1.head(1).T"
   ]
  },
  {
   "cell_type": "markdown",
   "metadata": {},
   "source": [
    "# 数据处理"
   ]
  },
  {
   "cell_type": "markdown",
   "metadata": {},
   "source": [
    "## 去除不相关的字段"
   ]
  },
  {
   "cell_type": "markdown",
   "metadata": {},
   "source": [
    "与研究目标不相关的字段：爬取时间(__time)、爬取链接(__url)、评价者(author)"
   ]
  },
  {
   "cell_type": "code",
   "execution_count": 6,
   "metadata": {},
   "outputs": [],
   "source": [
    "#去掉“不相关”字段\n",
    "df1.drop(['爬取时间(__time)','爬取链接(__url)','评价者(author)'], axis=1, inplace=True)"
   ]
  },
  {
   "cell_type": "markdown",
   "metadata": {},
   "source": [
    "## **(修改)缺失值处理**"
   ]
  },
  {
   "cell_type": "markdown",
   "metadata": {},
   "source": [
    "**修改说明：之前是用df[ ].isnull( ).sum( )依次看缺失值情况，操作重复，修改:用for循环批量看缺失值情况或者用dict形式展示，同时增加用fillna替换缺失值的部分**"
   ]
  },
  {
   "cell_type": "markdown",
   "metadata": {},
   "source": [
    "方法一：for循环，看每个字段的缺失值情况，0代表没有缺失值，其他数值表示缺失值的数量"
   ]
  },
  {
   "cell_type": "markdown",
   "metadata": {},
   "source": [
    "```\n",
    "for i in df1.columns:\n",
    "    print (i,df1[i].isnull().sum())\n",
    "```"
   ]
  },
  {
   "cell_type": "markdown",
   "metadata": {},
   "source": [
    "方法二：我们也可以用dict的形式，对应显示："
   ]
  },
  {
   "cell_type": "code",
   "execution_count": 7,
   "metadata": {
    "collapsed": true
   },
   "outputs": [],
   "source": [
    "cols = list(df1.columns)   #字段名称放到list中，以便后续处理"
   ]
  },
  {
   "cell_type": "code",
   "execution_count": 8,
   "metadata": {},
   "outputs": [
    {
     "data": {
      "text/plain": [
       "['评价时间(create_time)',\n",
       " '评分(score)',\n",
       " '评价内容(rateContent)',\n",
       " '用户地区(userProvince)',\n",
       " '评论来自终端(userClientShow)',\n",
       " '会员等级(userLevelName)',\n",
       " '产品类型(productColor)',\n",
       " '用户id(id)',\n",
       " '消费时间(referenceTime)',\n",
       " '品牌',\n",
       " '关键词',\n",
       " 'polarity',\n",
       " 'magnitude',\n",
       " '惊喜',\n",
       " '喜爱',\n",
       " '兴奋',\n",
       " '厌恶',\n",
       " '失望',\n",
       " '愤怒']"
      ]
     },
     "execution_count": 8,
     "metadata": {},
     "output_type": "execute_result"
    }
   ],
   "source": [
    "cols"
   ]
  },
  {
   "cell_type": "code",
   "execution_count": 9,
   "metadata": {},
   "outputs": [],
   "source": [
    "missing_orn = list(map(lambda i: df1[i].isnull().sum(), cols))  #判断缺失值情况也放到list中"
   ]
  },
  {
   "cell_type": "code",
   "execution_count": 10,
   "metadata": {},
   "outputs": [
    {
     "data": {
      "text/plain": [
       "[0, 0, 0, 499391, 741002, 0, 148512, 0, 0, 0, 0, 0, 0, 0, 0, 0, 0, 0, 0]"
      ]
     },
     "execution_count": 10,
     "metadata": {},
     "output_type": "execute_result"
    }
   ],
   "source": [
    "missing_orn"
   ]
  },
  {
   "cell_type": "markdown",
   "metadata": {},
   "source": [
    "现在我们有了两个list，为了便于观察，我们希望两个list里面的东西一一对应，下面展示两种方法："
   ]
  },
  {
   "cell_type": "markdown",
   "metadata": {},
   "source": [
    "```\n",
    "missing_dict={}\n",
    "for j in range(len(cols)):\n",
    "    missing_dict[cols[j]] = missing_orn[j]\n",
    "```"
   ]
  },
  {
   "cell_type": "markdown",
   "metadata": {},
   "source": [
    "或者用zip，更简洁，一句话，像这样："
   ]
  },
  {
   "cell_type": "code",
   "execution_count": 11,
   "metadata": {
    "collapsed": true
   },
   "outputs": [],
   "source": [
    "missing_dict = dict(zip(cols,missing_orn))"
   ]
  },
  {
   "cell_type": "code",
   "execution_count": 12,
   "metadata": {},
   "outputs": [
    {
     "data": {
      "text/plain": [
       "{'magnitude': 0,\n",
       " 'polarity': 0,\n",
       " '产品类型(productColor)': 148512,\n",
       " '会员等级(userLevelName)': 0,\n",
       " '关键词': 0,\n",
       " '兴奋': 0,\n",
       " '厌恶': 0,\n",
       " '品牌': 0,\n",
       " '喜爱': 0,\n",
       " '失望': 0,\n",
       " '惊喜': 0,\n",
       " '愤怒': 0,\n",
       " '消费时间(referenceTime)': 0,\n",
       " '用户id(id)': 0,\n",
       " '用户地区(userProvince)': 499391,\n",
       " '评价内容(rateContent)': 0,\n",
       " '评价时间(create_time)': 0,\n",
       " '评分(score)': 0,\n",
       " '评论来自终端(userClientShow)': 741002}"
      ]
     },
     "execution_count": 12,
     "metadata": {},
     "output_type": "execute_result"
    }
   ],
   "source": [
    "missing_dict"
   ]
  },
  {
   "cell_type": "markdown",
   "metadata": {},
   "source": [
    "以上可以发现，用户地区存在缺失值，数量为49w左右，数量庞大；终端存在缺失值，74w左右，可以先做个猜想：缺失的部分内可能包含PC端的购买数据；产品类型14w左右，也有相当一部分的占比。存在缺失值的字段均为分类型数据，且其缺失项数量占比较大，不适合删除或插补。"
   ]
  },
  {
   "cell_type": "markdown",
   "metadata": {},
   "source": [
    "为了便于后续观察，我们进行以下处理："
   ]
  },
  {
   "cell_type": "markdown",
   "metadata": {},
   "source": [
    "```\n",
    "用'unknown_place'替换'用户地区(userProvince)'中的缺失值；\n",
    "用'unknown_client'替换'评论来自终端(userClientShow)'中的缺失值；\n",
    "用'unknown_type'替换'产品类型(productColor)'中的缺失值；\n",
    "```"
   ]
  },
  {
   "cell_type": "code",
   "execution_count": 13,
   "metadata": {},
   "outputs": [],
   "source": [
    "df1 = df1.fillna({'用户地区(userProvince)':'unknown_place',\n",
    "                  '评论来自终端(userClientShow)':'unknown_client',\n",
    "                  '产品类型(productColor)':'unknown_type'})"
   ]
  },
  {
   "cell_type": "code",
   "execution_count": 14,
   "metadata": {},
   "outputs": [
    {
     "data": {
      "text/plain": [
       "[0, 0, 0, 0, 0, 0, 0, 0, 0, 0, 0, 0, 0, 0, 0, 0, 0, 0, 0]"
      ]
     },
     "execution_count": 14,
     "metadata": {},
     "output_type": "execute_result"
    }
   ],
   "source": [
    "#查看是否替换成功（若结果都为0，则表示没有缺失值，替换成功：\n",
    "[df1[i].isnull().sum() for i in cols]"
   ]
  },
  {
   "cell_type": "markdown",
   "metadata": {},
   "source": [
    "## **(修改)重复值处理**"
   ]
  },
  {
   "cell_type": "markdown",
   "metadata": {},
   "source": [
    "**修改说明：修改前以用户id为角度，删除用户id重复的记录，存在的问题是：若一个用户在不同时间购买，同一品牌评价可能是不同的，或者涉及到不同品牌，关键词也可能是不同的，仅因为用户id重复就删除记录，是不够准确的**"
   ]
  },
  {
   "cell_type": "markdown",
   "metadata": {},
   "source": [
    "**“修改前”**"
   ]
  },
  {
   "cell_type": "markdown",
   "metadata": {
    "collapsed": true
   },
   "source": [
    "```\n",
    "df1.drop_duplicates(['用户id(id)'],inplace=True) \n",
    "df1.shape\n",
    "```"
   ]
  },
  {
   "cell_type": "markdown",
   "metadata": {},
   "source": [
    "**“修改后（增加一个消费时间的考量）”**"
   ]
  },
  {
   "cell_type": "code",
   "execution_count": 15,
   "metadata": {},
   "outputs": [
    {
     "data": {
      "text/plain": [
       "False    1081851\n",
       "True      482979\n",
       "dtype: int64"
      ]
     },
     "execution_count": 15,
     "metadata": {},
     "output_type": "execute_result"
    }
   ],
   "source": [
    "df1.duplicated(['用户id(id)', '消费时间(referenceTime)']).value_counts()"
   ]
  },
  {
   "cell_type": "code",
   "execution_count": 16,
   "metadata": {},
   "outputs": [],
   "source": [
    "df1.drop_duplicates(['用户id(id)', '消费时间(referenceTime)'],inplace=True)"
   ]
  },
  {
   "cell_type": "code",
   "execution_count": 17,
   "metadata": {},
   "outputs": [
    {
     "data": {
      "text/plain": [
       "(1081851, 19)"
      ]
     },
     "execution_count": 17,
     "metadata": {},
     "output_type": "execute_result"
    }
   ],
   "source": [
    "df1.shape"
   ]
  },
  {
   "cell_type": "markdown",
   "metadata": {},
   "source": [
    "## 异常值检查与处理"
   ]
  },
  {
   "cell_type": "markdown",
   "metadata": {},
   "source": [
    "### **(修改)用户地区(userProvince)**"
   ]
  },
  {
   "cell_type": "markdown",
   "metadata": {},
   "source": [
    "**修改说明：之前通过条件筛选查看地区异常值后，用DataFrame.drop（index）的方法处理掉，由于要处理的项目前只有7项，所以列举index值不成问题，但考虑到可能数据项会增多，列举index不切实际，为增加处理方法的普适性，用条件处理更合适，故修改。**"
   ]
  },
  {
   "cell_type": "markdown",
   "metadata": {},
   "source": [
    "我们可以发现除用户地区缺失数据外，抓取到的评论top2来自北京和广东且从数量级上看远超其他省市，我们也可以近似的推断，top2销量也是这两个地区"
   ]
  },
  {
   "cell_type": "code",
   "execution_count": 18,
   "metadata": {
    "scrolled": true
   },
   "outputs": [
    {
     "data": {
      "text/plain": [
       "unknown_place    334426\n",
       "北京               131008\n",
       "广东               125053\n",
       "江苏                62290\n",
       "上海                49777\n",
       "四川                39483\n",
       "山东                35338\n",
       "湖北                26505\n",
       "浙江                25685\n",
       "河北                24683\n",
       "河南                22145\n",
       "安徽                21083\n",
       "天津                20830\n",
       "福建                20465\n",
       "辽宁                17851\n",
       "陕西                16826\n",
       "湖南                13998\n",
       "广西                12416\n",
       "重庆                11582\n",
       "江西                 9629\n",
       "山西                 9565\n",
       "云南                 7443\n",
       "黑龙江                6516\n",
       "吉林                 5700\n",
       "海南                 5153\n",
       "贵州                 4652\n",
       "内蒙古                4617\n",
       "甘肃                 4485\n",
       "新疆                 4247\n",
       "宁夏                 2765\n",
       "青海                 2610\n",
       "西藏                 2480\n",
       "台湾                  242\n",
       "钓鱼岛                 151\n",
       "香港                  127\n",
       "澳门                   18\n",
       "县城内                   4\n",
       "凤凰街道                  1\n",
       "京泰路街道                 1\n",
       "野徐镇                   1\n",
       "Name: 用户地区(userProvince), dtype: int64"
      ]
     },
     "execution_count": 18,
     "metadata": {},
     "output_type": "execute_result"
    }
   ],
   "source": [
    "df1['用户地区(userProvince)'].value_counts()   "
   ]
  },
  {
   "cell_type": "markdown",
   "metadata": {},
   "source": [
    "以上异常选项有：县城内、野徐镇、凤凰街道、京泰路街道（钓鱼岛是中国滴，先不处理，哈哈）与此同时，我们可以观察一下地区异常值存在于哪几条记录中"
   ]
  },
  {
   "cell_type": "code",
   "execution_count": 19,
   "metadata": {
    "scrolled": true
   },
   "outputs": [
    {
     "data": {
      "text/html": [
       "<div>\n",
       "<table border=\"1\" class=\"dataframe\">\n",
       "  <thead>\n",
       "    <tr style=\"text-align: right;\">\n",
       "      <th></th>\n",
       "      <th>评价时间(create_time)</th>\n",
       "      <th>评分(score)</th>\n",
       "      <th>评价内容(rateContent)</th>\n",
       "      <th>用户地区(userProvince)</th>\n",
       "      <th>评论来自终端(userClientShow)</th>\n",
       "      <th>会员等级(userLevelName)</th>\n",
       "      <th>产品类型(productColor)</th>\n",
       "      <th>用户id(id)</th>\n",
       "      <th>消费时间(referenceTime)</th>\n",
       "      <th>品牌</th>\n",
       "      <th>关键词</th>\n",
       "      <th>polarity</th>\n",
       "      <th>magnitude</th>\n",
       "      <th>惊喜</th>\n",
       "      <th>喜爱</th>\n",
       "      <th>兴奋</th>\n",
       "      <th>厌恶</th>\n",
       "      <th>失望</th>\n",
       "      <th>愤怒</th>\n",
       "    </tr>\n",
       "  </thead>\n",
       "  <tbody>\n",
       "    <tr>\n",
       "      <th>249939</th>\n",
       "      <td>2014/8/17 5:17</td>\n",
       "      <td>5</td>\n",
       "      <td>大品牌~不错</td>\n",
       "      <td>野徐镇</td>\n",
       "      <td>unknown_client</td>\n",
       "      <td>铜牌会员</td>\n",
       "      <td>900g 桶装</td>\n",
       "      <td>399091079</td>\n",
       "      <td>2014/8/4 23:54</td>\n",
       "      <td>惠氏--三段</td>\n",
       "      <td>品牌</td>\n",
       "      <td>69.020</td>\n",
       "      <td>0.100</td>\n",
       "      <td>0.252613</td>\n",
       "      <td>0.437587</td>\n",
       "      <td>0.000000</td>\n",
       "      <td>0.140649</td>\n",
       "      <td>0.000000</td>\n",
       "      <td>0.169151</td>\n",
       "    </tr>\n",
       "    <tr>\n",
       "      <th>288884</th>\n",
       "      <td>2014/3/5 3:25</td>\n",
       "      <td>5</td>\n",
       "      <td>质量放心宝宝喜欢喝</td>\n",
       "      <td>京泰路街道</td>\n",
       "      <td>unknown_client</td>\n",
       "      <td>铜牌会员</td>\n",
       "      <td>900g 桶装</td>\n",
       "      <td>288110827</td>\n",
       "      <td>2014/2/18 15:56</td>\n",
       "      <td>惠氏--三段</td>\n",
       "      <td>质量</td>\n",
       "      <td>86.766</td>\n",
       "      <td>0.473</td>\n",
       "      <td>0.393918</td>\n",
       "      <td>0.473742</td>\n",
       "      <td>0.000000</td>\n",
       "      <td>0.085359</td>\n",
       "      <td>0.000000</td>\n",
       "      <td>0.046981</td>\n",
       "    </tr>\n",
       "    <tr>\n",
       "      <th>925925</th>\n",
       "      <td>2015/7/14 8:50</td>\n",
       "      <td>5</td>\n",
       "      <td>质量还不错使用中</td>\n",
       "      <td>县城内</td>\n",
       "      <td>来自京东Android客户端</td>\n",
       "      <td>银牌会员</td>\n",
       "      <td>3段900g</td>\n",
       "      <td>845039446</td>\n",
       "      <td>2015/7/12 16:23</td>\n",
       "      <td>雅培--三段</td>\n",
       "      <td>质量</td>\n",
       "      <td>69.747</td>\n",
       "      <td>0.127</td>\n",
       "      <td>0.599127</td>\n",
       "      <td>0.098343</td>\n",
       "      <td>0.000000</td>\n",
       "      <td>0.078355</td>\n",
       "      <td>0.000000</td>\n",
       "      <td>0.224175</td>\n",
       "    </tr>\n",
       "    <tr>\n",
       "      <th>955695</th>\n",
       "      <td>2015/4/19 21:33</td>\n",
       "      <td>5</td>\n",
       "      <td>第三次买了，很划算的</td>\n",
       "      <td>县城内</td>\n",
       "      <td>unknown_client</td>\n",
       "      <td>银牌会员</td>\n",
       "      <td>3段900g</td>\n",
       "      <td>666785074</td>\n",
       "      <td>2015/4/18 5:53</td>\n",
       "      <td>雅培--三段</td>\n",
       "      <td>划算</td>\n",
       "      <td>75.865</td>\n",
       "      <td>0.186</td>\n",
       "      <td>0.438500</td>\n",
       "      <td>0.320150</td>\n",
       "      <td>0.000000</td>\n",
       "      <td>0.128640</td>\n",
       "      <td>0.000000</td>\n",
       "      <td>0.112710</td>\n",
       "    </tr>\n",
       "    <tr>\n",
       "      <th>961599</th>\n",
       "      <td>2015/3/24 23:42</td>\n",
       "      <td>5</td>\n",
       "      <td>大品牌信赖，更信赖京东的送货速度和送货人员</td>\n",
       "      <td>县城内</td>\n",
       "      <td>unknown_client</td>\n",
       "      <td>银牌会员</td>\n",
       "      <td>3段400g</td>\n",
       "      <td>621857798</td>\n",
       "      <td>2015/3/23 2:00</td>\n",
       "      <td>雅培--三段</td>\n",
       "      <td>品牌</td>\n",
       "      <td>69.000</td>\n",
       "      <td>0.700</td>\n",
       "      <td>0.000000</td>\n",
       "      <td>0.690000</td>\n",
       "      <td>0.000000</td>\n",
       "      <td>0.163370</td>\n",
       "      <td>0.000000</td>\n",
       "      <td>0.146630</td>\n",
       "    </tr>\n",
       "    <tr>\n",
       "      <th>961600</th>\n",
       "      <td>2015/3/24 23:41</td>\n",
       "      <td>5</td>\n",
       "      <td>正品行货，价格便宜，送货速度快</td>\n",
       "      <td>县城内</td>\n",
       "      <td>unknown_client</td>\n",
       "      <td>银牌会员</td>\n",
       "      <td>3段900g</td>\n",
       "      <td>621857513</td>\n",
       "      <td>2015/3/23 6:37</td>\n",
       "      <td>雅培--三段</td>\n",
       "      <td>价格</td>\n",
       "      <td>86.767</td>\n",
       "      <td>0.441</td>\n",
       "      <td>0.000000</td>\n",
       "      <td>0.867670</td>\n",
       "      <td>0.000000</td>\n",
       "      <td>0.000000</td>\n",
       "      <td>0.104144</td>\n",
       "      <td>0.028186</td>\n",
       "    </tr>\n",
       "    <tr>\n",
       "      <th>999110</th>\n",
       "      <td>2014/9/8 13:28</td>\n",
       "      <td>5</td>\n",
       "      <td>包装完好，没有碰撞的痕迹</td>\n",
       "      <td>凤凰街道</td>\n",
       "      <td>unknown_client</td>\n",
       "      <td>铜牌会员</td>\n",
       "      <td>新包装3段900克</td>\n",
       "      <td>416532800</td>\n",
       "      <td>2014/8/20 17:44</td>\n",
       "      <td>雅培--三段</td>\n",
       "      <td>包装</td>\n",
       "      <td>63.845</td>\n",
       "      <td>0.377</td>\n",
       "      <td>0.363916</td>\n",
       "      <td>0.000000</td>\n",
       "      <td>0.274533</td>\n",
       "      <td>0.000000</td>\n",
       "      <td>0.195960</td>\n",
       "      <td>0.165590</td>\n",
       "    </tr>\n",
       "  </tbody>\n",
       "</table>\n",
       "</div>"
      ],
      "text/plain": [
       "       评价时间(create_time)  评分(score)      评价内容(rateContent) 用户地区(userProvince)  \\\n",
       "249939    2014/8/17 5:17          5                 大品牌~不错                野徐镇   \n",
       "288884     2014/3/5 3:25          5              质量放心宝宝喜欢喝              京泰路街道   \n",
       "925925    2015/7/14 8:50          5               质量还不错使用中                县城内   \n",
       "955695   2015/4/19 21:33          5             第三次买了，很划算的                县城内   \n",
       "961599   2015/3/24 23:42          5  大品牌信赖，更信赖京东的送货速度和送货人员                县城内   \n",
       "961600   2015/3/24 23:41          5        正品行货，价格便宜，送货速度快                县城内   \n",
       "999110    2014/9/8 13:28          5           包装完好，没有碰撞的痕迹               凤凰街道   \n",
       "\n",
       "       评论来自终端(userClientShow) 会员等级(userLevelName) 产品类型(productColor)  \\\n",
       "249939         unknown_client                铜牌会员            900g 桶装   \n",
       "288884         unknown_client                铜牌会员            900g 桶装   \n",
       "925925         来自京东Android客户端                银牌会员             3段900g   \n",
       "955695         unknown_client                银牌会员             3段900g   \n",
       "961599         unknown_client                银牌会员             3段400g   \n",
       "961600         unknown_client                银牌会员             3段900g   \n",
       "999110         unknown_client                铜牌会员          新包装3段900克   \n",
       "\n",
       "         用户id(id) 消费时间(referenceTime)      品牌 关键词  polarity  magnitude  \\\n",
       "249939  399091079      2014/8/4 23:54  惠氏--三段  品牌    69.020      0.100   \n",
       "288884  288110827     2014/2/18 15:56  惠氏--三段  质量    86.766      0.473   \n",
       "925925  845039446     2015/7/12 16:23  雅培--三段  质量    69.747      0.127   \n",
       "955695  666785074      2015/4/18 5:53  雅培--三段  划算    75.865      0.186   \n",
       "961599  621857798      2015/3/23 2:00  雅培--三段  品牌    69.000      0.700   \n",
       "961600  621857513      2015/3/23 6:37  雅培--三段  价格    86.767      0.441   \n",
       "999110  416532800     2014/8/20 17:44  雅培--三段  包装    63.845      0.377   \n",
       "\n",
       "              惊喜        喜爱        兴奋        厌恶        失望        愤怒  \n",
       "249939  0.252613  0.437587  0.000000  0.140649  0.000000  0.169151  \n",
       "288884  0.393918  0.473742  0.000000  0.085359  0.000000  0.046981  \n",
       "925925  0.599127  0.098343  0.000000  0.078355  0.000000  0.224175  \n",
       "955695  0.438500  0.320150  0.000000  0.128640  0.000000  0.112710  \n",
       "961599  0.000000  0.690000  0.000000  0.163370  0.000000  0.146630  \n",
       "961600  0.000000  0.867670  0.000000  0.000000  0.104144  0.028186  \n",
       "999110  0.363916  0.000000  0.274533  0.000000  0.195960  0.165590  "
      ]
     },
     "execution_count": 19,
     "metadata": {},
     "output_type": "execute_result"
    }
   ],
   "source": [
    "df1[df1['用户地区(userProvince)'].isin(['县城内','野徐镇','凤凰街道','京泰路街道'])]"
   ]
  },
  {
   "cell_type": "markdown",
   "metadata": {},
   "source": [
    "由于地区异常值无法判定到底是哪个区域的，无法修改，且数据量不大（才7条），故作删除处理"
   ]
  },
  {
   "cell_type": "markdown",
   "metadata": {},
   "source": [
    "**“修改前”**"
   ]
  },
  {
   "cell_type": "markdown",
   "metadata": {
    "collapsed": true
   },
   "source": [
    "```\n",
    "df1.drop([249939,288884,925925,955695,961599,961600,999110],inplace=True) \n",
    "```"
   ]
  },
  {
   "cell_type": "markdown",
   "metadata": {},
   "source": [
    "**“修改后”**"
   ]
  },
  {
   "cell_type": "code",
   "execution_count": 20,
   "metadata": {
    "collapsed": true
   },
   "outputs": [],
   "source": [
    "df1 = df1[~df1['用户地区(userProvince)'].isin(['县城内','野徐镇','凤凰街道','京泰路街道'])]"
   ]
  },
  {
   "cell_type": "code",
   "execution_count": 21,
   "metadata": {},
   "outputs": [
    {
     "data": {
      "text/plain": [
       "unknown_place    334426\n",
       "北京               131008\n",
       "广东               125053\n",
       "江苏                62290\n",
       "上海                49777\n",
       "四川                39483\n",
       "山东                35338\n",
       "湖北                26505\n",
       "浙江                25685\n",
       "河北                24683\n",
       "河南                22145\n",
       "安徽                21083\n",
       "天津                20830\n",
       "福建                20465\n",
       "辽宁                17851\n",
       "陕西                16826\n",
       "湖南                13998\n",
       "广西                12416\n",
       "重庆                11582\n",
       "江西                 9629\n",
       "山西                 9565\n",
       "云南                 7443\n",
       "黑龙江                6516\n",
       "吉林                 5700\n",
       "海南                 5153\n",
       "贵州                 4652\n",
       "内蒙古                4617\n",
       "甘肃                 4485\n",
       "新疆                 4247\n",
       "宁夏                 2765\n",
       "青海                 2610\n",
       "西藏                 2480\n",
       "台湾                  242\n",
       "钓鱼岛                 151\n",
       "香港                  127\n",
       "澳门                   18\n",
       "Name: 用户地区(userProvince), dtype: int64"
      ]
     },
     "execution_count": 21,
     "metadata": {},
     "output_type": "execute_result"
    }
   ],
   "source": [
    "df1['用户地区(userProvince)'].value_counts()"
   ]
  },
  {
   "cell_type": "markdown",
   "metadata": {},
   "source": [
    "我们可以看出地区异常值已经被处理掉了"
   ]
  },
  {
   "cell_type": "markdown",
   "metadata": {},
   "source": [
    "### 评论来自终端(userClientShow)"
   ]
  },
  {
   "cell_type": "markdown",
   "metadata": {},
   "source": [
    "观察终端字段内是否有异常值（京东Symbian客户端 数据量虽小，考虑到多样性，保留）"
   ]
  },
  {
   "cell_type": "code",
   "execution_count": 22,
   "metadata": {
    "scrolled": true
   },
   "outputs": [
    {
     "data": {
      "text/plain": [
       "unknown_client    473471\n",
       "来自京东Android客户端    415144\n",
       "来自京东iPhone客户端     164419\n",
       "来自微信购物             16500\n",
       "来自京东iPad客户端         9719\n",
       "来自手机QQ购物            2586\n",
       "来自京东Symbian客户端         5\n",
       "Name: 评论来自终端(userClientShow), dtype: int64"
      ]
     },
     "execution_count": 22,
     "metadata": {},
     "output_type": "execute_result"
    }
   ],
   "source": [
    "df1['评论来自终端(userClientShow)'].value_counts()   "
   ]
  },
  {
   "cell_type": "markdown",
   "metadata": {},
   "source": [
    "从以上数据可以看出，京东客户端在Android和iphone的优势性占比，还有极大部分是未统计出来的终端类型，猜想里面可能包含PC端的购买数据。"
   ]
  },
  {
   "cell_type": "markdown",
   "metadata": {},
   "source": [
    "### **(修改)品牌与产品类型**"
   ]
  },
  {
   "cell_type": "markdown",
   "metadata": {},
   "source": [
    "**修改说明：观察发现产品类型内容中有过多重复、不准确的描述，而品牌内容中又掺杂了类型，将“纯品牌”内容筛选出来能得到更准确的描述，下文分为：“修改前”和“修改后”，意在体现效果差别**"
   ]
  },
  {
   "cell_type": "markdown",
   "metadata": {},
   "source": [
    "**“修改前”：**"
   ]
  },
  {
   "cell_type": "code",
   "execution_count": 23,
   "metadata": {},
   "outputs": [
    {
     "data": {
      "text/plain": [
       "美素--三段    273941\n",
       "惠氏--三段    206075\n",
       "优诺能       140251\n",
       "雅培--三段    139364\n",
       "惠氏--1段     68521\n",
       "惠氏--二段     62773\n",
       "美素1段       61198\n",
       "惠氏--四段     49188\n",
       "雅培--四段     45306\n",
       "美素--四段     35227\n",
       "Name: 品牌, dtype: int64"
      ]
     },
     "execution_count": 23,
     "metadata": {},
     "output_type": "execute_result"
    }
   ],
   "source": [
    "df1['品牌'].value_counts()   "
   ]
  },
  {
   "cell_type": "markdown",
   "metadata": {},
   "source": [
    "无品牌重复或异常，“明星”品牌（100k以上）有：“美素--三段”、“惠氏--三段”、“优诺能”、“雅培--三段”"
   ]
  },
  {
   "cell_type": "code",
   "execution_count": 24,
   "metadata": {},
   "outputs": [],
   "source": [
    "grouped1 = df1.groupby(['品牌','产品类型(productColor)'])"
   ]
  },
  {
   "cell_type": "code",
   "execution_count": 25,
   "metadata": {},
   "outputs": [
    {
     "data": {
      "text/plain": [
       "品牌      产品类型(productColor)\n",
       "优诺能     1 段罐装                    24\n",
       "        1段900                   112\n",
       "        1段900克                  653\n",
       "        1段听装                   6474\n",
       "        2 段白金版                    5\n",
       "        2段 罐装                    28\n",
       "        2段听装                   9309\n",
       "        3段 新包装罐装               1076\n",
       "        3段 罐装                 19238\n",
       "        3段 老包装箱装（6罐）            273\n",
       "        3段6听箱                   590\n",
       "        3段800                   280\n",
       "        3段800*6                  33\n",
       "        3段800克                 1777\n",
       "        3段800克*6                177\n",
       "        3段听装                  49141\n",
       "        3段箱装                    361\n",
       "        3段箱装（6罐）                828\n",
       "        4段 新包装罐装                 82\n",
       "        4段 罐装                  1642\n",
       "        4段听装                   8436\n",
       "        unknown_type          14100\n",
       "        听装                     3741\n",
       "        新包装 听装                  247\n",
       "        新包装罐装                    18\n",
       "        白金版                    1444\n",
       "        白金版2段                   375\n",
       "        箱装（6听）                  577\n",
       "        箱装（6罐）                  212\n",
       "        罐装                    18978\n",
       "                              ...  \n",
       "雅培--三段  3段1200g*4 （整箱装）        1825\n",
       "        3段1200克                4038\n",
       "        3段1200克（400克*3袋）       5138\n",
       "        3段2700克                 610\n",
       "        3段400g                11029\n",
       "        3段400g*12 （整箱装）         364\n",
       "        3段400克                 1692\n",
       "        3段400克*12 （整箱装）         123\n",
       "        3段900g                42584\n",
       "        3段900克                 1428\n",
       "        3段950g 加量装             8549\n",
       "        3段950克 (电商加量装)         4980\n",
       "        3段950克 电商加量装           6107\n",
       "        3段950克*6（整箱装）           192\n",
       "        3段三联装1200克*4 （整箱装）     2910\n",
       "        unknown_type              5\n",
       "        囤货特惠装                    26\n",
       "        新包装3段1200克             6298\n",
       "        新包装3段400克              1831\n",
       "        新包装3段900克             12719\n",
       "雅培--四段  4段1200g                5613\n",
       "        4段1200克                3344\n",
       "        4段400g                 2209\n",
       "        4段400克                  777\n",
       "        4段900g                 1010\n",
       "        4段900克                10105\n",
       "        unknown_type           8900\n",
       "        雅培4段400克               3311\n",
       "        雅培4段900克               5612\n",
       "        雅培4段三联装                4425\n",
       "dtype: int64"
      ]
     },
     "execution_count": 25,
     "metadata": {},
     "output_type": "execute_result"
    }
   ],
   "source": [
    "grouped1.size()"
   ]
  },
  {
   "cell_type": "markdown",
   "metadata": {},
   "source": [
    "发现产品类型中有多处意指相同的商品描述，比如，“1段900”与“1段900克”应该意指相同，'3段800'与'3段800克'相同，由于此类需合并修改的数据量巨大且作者对于奶粉产品类型的了解不够深入，仅在下文具举一例，暂不作全数据替换"
   ]
  },
  {
   "cell_type": "code",
   "execution_count": 26,
   "metadata": {
    "collapsed": true
   },
   "outputs": [],
   "source": [
    "#将'1段900’替换成'1段900克' (注意：替换前，“1段900”数量为112，“1段900克”数量为653)\n",
    "df1['产品类型(productColor)'].replace('1段900','1段900克',inplace=True)"
   ]
  },
  {
   "cell_type": "code",
   "execution_count": 27,
   "metadata": {
    "collapsed": true
   },
   "outputs": [],
   "source": [
    "grouped2 = df1.groupby(['品牌','产品类型(productColor)'])"
   ]
  },
  {
   "cell_type": "code",
   "execution_count": 28,
   "metadata": {},
   "outputs": [
    {
     "data": {
      "text/plain": [
       "品牌      产品类型(productColor)\n",
       "优诺能     1 段罐装                    24\n",
       "        1段900克                  765\n",
       "        1段听装                   6474\n",
       "        2 段白金版                    5\n",
       "        2段 罐装                    28\n",
       "        2段听装                   9309\n",
       "        3段 新包装罐装               1076\n",
       "        3段 罐装                 19238\n",
       "        3段 老包装箱装（6罐）            273\n",
       "        3段6听箱                   590\n",
       "        3段800                   280\n",
       "        3段800*6                  33\n",
       "        3段800克                 1777\n",
       "        3段800克*6                177\n",
       "        3段听装                  49141\n",
       "        3段箱装                    361\n",
       "        3段箱装（6罐）                828\n",
       "        4段 新包装罐装                 82\n",
       "        4段 罐装                  1642\n",
       "        4段听装                   8436\n",
       "        unknown_type          14100\n",
       "        听装                     3741\n",
       "        新包装 听装                  247\n",
       "        新包装罐装                    18\n",
       "        白金版                    1444\n",
       "        白金版2段                   375\n",
       "        箱装（6听）                  577\n",
       "        箱装（6罐）                  212\n",
       "        罐装                    18978\n",
       "        老包装箱装（6罐）                 5\n",
       "                              ...  \n",
       "雅培--三段  3段1200g*4 （整箱装）        1825\n",
       "        3段1200克                4038\n",
       "        3段1200克（400克*3袋）       5138\n",
       "        3段2700克                 610\n",
       "        3段400g                11029\n",
       "        3段400g*12 （整箱装）         364\n",
       "        3段400克                 1692\n",
       "        3段400克*12 （整箱装）         123\n",
       "        3段900g                42584\n",
       "        3段900克                 1428\n",
       "        3段950g 加量装             8549\n",
       "        3段950克 (电商加量装)         4980\n",
       "        3段950克 电商加量装           6107\n",
       "        3段950克*6（整箱装）           192\n",
       "        3段三联装1200克*4 （整箱装）     2910\n",
       "        unknown_type              5\n",
       "        囤货特惠装                    26\n",
       "        新包装3段1200克             6298\n",
       "        新包装3段400克              1831\n",
       "        新包装3段900克             12719\n",
       "雅培--四段  4段1200g                5613\n",
       "        4段1200克                3344\n",
       "        4段400g                 2209\n",
       "        4段400克                  777\n",
       "        4段900g                 1010\n",
       "        4段900克                10105\n",
       "        unknown_type           8900\n",
       "        雅培4段400克               3311\n",
       "        雅培4段900克               5612\n",
       "        雅培4段三联装                4425\n",
       "dtype: int64"
      ]
     },
     "execution_count": 28,
     "metadata": {},
     "output_type": "execute_result"
    }
   ],
   "source": [
    "grouped2.size()        #替换后，“1段900”消失，“1段900克”数量变为765，表明替换成功"
   ]
  },
  {
   "cell_type": "markdown",
   "metadata": {},
   "source": [
    "**“修改后”：**"
   ]
  },
  {
   "cell_type": "code",
   "execution_count": 29,
   "metadata": {
    "collapsed": true
   },
   "outputs": [],
   "source": [
    "pure = df1['品牌'].str.findall(r'美素|惠氏|优诺能|雅培').str[0]"
   ]
  },
  {
   "cell_type": "code",
   "execution_count": 30,
   "metadata": {},
   "outputs": [
    {
     "data": {
      "text/plain": [
       "惠氏     386557\n",
       "美素     370366\n",
       "雅培     184670\n",
       "优诺能    140251\n",
       "Name: 品牌, dtype: int64"
      ]
     },
     "execution_count": 30,
     "metadata": {},
     "output_type": "execute_result"
    }
   ],
   "source": [
    "pure.value_counts()"
   ]
  },
  {
   "cell_type": "markdown",
   "metadata": {},
   "source": [
    "**插入名为“pure”的一列在“品牌”字段后，意为纯品牌**"
   ]
  },
  {
   "cell_type": "code",
   "execution_count": 31,
   "metadata": {
    "collapsed": true
   },
   "outputs": [],
   "source": [
    "df1.insert(10,'pure',pure)"
   ]
  },
  {
   "cell_type": "code",
   "execution_count": 32,
   "metadata": {},
   "outputs": [
    {
     "data": {
      "text/plain": [
       "Index(['评价时间(create_time)', '评分(score)', '评价内容(rateContent)',\n",
       "       '用户地区(userProvince)', '评论来自终端(userClientShow)', '会员等级(userLevelName)',\n",
       "       '产品类型(productColor)', '用户id(id)', '消费时间(referenceTime)', '品牌', 'pure',\n",
       "       '关键词', 'polarity', 'magnitude', '惊喜', '喜爱', '兴奋', '厌恶', '失望', '愤怒'],\n",
       "      dtype='object')"
      ]
     },
     "execution_count": 32,
     "metadata": {},
     "output_type": "execute_result"
    }
   ],
   "source": [
    "df1.columns"
   ]
  },
  {
   "cell_type": "code",
   "execution_count": 33,
   "metadata": {},
   "outputs": [
    {
     "data": {
      "text/html": [
       "<div>\n",
       "<table border=\"1\" class=\"dataframe\">\n",
       "  <thead>\n",
       "    <tr style=\"text-align: right;\">\n",
       "      <th></th>\n",
       "      <th>评价时间(create_time)</th>\n",
       "      <th>评分(score)</th>\n",
       "      <th>评价内容(rateContent)</th>\n",
       "      <th>用户地区(userProvince)</th>\n",
       "      <th>评论来自终端(userClientShow)</th>\n",
       "      <th>会员等级(userLevelName)</th>\n",
       "      <th>产品类型(productColor)</th>\n",
       "      <th>用户id(id)</th>\n",
       "      <th>消费时间(referenceTime)</th>\n",
       "      <th>品牌</th>\n",
       "      <th>pure</th>\n",
       "      <th>关键词</th>\n",
       "      <th>polarity</th>\n",
       "      <th>magnitude</th>\n",
       "      <th>惊喜</th>\n",
       "      <th>喜爱</th>\n",
       "      <th>兴奋</th>\n",
       "      <th>厌恶</th>\n",
       "      <th>失望</th>\n",
       "      <th>愤怒</th>\n",
       "    </tr>\n",
       "  </thead>\n",
       "  <tbody>\n",
       "    <tr>\n",
       "      <th>0</th>\n",
       "      <td>2017/3/4 19:48</td>\n",
       "      <td>5</td>\n",
       "      <td>宝宝在月子中心就用这个品牌的奶粉，现在13个月了，已经用3段的啦。非常满意的产品。宝宝现在有...</td>\n",
       "      <td>上海</td>\n",
       "      <td>unknown_client</td>\n",
       "      <td>金牌会员</td>\n",
       "      <td>金装3段1200克三联装</td>\n",
       "      <td>10182323425</td>\n",
       "      <td>2017/3/2 15:00</td>\n",
       "      <td>惠氏--三段</td>\n",
       "      <td>惠氏</td>\n",
       "      <td>品牌</td>\n",
       "      <td>74.792</td>\n",
       "      <td>0.131</td>\n",
       "      <td>0.144349</td>\n",
       "      <td>0.603571</td>\n",
       "      <td>0.000000</td>\n",
       "      <td>0.111167</td>\n",
       "      <td>0.0</td>\n",
       "      <td>0.140913</td>\n",
       "    </tr>\n",
       "    <tr>\n",
       "      <th>3</th>\n",
       "      <td>2017/3/4 19:39</td>\n",
       "      <td>5</td>\n",
       "      <td>一直买 这个 越来越贵了</td>\n",
       "      <td>unknown_place</td>\n",
       "      <td>unknown_client</td>\n",
       "      <td>银牌会员</td>\n",
       "      <td>金装3段1200克三联装</td>\n",
       "      <td>10182297636</td>\n",
       "      <td>2017/2/22 20:15</td>\n",
       "      <td>惠氏--三段</td>\n",
       "      <td>惠氏</td>\n",
       "      <td>贵</td>\n",
       "      <td>6.250</td>\n",
       "      <td>1.000</td>\n",
       "      <td>0.037375</td>\n",
       "      <td>0.000000</td>\n",
       "      <td>0.025125</td>\n",
       "      <td>0.194062</td>\n",
       "      <td>0.0</td>\n",
       "      <td>0.743437</td>\n",
       "    </tr>\n",
       "  </tbody>\n",
       "</table>\n",
       "</div>"
      ],
      "text/plain": [
       "  评价时间(create_time)  评分(score)  \\\n",
       "0    2017/3/4 19:48          5   \n",
       "3    2017/3/4 19:39          5   \n",
       "\n",
       "                                   评价内容(rateContent) 用户地区(userProvince)  \\\n",
       "0  宝宝在月子中心就用这个品牌的奶粉，现在13个月了，已经用3段的啦。非常满意的产品。宝宝现在有...                 上海   \n",
       "3                                       一直买 这个 越来越贵了      unknown_place   \n",
       "\n",
       "  评论来自终端(userClientShow) 会员等级(userLevelName) 产品类型(productColor)     用户id(id)  \\\n",
       "0         unknown_client                金牌会员       金装3段1200克三联装  10182323425   \n",
       "3         unknown_client                银牌会员       金装3段1200克三联装  10182297636   \n",
       "\n",
       "  消费时间(referenceTime)      品牌 pure 关键词  polarity  magnitude        惊喜  \\\n",
       "0      2017/3/2 15:00  惠氏--三段   惠氏  品牌    74.792      0.131  0.144349   \n",
       "3     2017/2/22 20:15  惠氏--三段   惠氏   贵     6.250      1.000  0.037375   \n",
       "\n",
       "         喜爱        兴奋        厌恶   失望        愤怒  \n",
       "0  0.603571  0.000000  0.111167  0.0  0.140913  \n",
       "3  0.000000  0.025125  0.194062  0.0  0.743437  "
      ]
     },
     "execution_count": 33,
     "metadata": {},
     "output_type": "execute_result"
    }
   ],
   "source": [
    "df1.head(2)"
   ]
  },
  {
   "cell_type": "markdown",
   "metadata": {},
   "source": [
    "### 关键词"
   ]
  },
  {
   "cell_type": "code",
   "execution_count": 34,
   "metadata": {},
   "outputs": [
    {
     "data": {
      "text/plain": [
       "价格      197680\n",
       "质量      166475\n",
       "便宜      108822\n",
       "品牌       96820\n",
       "快递       67812\n",
       "物流       66298\n",
       "包装       52947\n",
       "实惠       44082\n",
       "味道       42278\n",
       "服务       36074\n",
       "划算       27964\n",
       "品质       24608\n",
       "性价比      20953\n",
       "配方       17201\n",
       "生产日期     16718\n",
       "贵        16177\n",
       "口味       15679\n",
       "营养       12511\n",
       "价钱        9306\n",
       "口感        8299\n",
       "香味        5764\n",
       "促销        4317\n",
       "假货        4071\n",
       "客服        3940\n",
       "保质期       2935\n",
       "订单        2380\n",
       "奶源        1867\n",
       "过期        1565\n",
       "断货        1461\n",
       "售后        1079\n",
       "产地         798\n",
       "成分         592\n",
       "正货         558\n",
       "有效期        447\n",
       "溶解性        388\n",
       "库存         365\n",
       "补货         233\n",
       "添加剂        214\n",
       "益生菌        104\n",
       "维生素         51\n",
       "矿物质         11\n",
       "Name: 关键词, dtype: int64"
      ]
     },
     "execution_count": 34,
     "metadata": {},
     "output_type": "execute_result"
    }
   ],
   "source": [
    "df1['关键词'].value_counts()     "
   ]
  },
  {
   "cell_type": "markdown",
   "metadata": {},
   "source": [
    "观察同样发现有同义词可以进行合并，比如：\n",
    "价钱-价格，便宜／划算-实惠，快递-物流，质量-品质，成分-配方，有效期-保质期（假定以-右边的为准确描述）"
   ]
  },
  {
   "cell_type": "markdown",
   "metadata": {},
   "source": [
    "需要留意的是有些词虽然描述的是同一对象，但感情倾向或色彩不同，不能合并，比如：断货、补货、库存；生产日期、过期；还有容易混淆的概念：奶源（指奶粉的主要原材料的产地）和产地（指在哪里生产加工的）"
   ]
  },
  {
   "cell_type": "code",
   "execution_count": 35,
   "metadata": {
    "collapsed": true
   },
   "outputs": [],
   "source": [
    "df1['关键词'].replace(['价钱','便宜','划算','快递','质量','成分','有效期'],['价格','实惠','实惠','物流','品质','配方','保质期'],inplace=True)"
   ]
  },
  {
   "cell_type": "code",
   "execution_count": 36,
   "metadata": {},
   "outputs": [
    {
     "data": {
      "text/plain": [
       "价格      206986\n",
       "品质      191083\n",
       "实惠      180868\n",
       "物流      134110\n",
       "品牌       96820\n",
       "包装       52947\n",
       "味道       42278\n",
       "服务       36074\n",
       "性价比      20953\n",
       "配方       17793\n",
       "生产日期     16718\n",
       "贵        16177\n",
       "口味       15679\n",
       "营养       12511\n",
       "口感        8299\n",
       "香味        5764\n",
       "促销        4317\n",
       "假货        4071\n",
       "客服        3940\n",
       "保质期       3382\n",
       "订单        2380\n",
       "奶源        1867\n",
       "过期        1565\n",
       "断货        1461\n",
       "售后        1079\n",
       "产地         798\n",
       "正货         558\n",
       "溶解性        388\n",
       "库存         365\n",
       "补货         233\n",
       "添加剂        214\n",
       "益生菌        104\n",
       "维生素         51\n",
       "矿物质         11\n",
       "Name: 关键词, dtype: int64"
      ]
     },
     "execution_count": 36,
     "metadata": {},
     "output_type": "execute_result"
    }
   ],
   "source": [
    "df1['关键词'].value_counts()  #同义词合并前“价格”数量为197680，现数量为206986，合并完成\n",
    "#发现用户评论中top4关键词（100k以上）：价格、品质、实惠、物流（其中价格和实惠相当于关注同一方面）"
   ]
  },
  {
   "cell_type": "markdown",
   "metadata": {},
   "source": [
    "### 评分(score）"
   ]
  },
  {
   "cell_type": "code",
   "execution_count": 37,
   "metadata": {},
   "outputs": [
    {
     "data": {
      "text/plain": [
       "5    1009193\n",
       "4      45588\n",
       "1      11695\n",
       "3      11566\n",
       "2       3802\n",
       "Name: 评分(score), dtype: int64"
      ]
     },
     "execution_count": 37,
     "metadata": {},
     "output_type": "execute_result"
    }
   ],
   "source": [
    "df1['评分(score)'].value_counts() #无异常值，用户评分5分的频次最高，2分的频次最低，且不在一个数量级上"
   ]
  },
  {
   "cell_type": "markdown",
   "metadata": {},
   "source": [
    "为了便于后续分析，我们将数据打上低分（包括1、2）、中分（包括3、4）、高分（包括5）的标签"
   ]
  },
  {
   "cell_type": "code",
   "execution_count": 38,
   "metadata": {},
   "outputs": [],
   "source": [
    "#Low(L):1分、2分；Medium(M):3分、4分；High(H):5分\n",
    "df1.loc[df1['评分(score)']<=2,'slabel']='L'\n",
    "df1.loc[(df1['评分(score)']>2) & (df1['评分(score)']<5),'slabel']='M'\n",
    "df1.loc[df1['评分(score)']==5,'slabel']='H'"
   ]
  },
  {
   "cell_type": "code",
   "execution_count": 39,
   "metadata": {},
   "outputs": [
    {
     "data": {
      "text/html": [
       "<div>\n",
       "<table border=\"1\" class=\"dataframe\">\n",
       "  <thead>\n",
       "    <tr style=\"text-align: right;\">\n",
       "      <th></th>\n",
       "      <th>评分(score)</th>\n",
       "      <th>slabel</th>\n",
       "    </tr>\n",
       "  </thead>\n",
       "  <tbody>\n",
       "    <tr>\n",
       "      <th>289</th>\n",
       "      <td>5</td>\n",
       "      <td>H</td>\n",
       "    </tr>\n",
       "    <tr>\n",
       "      <th>290</th>\n",
       "      <td>5</td>\n",
       "      <td>H</td>\n",
       "    </tr>\n",
       "    <tr>\n",
       "      <th>291</th>\n",
       "      <td>5</td>\n",
       "      <td>H</td>\n",
       "    </tr>\n",
       "    <tr>\n",
       "      <th>292</th>\n",
       "      <td>5</td>\n",
       "      <td>H</td>\n",
       "    </tr>\n",
       "    <tr>\n",
       "      <th>293</th>\n",
       "      <td>3</td>\n",
       "      <td>M</td>\n",
       "    </tr>\n",
       "    <tr>\n",
       "      <th>294</th>\n",
       "      <td>5</td>\n",
       "      <td>H</td>\n",
       "    </tr>\n",
       "    <tr>\n",
       "      <th>295</th>\n",
       "      <td>5</td>\n",
       "      <td>H</td>\n",
       "    </tr>\n",
       "    <tr>\n",
       "      <th>296</th>\n",
       "      <td>5</td>\n",
       "      <td>H</td>\n",
       "    </tr>\n",
       "    <tr>\n",
       "      <th>297</th>\n",
       "      <td>1</td>\n",
       "      <td>L</td>\n",
       "    </tr>\n",
       "    <tr>\n",
       "      <th>298</th>\n",
       "      <td>5</td>\n",
       "      <td>H</td>\n",
       "    </tr>\n",
       "    <tr>\n",
       "      <th>299</th>\n",
       "      <td>5</td>\n",
       "      <td>H</td>\n",
       "    </tr>\n",
       "    <tr>\n",
       "      <th>300</th>\n",
       "      <td>5</td>\n",
       "      <td>H</td>\n",
       "    </tr>\n",
       "    <tr>\n",
       "      <th>301</th>\n",
       "      <td>5</td>\n",
       "      <td>H</td>\n",
       "    </tr>\n",
       "    <tr>\n",
       "      <th>302</th>\n",
       "      <td>5</td>\n",
       "      <td>H</td>\n",
       "    </tr>\n",
       "    <tr>\n",
       "      <th>303</th>\n",
       "      <td>5</td>\n",
       "      <td>H</td>\n",
       "    </tr>\n",
       "  </tbody>\n",
       "</table>\n",
       "</div>"
      ],
      "text/plain": [
       "     评分(score) slabel\n",
       "289          5      H\n",
       "290          5      H\n",
       "291          5      H\n",
       "292          5      H\n",
       "293          3      M\n",
       "294          5      H\n",
       "295          5      H\n",
       "296          5      H\n",
       "297          1      L\n",
       "298          5      H\n",
       "299          5      H\n",
       "300          5      H\n",
       "301          5      H\n",
       "302          5      H\n",
       "303          5      H"
      ]
     },
     "execution_count": 39,
     "metadata": {},
     "output_type": "execute_result"
    }
   ],
   "source": [
    "df1.loc[:,['评分(score)','slabel']][210:225]   #查看第210到225条数据的slabel情况"
   ]
  },
  {
   "cell_type": "markdown",
   "metadata": {},
   "source": [
    "### 会员等级(userLevelName)"
   ]
  },
  {
   "cell_type": "code",
   "execution_count": 40,
   "metadata": {},
   "outputs": [
    {
     "data": {
      "text/plain": [
       "钻石会员          352544\n",
       "金牌会员          257049\n",
       "银牌会员          191505\n",
       "铜牌会员          169241\n",
       "PLUS会员         96339\n",
       "PLUS会员[试用]     11955\n",
       "企业会员            3154\n",
       "注册会员              55\n",
       "VIP会员              2\n",
       "Name: 会员等级(userLevelName), dtype: int64"
      ]
     },
     "execution_count": 40,
     "metadata": {},
     "output_type": "execute_result"
    }
   ],
   "source": [
    "df1['会员等级(userLevelName)'].value_counts()  "
   ]
  },
  {
   "cell_type": "markdown",
   "metadata": {},
   "source": [
    "暂未发现异常数据，观察占绝大对数的top4（钻、金、银、铜均在100k以上），以及潜力股PLUS（试用），之所以认为这部分是潜力股是因为这部分会员有极大可能转化为PLUS会员（观察可知PLUS会员加试用会员的量级总和可以达到100k以上）"
   ]
  },
  {
   "cell_type": "markdown",
   "metadata": {},
   "source": [
    "# 数据分析(结合Tableau）"
   ]
  },
  {
   "cell_type": "markdown",
   "metadata": {},
   "source": [
    "为了方便起见，我们以用户id作为数据表的索引"
   ]
  },
  {
   "cell_type": "code",
   "execution_count": 41,
   "metadata": {},
   "outputs": [],
   "source": [
    "df1.set_index(['用户id(id)'],inplace=True)"
   ]
  },
  {
   "cell_type": "code",
   "execution_count": 42,
   "metadata": {},
   "outputs": [
    {
     "data": {
      "text/html": [
       "<div>\n",
       "<table border=\"1\" class=\"dataframe\">\n",
       "  <thead>\n",
       "    <tr style=\"text-align: right;\">\n",
       "      <th></th>\n",
       "      <th>评价时间(create_time)</th>\n",
       "      <th>评分(score)</th>\n",
       "      <th>评价内容(rateContent)</th>\n",
       "      <th>用户地区(userProvince)</th>\n",
       "      <th>评论来自终端(userClientShow)</th>\n",
       "      <th>会员等级(userLevelName)</th>\n",
       "      <th>产品类型(productColor)</th>\n",
       "      <th>消费时间(referenceTime)</th>\n",
       "      <th>品牌</th>\n",
       "      <th>pure</th>\n",
       "      <th>关键词</th>\n",
       "      <th>polarity</th>\n",
       "      <th>magnitude</th>\n",
       "      <th>惊喜</th>\n",
       "      <th>喜爱</th>\n",
       "      <th>兴奋</th>\n",
       "      <th>厌恶</th>\n",
       "      <th>失望</th>\n",
       "      <th>愤怒</th>\n",
       "      <th>slabel</th>\n",
       "    </tr>\n",
       "    <tr>\n",
       "      <th>用户id(id)</th>\n",
       "      <th></th>\n",
       "      <th></th>\n",
       "      <th></th>\n",
       "      <th></th>\n",
       "      <th></th>\n",
       "      <th></th>\n",
       "      <th></th>\n",
       "      <th></th>\n",
       "      <th></th>\n",
       "      <th></th>\n",
       "      <th></th>\n",
       "      <th></th>\n",
       "      <th></th>\n",
       "      <th></th>\n",
       "      <th></th>\n",
       "      <th></th>\n",
       "      <th></th>\n",
       "      <th></th>\n",
       "      <th></th>\n",
       "      <th></th>\n",
       "    </tr>\n",
       "  </thead>\n",
       "  <tbody>\n",
       "    <tr>\n",
       "      <th>10182323425</th>\n",
       "      <td>2017/3/4 19:48</td>\n",
       "      <td>5</td>\n",
       "      <td>宝宝在月子中心就用这个品牌的奶粉，现在13个月了，已经用3段的啦。非常满意的产品。宝宝现在有...</td>\n",
       "      <td>上海</td>\n",
       "      <td>unknown_client</td>\n",
       "      <td>金牌会员</td>\n",
       "      <td>金装3段1200克三联装</td>\n",
       "      <td>2017/3/2 15:00</td>\n",
       "      <td>惠氏--三段</td>\n",
       "      <td>惠氏</td>\n",
       "      <td>品牌</td>\n",
       "      <td>74.792</td>\n",
       "      <td>0.131</td>\n",
       "      <td>0.144349</td>\n",
       "      <td>0.603571</td>\n",
       "      <td>0.000000</td>\n",
       "      <td>0.111167</td>\n",
       "      <td>0.000000</td>\n",
       "      <td>0.140913</td>\n",
       "      <td>H</td>\n",
       "    </tr>\n",
       "    <tr>\n",
       "      <th>10182297636</th>\n",
       "      <td>2017/3/4 19:39</td>\n",
       "      <td>5</td>\n",
       "      <td>一直买 这个 越来越贵了</td>\n",
       "      <td>unknown_place</td>\n",
       "      <td>unknown_client</td>\n",
       "      <td>银牌会员</td>\n",
       "      <td>金装3段1200克三联装</td>\n",
       "      <td>2017/2/22 20:15</td>\n",
       "      <td>惠氏--三段</td>\n",
       "      <td>惠氏</td>\n",
       "      <td>贵</td>\n",
       "      <td>6.250</td>\n",
       "      <td>1.000</td>\n",
       "      <td>0.037375</td>\n",
       "      <td>0.000000</td>\n",
       "      <td>0.025125</td>\n",
       "      <td>0.194062</td>\n",
       "      <td>0.000000</td>\n",
       "      <td>0.743437</td>\n",
       "      <td>H</td>\n",
       "    </tr>\n",
       "    <tr>\n",
       "      <th>10182276010</th>\n",
       "      <td>2017/3/4 19:32</td>\n",
       "      <td>5</td>\n",
       "      <td>物流特别快，上午买下午就到了，奶粉宝宝也特别爱喝，质量棒棒嗒，值得信赖</td>\n",
       "      <td>unknown_place</td>\n",
       "      <td>来自京东iPhone客户端</td>\n",
       "      <td>银牌会员</td>\n",
       "      <td>金装3段1200克三联装</td>\n",
       "      <td>2017/3/4 9:45</td>\n",
       "      <td>惠氏--三段</td>\n",
       "      <td>惠氏</td>\n",
       "      <td>品质</td>\n",
       "      <td>82.204</td>\n",
       "      <td>0.265</td>\n",
       "      <td>0.000000</td>\n",
       "      <td>0.403622</td>\n",
       "      <td>0.418418</td>\n",
       "      <td>0.000000</td>\n",
       "      <td>0.146105</td>\n",
       "      <td>0.031855</td>\n",
       "      <td>H</td>\n",
       "    </tr>\n",
       "    <tr>\n",
       "      <th>10182049677</th>\n",
       "      <td>2017/3/4 18:10</td>\n",
       "      <td>5</td>\n",
       "      <td>我家宝宝一直用这个奶粉，感觉挺好的，太棒了，便宜划算</td>\n",
       "      <td>unknown_place</td>\n",
       "      <td>来自京东Android客户端</td>\n",
       "      <td>金牌会员</td>\n",
       "      <td>金装3段1200克三联装</td>\n",
       "      <td>2017/2/23 17:17</td>\n",
       "      <td>惠氏--三段</td>\n",
       "      <td>惠氏</td>\n",
       "      <td>实惠</td>\n",
       "      <td>65.708</td>\n",
       "      <td>0.412</td>\n",
       "      <td>0.515808</td>\n",
       "      <td>0.000000</td>\n",
       "      <td>0.141272</td>\n",
       "      <td>0.247245</td>\n",
       "      <td>0.000000</td>\n",
       "      <td>0.095675</td>\n",
       "      <td>H</td>\n",
       "    </tr>\n",
       "    <tr>\n",
       "      <th>10181997668</th>\n",
       "      <td>2017/3/4 17:52</td>\n",
       "      <td>5</td>\n",
       "      <td>宝宝一直喝，很放心，经济实惠，质量可靠！从一段喝到三段！希望多搞活动呀！</td>\n",
       "      <td>陕西</td>\n",
       "      <td>来自京东Android客户端</td>\n",
       "      <td>银牌会员</td>\n",
       "      <td>金装3段1200克三联装</td>\n",
       "      <td>2017/2/17 7:47</td>\n",
       "      <td>惠氏--三段</td>\n",
       "      <td>惠氏</td>\n",
       "      <td>品质</td>\n",
       "      <td>66.515</td>\n",
       "      <td>0.483</td>\n",
       "      <td>0.121722</td>\n",
       "      <td>0.543428</td>\n",
       "      <td>0.000000</td>\n",
       "      <td>0.212630</td>\n",
       "      <td>0.122220</td>\n",
       "      <td>0.000000</td>\n",
       "      <td>H</td>\n",
       "    </tr>\n",
       "  </tbody>\n",
       "</table>\n",
       "</div>"
      ],
      "text/plain": [
       "            评价时间(create_time)  评分(score)  \\\n",
       "用户id(id)                                   \n",
       "10182323425    2017/3/4 19:48          5   \n",
       "10182297636    2017/3/4 19:39          5   \n",
       "10182276010    2017/3/4 19:32          5   \n",
       "10182049677    2017/3/4 18:10          5   \n",
       "10181997668    2017/3/4 17:52          5   \n",
       "\n",
       "                                             评价内容(rateContent)  \\\n",
       "用户id(id)                                                         \n",
       "10182323425  宝宝在月子中心就用这个品牌的奶粉，现在13个月了，已经用3段的啦。非常满意的产品。宝宝现在有...   \n",
       "10182297636                                       一直买 这个 越来越贵了   \n",
       "10182276010                物流特别快，上午买下午就到了，奶粉宝宝也特别爱喝，质量棒棒嗒，值得信赖   \n",
       "10182049677                         我家宝宝一直用这个奶粉，感觉挺好的，太棒了，便宜划算   \n",
       "10181997668               宝宝一直喝，很放心，经济实惠，质量可靠！从一段喝到三段！希望多搞活动呀！   \n",
       "\n",
       "            用户地区(userProvince) 评论来自终端(userClientShow) 会员等级(userLevelName)  \\\n",
       "用户id(id)                                                                    \n",
       "10182323425                 上海         unknown_client                金牌会员   \n",
       "10182297636      unknown_place         unknown_client                银牌会员   \n",
       "10182276010      unknown_place          来自京东iPhone客户端                银牌会员   \n",
       "10182049677      unknown_place         来自京东Android客户端                金牌会员   \n",
       "10181997668                 陕西         来自京东Android客户端                银牌会员   \n",
       "\n",
       "            产品类型(productColor) 消费时间(referenceTime)      品牌 pure 关键词  polarity  \\\n",
       "用户id(id)                                                                        \n",
       "10182323425       金装3段1200克三联装      2017/3/2 15:00  惠氏--三段   惠氏  品牌    74.792   \n",
       "10182297636       金装3段1200克三联装     2017/2/22 20:15  惠氏--三段   惠氏   贵     6.250   \n",
       "10182276010       金装3段1200克三联装       2017/3/4 9:45  惠氏--三段   惠氏  品质    82.204   \n",
       "10182049677       金装3段1200克三联装     2017/2/23 17:17  惠氏--三段   惠氏  实惠    65.708   \n",
       "10181997668       金装3段1200克三联装      2017/2/17 7:47  惠氏--三段   惠氏  品质    66.515   \n",
       "\n",
       "             magnitude        惊喜        喜爱        兴奋        厌恶        失望  \\\n",
       "用户id(id)                                                                   \n",
       "10182323425      0.131  0.144349  0.603571  0.000000  0.111167  0.000000   \n",
       "10182297636      1.000  0.037375  0.000000  0.025125  0.194062  0.000000   \n",
       "10182276010      0.265  0.000000  0.403622  0.418418  0.000000  0.146105   \n",
       "10182049677      0.412  0.515808  0.000000  0.141272  0.247245  0.000000   \n",
       "10181997668      0.483  0.121722  0.543428  0.000000  0.212630  0.122220   \n",
       "\n",
       "                   愤怒 slabel  \n",
       "用户id(id)                      \n",
       "10182323425  0.140913      H  \n",
       "10182297636  0.743437      H  \n",
       "10182276010  0.031855      H  \n",
       "10182049677  0.095675      H  \n",
       "10181997668  0.000000      H  "
      ]
     },
     "execution_count": 42,
     "metadata": {},
     "output_type": "execute_result"
    }
   ],
   "source": [
    "df1.head()"
   ]
  },
  {
   "cell_type": "code",
   "execution_count": 43,
   "metadata": {},
   "outputs": [
    {
     "data": {
      "text/plain": [
       "Index(['评价时间(create_time)', '评分(score)', '评价内容(rateContent)',\n",
       "       '用户地区(userProvince)', '评论来自终端(userClientShow)', '会员等级(userLevelName)',\n",
       "       '产品类型(productColor)', '消费时间(referenceTime)', '品牌', 'pure', '关键词',\n",
       "       'polarity', 'magnitude', '惊喜', '喜爱', '兴奋', '厌恶', '失望', '愤怒', 'slabel'],\n",
       "      dtype='object')"
      ]
     },
     "execution_count": 43,
     "metadata": {},
     "output_type": "execute_result"
    }
   ],
   "source": [
    "df1.columns"
   ]
  },
  {
   "cell_type": "code",
   "execution_count": 44,
   "metadata": {
    "collapsed": true
   },
   "outputs": [],
   "source": [
    "df1.to_csv('keywords_milkpowder.csv')   #将整合好的数据集保存，导入Tableau"
   ]
  },
  {
   "cell_type": "markdown",
   "metadata": {},
   "source": [
    "## 从关键词入手"
   ]
  },
  {
   "cell_type": "code",
   "execution_count": 45,
   "metadata": {},
   "outputs": [
    {
     "data": {
      "text/plain": [
       "价格     206986\n",
       "品质     191083\n",
       "实惠     180868\n",
       "物流     134110\n",
       "品牌      96820\n",
       "包装      52947\n",
       "味道      42278\n",
       "服务      36074\n",
       "性价比     20953\n",
       "配方      17793\n",
       "Name: 关键词, dtype: int64"
      ]
     },
     "execution_count": 45,
     "metadata": {},
     "output_type": "execute_result"
    }
   ],
   "source": [
    "df1['关键词'].value_counts().head(10)"
   ]
  },
  {
   "cell_type": "markdown",
   "metadata": {},
   "source": [
    "![](top10关键词.png)"
   ]
  },
  {
   "cell_type": "markdown",
   "metadata": {},
   "source": [
    "### **(修改)品牌&关键词**"
   ]
  },
  {
   "cell_type": "markdown",
   "metadata": {},
   "source": [
    "**修改说明：由于2.4.3品牌处理变化，故下文中结果会有相应的变化**"
   ]
  },
  {
   "cell_type": "code",
   "execution_count": 46,
   "metadata": {},
   "outputs": [
    {
     "data": {
      "text/html": [
       "<div>\n",
       "<table border=\"1\" class=\"dataframe\">\n",
       "  <thead>\n",
       "    <tr style=\"text-align: right;\">\n",
       "      <th></th>\n",
       "      <th>pure</th>\n",
       "      <th>关键词</th>\n",
       "    </tr>\n",
       "    <tr>\n",
       "      <th>用户id(id)</th>\n",
       "      <th></th>\n",
       "      <th></th>\n",
       "    </tr>\n",
       "  </thead>\n",
       "  <tbody>\n",
       "    <tr>\n",
       "      <th>10182323425</th>\n",
       "      <td>惠氏</td>\n",
       "      <td>品牌</td>\n",
       "    </tr>\n",
       "    <tr>\n",
       "      <th>10182297636</th>\n",
       "      <td>惠氏</td>\n",
       "      <td>贵</td>\n",
       "    </tr>\n",
       "    <tr>\n",
       "      <th>10182276010</th>\n",
       "      <td>惠氏</td>\n",
       "      <td>品质</td>\n",
       "    </tr>\n",
       "    <tr>\n",
       "      <th>10182049677</th>\n",
       "      <td>惠氏</td>\n",
       "      <td>实惠</td>\n",
       "    </tr>\n",
       "    <tr>\n",
       "      <th>10181997668</th>\n",
       "      <td>惠氏</td>\n",
       "      <td>品质</td>\n",
       "    </tr>\n",
       "  </tbody>\n",
       "</table>\n",
       "</div>"
      ],
      "text/plain": [
       "            pure 关键词\n",
       "用户id(id)            \n",
       "10182323425   惠氏  品牌\n",
       "10182297636   惠氏   贵\n",
       "10182276010   惠氏  品质\n",
       "10182049677   惠氏  实惠\n",
       "10181997668   惠氏  品质"
      ]
     },
     "execution_count": 46,
     "metadata": {},
     "output_type": "execute_result"
    }
   ],
   "source": [
    "df1.loc[:,['pure','关键词']].head()"
   ]
  },
  {
   "cell_type": "markdown",
   "metadata": {},
   "source": [
    "从消费者最关心的价格上看，各品牌的竞争力如何？"
   ]
  },
  {
   "cell_type": "markdown",
   "metadata": {},
   "source": [
    "![](实惠和假货.png)"
   ]
  },
  {
   "cell_type": "markdown",
   "metadata": {},
   "source": [
    "我们可以看到“惠氏”、“美素”品牌在让会员感受到实惠的方面，相较于其他品牌遥遥领先"
   ]
  },
  {
   "cell_type": "markdown",
   "metadata": {},
   "source": [
    "哪些品牌被“假货”敏感词缠身？"
   ]
  },
  {
   "cell_type": "markdown",
   "metadata": {},
   "source": [
    "在电商领域的常识是，实惠的“爆款”，往往就是假货的重灾区，也是会员视线聚焦的敏感点。从上图来看，“美素”和“惠氏”果然是被“假货”敏感词缠身。"
   ]
  },
  {
   "cell_type": "markdown",
   "metadata": {},
   "source": [
    "既然“惠氏”与“美素”处在在价格战和假货漩涡的中心，汇聚了消费者的目光，我们就以这两个品牌为例，通过关键词看看会员对于这两个品牌的主要关注点，分析一下它们的优势、劣势和差异化卖点"
   ]
  },
  {
   "cell_type": "markdown",
   "metadata": {},
   "source": [
    "![](惠氏美素单品.png)"
   ]
  },
  {
   "cell_type": "markdown",
   "metadata": {},
   "source": [
    "由上图可以看出对于两品牌的共同关注点top5为：价格、实惠、品质、物流、品牌，其中实惠也相当于关注价格，说明当会员在两者中作选择时，价格是否实惠是左右会员决策的重要因素。"
   ]
  },
  {
   "cell_type": "markdown",
   "metadata": {},
   "source": [
    "对于两品牌的差异化关注点：比起服务和味道，购买惠氏的消费者更注重包装，而美素的消费者重视味道，更甚于包装和服务，所以两竞争品牌在打价格战的同时，也可以从差异化的地方入手，扬长避短。"
   ]
  },
  {
   "cell_type": "markdown",
   "metadata": {},
   "source": [
    "### 会员等级(userLevelName)&关键词"
   ]
  },
  {
   "cell_type": "markdown",
   "metadata": {},
   "source": [
    "不同等级的会员对应着不同的购买力，那么不同会员所关注的商品属性是怎样的呢？（以钻石、金、银、铜牌会员为例的研究）"
   ]
  },
  {
   "cell_type": "markdown",
   "metadata": {},
   "source": [
    "![](等级与关键词.png)"
   ]
  },
  {
   "cell_type": "markdown",
   "metadata": {},
   "source": [
    "钻石会员关注点top4:价格、实惠、品质、品牌，而金、银、铜牌会员对于品牌的关注度略低，他们的top4关注点分别为价格、实惠、品质、物流"
   ]
  },
  {
   "cell_type": "markdown",
   "metadata": {},
   "source": [
    "除了占据会员总量绝大多数的钻石、金、银、铜牌会员之外，PLUS试用会员也是有巨大潜力的关注对象，提高这部分客户的服务质量，有可能使其转化为长期PLUS用户，于平台有益，从下面结果来看，PLUS会员（试用）与金、银、铜牌用户主要关注方向基本一致"
   ]
  },
  {
   "cell_type": "markdown",
   "metadata": {},
   "source": [
    "![](plus会员试用.png)"
   ]
  },
  {
   "cell_type": "markdown",
   "metadata": {},
   "source": [
    "### 评分(score)&关键词"
   ]
  },
  {
   "cell_type": "markdown",
   "metadata": {},
   "source": [
    "我们来观察不同关键词所对应的评分（均值）"
   ]
  },
  {
   "cell_type": "code",
   "execution_count": 47,
   "metadata": {},
   "outputs": [
    {
     "data": {
      "text/plain": [
       "关键词\n",
       "产地      4.496241\n",
       "价格      4.892292\n",
       "促销      4.864026\n",
       "保质期     4.534299\n",
       "假货      4.098747\n",
       "包装      4.691786\n",
       "口味      4.872377\n",
       "口感      4.883359\n",
       "味道      4.768982\n",
       "品牌      4.931843\n",
       "品质      4.949106\n",
       "售后      4.493049\n",
       "奶源      4.720943\n",
       "实惠      4.955255\n",
       "客服      4.119289\n",
       "库存      3.953425\n",
       "性价比     4.951606\n",
       "断货      4.843943\n",
       "服务      4.934690\n",
       "正货      4.917563\n",
       "添加剂     4.247664\n",
       "溶解性     4.590206\n",
       "物流      4.896100\n",
       "生产日期    4.494856\n",
       "益生菌     4.750000\n",
       "矿物质     4.454545\n",
       "维生素     4.823529\n",
       "营养      4.912557\n",
       "补货      4.965665\n",
       "订单      4.586555\n",
       "贵       4.690981\n",
       "过期      3.710543\n",
       "配方      4.861743\n",
       "香味      4.646079\n",
       "Name: 评分(score), dtype: float64"
      ]
     },
     "execution_count": 47,
     "metadata": {},
     "output_type": "execute_result"
    }
   ],
   "source": [
    "df1.groupby(['关键词'])['评分(score)'].mean()"
   ]
  },
  {
   "cell_type": "markdown",
   "metadata": {},
   "source": [
    "评分的辨识度一般不高，没有情感细分能力，均值更无法体现其中的差别，我们换一种度量方式，透过评分的标准差，来观察会员对不同关注点（关键词）的评分争议。从下图可知，评分争议最大的点分别是过期、库存、客服等，评分争议最小的点分别为补货、性价比、实惠。由此我们可以看出会员对于商品性价比、实惠等方面意见颇为一致，而对于过期、库存、客服的个体感受与心理接受度有非常大的差异。"
   ]
  },
  {
   "cell_type": "markdown",
   "metadata": {},
   "source": [
    "![](关键词评分.png)"
   ]
  },
  {
   "cell_type": "markdown",
   "metadata": {},
   "source": [
    "## 从情绪入手"
   ]
  },
  {
   "cell_type": "markdown",
   "metadata": {},
   "source": [
    "### 关键词&polarity&magnitude"
   ]
  },
  {
   "cell_type": "markdown",
   "metadata": {},
   "source": [
    "下面我们来探索一下关键词与会员情绪之间的联系"
   ]
  },
  {
   "cell_type": "markdown",
   "metadata": {},
   "source": [
    "![](情绪平均.png)"
   ]
  },
  {
   "cell_type": "markdown",
   "metadata": {},
   "source": [
    "上图展示了对于每一个关键词的情感倾向与浓度的平均情况，并划出了几条参考线。对于polarity，假定值高于80的关键词是高度正面的词语，只有服务和营养；假定值低于60的关键词是负面词语，有：贵、性价比、过期等，其余为中等词语。"
   ]
  },
  {
   "cell_type": "markdown",
   "metadata": {},
   "source": [
    "对于magnitude，假定值高于0.8的关键词具有非常强烈的情感倾向，从上图无从查找；在0.6～0.8之间的为一般倾向，只有营养；其余为平淡无感的词语。"
   ]
  },
  {
   "cell_type": "markdown",
   "metadata": {
    "collapsed": true
   },
   "source": [
    "上面的结果非常不好，平均衡量水平不具有辨识度，许多有研究价值的特点在平均化的过程中湮没，那么是否能进一步对情感做细分呢？"
   ]
  },
  {
   "cell_type": "markdown",
   "metadata": {},
   "source": [
    "为了便于分析，给polarity打标签plabel：>85:高度正面；60～85:中等；<60:负面"
   ]
  },
  {
   "cell_type": "code",
   "execution_count": 48,
   "metadata": {
    "collapsed": true
   },
   "outputs": [],
   "source": [
    "df1.loc[df1['polarity']>85,'plabel']='高度正面'\n",
    "df1.loc[(df1['polarity']<=85) & (df1['polarity']>=60),'plabel']='中等'\n",
    "df1.loc[df1['polarity']<60,'plabel']='负面'"
   ]
  },
  {
   "cell_type": "markdown",
   "metadata": {},
   "source": [
    "给magnitude打标签mlabel：>0.85:非常强烈；0.5～0.85:一般；<0.5:相对无感"
   ]
  },
  {
   "cell_type": "code",
   "execution_count": 49,
   "metadata": {
    "collapsed": true
   },
   "outputs": [],
   "source": [
    "df1.loc[df1['magnitude']>0.85,'mlabel']='非常强烈'\n",
    "df1.loc[(df1['magnitude']<=0.85) & (df1['magnitude']>=0.5),'mlabel']='一般'\n",
    "df1.loc[df1['magnitude']<0.5,'mlabel']='相对无感'"
   ]
  },
  {
   "cell_type": "code",
   "execution_count": 50,
   "metadata": {},
   "outputs": [],
   "source": [
    "df2 = df1.loc[:,['关键词', 'polarity','plabel','magnitude','mlabel']]"
   ]
  },
  {
   "cell_type": "code",
   "execution_count": 51,
   "metadata": {},
   "outputs": [
    {
     "data": {
      "text/html": [
       "<div>\n",
       "<table border=\"1\" class=\"dataframe\">\n",
       "  <thead>\n",
       "    <tr style=\"text-align: right;\">\n",
       "      <th></th>\n",
       "      <th>关键词</th>\n",
       "      <th>polarity</th>\n",
       "      <th>plabel</th>\n",
       "      <th>magnitude</th>\n",
       "      <th>mlabel</th>\n",
       "    </tr>\n",
       "    <tr>\n",
       "      <th>用户id(id)</th>\n",
       "      <th></th>\n",
       "      <th></th>\n",
       "      <th></th>\n",
       "      <th></th>\n",
       "      <th></th>\n",
       "    </tr>\n",
       "  </thead>\n",
       "  <tbody>\n",
       "    <tr>\n",
       "      <th>10182323425</th>\n",
       "      <td>品牌</td>\n",
       "      <td>74.792</td>\n",
       "      <td>中等</td>\n",
       "      <td>0.131</td>\n",
       "      <td>相对无感</td>\n",
       "    </tr>\n",
       "    <tr>\n",
       "      <th>10182297636</th>\n",
       "      <td>贵</td>\n",
       "      <td>6.250</td>\n",
       "      <td>负面</td>\n",
       "      <td>1.000</td>\n",
       "      <td>非常强烈</td>\n",
       "    </tr>\n",
       "    <tr>\n",
       "      <th>10182276010</th>\n",
       "      <td>品质</td>\n",
       "      <td>82.204</td>\n",
       "      <td>中等</td>\n",
       "      <td>0.265</td>\n",
       "      <td>相对无感</td>\n",
       "    </tr>\n",
       "    <tr>\n",
       "      <th>10182049677</th>\n",
       "      <td>实惠</td>\n",
       "      <td>65.708</td>\n",
       "      <td>中等</td>\n",
       "      <td>0.412</td>\n",
       "      <td>相对无感</td>\n",
       "    </tr>\n",
       "    <tr>\n",
       "      <th>10181997668</th>\n",
       "      <td>品质</td>\n",
       "      <td>66.515</td>\n",
       "      <td>中等</td>\n",
       "      <td>0.483</td>\n",
       "      <td>相对无感</td>\n",
       "    </tr>\n",
       "  </tbody>\n",
       "</table>\n",
       "</div>"
      ],
      "text/plain": [
       "            关键词  polarity plabel  magnitude mlabel\n",
       "用户id(id)                                          \n",
       "10182323425  品牌    74.792     中等      0.131   相对无感\n",
       "10182297636   贵     6.250     负面      1.000   非常强烈\n",
       "10182276010  品质    82.204     中等      0.265   相对无感\n",
       "10182049677  实惠    65.708     中等      0.412   相对无感\n",
       "10181997668  品质    66.515     中等      0.483   相对无感"
      ]
     },
     "execution_count": 51,
     "metadata": {},
     "output_type": "execute_result"
    }
   ],
   "source": [
    "df2.head()"
   ]
  },
  {
   "cell_type": "code",
   "execution_count": 52,
   "metadata": {},
   "outputs": [
    {
     "data": {
      "text/plain": [
       "中等      520588\n",
       "高度正面    352314\n",
       "负面      208942\n",
       "Name: plabel, dtype: int64"
      ]
     },
     "execution_count": 52,
     "metadata": {},
     "output_type": "execute_result"
    }
   ],
   "source": [
    "df2['plabel'].value_counts()"
   ]
  },
  {
   "cell_type": "code",
   "execution_count": 53,
   "metadata": {},
   "outputs": [
    {
     "data": {
      "text/plain": [
       "相对无感    833971\n",
       "一般      210054\n",
       "非常强烈     37819\n",
       "Name: mlabel, dtype: int64"
      ]
     },
     "execution_count": 53,
     "metadata": {},
     "output_type": "execute_result"
    }
   ],
   "source": [
    "df2['mlabel'].value_counts()"
   ]
  },
  {
   "cell_type": "code",
   "execution_count": 54,
   "metadata": {
    "collapsed": true
   },
   "outputs": [],
   "source": [
    "df2.to_csv('sentiment.csv')    #便于导入Tableau分析"
   ]
  },
  {
   "cell_type": "markdown",
   "metadata": {},
   "source": [
    "以关键词“假货”为例，看情感倾向与浓度"
   ]
  },
  {
   "cell_type": "markdown",
   "metadata": {},
   "source": [
    "![](假货情绪.png)"
   ]
  },
  {
   "cell_type": "markdown",
   "metadata": {},
   "source": [
    "从结果来看，针对“假货”的关键词大部分是负面情绪，但有诡异的一部分是高度正面情绪，还占挺大一部分，懵逼了，我也不知道是为什么？猜想可能是评论说的是“绝对不是假货”，而关键词提取的是“假货”吧。。。"
   ]
  },
  {
   "cell_type": "markdown",
   "metadata": {},
   "source": [
    "### 从情绪预测品牌忠诚度"
   ]
  },
  {
   "cell_type": "markdown",
   "metadata": {},
   "source": [
    "会员的具体情绪也可以用于品牌忠诚度的预测"
   ]
  },
  {
   "cell_type": "markdown",
   "metadata": {},
   "source": [
    "猜想会员的正面情绪可能来自物美价廉（主要是价廉。。。），所以在关键词为“实惠”的记录中挑选一个"
   ]
  },
  {
   "cell_type": "code",
   "execution_count": 55,
   "metadata": {},
   "outputs": [
    {
     "data": {
      "text/html": [
       "<div>\n",
       "<table border=\"1\" class=\"dataframe\">\n",
       "  <thead>\n",
       "    <tr style=\"text-align: right;\">\n",
       "      <th></th>\n",
       "      <th>评价时间(create_time)</th>\n",
       "      <th>评分(score)</th>\n",
       "      <th>评价内容(rateContent)</th>\n",
       "      <th>用户地区(userProvince)</th>\n",
       "      <th>评论来自终端(userClientShow)</th>\n",
       "      <th>会员等级(userLevelName)</th>\n",
       "      <th>产品类型(productColor)</th>\n",
       "      <th>消费时间(referenceTime)</th>\n",
       "      <th>品牌</th>\n",
       "      <th>pure</th>\n",
       "      <th>...</th>\n",
       "      <th>magnitude</th>\n",
       "      <th>惊喜</th>\n",
       "      <th>喜爱</th>\n",
       "      <th>兴奋</th>\n",
       "      <th>厌恶</th>\n",
       "      <th>失望</th>\n",
       "      <th>愤怒</th>\n",
       "      <th>slabel</th>\n",
       "      <th>plabel</th>\n",
       "      <th>mlabel</th>\n",
       "    </tr>\n",
       "    <tr>\n",
       "      <th>用户id(id)</th>\n",
       "      <th></th>\n",
       "      <th></th>\n",
       "      <th></th>\n",
       "      <th></th>\n",
       "      <th></th>\n",
       "      <th></th>\n",
       "      <th></th>\n",
       "      <th></th>\n",
       "      <th></th>\n",
       "      <th></th>\n",
       "      <th></th>\n",
       "      <th></th>\n",
       "      <th></th>\n",
       "      <th></th>\n",
       "      <th></th>\n",
       "      <th></th>\n",
       "      <th></th>\n",
       "      <th></th>\n",
       "      <th></th>\n",
       "      <th></th>\n",
       "      <th></th>\n",
       "    </tr>\n",
       "  </thead>\n",
       "  <tbody>\n",
       "    <tr>\n",
       "      <th>10182049677</th>\n",
       "      <td>2017/3/4 18:10</td>\n",
       "      <td>5</td>\n",
       "      <td>我家宝宝一直用这个奶粉，感觉挺好的，太棒了，便宜划算</td>\n",
       "      <td>unknown_place</td>\n",
       "      <td>来自京东Android客户端</td>\n",
       "      <td>金牌会员</td>\n",
       "      <td>金装3段1200克三联装</td>\n",
       "      <td>2017/2/23 17:17</td>\n",
       "      <td>惠氏--三段</td>\n",
       "      <td>惠氏</td>\n",
       "      <td>...</td>\n",
       "      <td>0.412</td>\n",
       "      <td>0.515808</td>\n",
       "      <td>0.0</td>\n",
       "      <td>0.141272</td>\n",
       "      <td>0.247245</td>\n",
       "      <td>0.0</td>\n",
       "      <td>0.095675</td>\n",
       "      <td>H</td>\n",
       "      <td>中等</td>\n",
       "      <td>相对无感</td>\n",
       "    </tr>\n",
       "    <tr>\n",
       "      <th>10181794404</th>\n",
       "      <td>2017/3/4 16:45</td>\n",
       "      <td>5</td>\n",
       "      <td>女儿一直都是在京东上买的这款奶粉，比超市便宜好多！</td>\n",
       "      <td>福建</td>\n",
       "      <td>来自京东Android客户端</td>\n",
       "      <td>PLUS会员</td>\n",
       "      <td>金装3段1200克三联装</td>\n",
       "      <td>2017/2/23 16:47</td>\n",
       "      <td>惠氏--三段</td>\n",
       "      <td>惠氏</td>\n",
       "      <td>...</td>\n",
       "      <td>0.430</td>\n",
       "      <td>0.605488</td>\n",
       "      <td>0.0</td>\n",
       "      <td>0.260732</td>\n",
       "      <td>0.054448</td>\n",
       "      <td>0.0</td>\n",
       "      <td>0.079332</td>\n",
       "      <td>H</td>\n",
       "      <td>高度正面</td>\n",
       "      <td>相对无感</td>\n",
       "    </tr>\n",
       "  </tbody>\n",
       "</table>\n",
       "<p>2 rows × 22 columns</p>\n",
       "</div>"
      ],
      "text/plain": [
       "            评价时间(create_time)  评分(score)           评价内容(rateContent)  \\\n",
       "用户id(id)                                                               \n",
       "10182049677    2017/3/4 18:10          5  我家宝宝一直用这个奶粉，感觉挺好的，太棒了，便宜划算   \n",
       "10181794404    2017/3/4 16:45          5   女儿一直都是在京东上买的这款奶粉，比超市便宜好多！   \n",
       "\n",
       "            用户地区(userProvince) 评论来自终端(userClientShow) 会员等级(userLevelName)  \\\n",
       "用户id(id)                                                                    \n",
       "10182049677      unknown_place         来自京东Android客户端                金牌会员   \n",
       "10181794404                 福建         来自京东Android客户端              PLUS会员   \n",
       "\n",
       "            产品类型(productColor) 消费时间(referenceTime)      品牌 pure  ...    \\\n",
       "用户id(id)                                                         ...     \n",
       "10182049677       金装3段1200克三联装     2017/2/23 17:17  惠氏--三段   惠氏  ...     \n",
       "10181794404       金装3段1200克三联装     2017/2/23 16:47  惠氏--三段   惠氏  ...     \n",
       "\n",
       "            magnitude        惊喜   喜爱        兴奋        厌恶   失望        愤怒  \\\n",
       "用户id(id)                                                                  \n",
       "10182049677     0.412  0.515808  0.0  0.141272  0.247245  0.0  0.095675   \n",
       "10181794404     0.430  0.605488  0.0  0.260732  0.054448  0.0  0.079332   \n",
       "\n",
       "             slabel  plabel mlabel  \n",
       "用户id(id)                            \n",
       "10182049677       H      中等   相对无感  \n",
       "10181794404       H    高度正面   相对无感  \n",
       "\n",
       "[2 rows x 22 columns]"
      ]
     },
     "execution_count": 55,
     "metadata": {},
     "output_type": "execute_result"
    }
   ],
   "source": [
    "df1.loc[df1['关键词']=='实惠'].head(2)"
   ]
  },
  {
   "cell_type": "markdown",
   "metadata": {},
   "source": [
    "猜想会员的负面情绪可能来自价格贵或者涨价，所以在关键词为“贵”的记录中挑选一个"
   ]
  },
  {
   "cell_type": "code",
   "execution_count": 56,
   "metadata": {
    "scrolled": true
   },
   "outputs": [
    {
     "data": {
      "text/html": [
       "<div>\n",
       "<table border=\"1\" class=\"dataframe\">\n",
       "  <thead>\n",
       "    <tr style=\"text-align: right;\">\n",
       "      <th></th>\n",
       "      <th>评价时间(create_time)</th>\n",
       "      <th>评分(score)</th>\n",
       "      <th>评价内容(rateContent)</th>\n",
       "      <th>用户地区(userProvince)</th>\n",
       "      <th>评论来自终端(userClientShow)</th>\n",
       "      <th>会员等级(userLevelName)</th>\n",
       "      <th>产品类型(productColor)</th>\n",
       "      <th>消费时间(referenceTime)</th>\n",
       "      <th>品牌</th>\n",
       "      <th>pure</th>\n",
       "      <th>...</th>\n",
       "      <th>magnitude</th>\n",
       "      <th>惊喜</th>\n",
       "      <th>喜爱</th>\n",
       "      <th>兴奋</th>\n",
       "      <th>厌恶</th>\n",
       "      <th>失望</th>\n",
       "      <th>愤怒</th>\n",
       "      <th>slabel</th>\n",
       "      <th>plabel</th>\n",
       "      <th>mlabel</th>\n",
       "    </tr>\n",
       "    <tr>\n",
       "      <th>用户id(id)</th>\n",
       "      <th></th>\n",
       "      <th></th>\n",
       "      <th></th>\n",
       "      <th></th>\n",
       "      <th></th>\n",
       "      <th></th>\n",
       "      <th></th>\n",
       "      <th></th>\n",
       "      <th></th>\n",
       "      <th></th>\n",
       "      <th></th>\n",
       "      <th></th>\n",
       "      <th></th>\n",
       "      <th></th>\n",
       "      <th></th>\n",
       "      <th></th>\n",
       "      <th></th>\n",
       "      <th></th>\n",
       "      <th></th>\n",
       "      <th></th>\n",
       "      <th></th>\n",
       "    </tr>\n",
       "  </thead>\n",
       "  <tbody>\n",
       "    <tr>\n",
       "      <th>10182297636</th>\n",
       "      <td>2017/3/4 19:39</td>\n",
       "      <td>5</td>\n",
       "      <td>一直买 这个 越来越贵了</td>\n",
       "      <td>unknown_place</td>\n",
       "      <td>unknown_client</td>\n",
       "      <td>银牌会员</td>\n",
       "      <td>金装3段1200克三联装</td>\n",
       "      <td>2017/2/22 20:15</td>\n",
       "      <td>惠氏--三段</td>\n",
       "      <td>惠氏</td>\n",
       "      <td>...</td>\n",
       "      <td>1.000</td>\n",
       "      <td>0.037375</td>\n",
       "      <td>0.00000</td>\n",
       "      <td>0.025125</td>\n",
       "      <td>0.194062</td>\n",
       "      <td>0.0</td>\n",
       "      <td>0.743437</td>\n",
       "      <td>H</td>\n",
       "      <td>负面</td>\n",
       "      <td>非常强烈</td>\n",
       "    </tr>\n",
       "    <tr>\n",
       "      <th>10179109508</th>\n",
       "      <td>2017/3/3 17:47</td>\n",
       "      <td>3</td>\n",
       "      <td>奶粉是好，就是总断货，而且升级版的太贵，换美素佳尔了</td>\n",
       "      <td>河北</td>\n",
       "      <td>来自微信购物</td>\n",
       "      <td>金牌会员</td>\n",
       "      <td>金装3段900克罐装</td>\n",
       "      <td>2017/2/8 12:50</td>\n",
       "      <td>惠氏--三段</td>\n",
       "      <td>惠氏</td>\n",
       "      <td>...</td>\n",
       "      <td>0.652</td>\n",
       "      <td>0.080960</td>\n",
       "      <td>0.08096</td>\n",
       "      <td>0.000000</td>\n",
       "      <td>0.465134</td>\n",
       "      <td>0.0</td>\n",
       "      <td>0.372946</td>\n",
       "      <td>M</td>\n",
       "      <td>负面</td>\n",
       "      <td>一般</td>\n",
       "    </tr>\n",
       "  </tbody>\n",
       "</table>\n",
       "<p>2 rows × 22 columns</p>\n",
       "</div>"
      ],
      "text/plain": [
       "            评价时间(create_time)  评分(score)           评价内容(rateContent)  \\\n",
       "用户id(id)                                                               \n",
       "10182297636    2017/3/4 19:39          5                一直买 这个 越来越贵了   \n",
       "10179109508    2017/3/3 17:47          3  奶粉是好，就是总断货，而且升级版的太贵，换美素佳尔了   \n",
       "\n",
       "            用户地区(userProvince) 评论来自终端(userClientShow) 会员等级(userLevelName)  \\\n",
       "用户id(id)                                                                    \n",
       "10182297636      unknown_place         unknown_client                银牌会员   \n",
       "10179109508                 河北                 来自微信购物                金牌会员   \n",
       "\n",
       "            产品类型(productColor) 消费时间(referenceTime)      品牌 pure  ...    \\\n",
       "用户id(id)                                                         ...     \n",
       "10182297636       金装3段1200克三联装     2017/2/22 20:15  惠氏--三段   惠氏  ...     \n",
       "10179109508         金装3段900克罐装      2017/2/8 12:50  惠氏--三段   惠氏  ...     \n",
       "\n",
       "            magnitude        惊喜       喜爱        兴奋        厌恶   失望        愤怒  \\\n",
       "用户id(id)                                                                      \n",
       "10182297636     1.000  0.037375  0.00000  0.025125  0.194062  0.0  0.743437   \n",
       "10179109508     0.652  0.080960  0.08096  0.000000  0.465134  0.0  0.372946   \n",
       "\n",
       "             slabel  plabel mlabel  \n",
       "用户id(id)                            \n",
       "10182297636       H      负面   非常强烈  \n",
       "10179109508       M      负面     一般  \n",
       "\n",
       "[2 rows x 22 columns]"
      ]
     },
     "execution_count": 56,
     "metadata": {},
     "output_type": "execute_result"
    }
   ],
   "source": [
    "df1.loc[df1['关键词']=='贵'].head(2)"
   ]
  },
  {
   "cell_type": "markdown",
   "metadata": {},
   "source": [
    "这样我们就拿到了两条记录，如下，选取我们感兴趣的字段："
   ]
  },
  {
   "cell_type": "code",
   "execution_count": 57,
   "metadata": {},
   "outputs": [],
   "source": [
    "df3 = df1.loc[[10182049677,10179109508]][['pure','评分(score)','评价内容(rateContent)','关键词','惊喜','喜爱','兴奋','厌恶','失望','愤怒']]"
   ]
  },
  {
   "cell_type": "code",
   "execution_count": 58,
   "metadata": {},
   "outputs": [
    {
     "data": {
      "text/html": [
       "<div>\n",
       "<table border=\"1\" class=\"dataframe\">\n",
       "  <thead>\n",
       "    <tr style=\"text-align: right;\">\n",
       "      <th></th>\n",
       "      <th>pure</th>\n",
       "      <th>评分(score)</th>\n",
       "      <th>评价内容(rateContent)</th>\n",
       "      <th>关键词</th>\n",
       "      <th>惊喜</th>\n",
       "      <th>喜爱</th>\n",
       "      <th>兴奋</th>\n",
       "      <th>厌恶</th>\n",
       "      <th>失望</th>\n",
       "      <th>愤怒</th>\n",
       "    </tr>\n",
       "    <tr>\n",
       "      <th>用户id(id)</th>\n",
       "      <th></th>\n",
       "      <th></th>\n",
       "      <th></th>\n",
       "      <th></th>\n",
       "      <th></th>\n",
       "      <th></th>\n",
       "      <th></th>\n",
       "      <th></th>\n",
       "      <th></th>\n",
       "      <th></th>\n",
       "    </tr>\n",
       "  </thead>\n",
       "  <tbody>\n",
       "    <tr>\n",
       "      <th>10182049677</th>\n",
       "      <td>惠氏</td>\n",
       "      <td>5</td>\n",
       "      <td>我家宝宝一直用这个奶粉，感觉挺好的，太棒了，便宜划算</td>\n",
       "      <td>实惠</td>\n",
       "      <td>0.515808</td>\n",
       "      <td>0.00000</td>\n",
       "      <td>0.141272</td>\n",
       "      <td>0.247245</td>\n",
       "      <td>0.0</td>\n",
       "      <td>0.095675</td>\n",
       "    </tr>\n",
       "    <tr>\n",
       "      <th>10179109508</th>\n",
       "      <td>惠氏</td>\n",
       "      <td>3</td>\n",
       "      <td>奶粉是好，就是总断货，而且升级版的太贵，换美素佳尔了</td>\n",
       "      <td>贵</td>\n",
       "      <td>0.080960</td>\n",
       "      <td>0.08096</td>\n",
       "      <td>0.000000</td>\n",
       "      <td>0.465134</td>\n",
       "      <td>0.0</td>\n",
       "      <td>0.372946</td>\n",
       "    </tr>\n",
       "  </tbody>\n",
       "</table>\n",
       "</div>"
      ],
      "text/plain": [
       "            pure  评分(score)           评价内容(rateContent) 关键词        惊喜  \\\n",
       "用户id(id)                                                                \n",
       "10182049677   惠氏          5  我家宝宝一直用这个奶粉，感觉挺好的，太棒了，便宜划算  实惠  0.515808   \n",
       "10179109508   惠氏          3  奶粉是好，就是总断货，而且升级版的太贵，换美素佳尔了   贵  0.080960   \n",
       "\n",
       "                  喜爱        兴奋        厌恶   失望        愤怒  \n",
       "用户id(id)                                                 \n",
       "10182049677  0.00000  0.141272  0.247245  0.0  0.095675  \n",
       "10179109508  0.08096  0.000000  0.465134  0.0  0.372946  "
      ]
     },
     "execution_count": 58,
     "metadata": {},
     "output_type": "execute_result"
    }
   ],
   "source": [
    "df3"
   ]
  },
  {
   "cell_type": "markdown",
   "metadata": {},
   "source": [
    "注意用户id为10182049677的会员的评论是“我家宝宝一直用这个奶粉，感觉挺好的，太棒了，便宜划算”，预测品牌粘性较高，仍会继续购买，对应到评分是5分，具体情绪top为“惊喜”"
   ]
  },
  {
   "cell_type": "markdown",
   "metadata": {},
   "source": [
    "注意用户id为10179109508的会员的评价：“奶粉是好，就是总断货，而且升级版的太贵，换美素佳尔了”，虽然对奶粉的评价是正面的，但由于“断货”，升级版“太贵”，已经更换了品牌，基本不会再购买对应到评分是3分，具体情绪top为“厌恶”"
   ]
  },
  {
   "cell_type": "code",
   "execution_count": 59,
   "metadata": {
    "collapsed": true
   },
   "outputs": [],
   "source": [
    "df3.to_csv('senti_detail.csv')"
   ]
  },
  {
   "cell_type": "markdown",
   "metadata": {},
   "source": [
    "![](会员情绪细分.png)"
   ]
  },
  {
   "cell_type": "markdown",
   "metadata": {},
   "source": [
    "此处想来个雷达图来展示具体情绪，但Tableau现学现卖，暂无法画出，呜呜～"
   ]
  },
  {
   "cell_type": "code",
   "execution_count": 60,
   "metadata": {},
   "outputs": [],
   "source": [
    "sdict = df3.loc[10182049677][['惊喜','喜爱','兴奋','厌恶','失望','愤怒']].to_dict()"
   ]
  },
  {
   "cell_type": "code",
   "execution_count": 61,
   "metadata": {},
   "outputs": [
    {
     "data": {
      "text/html": [
       "<div>\n",
       "<table border=\"1\" class=\"dataframe\">\n",
       "  <thead>\n",
       "    <tr style=\"text-align: right;\">\n",
       "      <th></th>\n",
       "      <th>0</th>\n",
       "      <th>1</th>\n",
       "    </tr>\n",
       "  </thead>\n",
       "  <tbody>\n",
       "    <tr>\n",
       "      <th>0</th>\n",
       "      <td>惊喜</td>\n",
       "      <td>0.515808</td>\n",
       "    </tr>\n",
       "    <tr>\n",
       "      <th>1</th>\n",
       "      <td>喜爱</td>\n",
       "      <td>0.000000</td>\n",
       "    </tr>\n",
       "    <tr>\n",
       "      <th>2</th>\n",
       "      <td>兴奋</td>\n",
       "      <td>0.141272</td>\n",
       "    </tr>\n",
       "    <tr>\n",
       "      <th>3</th>\n",
       "      <td>厌恶</td>\n",
       "      <td>0.247245</td>\n",
       "    </tr>\n",
       "    <tr>\n",
       "      <th>4</th>\n",
       "      <td>失望</td>\n",
       "      <td>0.000000</td>\n",
       "    </tr>\n",
       "    <tr>\n",
       "      <th>5</th>\n",
       "      <td>愤怒</td>\n",
       "      <td>0.095675</td>\n",
       "    </tr>\n",
       "  </tbody>\n",
       "</table>\n",
       "</div>"
      ],
      "text/plain": [
       "    0         1\n",
       "0  惊喜  0.515808\n",
       "1  喜爱  0.000000\n",
       "2  兴奋  0.141272\n",
       "3  厌恶  0.247245\n",
       "4  失望  0.000000\n",
       "5  愤怒  0.095675"
      ]
     },
     "execution_count": 61,
     "metadata": {},
     "output_type": "execute_result"
    }
   ],
   "source": [
    "pd.DataFrame(list(sdict.items()))"
   ]
  },
  {
   "cell_type": "code",
   "execution_count": 62,
   "metadata": {},
   "outputs": [],
   "source": [
    "df4 = pd.DataFrame(list(sdict.items()), columns=['sentiment', 'probability'])"
   ]
  },
  {
   "cell_type": "code",
   "execution_count": 63,
   "metadata": {},
   "outputs": [
    {
     "data": {
      "text/html": [
       "<div>\n",
       "<table border=\"1\" class=\"dataframe\">\n",
       "  <thead>\n",
       "    <tr style=\"text-align: right;\">\n",
       "      <th></th>\n",
       "      <th>sentiment</th>\n",
       "      <th>probability</th>\n",
       "    </tr>\n",
       "  </thead>\n",
       "  <tbody>\n",
       "    <tr>\n",
       "      <th>0</th>\n",
       "      <td>惊喜</td>\n",
       "      <td>0.515808</td>\n",
       "    </tr>\n",
       "    <tr>\n",
       "      <th>1</th>\n",
       "      <td>喜爱</td>\n",
       "      <td>0.000000</td>\n",
       "    </tr>\n",
       "    <tr>\n",
       "      <th>2</th>\n",
       "      <td>兴奋</td>\n",
       "      <td>0.141272</td>\n",
       "    </tr>\n",
       "    <tr>\n",
       "      <th>3</th>\n",
       "      <td>厌恶</td>\n",
       "      <td>0.247245</td>\n",
       "    </tr>\n",
       "    <tr>\n",
       "      <th>4</th>\n",
       "      <td>失望</td>\n",
       "      <td>0.000000</td>\n",
       "    </tr>\n",
       "    <tr>\n",
       "      <th>5</th>\n",
       "      <td>愤怒</td>\n",
       "      <td>0.095675</td>\n",
       "    </tr>\n",
       "  </tbody>\n",
       "</table>\n",
       "</div>"
      ],
      "text/plain": [
       "  sentiment  probability\n",
       "0        惊喜     0.515808\n",
       "1        喜爱     0.000000\n",
       "2        兴奋     0.141272\n",
       "3        厌恶     0.247245\n",
       "4        失望     0.000000\n",
       "5        愤怒     0.095675"
      ]
     },
     "execution_count": 63,
     "metadata": {},
     "output_type": "execute_result"
    }
   ],
   "source": [
    "df4"
   ]
  },
  {
   "cell_type": "code",
   "execution_count": 64,
   "metadata": {},
   "outputs": [],
   "source": [
    "df4.to_csv('忠诚.csv')"
   ]
  },
  {
   "cell_type": "markdown",
   "metadata": {},
   "source": [
    "![](用户情感分布.png)"
   ]
  },
  {
   "cell_type": "markdown",
   "metadata": {},
   "source": [
    "### **(修改)在时间跨度上看情感动向**"
   ]
  },
  {
   "cell_type": "markdown",
   "metadata": {},
   "source": [
    "我们先以年为跨度单位来看几个品牌的polarity的变化趋势概况"
   ]
  },
  {
   "cell_type": "markdown",
   "metadata": {},
   "source": [
    "![](polarity年.png)"
   ]
  },
  {
   "cell_type": "markdown",
   "metadata": {},
   "source": [
    "各品牌polarity都开始有统计结果，是在2013年末至2017年目前的时间范围内，它们的平均polarity指数的变化不大，都在60～80小范围浮动，为了看清楚其中细微的差别，我改变了坐标轴的起始值，将变化放大。可以看出针对polarity平均水平，自2013年末至2017年目前，惠氏整体处于下降趋势，美素整体处于上升趋势，优诺能处于波动上升，雅培处于平缓下降。"
   ]
  },
  {
   "cell_type": "markdown",
   "metadata": {},
   "source": [
    "我们着眼于美素--三段进行小范围分析，选择美素--三段2014年全年的平均polarity指数情况观察一下，依旧是将细微的区别放大，便于观察"
   ]
  },
  {
   "cell_type": "markdown",
   "metadata": {},
   "source": [
    "![](美素三段2014.png)"
   ]
  },
  {
   "cell_type": "markdown",
   "metadata": {},
   "source": [
    "上图中，我选择了几个特征点进行标记，选择特征点的原则是最大值、最小值和一些增长快、跌落快的点。实际意义在于，品牌商可以根据这些点所对应的时间和polarity指数，溯源回当时所进行的一些“动作”。比如，可以猜想涨价、换包装可能导致polarity指数的迅速下降，因为涨价是戳中了看重价格的消费者的痛处，换包装可能会引发对商品真假的怀疑。而类似“京东618”、双十一等促销活动，可能会使polarity指数迅速增长。利用这种方式，我们可以将数据跟“事件”、“动作”对应起来，可以收集到市场对于营销动向的反应以及接受度。"
   ]
  },
  {
   "cell_type": "markdown",
   "metadata": {},
   "source": [
    "# 一些结论"
   ]
  },
  {
   "cell_type": "markdown",
   "metadata": {},
   "source": [
    "从用户地区维度来看，主要集中在北京、广东、江苏、上海等，这个结果可以用于品牌商的营销布局，若想要占有更大的市场份额，可以从这些top城市入手，同时可以在销量数量级低的区域，搞促销活动，提升品牌影响力，提升动销率。"
   ]
  },
  {
   "cell_type": "markdown",
   "metadata": {},
   "source": [
    "从终端的维度来看，京东Android客户端、iphone客户端有压倒性优势，广告、活动、流量的投放集中在这两部分，比较容易拉动销量的提升。还有一种猜想是，未明确标识出来的，可能是PC端的数据。"
   ]
  },
  {
   "cell_type": "markdown",
   "metadata": {},
   "source": [
    "从品牌的市场占有率来看，排在前两位的是惠氏和美素，这两家品牌商可以在相同的优势领域提高竞争力，同时强调自己独有的特点，其他占有率略小的品牌也可以挖掘出差异化卖点。"
   ]
  },
  {
   "cell_type": "markdown",
   "metadata": {},
   "source": [
    "从评论提取关键词的维度，我们可以发现，哪怕有表达方式或者遣词造句的差异，消费者最关心的点依旧在于价格，同时品质、物流、品牌也是左右其选择的重要因素。品牌商可以在投放广告或者商品描述中，将商品贴上相应的关键词“标签”，反复暗示消费者，可以大大提升成交率。最著名的例子就是“海底捞” & “服务”。"
   ]
  },
  {
   "cell_type": "markdown",
   "metadata": {},
   "source": [
    "通过以上的数据分析，更准确的来说是探索，我们会发现，传统意义上的数据分析方法在挖掘消费者需求方面的短板，按照客户的需求挖掘其特殊情绪，可以提升情绪洞察的准确性，从而更精准的判断消费者到底在乎什么、要什么。我目前能想到的一个有实际意义的应用在于从评论所洞察到的情绪，观察用户对品牌的忠诚度、预测用户粘性到底如何，品牌商可以知道哪些方面做的还不错，哪一部分的用户由于何种原因正在流失掉，然后才能研究相应的应对方案，防患于未然，不至于在问题爆发、销量锐减时才有所察觉。"
   ]
  }
 ],
 "metadata": {
  "kernelspec": {
   "display_name": "Python 3",
   "language": "python",
   "name": "python3"
  },
  "language_info": {
   "codemirror_mode": {
    "name": "ipython",
    "version": 3
   },
   "file_extension": ".py",
   "mimetype": "text/x-python",
   "name": "python",
   "nbconvert_exporter": "python",
   "pygments_lexer": "ipython3",
   "version": "3.6.4"
  },
  "latex_envs": {
   "LaTeX_envs_menu_present": true,
   "autocomplete": true,
   "bibliofile": "biblio.bib",
   "cite_by": "apalike",
   "current_citInitial": 1,
   "eqLabelWithNumbers": true,
   "eqNumInitial": 1,
   "hotkeys": {
    "equation": "Ctrl-E",
    "itemize": "Ctrl-I"
   },
   "labels_anchors": false,
   "latex_user_defs": false,
   "report_style_numbering": false,
   "user_envs_cfg": false
  },
  "toc": {
   "nav_menu": {
    "height": "432px",
    "width": "252px"
   },
   "number_sections": true,
   "sideBar": true,
   "skip_h1_title": false,
   "title_cell": "Table of Contents",
   "title_sidebar": "Contents",
   "toc_cell": true,
   "toc_position": {
    "height": "532px",
    "left": "0px",
    "right": "1154px",
    "top": "106px",
    "width": "212px"
   },
   "toc_section_display": "block",
   "toc_window_display": true
  }
 },
 "nbformat": 4,
 "nbformat_minor": 2
}
