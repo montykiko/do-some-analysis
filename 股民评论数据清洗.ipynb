{
 "cells": [
  {
   "cell_type": "code",
   "execution_count": 54,
   "metadata": {
    "ExecuteTime": {
     "end_time": "2018-03-26T06:03:09.379877Z",
     "start_time": "2018-03-26T06:03:09.376898Z"
    }
   },
   "outputs": [],
   "source": [
    "import pandas as pd\n",
    "import re\n",
    "from pandas import DataFrame\n",
    "from datetime import datetime\n",
    "\n",
    "df = pd.read_csv(r'嘉实QDII股民评论.csv',engine='python',sep='\\t')\n",
    "df['评论内容']= df['评论内容'].str.replace(r'<.*?>','')\n",
    "df['评论内容'] = df['评论内容'].str.strip()\n",
    "df['公告标题'] = df['公告标题'].str.replace(r'查看PDF原文','')\n",
    "df['评论内容'].fillna('无',inplace=True)\n",
    "df['评论时间'] = df['评论时间'].str.replace(r'发表于 ','')\n",
    "t_split = pd.DataFrame(df['时间与发布人'].str.split().tolist(),columns=['文章发表于','发表日期','发表时','发布人'])\n",
    "new_df = pd.concat([df,t_split],axis=1)\n",
    "new_df['发表时间'] = new_df['发表日期']+' '+new_df['发表时']\n",
    "new_df.drop(['时间与发布人','文章发表于','发表日期','发表时'],axis=1,inplace=True)\n",
    "new_df.to_csv('嘉实QDII股民评论.txt',index=False,sep='\\t',encoding='utf-8')\n",
    "new_df.to_excel('嘉实QDII股民评论.xlsx',index=False,encoding='gbk')"
   ]
  }
 ],
 "metadata": {
  "kernelspec": {
   "display_name": "Python 3",
   "language": "python",
   "name": "python3"
  },
  "language_info": {
   "codemirror_mode": {
    "name": "ipython",
    "version": 3
   },
   "file_extension": ".py",
   "mimetype": "text/x-python",
   "name": "python",
   "nbconvert_exporter": "python",
   "pygments_lexer": "ipython3",
   "version": "3.6.4"
  },
  "toc": {
   "nav_menu": {},
   "number_sections": true,
   "sideBar": true,
   "skip_h1_title": false,
   "title_cell": "Table of Contents",
   "title_sidebar": "Contents",
   "toc_cell": false,
   "toc_position": {},
   "toc_section_display": true,
   "toc_window_display": false
  }
 },
 "nbformat": 4,
 "nbformat_minor": 2
}
